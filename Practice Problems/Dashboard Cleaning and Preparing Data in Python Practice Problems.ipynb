{
 "cells": [
  {
   "cell_type": "markdown",
   "metadata": {},
   "source": [
    "# 1. Practice Problems for Cleaning and Preparing Data in Python"
   ]
  },
  {
   "cell_type": "markdown",
   "metadata": {},
   "source": [
    "The following screens contain exercises for you to practice what you have learned in the lesson [Cleaning and Preparing Data in Python](https://app.dataquest.io/m/351/).\n",
    "\n",
    "These exercises are not mandatory and will not affect your progress. You should do them at your own pace. Don't feel frustrated if you can't figure out how to solve a practice problem in your first few attempts. They are designed to make you think by yourself; sometimes you will have to revisit the lessons above in order to refresh your memory about the concepts."
   ]
  },
  {
   "cell_type": "markdown",
   "metadata": {},
   "source": [
    "# 2. Formating People Names"
   ]
  },
  {
   "cell_type": "code",
   "execution_count": 1,
   "metadata": {},
   "outputs": [
    {
     "data": {
      "text/plain": [
       "'Asil Sendo'"
      ]
     },
     "execution_count": 1,
     "metadata": {},
     "output_type": "execute_result"
    }
   ],
   "source": [
    "test_name = \"AsIL sEnDo\"\n",
    "expected_answer = \"Asil Sendo\"\n",
    "\n",
    "# Write your code below\n",
    "\n",
    "def clean_name(name):\n",
    "    names=name.split()\n",
    "    first_name=names[0]\n",
    "    last_name=names[1]\n",
    "    first_name=first_name[0].upper()+first_name[1:].lower()\n",
    "    last_name=last_name[0].upper()+last_name[1:].lower()\n",
    "    name=f\"{first_name} {last_name}\"\n",
    "    return name\n",
    "\n",
    "clean_name(test_name)"
   ]
  },
  {
   "cell_type": "markdown",
   "metadata": {},
   "source": [
    "# 3. Fixing a Music Playlist"
   ]
  },
  {
   "cell_type": "code",
   "execution_count": 2,
   "metadata": {},
   "outputs": [],
   "source": [
    "test_songs = ['1 - Thoughts Of Time',\n",
    "              '2 - Passion Of The Night',\n",
    "              '3 - Amused By Her Strength',\n",
    "              '4 - Get My Friends',\n",
    "              '5 - Broken Life',\n",
    "              '6 - Super Song',\n",
    "              '7 - Darling, Remember The Times',\n",
    "              \"8 - Baby, You are Strange And I Like It\",\n",
    "              '9 - She Said I Will Try',\n",
    "              '10 - In Love With You',\n",
    "              '12 - Hat Of The South',\n",
    "              '13 - Friends Of My Dreams',\n",
    "              '14 - Dream His Luck']\n",
    "expected_answer = ['01 - Thoughts Of Time',\n",
    "                   '02 - Passion Of The Night',\n",
    "                   '03 - Amused By Her Strength',\n",
    "                   '04 - Get My Friends',\n",
    "                   '05 - Broken Life',\n",
    "                   '06 - Super Song',\n",
    "                   '07 - Darling, Remember The Times',\n",
    "                   \"08 - Baby, You are Strange And I Like It\",\n",
    "                   '09 - She Said I Will Try',\n",
    "                   '10 - In Love With You',\n",
    "                   '12 - Hat Of The South',\n",
    "                   '13 - Friends Of My Dreams',\n",
    "                   '14 - Dream His Luck']\n",
    "\n",
    "# Write your code below\n",
    "\n",
    "def format_songs(song_list):\n",
    "    formatted_songs=[]\n",
    "    num_digits=len(str(len(song_list)))\n",
    "    for song in song_list:\n",
    "        formatted_songs.append(\"0\"*(num_digits-len(str(song.split()[0]))) + song)\n",
    "    return formatted_songs"
   ]
  },
  {
   "cell_type": "markdown",
   "metadata": {},
   "source": [
    "# 4. Cleaning Messages"
   ]
  },
  {
   "cell_type": "code",
   "execution_count": 3,
   "metadata": {},
   "outputs": [
    {
     "data": {
      "text/plain": [
       "'win money we need your expert opinion easy money click here'"
      ]
     },
     "execution_count": 3,
     "metadata": {},
     "output_type": "execute_result"
    }
   ],
   "source": [
    "import string\n",
    "\n",
    "test_message = \"WIN MONEY!!!! We Need YOUR Expert Opinion! EASY money. Click >HERE<\"\n",
    "expected_answer = \"win money we need your expert opinion easy money click here\"\n",
    "\n",
    "# Write your code below\n",
    "\n",
    "def clean_message(message):\n",
    "    message=message.lower()\n",
    "    \n",
    "    for char in string.punctuation:\n",
    "        message=message.replace(char, \"\")\n",
    "        \n",
    "    return message\n",
    "\n",
    "clean_message(test_message)\n"
   ]
  },
  {
   "cell_type": "markdown",
   "metadata": {},
   "source": [
    "# 5. Cleaning House Listings 1"
   ]
  },
  {
   "cell_type": "code",
   "execution_count": 12,
   "metadata": {},
   "outputs": [
    {
     "name": "stdout",
     "output_type": "stream",
     "text": [
      "['id', 'address', 'num_rooms', 'available']\n",
      "['7332', '369 Barbara Square\\nWhiteberg, MT 64361', '__4', 'yes']\n",
      "['', '720 Stephen Garden Apt. 138\\nSouth Haroldland, IA 96057', '4', 'yes']\n",
      "['7023', 'PSC 9388, Box 5285\\nAPO AA 33803', '3', 'no']\n",
      "['2024', '93507 Wells Brook Suite 898\\nScottfort, IL 03739', '(5)', 'yes']\n",
      "['6396', '35641 Ashley Burg Suite 422\\nScottview, SD 80942', '__6', 'no']\n",
      "['4461', '6846 White Fields Suite 942\\nWest Kyle, AR 70268', '4', 'no']\n",
      "['7805', '916 Barrera Union\\nWest Christopher, WY 59561', '2', 'yes']\n"
     ]
    }
   ],
   "source": [
    "import csv\n",
    "\n",
    "def write_csv(rows):\n",
    "    f = open('listings_clean.csv', mode='w')\n",
    "    writer = csv.writer(f)\n",
    "    for row in rows:\n",
    "        writer.writerow(row)\n",
    "    f.close()\n",
    "\n",
    "# Write your code below\n",
    "\n",
    "def clean_available_col():\n",
    "    with open('listings.csv') as f:\n",
    "        reader = csv.reader(f)\n",
    "        rows = list(reader)\n",
    "    for row in rows:\n",
    "        if row[-1]==\"y\" or row[-1]==\"Y\":\n",
    "            row[-1]=\"yes\"\n",
    "        elif row[-1]==\"n\" or row[-1]==\"NO\":\n",
    "            row[-1]=\"no\"\n",
    "    write_csv(rows)\n",
    "    \n",
    "clean_available_col()\n",
    "f=open(\"listings_clean.csv\")\n",
    "\n",
    "reader=csv.reader(f)\n",
    "\n",
    "rows=list(reader)\n",
    "\n",
    "for i in range(8):\n",
    "    print(rows[i])"
   ]
  },
  {
   "cell_type": "markdown",
   "metadata": {},
   "source": [
    "# 6. Cleaning House Listings 2"
   ]
  },
  {
   "cell_type": "code",
   "execution_count": 28,
   "metadata": {},
   "outputs": [
    {
     "name": "stdout",
     "output_type": "stream",
     "text": [
      "['id', 'address', 'numrooms', 'available']\n",
      "['7332', '369 Barbara Square\\nWhiteberg, MT 64361', '4', 'Y']\n",
      "['', '720 Stephen Garden Apt. 138\\nSouth Haroldland, IA 96057', '4', 'yes']\n",
      "['7023', 'PSC 9388, Box 5285\\nAPO AA 33803', '3', 'n']\n",
      "['2024', '93507 Wells Brook Suite 898\\nScottfort, IL 03739', '5', 'Y']\n",
      "['6396', '35641 Ashley Burg Suite 422\\nScottview, SD 80942', '6', 'no']\n",
      "['4461', '6846 White Fields Suite 942\\nWest Kyle, AR 70268', '4', 'n']\n",
      "['7805', '916 Barrera Union\\nWest Christopher, WY 59561', '2', 'y']\n"
     ]
    }
   ],
   "source": [
    "import csv\n",
    "\n",
    "def write_csv(rows):\n",
    "    f = open('listings_clean.csv', mode='w')\n",
    "    writer = csv.writer(f)\n",
    "    for row in rows:\n",
    "        writer.writerow(row)\n",
    "    f.close()\n",
    "\n",
    "# Write your code below\n",
    "\n",
    "def clean_num_rooms_col():\n",
    "    # Read the CSV file\n",
    "    f = open('listings.csv')\n",
    "    reader = csv.reader(f)\n",
    "    rows = list(reader)\n",
    "        \n",
    "    for row in rows:\n",
    "        for char in string.punctuation:\n",
    "            row[2]=row[2].replace(char, \"\")\n",
    "    \n",
    "    write_csv(rows)\n",
    "    \n",
    "# Call the function and check results\n",
    "clean_num_rooms_col()\n",
    "f = open('listings_clean.csv')\n",
    "reader = csv.reader(f)\n",
    "rows = list(reader)\n",
    "for i in range(8):\n",
    "    print(rows[i])"
   ]
  },
  {
   "cell_type": "code",
   "execution_count": null,
   "metadata": {},
   "outputs": [],
   "source": []
  }
 ],
 "metadata": {
  "kernelspec": {
   "display_name": "Python 3",
   "language": "python",
   "name": "python3"
  },
  "language_info": {
   "codemirror_mode": {
    "name": "ipython",
    "version": 3
   },
   "file_extension": ".py",
   "mimetype": "text/x-python",
   "name": "python",
   "nbconvert_exporter": "python",
   "pygments_lexer": "ipython3",
   "version": "3.9.6"
  }
 },
 "nbformat": 4,
 "nbformat_minor": 4
}
