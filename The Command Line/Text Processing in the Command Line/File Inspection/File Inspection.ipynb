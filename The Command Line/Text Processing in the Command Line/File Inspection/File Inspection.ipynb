{
 "cells": [
  {
   "cell_type": "markdown",
   "metadata": {},
   "source": [
    "# 1. Text Files"
   ]
  },
  {
   "cell_type": "markdown",
   "metadata": {},
   "source": [
    "Text files are very important in anything that relates with computers:\n",
    "\n",
    "* They are one of the most common ways to store and handle data — both regular text and datasets.\n",
    "* All code is stored in text.\n",
    "* Many file formats, like CSV, HTML, and XML are actually text files.\n",
    "\n",
    "The presence of text files in any data science project is a certainty. For this reason, it is crucial to know how to handle them. In this lesson we'll be focusing on inspecting files.\n",
    "\n",
    "We'll continue working a version of FiveThirtyEight's \"Recent Grads\" dataset scattered across 16 files. You can download the original recent-grads.csv file here. It looks like this:\n",
    "\n",
    "![](https://dq-content.s3.amazonaws.com/389/text_file.png)\n",
    "\n",
    "The columns in the datasets are:\n",
    "\n",
    "* Rank\n",
    "* Total\n",
    "* Major_category\n",
    "* Sample_size\n",
    "* Employed\n",
    "* Unemployed\n",
    "\n",
    "We ended last lesson with learning about less — a terminal pager. With it we are able to inspect the contents of text files. The workflow of using less isn't always optimal; sometimes not using a pager is not only more useful, but also necessary.\n",
    "\n",
    "We'll begin by learning about non-paging alternatives to inspect files. Let's move on to the next screen."
   ]
  },
  {
   "cell_type": "markdown",
   "metadata": {},
   "source": [
    "# 2. Head or Tail"
   ]
  },
  {
   "cell_type": "markdown",
   "metadata": {},
   "source": [
    "This is similar to the pandas head and tail methods where it shows the first few or last few rows of a set."
   ]
  },
  {
   "cell_type": "code",
   "execution_count": 5,
   "metadata": {},
   "outputs": [
    {
     "name": "stdout",
     "output_type": "stream",
     "text": [
      "Rank,Major,Total,Sample_size,Employed,Unemployed\n",
      "8,ASTRONOMY AND ASTROPHYSICS,1792,10,1526,33\n",
      "40,NUCLEAR/INDUSTRIAL RADIOLOGY AND BIOLOGICAL TECHNOLOGIES,2116,31,1778,137\n",
      "44,PHYSICS,32142,142,25302,1282\n",
      "50,OCEANOGRAPHY,2418,36,1638,99\n",
      "73,PHYSICAL SCIENCES,1436,10,1146,42\n",
      "75,CHEMISTRY,66530,353,48535,2769\n",
      "86,GEOLOGY AND EARTH SCIENCE,10972,78,8296,677\n",
      "91,GEOSCIENCES,1978,18,1441,36\n",
      "98,MULTI-DISCIPLINARY OR GENERAL SCIENCE,62052,427,46138,2727\n",
      "8,ASTRONOMY AND ASTROPHYSICS,1792,10,1526,33\n",
      "40,NUCLEAR/INDUSTRIAL RADIOLOGY AND BIOLOGICAL TECHNOLOGIES,2116,31,1778,137\n",
      "44,PHYSICS,32142,142,25302,1282\n",
      "50,OCEANOGRAPHY,2418,36,1638,99\n",
      "73,PHYSICAL SCIENCES,1436,10,1146,42\n",
      "75,CHEMISTRY,66530,353,48535,2769\n",
      "86,GEOLOGY AND EARTH SCIENCE,10972,78,8296,677\n",
      "91,GEOSCIENCES,1978,18,1441,36\n",
      "98,MULTI-DISCIPLINARY OR GENERAL SCIENCE,62052,427,46138,2727\n",
      "111,ATMOSPHERIC SCIENCES AND METEOROLOGY,4043,32,3431,78\n"
     ]
    }
   ],
   "source": [
    "%%bash\n",
    "\n",
    "cd rg_data/\n",
    "\n",
    "head 'Physical Sciences'\n",
    "\n",
    "tail 'Physical Sciences'"
   ]
  },
  {
   "cell_type": "markdown",
   "metadata": {},
   "source": [
    "# 3. Option-arguments"
   ]
  },
  {
   "cell_type": "markdown",
   "metadata": {},
   "source": [
    "By default, head and tail will print 10 rows, but we can adjust the number of rows we choose to print by passing it the option -n. Here's an adapted usage message for head:\n",
    "\n",
    "       head [-n [[-]K]] example_data.csv\n",
    "Above, K represents the number of lines we wish to print. To print the first five lines of example_data.csv, we can run head -n 5 example_data.csv, which will display:\n"
   ]
  },
  {
   "cell_type": "code",
   "execution_count": 9,
   "metadata": {},
   "outputs": [
    {
     "name": "stdout",
     "output_type": "stream",
     "text": [
      "Rank,Major,Total,Sample_size,Employed,Unemployed\n",
      "56,SCHOOL STUDENT COUNSELING,818,4,730,88\n",
      "101,SPECIAL NEEDS EDUCATION,28739,246,24639,1067\n",
      "33,MISCELLANEOUS FINE ARTS,3340,30,2914,286\n",
      "96,COMMERCIAL ART AND GRAPHIC DESIGN,103480,1186,83483,8947\n",
      "142,FILM VIDEO AND PHOTOGRAPHIC ARTS,38761,331,31433,3718\n",
      "147,MUSIC,60633,419,47662,3918\n",
      "150,FINE ARTS,74440,623,59679,5486\n",
      "154,VISUAL AND PERFORMING ARTS,16250,132,12870,1465\n",
      "160,STUDIO ARTS,16977,182,13908,1368\n",
      "167,DRAMA AND THEATER ARTS,43249,357,36165,3040\n"
     ]
    }
   ],
   "source": [
    "%%bash\n",
    "\n",
    "cd rg_data/\n",
    "\n",
    "head -n 3 Education\n",
    "\n",
    "tail -n +2 Arts"
   ]
  },
  {
   "cell_type": "markdown",
   "metadata": {},
   "source": [
    "# 4. Counting Lines"
   ]
  },
  {
   "cell_type": "markdown",
   "metadata": {},
   "source": [
    "Some observations about the output:\n",
    "\n",
    "* A newline is determined by the newline character (\\n).\n",
    "* A word is a sequence of characters (with at least one character) delimited by whitespaces (regular spaces, new lines, end of line characters, beginning of line, etc.)\n",
    "* Depending on the encoding used by the shell and depending on the characters, the byte count may serve as character count. If the file only has ASCII characters, then each character will be a byte and we can use wc to count characters. In the example above, since all characters used are ASCII characters, this means that east has 65 characters. To count characters in the shell's default encoding, we can pass the -m option to wc.\n",
    " "
   ]
  },
  {
   "cell_type": "code",
   "execution_count": 11,
   "metadata": {},
   "outputs": [
    {
     "name": "stdout",
     "output_type": "stream",
     "text": [
      " 12  36 615 Computers & Mathematics\n",
      "  30   80 1469 Engineering\n",
      " 10  20 457 Social Science\n",
      " 13  46 737 Health\n",
      " 17  56 886 Education\n"
     ]
    }
   ],
   "source": [
    "%%bash\n",
    "\n",
    "cd rg_data/\n",
    "\n",
    "wc 'Computers & Mathematics'\n",
    "\n",
    "wc Engineering\n",
    "\n",
    "wc 'Social Science'\n",
    "\n",
    "wc Health\n",
    "\n",
    "wc Education"
   ]
  },
  {
   "cell_type": "markdown",
   "metadata": {},
   "source": [
    "In this exercise you'll use the answer command in a similar way to what you have previously done: one parameter per question.\n",
    "\n",
    "1. How many lines does the file Computers & Mathematics have?\n",
    "2. How many bytes does the file Engineering have?\n",
    "3. How many words does Social Science have?\n",
    "4. How many characters does the file Health have?\n",
    "5. How many lines does the file Education have?\n",
    "\n",
    "answer 12 1469 20 737 17"
   ]
  },
  {
   "cell_type": "code",
   "execution_count": null,
   "metadata": {},
   "outputs": [],
   "source": []
  }
 ],
 "metadata": {
  "kernelspec": {
   "display_name": "Python 3",
   "language": "python",
   "name": "python3"
  },
  "language_info": {
   "codemirror_mode": {
    "name": "ipython",
    "version": 3
   },
   "file_extension": ".py",
   "mimetype": "text/x-python",
   "name": "python",
   "nbconvert_exporter": "python",
   "pygments_lexer": "ipython3",
   "version": "3.9.6"
  }
 },
 "nbformat": 4,
 "nbformat_minor": 4
}
