{
 "cells": [
  {
   "cell_type": "markdown",
   "metadata": {},
   "source": [
    "# 1. Text Files"
   ]
  },
  {
   "cell_type": "markdown",
   "metadata": {},
   "source": [
    "Text files are very important in anything that relates with computers:\n",
    "\n",
    "* They are one of the most common ways to store and handle data — both regular text and datasets.\n",
    "* All code is stored in text.\n",
    "* Many file formats, like CSV, HTML, and XML are actually text files.\n",
    "\n",
    "The presence of text files in any data science project is a certainty. For this reason, it is crucial to know how to handle them. In this lesson we'll be focusing on inspecting files.\n",
    "\n",
    "We'll continue working a version of FiveThirtyEight's \"Recent Grads\" dataset scattered across 16 files. You can download the original recent-grads.csv file here. It looks like this:\n",
    "\n",
    "![](https://dq-content.s3.amazonaws.com/389/text_file.png)\n",
    "\n",
    "The columns in the datasets are:\n",
    "\n",
    "* Rank\n",
    "* Total\n",
    "* Major_category\n",
    "* Sample_size\n",
    "* Employed\n",
    "* Unemployed\n",
    "\n",
    "We ended last lesson with learning about less — a terminal pager. With it we are able to inspect the contents of text files. The workflow of using less isn't always optimal; sometimes not using a pager is not only more useful, but also necessary.\n",
    "\n",
    "We'll begin by learning about non-paging alternatives to inspect files. Let's move on to the next screen."
   ]
  },
  {
   "cell_type": "markdown",
   "metadata": {},
   "source": [
    "# 2. Head or Tail"
   ]
  },
  {
   "cell_type": "markdown",
   "metadata": {},
   "source": [
    "This is similar to the pandas head and tail methods where it shows the first few or last few rows of a set."
   ]
  },
  {
   "cell_type": "code",
   "execution_count": 5,
   "metadata": {},
   "outputs": [
    {
     "name": "stdout",
     "output_type": "stream",
     "text": [
      "Rank,Major,Total,Sample_size,Employed,Unemployed\n",
      "8,ASTRONOMY AND ASTROPHYSICS,1792,10,1526,33\n",
      "40,NUCLEAR/INDUSTRIAL RADIOLOGY AND BIOLOGICAL TECHNOLOGIES,2116,31,1778,137\n",
      "44,PHYSICS,32142,142,25302,1282\n",
      "50,OCEANOGRAPHY,2418,36,1638,99\n",
      "73,PHYSICAL SCIENCES,1436,10,1146,42\n",
      "75,CHEMISTRY,66530,353,48535,2769\n",
      "86,GEOLOGY AND EARTH SCIENCE,10972,78,8296,677\n",
      "91,GEOSCIENCES,1978,18,1441,36\n",
      "98,MULTI-DISCIPLINARY OR GENERAL SCIENCE,62052,427,46138,2727\n",
      "8,ASTRONOMY AND ASTROPHYSICS,1792,10,1526,33\n",
      "40,NUCLEAR/INDUSTRIAL RADIOLOGY AND BIOLOGICAL TECHNOLOGIES,2116,31,1778,137\n",
      "44,PHYSICS,32142,142,25302,1282\n",
      "50,OCEANOGRAPHY,2418,36,1638,99\n",
      "73,PHYSICAL SCIENCES,1436,10,1146,42\n",
      "75,CHEMISTRY,66530,353,48535,2769\n",
      "86,GEOLOGY AND EARTH SCIENCE,10972,78,8296,677\n",
      "91,GEOSCIENCES,1978,18,1441,36\n",
      "98,MULTI-DISCIPLINARY OR GENERAL SCIENCE,62052,427,46138,2727\n",
      "111,ATMOSPHERIC SCIENCES AND METEOROLOGY,4043,32,3431,78\n"
     ]
    }
   ],
   "source": [
    "%%bash\n",
    "\n",
    "cd rg_data/\n",
    "\n",
    "head 'Physical Sciences'\n",
    "\n",
    "tail 'Physical Sciences'"
   ]
  },
  {
   "cell_type": "markdown",
   "metadata": {},
   "source": [
    "# 3. Option-arguments"
   ]
  },
  {
   "cell_type": "markdown",
   "metadata": {},
   "source": [
    "By default, head and tail will print 10 rows, but we can adjust the number of rows we choose to print by passing it the option -n. Here's an adapted usage message for head:\n",
    "\n",
    "       head [-n [[-]K]] example_data.csv\n",
    "Above, K represents the number of lines we wish to print. To print the first five lines of example_data.csv, we can run head -n 5 example_data.csv, which will display:\n"
   ]
  },
  {
   "cell_type": "code",
   "execution_count": 9,
   "metadata": {},
   "outputs": [
    {
     "name": "stdout",
     "output_type": "stream",
     "text": [
      "Rank,Major,Total,Sample_size,Employed,Unemployed\n",
      "56,SCHOOL STUDENT COUNSELING,818,4,730,88\n",
      "101,SPECIAL NEEDS EDUCATION,28739,246,24639,1067\n",
      "33,MISCELLANEOUS FINE ARTS,3340,30,2914,286\n",
      "96,COMMERCIAL ART AND GRAPHIC DESIGN,103480,1186,83483,8947\n",
      "142,FILM VIDEO AND PHOTOGRAPHIC ARTS,38761,331,31433,3718\n",
      "147,MUSIC,60633,419,47662,3918\n",
      "150,FINE ARTS,74440,623,59679,5486\n",
      "154,VISUAL AND PERFORMING ARTS,16250,132,12870,1465\n",
      "160,STUDIO ARTS,16977,182,13908,1368\n",
      "167,DRAMA AND THEATER ARTS,43249,357,36165,3040\n"
     ]
    }
   ],
   "source": [
    "%%bash\n",
    "\n",
    "cd rg_data/\n",
    "\n",
    "head -n 3 Education\n",
    "\n",
    "tail -n +2 Arts"
   ]
  },
  {
   "cell_type": "markdown",
   "metadata": {},
   "source": [
    "# 4. Counting Lines"
   ]
  },
  {
   "cell_type": "markdown",
   "metadata": {},
   "source": [
    "Some observations about the output:\n",
    "\n",
    "* A newline is determined by the newline character (\\n).\n",
    "* A word is a sequence of characters (with at least one character) delimited by whitespaces (regular spaces, new lines, end of line characters, beginning of line, etc.)\n",
    "* Depending on the encoding used by the shell and depending on the characters, the byte count may serve as character count. If the file only has ASCII characters, then each character will be a byte and we can use wc to count characters. In the example above, since all characters used are ASCII characters, this means that east has 65 characters. To count characters in the shell's default encoding, we can pass the -m option to wc.\n",
    " "
   ]
  },
  {
   "cell_type": "code",
   "execution_count": 11,
   "metadata": {},
   "outputs": [
    {
     "name": "stdout",
     "output_type": "stream",
     "text": [
      " 12  36 615 Computers & Mathematics\n",
      "  30   80 1469 Engineering\n",
      " 10  20 457 Social Science\n",
      " 13  46 737 Health\n",
      " 17  56 886 Education\n"
     ]
    }
   ],
   "source": [
    "%%bash\n",
    "\n",
    "cd rg_data/\n",
    "\n",
    "wc 'Computers & Mathematics'\n",
    "\n",
    "wc Engineering\n",
    "\n",
    "wc 'Social Science'\n",
    "\n",
    "wc Health\n",
    "\n",
    "wc Education"
   ]
  },
  {
   "cell_type": "markdown",
   "metadata": {},
   "source": [
    "In this exercise you'll use the answer command in a similar way to what you have previously done: one parameter per question.\n",
    "\n",
    "1. How many lines does the file Computers & Mathematics have?\n",
    "2. How many bytes does the file Engineering have?\n",
    "3. How many words does Social Science have?\n",
    "4. How many characters does the file Health have?\n",
    "5. How many lines does the file Education have?\n",
    "\n",
    "answer 12 1469 20 737 17"
   ]
  },
  {
   "cell_type": "markdown",
   "metadata": {},
   "source": [
    "# 5. Pretty Printing"
   ]
  },
  {
   "cell_type": "markdown",
   "metadata": {},
   "source": [
    "It is cumbersome to have to guess/estimate/check the number of lines of a file before displaying its contents. Unsurprisingly, the shell comes to the rescue, this time with the column command.\n",
    "\n",
    "What it does is print the contents by columns instead of having it be one long list. Let's see it in action.\n",
    "\n",
    "    /home/learn$ column example_data.csv\n",
    "    \n",
    "    \n",
    "    id,label,category,coef1,coef2   7,0,B,669,781\n",
    "    0,1,D,236,224                   8,0,A,381,172\n",
    "    1,0,C,946,779                   9,1,B,416,565\n",
    "    2,0,C,843,1                     10,1,C,2,86\n",
    "    3,1,C,873,692                   11,1,D,433,7\n",
    "    4,1,D,700,554                   12,1,D,325,378\n",
    "    5,1,C,389,323                   13,0,C,965,898\n",
    "    6,1,A,140,22                    14,1,B,297,585\n",
    "    \n",
    "A very useful feature of this command is the -t option, which prints the output like a table, making the contents much easier to parse. Let's read from the documentation.\n",
    "\n",
    "     -s      Specify a set of characters to be used to delimit columns for the -t option.\n",
    "\n",
    "     -t      Determine the number of columns the input contains and create a table.  Col‐\n",
    "             umns are delimited with whitespace, by default, or with the characters sup‐\n",
    "             plied using the -s option.  Useful for pretty-printing displays.\n",
    "             \n",
    "    /home/learn$ column -s\",\" -t example_data.csv\n",
    "    \n",
    "    id  label  category  coef1  coef2                                               \n",
    "    0   1      D         236    224                                                 \n",
    "    1   0      C         946    779                                                 \n",
    "    2   0      C         843    1                                                   \n",
    "    3   1      C         873    692                                                 \n",
    "    4   1      D         700    554                                                 \n",
    "    5   1      C         389    323                                                 \n",
    "    6   1      A         140    22                                                  \n",
    "    7   0      B         669    781                                                 \n",
    "    8   0      A         381    172                                                 \n",
    "    9   1      B         416    565                                                 \n",
    "    10  1      C         2      86                                                  \n",
    "    11  1      D         433    7                                                   \n",
    "    12  1      D         325    378                                                 \n",
    "    13  0      C         965    898                                                 \n",
    "    14  1      B         297    585"
   ]
  },
  {
   "cell_type": "code",
   "execution_count": 13,
   "metadata": {},
   "outputs": [
    {
     "name": "stdout",
     "output_type": "stream",
     "text": [
      "first_name:last_name:feature:power\tvegeta:iv:hardwork:79\n",
      "rock:lee:hardwork:13\t\t\tgon:freecs:talent:61\n",
      "zaraki:kenpachi:talent:71\n",
      "first_name  last_name  feature   power\n",
      "rock        lee        hardwork  13\n",
      "zaraki      kenpachi   talent    71\n",
      "vegeta      iv         hardwork  79\n",
      "gon         freecs     talent    61\n"
     ]
    }
   ],
   "source": [
    "%%bash\n",
    "\n",
    "column characters\n",
    "\n",
    "column  -s\":\" -t characters"
   ]
  },
  {
   "cell_type": "markdown",
   "metadata": {},
   "source": [
    "# 6. File Sample"
   ]
  },
  {
   "cell_type": "code",
   "execution_count": 16,
   "metadata": {},
   "outputs": [
    {
     "name": "stdout",
     "output_type": "stream",
     "text": [
      "88,PRE-LAW AND LEGAL STUDIES,13528,92,9762,757\n",
      "Rank,Major,Total,Sample_size,Employed,Unemployed\n",
      "95,CRIMINAL JUSTICE AND FIRE PROTECTION,152824,1728,125393,11268\n",
      "90,PUBLIC ADMINISTRATION,5629,46,4158,789\n",
      "30,PUBLIC POLICY,5978,55,4547,670\n",
      "20,COURT REPORTING,1148,14,930,11\n",
      "1,PETROLEUM ENGINEERING,2339,36,1976,37\n",
      "3,METALLURGICAL ENGINEERING,856,3,648,16\n",
      "15,ENGINEERING MECHANICS PHYSICS AND SCIENCE,4321,30,3608,23\n",
      "19,ARCHITECTURAL ENGINEERING,2825,26,2575,170\n",
      "17,INDUSTRIAL AND MANUFACTURING ENGINEERING,18968,183,15604,699\n"
     ]
    }
   ],
   "source": [
    "%%bash\n",
    "\n",
    "cd rg_data/\n",
    "\n",
    "shuf \"Law & Public Policy\"\n",
    "\n",
    "shuf -n 5 Engineering"
   ]
  },
  {
   "cell_type": "markdown",
   "metadata": {},
   "source": [
    "# 7. Types of Files"
   ]
  },
  {
   "cell_type": "markdown",
   "metadata": {},
   "source": [
    "You may have noticed that most of the files we have used so far do not have an extension, like in Windows.\n",
    "\n",
    "That's because *nix systems determine what kind of file a file is by peeking into its contents and applying some heuristics (like magic numbers).\n",
    "\n",
    "This classification of files is different from the one we see in the first character of the output of ls -l.\n",
    "\n",
    "To figure out what kind of file a file is, we can use the file command. Here's what it looks like.\n",
    "\n",
    "    /home/learn$ file east\n",
    "\n",
    "    east: ASCII text"
   ]
  },
  {
   "cell_type": "code",
   "execution_count": 17,
   "metadata": {},
   "outputs": [
    {
     "name": "stdout",
     "output_type": "stream",
     "text": [
      "total 636\n",
      "drwxr-xr-x 1 mohammeds mohammeds     94 Aug 19 15:15 .\n",
      "drwxr-xr-x 1 mohammeds mohammeds    138 Aug 19 15:47 ..\n",
      "-rwxrwxrwx 1 mohammeds mohammeds  18180 Dec 31  1969 correct\n",
      "-rw-r--r-- 1 mohammeds mohammeds      0 Aug 19 15:13 follow_the_image\n",
      "-rwxrwxrwx 1 mohammeds mohammeds  54476 Dec 31  1969 grep\n",
      "-rwxrwxrwx 1 mohammeds mohammeds    129 Dec 31  1969 if_name\n",
      "-rw-r--r-- 1 mohammeds mohammeds     22 Aug 19 15:13 simple\n",
      "-rwxrwxrwx 1 mohammeds mohammeds 563998 Dec 31  1969 view_me\n",
      "correct:          MPEG ADTS, layer III, v1, 192 kbps, 44.1 kHz, JntStereo\n",
      "follow_the_image: empty\n",
      "grep:             C source, ASCII text\n",
      "if_name:          Python script, ASCII text executable\n",
      "simple:           ASCII text\n",
      "view_me:          JPEG image data, Exif standard: [TIFF image data, big-endian, direntries=4, height=0, orientation=upper-left, width=0], baseline, precision 8, 4032x3024, components 3\n"
     ]
    }
   ],
   "source": [
    "%%bash\n",
    "\n",
    "cd files/\n",
    "\n",
    "ls -al\n",
    "\n",
    "file *"
   ]
  },
  {
   "cell_type": "markdown",
   "metadata": {},
   "source": [
    "# 8. Next Steps"
   ]
  },
  {
   "cell_type": "markdown",
   "metadata": {},
   "source": [
    "In this lesson, we learned how to see the contents of files and how to tell a file's type.\n",
    "\n",
    "In the next lesson we're going to learn how to do basic text processing. Some of the things we'll learn are:\n",
    "\n",
    "* How to sort files\n",
    "* Match lines with patterns\n",
    "* Select columns"
   ]
  }
 ],
 "metadata": {
  "kernelspec": {
   "display_name": "Python 3",
   "language": "python",
   "name": "python3"
  },
  "language_info": {
   "codemirror_mode": {
    "name": "ipython",
    "version": 3
   },
   "file_extension": ".py",
   "mimetype": "text/x-python",
   "name": "python",
   "nbconvert_exporter": "python",
   "pygments_lexer": "ipython3",
   "version": "3.9.6"
  }
 },
 "nbformat": 4,
 "nbformat_minor": 4
}
