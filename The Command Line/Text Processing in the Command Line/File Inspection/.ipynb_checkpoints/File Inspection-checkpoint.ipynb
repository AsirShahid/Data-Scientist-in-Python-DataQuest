{
 "cells": [
  {
   "cell_type": "markdown",
   "metadata": {},
   "source": [
    "# 1. Text Files"
   ]
  },
  {
   "cell_type": "markdown",
   "metadata": {},
   "source": [
    "Text files are very important in anything that relates with computers:\n",
    "\n",
    "* They are one of the most common ways to store and handle data — both regular text and datasets.\n",
    "* All code is stored in text.\n",
    "* Many file formats, like CSV, HTML, and XML are actually text files.\n",
    "\n",
    "The presence of text files in any data science project is a certainty. For this reason, it is crucial to know how to handle them. In this lesson we'll be focusing on inspecting files.\n",
    "\n",
    "We'll continue working a version of FiveThirtyEight's \"Recent Grads\" dataset scattered across 16 files. You can download the original recent-grads.csv file here. It looks like this:\n",
    "\n",
    "![](https://dq-content.s3.amazonaws.com/389/text_file.png)\n",
    "\n",
    "The columns in the datasets are:\n",
    "\n",
    "* Rank\n",
    "* Total\n",
    "* Major_category\n",
    "* Sample_size\n",
    "* Employed\n",
    "* Unemployed\n",
    "\n",
    "We ended last lesson with learning about less — a terminal pager. With it we are able to inspect the contents of text files. The workflow of using less isn't always optimal; sometimes not using a pager is not only more useful, but also necessary.\n",
    "\n",
    "We'll begin by learning about non-paging alternatives to inspect files. Let's move on to the next screen."
   ]
  },
  {
   "cell_type": "markdown",
   "metadata": {},
   "source": [
    "# 2. Head or Tail"
   ]
  },
  {
   "cell_type": "code",
   "execution_count": null,
   "metadata": {},
   "outputs": [],
   "source": []
  }
 ],
 "metadata": {
  "kernelspec": {
   "display_name": "Python 3",
   "language": "python",
   "name": "python3"
  },
  "language_info": {
   "codemirror_mode": {
    "name": "ipython",
    "version": 3
   },
   "file_extension": ".py",
   "mimetype": "text/x-python",
   "name": "python",
   "nbconvert_exporter": "python",
   "pygments_lexer": "ipython3",
   "version": "3.9.6"
  }
 },
 "nbformat": 4,
 "nbformat_minor": 4
}
