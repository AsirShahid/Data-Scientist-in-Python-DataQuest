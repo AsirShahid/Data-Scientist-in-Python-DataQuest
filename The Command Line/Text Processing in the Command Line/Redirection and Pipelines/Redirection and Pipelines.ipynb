{
 "cells": [
  {
   "cell_type": "markdown",
   "metadata": {},
   "source": [
    "# 1. Printing User Input"
   ]
  },
  {
   "cell_type": "markdown",
   "metadata": {},
   "source": [
    "In this lesson, we'll learn about one of the most useful command line features: Input/output redirection.\n",
    "\n",
    "In the last lesson, we learned how to select, concatenate, and sort text files. However, all of the output was printed to screen — there are times when we'll want to save this output in another file. Known as output redirection, we'll redirect the output from the screen to files.\n",
    "\n",
    "Another need that often occurs while dealing with text files is connecting commands together. For instance, we may want to sort a file, and see the output using less. We can accomplish this by connecting sort and less — more specifically, by redirecting the output of sort to the input of less. Both input and output redirection happens here.\n",
    "\n",
    "On the next few screens, we'll learn both of these techniques (we'll leave understanding exactly how they work for later)."
   ]
  },
  {
   "cell_type": "code",
   "execution_count": 2,
   "metadata": {},
   "outputs": [
    {
     "name": "stdout",
     "output_type": "stream",
     "text": [
      "This is a command line interface.\n"
     ]
    }
   ],
   "source": [
    "%%bash\n",
    "\n",
    "echo \"This is a command line interface.\""
   ]
  },
  {
   "cell_type": "markdown",
   "metadata": {},
   "source": [
    "# 2. Redirecting Output with >"
   ]
  },
  {
   "cell_type": "markdown",
   "metadata": {},
   "source": [
    "We are able to print to screen with echo, but what if we want to save the output to a file? We can do this with the redirection operator >. The syntax looks like command >filename. Let's see an example.\n",
    "\n",
    "We'll use echo \"Trying out >.\" in place of command, and my_first_redirection in place of filename.\n",
    "\n",
    "\n",
    "    /home/learn$ echo \"Trying out >.\" >my_first_redirection\n",
    "\n",
    "Above, we supposedly just saved the line of text Trying out >. into the file my_first_redirection. Let's verify this by inspecting the contents of this file.\n",
    "\n",
    "\n",
    "    /home/learn$ cat my_first_redirection\n",
    "\n",
    "    Trying out >.\n",
    "\n",
    "It worked!\n",
    "\n",
    "Let's now save another line to this file:\n",
    "\n",
    "\n",
    "    /home/learn$ echo \"I'm now an expert on output redirection.\" >my_first_redirection\n",
    "    /home/learn$ cat my_first_redirection\n",
    "\n",
    "    I'm now an expert on output redirection.\n",
    "\n",
    "And we see that the file includes our latest addition, but the line we added before disappeared! The redirection operator > will:\n",
    "\n",
    "* Empty the contents of the target file when it is invoked, if the file exists.\n",
    "* If it doesn't exist, it will create it.\n",
    "\n",
    "On the next screen, we'll learn how to append new lines of text to a file. For now, let us continue exploring >.\n",
    "\n",
    "A corollary of what we saw above is that we can redirect the screen output of all commands we've learned so far to files, including cat, sort, grep, less, to name a few.\n",
    "\n",
    "In the previous lesson, we ran cat east west, which displayed on the screen the contents of both files (east and west) in order. With the redirection operator, we're able to create a new file with exactly these contents. Here's what it looks like:\n",
    "\n",
    "\n",
    "    /home/learn$ cat east west >east_west\n",
    "    /home/learn$ head east_west\n",
    "\n",
    "    East side is the best!\n",
    "    Linux is the best!\n",
    "    Dataquest is the best!\n",
    "    West side is the best!\n",
    "    Windows is the best!\n",
    "    Dataquest is the best!\n",
    "    \n",
    "And we see that we created a file east_west — its contents are those of concatenating east and west.\n",
    "\n",
    "In the last lesson, we were also tasked with using grep to print to screen any lines of any file in the directory rg_data that have fields starting with the word math, while ignoring case. Let's recall what the output looks like:\n",
    "\n",
    "\n",
    "    /home/learn$ grep -i ',Math' rg_data/*\n",
    "\n",
    "    rg_data/Computers & Mathematics:42,MATHEMATICS,72397,541,58118,2884             \n",
    "    rg_data/Computers & Mathematics:53,MATHEMATICS AND COMPUTER SCIENCE,609,7,559,0 \n",
    "    rg_data/Education:120,MATHEMATICS TEACHER EDUCATION,14237,123,13115,216\n",
    "\n",
    "Notice how the first few characters of each line are the filename of the file that contained the corresponding matched line.\n",
    "\n",
    "In the following exercise, we'll create a file with this content without the filenames. To do this, we'll use the -h option in grep, which allows us to exclude the filenames from the output. Here is the relevant portion of the documentation:\n",
    "\n",
    "    -h, --no-filename\n",
    "           Suppress  the  prefixing  of  file names on output. This is the\n",
    "           default when there is only one file (or only standard input) to\n",
    "           search."
   ]
  },
  {
   "cell_type": "code",
   "execution_count": 8,
   "metadata": {},
   "outputs": [
    {
     "name": "stdout",
     "output_type": "stream",
     "text": [
      "echo_help\n",
      "math_data\n",
      "Redirection and Pipelines.ipynb\n",
      "rg_data\n"
     ]
    }
   ],
   "source": [
    "%%bash\n",
    "\n",
    "rm math_data echo_help\n",
    "\n",
    "grep -hi \",Math\" rg_data/* > math_data\n",
    "\n",
    "help echo > echo_help\n",
    "\n",
    "ls"
   ]
  },
  {
   "cell_type": "markdown",
   "metadata": {},
   "source": [
    "# 3. Redirecting Output with >>"
   ]
  },
  {
   "cell_type": "markdown",
   "metadata": {},
   "source": [
    "On the last screen, we redirected the output of the commands echo \"Trying out >.\" and echo \"I'm now an expert on output redirection\". to the file my_first_redirection. In doing so, we discovered that the file contained only the latest redirection. To append output to a file through redirection, we can use the >> operator.\n",
    "\n",
    "The usage of this operator is exactly the same as with >, only >> is used. The difference occurs in how they behave. Whereas > always creates a new file, >> appends to the target file, if the target file exists, otherwise it creates a new file. Let's see it in action:\n",
    "\n"
   ]
  },
  {
   "cell_type": "code",
   "execution_count": 10,
   "metadata": {},
   "outputs": [],
   "source": [
    "%%bash\n",
    "\n",
    "head -n 1 rg_data/Computers\\ \\&\\ Mathematics >>math_dataset\n",
    "grep -hi ',Math' rg_data/* >>math_dataset"
   ]
  },
  {
   "cell_type": "markdown",
   "metadata": {},
   "source": [
    "# 4. Creating Empty Files"
   ]
  },
  {
   "cell_type": "markdown",
   "metadata": {},
   "source": [
    "On the previous screens, we learned how to create files by writing content into them. There are times when, for various reasons, we'll want to create empty text files. A common reason is that only the existence of the file matters, regardless of its contents.\n",
    "\n",
    "As an example, if we want to create a Python package (a collection of Python modules), in order to be able to import them, files called __init__.py \"are required to make Python treat directories containing the file as packages. (...). In the simplest case, __init__.py can just be an empty file\", (from the Python documentation on packages).\n",
    "\n",
    "We can use the redirection operator to create empty text files, but it's not as simple as it might look at first glance. Let's see this. A natural common first try at creating an empty file is by echoing \"nothing\" into a file. Let's see this idea in action.\n",
    "\n"
   ]
  },
  {
   "cell_type": "code",
   "execution_count": 11,
   "metadata": {},
   "outputs": [],
   "source": [
    "%%bash\n",
    "\n",
    "touch empty file"
   ]
  },
  {
   "cell_type": "markdown",
   "metadata": {},
   "source": [
    "# 5. Why Pipelines?"
   ]
  },
  {
   "cell_type": "code",
   "execution_count": 12,
   "metadata": {},
   "outputs": [
    {
     "name": "stdout",
     "output_type": "stream",
     "text": [
      "Rank,Major,Employed\n",
      "42,MATHEMATICS,58118\n",
      "53,MATHEMATICS AND COMPUTER SCIENCE,559\n",
      "120,MATHEMATICS TEACHER EDUCATION,13115\n"
     ]
    }
   ],
   "source": [
    "%%bash\n",
    "\n",
    "cut -d\",\" -f1,2,5 math_dataset"
   ]
  },
  {
   "cell_type": "markdown",
   "metadata": {},
   "source": [
    "# 6. Using Pipelines"
   ]
  },
  {
   "cell_type": "markdown",
   "metadata": {},
   "source": [
    "On the previous screen's learn section, we printed the columns labels and coef2, with a labels value of 0. We did this by first selecting the columns with cut -d\",\" -f2,5 example_data.csv, sending the output to a file, and then using grep \"^0\" on this file. We can print to screen the same result by using pipes like this:\n",
    "\n",
    "\n",
    "    /home/learn$ cut -d\",\" -f2,5 example_data.csv | grep \"^0\"\n",
    "\n",
    "The command cut -d\",\" -f2,5 example_data.csv (which stands in for command1) produces output which is passed to the input of grep \"^0\" (which stands in for command2). Here is the output:\n",
    "\n",
    "    0,779\n",
    "    0,1\n",
    "    0,78\n",
    "    0,172\n",
    "    0,898\n",
    "    \n",
    "This is not only easier to execute, it is more efficient!\n",
    "\n",
    "In a previous lesson, we mentioned that the directory /bin contains files that are essential for the system to run, and there are a lot of them. We can use less to browse the output of listing the files in /bin. We show this in the gif below:\n",
    "\n",
    "![](https://s3.amazonaws.com/dq-content/391/pipe_less.gif)"
   ]
  },
  {
   "cell_type": "markdown",
   "metadata": {},
   "source": [
    "# 7. The Unix Philosophy"
   ]
  },
  {
   "cell_type": "code",
   "execution_count": 13,
   "metadata": {},
   "outputs": [
    {
     "name": "stdout",
     "output_type": "stream",
     "text": [
      "174\n"
     ]
    }
   ],
   "source": [
    "%%bash\n",
    "\n",
    "cd rg_data/\n",
    "\n",
    "sort -u *  | wc -l"
   ]
  },
  {
   "cell_type": "code",
   "execution_count": null,
   "metadata": {},
   "outputs": [],
   "source": []
  }
 ],
 "metadata": {
  "kernelspec": {
   "display_name": "Python 3",
   "language": "python",
   "name": "python3"
  },
  "language_info": {
   "codemirror_mode": {
    "name": "ipython",
    "version": 3
   },
   "file_extension": ".py",
   "mimetype": "text/x-python",
   "name": "python",
   "nbconvert_exporter": "python",
   "pygments_lexer": "ipython3",
   "version": "3.9.6"
  }
 },
 "nbformat": 4,
 "nbformat_minor": 4
}
