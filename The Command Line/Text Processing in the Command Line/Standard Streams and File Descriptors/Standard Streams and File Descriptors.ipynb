{
 "cells": [
  {
   "cell_type": "markdown",
   "metadata": {},
   "source": [
    "# 1. Standard Streams"
   ]
  },
  {
   "cell_type": "markdown",
   "metadata": {},
   "source": [
    "Every process — every running instance of a command - interacts with its environment by means of communication channels called streams. In *nix systems, processes commonly start with three special kinds of streams called standard streams:\n",
    "\n",
    "* standard input (which is used to receive input)\n",
    "* standard output (where command output goes)\n",
    "* standard error (where error messages go)\n",
    "\n",
    "They are often abbreviated as stdin, stdout, and stderr, respectively.\n",
    "\n",
    "Let's recall the last example in the previous lesson:\n",
    "\n",
    "    /home/learn$ rm /dev/null\n",
    "    rm: cannot remove ‘/dev/null’: Permission denied\n",
    "    \n",
    "A process was instantiated by running rm /dev/null. If we run rm /dev/null one time, that's one process. If we run it a second time, that's another process. If two different users run it simultaneously, that's two different processes.\n",
    "\n",
    "Nowadays, things are a little bit different — they're all connected to the shell, and the shell will take care of emulating this behavior for us. You may recall from the first lesson in the first course that one of the names for the terminal is \"terminal emulator\", this is why.\n",
    "\n",
    "\n",
    "![](https://dq-content.s3.amazonaws.com/392/Standard+Streams+2.png)\n",
    "\n",
    "Up until the previous screen, we handled stdin and stdout only. We began by redirecting stdout to files, and then learned to pipe stdout of one command into the standard input of another command.\n",
    "\n",
    "The message we got above — rm: cannot remove ‘/dev/null’: Permission denied — is an example of a standard error, which is a different stream than stdout. That's why our try at redirecting the output of rm /dev/null in the last lesson didn't work: we redirected stdout and not stderr.\n",
    "\n",
    "Redirecting standard errors requires its own syntax. Let's continue with our example. To redirect stderr to a file, we need to precede the > symbol with the number 2, like this:\n",
    "\n",
    "    /home/learn$ rm /dev/null 2>err\n",
    "    /home/learn$ cat err"
   ]
  },
  {
   "cell_type": "markdown",
   "metadata": {},
   "source": [
    "# 2. Recap"
   ]
  },
  {
   "cell_type": "markdown",
   "metadata": {},
   "source": [
    "Now that we know about standard streams, let's recap what we know about redirection in this new light.\n",
    "\n",
    "We learned how to redirect standard output with command >filename. Running command spawns a process with the usual standard streams, while >filename redirects the output from the shell to the file filename. Diagramatically it is represented as follows.\n",
    "\n",
    "![](https://dq-content.s3.amazonaws.com/392/Recap+1.png)\n",
    "\n",
    "Similarly to the above, 2>filename makes it so that the standard error of command is redirected to filename:\n",
    "\n",
    "![](https://dq-content.s3.amazonaws.com/392/Recap+2.png)\n",
    "\n",
    "\n",
    "We also learned how to use the output of a command, say, cmd1, as the input of another command, say, cmd2 by running cmd1 | cmd2. The following diagram represents this procedure.\n",
    "\n",
    "\n",
    "![](https://dq-content.s3.amazonaws.com/392/Recap+3.png)"
   ]
  },
  {
   "cell_type": "markdown",
   "metadata": {},
   "source": [
    "# 3. Redirecting Two Streams"
   ]
  },
  {
   "cell_type": "markdown",
   "metadata": {},
   "source": [
    "We've seen how to redirect stdout and stderr, but only one at a time. To redirect both, we just need to include the instruction for both. Here's an example.\n",
    "\n",
    "    /home/learn$ ls east south"
   ]
  },
  {
   "cell_type": "code",
   "execution_count": 2,
   "metadata": {},
   "outputs": [
    {
     "name": "stdout",
     "output_type": "stream",
     "text": [
      "/dev/null\n",
      " access '/home/inexistent': No such file or directory\n"
     ]
    }
   ],
   "source": [
    "%%bash\n",
    "\n",
    "ls /dev/null /home/inexistent >all_output 2>all_output\n",
    "\n",
    "cat all_output"
   ]
  },
  {
   "cell_type": "markdown",
   "metadata": {},
   "source": [
    "# 4. File Descriptors"
   ]
  },
  {
   "cell_type": "markdown",
   "metadata": {},
   "source": [
    "We mentioned earlier that processes commonly start with the standard streams that we learned about. More specifically, these are inherited from the parent process.\n",
    "\n",
    "A parent process is a process that spawned another process. For instance, we are using the Bash shell in this course, when we run a command, say, date, this spawns a new process that is a child process of the Bash process. In this situation, we say that Bash is a parent process of the process spawned by date.\n",
    "\n",
    "The names stdin, stdout and stderr exist for human convenience. The shell does not know them by that name. Rather, for each process, the operating system will create a table that will refer to these streams by non-negative integers called file descriptors (fd).\n",
    "\n",
    "Typically, we have the following correspondence.\n",
    "\n",
    "| File Descriptor | Stream |\n",
    "|-----------------|--------|\n",
    "| 0               | stdin  |\n",
    "| 1               | stdout |\n",
    "| 2               | stderr |\n",
    "\n",
    "And now we see why the syntax to redirect stderr is 2> — it refers to the process file descriptor 2.\n",
    "\n",
    "We also learned that to redirect stdout, we should use >. This is, in fact, a bit of syntactic sugar. The full notation is 1>, which according to the table above and to what we learned, refers to stdout. So, for example, in our previous example, when we ran ls east south >compass 2>compass, we could have ran ls east south 1>compass 2>compass instead.\n",
    "\n",
    "Before we move on, let's see two cool things. We'll run ls -l /proc/\\$$/fd to list the files of the directory /proc/\\$$/fd in long format. Here is the output:\n",
    "\n",
    "\n",
    "    total 0                                                                         \n",
    "    lrwx------ 1 dq dq 64 May 19 19:19 0 -> /dev/pts/0\n",
    "    lrwx------ 1 dq dq 64 May 19 19:19 1 -> /dev/pts/0\n",
    "    lrwx------ 1 dq dq 64 May 19 19:19 2 -> /dev/pts/0\n",
    "    lrwx------ 1 dq dq 64 May 19 19:19 255 -> /dev/pts/0\n",
    "    \n",
    "The /proc/\\$$ part of the path refers to the directory of the current process. In this case, it is our own Bash shell. And the fd directory is the file descriptor directory. So we see that file descriptors are also represented as files (remember that in Unix-like systems everything is a file).\n",
    "\n",
    "These files are symbolic links (think of them as shortcuts) to the file /dev/pts/0. And again, in classic \"everything is a file\" fashion, /dev/pts/0 is the file that represents our shell!\n",
    "\n",
    "Remember how we learned that the standard streams are connected to the shell? What we just saw verifies this: the file descriptor files are linked to the file that represents our shell.\n",
    "\n",
    "Processes can have many file descriptors (we can see fd 255 above) and we'll discuss the ones corresponding to the standard streams.\n",
    "\n",
    "There's no exercise in this screen. Feel free to experiment and move on when you're ready.\n",
    "\n"
   ]
  },
  {
   "cell_type": "markdown",
   "metadata": {},
   "source": [
    "# 5. A New Point of View"
   ]
  },
  {
   "cell_type": "markdown",
   "metadata": {},
   "source": [
    "We can now look at redirection with new eyes. The picture painted in this screen more closely resembles what really happens under the hood.\n",
    "\n",
    "Our shell's file descriptor table begins in the state represented below.\n",
    "\n",
    "![](https://dq-content.s3.amazonaws.com/392/A+New+Point+of+View+1.png)\n",
    "\n",
    "When we run command 1>filename (which is the same as command >filename), the resulting process will inherit the file descriptor table from its parent process, i.e. our shell, and 1>filename will alter the file descriptor table to the following state.\n",
    "\n",
    "![](https://dq-content.s3.amazonaws.com/392/A+New+Point+of+View+2.png)\n",
    "\n",
    "Similarly, when we run command 2>filename, the file descriptor table transforms from the initial state into this:\n",
    "\n",
    "![](https://dq-content.s3.amazonaws.com/392/A+New+Point+of+View+3.png)\n",
    "\n",
    "And piping command1 | command2 is represented by the following diagram, where the process spawned by command1 is on the left, and the one spawned by command2 is on the right.\n",
    "\n",
    "![](https://dq-content.s3.amazonaws.com/392/A+New+Point+of+View+4.png)"
   ]
  },
  {
   "cell_type": "markdown",
   "metadata": {},
   "source": [
    "# 6. Duplicating File Descriptors"
   ]
  },
  {
   "cell_type": "markdown",
   "metadata": {},
   "source": [
    "A few screens ago we mentioned that the shell provides us with a way to redirect both stdout and stderr to a file directly. We can do this by duplicating file descriptors. Let's look into what duplicating file descriptors means.\n",
    "\n",
    "Running command 2>&1 will copy file descriptor 1 into 2. This means that whatever is written to fd 2 will go to where fd 1 goes. The file descriptor table would then be represented by the following diagram.\n",
    "\n",
    "![](https://dq-content.s3.amazonaws.com/392/Duplicating+File+Descriptors+1.png)\n",
    "\n",
    "Since the shell makes it so that both fd 1 and fd 2 print to screen, this would make no difference. In fact, the diagram above is equivalent to the diagram we used to represent the initial state:\n",
    "\n",
    "![](https://dq-content.s3.amazonaws.com/392/Duplicating+File+Descriptors+2.png)\n",
    "\n",
    "A more interesting example is using file descriptor duplication to redirect both stdout and stderr to a file. We can achieve this by running command >filename 2>&1. Let's break this down.\n",
    "\n",
    "Redirecting 1 into a file (>filename), makes the file descriptor table look like this (remember we always start from the initial state):\n",
    "\n",
    "![](https://dq-content.s3.amazonaws.com/392/Duplicating+File+Descriptors+3.png)\n",
    "\n",
    "We then create a copy of 1 in 2 (2>&1), so that we get the following file descriptor table diagram:\n",
    "\n",
    "\n",
    "\n",
    "![](https://dq-content.s3.amazonaws.com/392/Duplicating+File+Descriptors+4.png)\n"
   ]
  },
  {
   "cell_type": "code",
   "execution_count": 5,
   "metadata": {},
   "outputs": [],
   "source": [
    "%%bash\n",
    "\n",
    "ls /dev/null /home/inexistant >all_output_v2 2>&1\n",
    "\n",
    "echo \"Test\" > /dev/null 2>&1"
   ]
  },
  {
   "cell_type": "markdown",
   "metadata": {},
   "source": [
    "# 7. Order of Redirections"
   ]
  },
  {
   "cell_type": "code",
   "execution_count": 6,
   "metadata": {},
   "outputs": [
    {
     "name": "stdout",
     "output_type": "stream",
     "text": [
      "ls: cannot access '/home/inexistent': No such file or directory\n",
      "/dev/null\t\t\t\t\t\t\t/dev/null\n"
     ]
    },
    {
     "name": "stderr",
     "output_type": "stream",
     "text": [
      "ls: cannot access '/home/inexistent': No such file or directory\n"
     ]
    }
   ],
   "source": [
    "%%bash\n",
    "\n",
    "ls /dev/null /home/inexistent 2>&1 1>redirection_order\n",
    "\n",
    "ls /dev/null /home/inexistent >order_verification\n",
    "\n",
    "diff -y redirection_order order_verification"
   ]
  },
  {
   "cell_type": "markdown",
   "metadata": {},
   "source": [
    "# 8. Standard Input"
   ]
  },
  {
   "cell_type": "markdown",
   "metadata": {},
   "source": [
    "We've discussed standard output and standard error extensively, and now it's time to discuss input more in-depth.\n",
    "\n",
    "Most of the commands we've seen so far have been taking input not from standard input, but from the contents of filenames we pass as arguments to the command. This is what happens when we run, for instance, sort east west.\n",
    "\n",
    "However, most of the commands we learned also take input from standard input. This is characterized by inserting data manually into the shell, instead of passing filenames as arguments. Let's see an example.\n",
    "\n",
    "Below we'll be using grep -Ei with the regex pattern \\b[A-Z0-9._%+-]+@[A-Z0-9.-]+\\.[A-Z]{2,}\\b to find matches to valid email addresses (what constitutes a valid email address depends on the definition, so we'll be simplifying and considering those that match this pattern).\n",
    "\n",
    "We will observe the following:\n",
    "\n",
    "1. We begin by typing grep -Ei '\\b[A-Z0-9._%+-]+@[A-Z0-9.-]+\\.[A-Z]{2,}\\b' and pressing \"Enter.\" The absence of any filenames tells the shell that the input will be coming from stdin.\n",
    "2. We pass in the input by inserting:\n",
    "    * The first line of text and hitting Enter\n",
    "    * The second line of text and hitting Enter\n",
    "    * And so on\n",
    "\n",
    "3. Whenever the line matches the regex, the shell will return that line and highlight the match.\n",
    "\n",
    "![](https://s3.amazonaws.com/dq-content/392/grep_stdin.gif)"
   ]
  },
  {
   "cell_type": "code",
   "execution_count": 9,
   "metadata": {},
   "outputs": [],
   "source": [
    "%%bash\n",
    "\n",
    "sort -u >sort_stdin\n",
    "a\n",
    "i\n",
    "u\n",
    "e\n",
    "o\n",
    "cat sorted_stdin"
   ]
  },
  {
   "cell_type": "markdown",
   "metadata": {},
   "source": [
    "# 9. Redirecting Standard Input"
   ]
  },
  {
   "cell_type": "markdown",
   "metadata": {},
   "source": [
    "Some commands only take input from stdin. This is the case for tr, a command used for transliteration, i.e. a command used to replace characters with (possibly other) characters.\n",
    "\n",
    "Typical usage of this command looks like tr old_chars new_chars, where old_chars and new_chars are strings of characters or character classes. We won't get into the details of this command, but we encourage you to explore it. Now let's see an example.\n",
    "\n",
    "Since tr reads from stdin, we could pass in data to stdin. Instead of doing what we learned on the previous screen, we'll use a pipeline to connect the output of a command to the input of tr. We will replace:\n",
    "\n",
    "* 0 with 1\n",
    "* 2 with 3\n",
    "* 4 with 5\n",
    "* 6 with 7\n",
    "* 8 with 9\n",
    "\n",
    "    /home/learn$ echo \"2357\" | tr 02468 13579\n",
    "    3357\n",
    "    \n",
    "We see that the only even digit in the string 2357 was replaced with its corresponding digit in 13579.\n",
    "\n",
    "    /home/learn$ echo \"1337\" | tr 02468 13579\n",
    "    1337\n",
    "    \n",
    "Since there aren't any even digits in 1337, nothing was changed.\n",
    "\n",
    "    /home/learn$ echo \"Cicada 3301\" | tr C02468 c13579\n",
    "    cicada 3311\n",
    "    \n",
    "        \n",
    "As we can see just above, it works with letters too.\n",
    "\n",
    "In order to use tr, we used echo and a pipeline; this is a very inefficient use of shell resources. And so the good people behind shell languages came up with stdin redirection. We can tell a process to read input from a file instead of the standard input.\n",
    "\n",
    "![](https://dq-content.s3.amazonaws.com/392/Redirecting+Standard+Input.png)\n",
    "\n",
    "The concepts are very similar to what we've seen before, only the syntax is different, as we use < for input redirection, rather than >: command 0<filename. We don't need to include 0, it is optional.\n",
    "\n",
    "In the example below we'll be using character classes to replace all uppercase letters with their lowercase version, and we'll be using the contents of the file east as the input, instead of stdin:\n",
    "\n",
    "    /home/learn\\$ tr [:upper:] [:lower:] 0<east\n",
    "    east side is the best!\n",
    "    linux is the best!\n",
    "    dataquest is the best!\n",
    "                                                \n",
    "And we can redirect the output to a file by including stdout redirection:\n",
    "\n",
    "    /home/learn$ tr [:upper:] [:lower:] <east >small_east\n",
    "    /home/learn$ cat small_east\n",
    "    east side is the best!\n",
    "    linux is the best!\n",
    "    dataquest is the best!"
   ]
  },
  {
   "cell_type": "markdown",
   "metadata": {},
   "source": [
    "# 10. Next Steps"
   ]
  },
  {
   "cell_type": "markdown",
   "metadata": {},
   "source": [
    "In this lesson, we learned how redirection works under the hood.\n",
    "\n",
    "We finished this course! We learned\n",
    "\n",
    "* How to read and explore documentation\n",
    "* How to inspect files in the filesystem\n",
    "* How to use basic text processing\n",
    "* About different kinds of output\n",
    "* About Redirect and pipe output\n",
    "* About streams and file descriptors"
   ]
  }
 ],
 "metadata": {
  "kernelspec": {
   "display_name": "Python 3",
   "language": "python",
   "name": "python3"
  },
  "language_info": {
   "codemirror_mode": {
    "name": "ipython",
    "version": 3
   },
   "file_extension": ".py",
   "mimetype": "text/x-python",
   "name": "python",
   "nbconvert_exporter": "python",
   "pygments_lexer": "ipython3",
   "version": "3.9.6"
  }
 },
 "nbformat": 4,
 "nbformat_minor": 4
}
