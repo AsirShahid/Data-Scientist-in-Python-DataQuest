{
 "cells": [
  {
   "cell_type": "markdown",
   "metadata": {},
   "source": [
    "# 1. Standard Streams"
   ]
  },
  {
   "cell_type": "markdown",
   "metadata": {},
   "source": [
    "Every process — every running instance of a command - interacts with its environment by means of communication channels called streams. In *nix systems, processes commonly start with three special kinds of streams called standard streams:\n",
    "\n",
    "* standard input (which is used to receive input)\n",
    "* standard output (where command output goes)\n",
    "* standard error (where error messages go)\n",
    "\n",
    "They are often abbreviated as stdin, stdout, and stderr, respectively.\n",
    "\n",
    "Let's recall the last example in the previous lesson:\n",
    "\n",
    "    /home/learn$ rm /dev/null\n",
    "    rm: cannot remove ‘/dev/null’: Permission denied\n",
    "    \n",
    "A process was instantiated by running rm /dev/null. If we run rm /dev/null one time, that's one process. If we run it a second time, that's another process. If two different users run it simultaneously, that's two different processes.\n",
    "\n",
    "Nowadays, things are a little bit different — they're all connected to the shell, and the shell will take care of emulating this behavior for us. You may recall from the first lesson in the first course that one of the names for the terminal is \"terminal emulator\", this is why.\n",
    "\n",
    "\n",
    "![](https://dq-content.s3.amazonaws.com/392/Standard+Streams+2.png)\n",
    "\n",
    "Up until the previous screen, we handled stdin and stdout only. We began by redirecting stdout to files, and then learned to pipe stdout of one command into the standard input of another command.\n",
    "\n",
    "The message we got above — rm: cannot remove ‘/dev/null’: Permission denied — is an example of a standard error, which is a different stream than stdout. That's why our try at redirecting the output of rm /dev/null in the last lesson didn't work: we redirected stdout and not stderr.\n",
    "\n",
    "Redirecting standard errors requires its own syntax. Let's continue with our example. To redirect stderr to a file, we need to precede the > symbol with the number 2, like this:\n",
    "\n",
    "    /home/learn$ rm /dev/null 2>err\n",
    "    /home/learn$ cat err"
   ]
  },
  {
   "cell_type": "markdown",
   "metadata": {},
   "source": [
    "# 2. Recap"
   ]
  },
  {
   "cell_type": "markdown",
   "metadata": {},
   "source": [
    "Now that we know about standard streams, let's recap what we know about redirection in this new light.\n",
    "\n",
    "We learned how to redirect standard output with command >filename. Running command spawns a process with the usual standard streams, while >filename redirects the output from the shell to the file filename. Diagramatically it is represented as follows.\n",
    "\n",
    "![](https://dq-content.s3.amazonaws.com/392/Recap+1.png)\n",
    "\n",
    "Similarly to the above, 2>filename makes it so that the standard error of command is redirected to filename:\n",
    "\n",
    "![](https://dq-content.s3.amazonaws.com/392/Recap+2.png)\n",
    "\n",
    "\n",
    "We also learned how to use the output of a command, say, cmd1, as the input of another command, say, cmd2 by running cmd1 | cmd2. The following diagram represents this procedure.\n",
    "\n",
    "\n",
    "![](https://dq-content.s3.amazonaws.com/392/Recap+3.png)"
   ]
  },
  {
   "cell_type": "markdown",
   "metadata": {},
   "source": [
    "# 3. Redirecting Two Streams"
   ]
  },
  {
   "cell_type": "markdown",
   "metadata": {},
   "source": [
    "We've seen how to redirect stdout and stderr, but only one at a time. To redirect both, we just need to include the instruction for both. Here's an example.\n",
    "\n"
   ]
  }
 ],
 "metadata": {
  "kernelspec": {
   "display_name": "Python 3",
   "language": "python",
   "name": "python3"
  },
  "language_info": {
   "codemirror_mode": {
    "name": "ipython",
    "version": 3
   },
   "file_extension": ".py",
   "mimetype": "text/x-python",
   "name": "python",
   "nbconvert_exporter": "python",
   "pygments_lexer": "ipython3",
   "version": "3.9.6"
  }
 },
 "nbformat": 4,
 "nbformat_minor": 4
}
