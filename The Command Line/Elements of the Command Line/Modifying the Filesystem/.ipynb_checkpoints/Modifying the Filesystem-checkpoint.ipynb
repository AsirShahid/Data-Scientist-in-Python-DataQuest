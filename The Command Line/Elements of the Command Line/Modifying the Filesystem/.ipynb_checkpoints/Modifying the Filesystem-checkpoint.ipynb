{
 "cells": [
  {
   "cell_type": "markdown",
   "metadata": {},
   "source": [
    "# 1. Creating Directories"
   ]
  },
  {
   "cell_type": "code",
   "execution_count": 1,
   "metadata": {},
   "outputs": [
    {
     "name": "stdout",
     "output_type": "stream",
     "text": [
      "augustus\n",
      "brats\n",
      "brets\n",
      "dir2\n",
      "dir3\n",
      "dir5\n",
      "Modifying the Filesystem.ipynb\n",
      "prize_winners\n",
      "tv\n",
      "veruca\n",
      "violet\n"
     ]
    }
   ],
   "source": [
    "%%bash\n",
    "\n",
    "mkdir brets\n",
    "\n",
    "mkdir dir2 dir3 dir5\n",
    "\n",
    "ls"
   ]
  },
  {
   "cell_type": "markdown",
   "metadata": {},
   "source": [
    "# 2. Deleting Directories"
   ]
  },
  {
   "cell_type": "code",
   "execution_count": 2,
   "metadata": {},
   "outputs": [
    {
     "name": "stdout",
     "output_type": "stream",
     "text": [
      "augustus\n",
      "brats\n",
      "Modifying the Filesystem.ipynb\n",
      "prize_winners\n",
      "tv\n",
      "veruca\n",
      "violet\n"
     ]
    },
    {
     "name": "stderr",
     "output_type": "stream",
     "text": [
      "mkdir: cannot create directory ‘brats’: File exists\n"
     ]
    }
   ],
   "source": [
    "%%bash\n",
    "\n",
    "rmdir brets\n",
    "\n",
    "mkdir brats\n",
    "\n",
    "rmdir dir*\n",
    "\n",
    "ls"
   ]
  },
  {
   "cell_type": "markdown",
   "metadata": {},
   "source": [
    "# 3. Failing to Delete Directories"
   ]
  },
  {
   "cell_type": "markdown",
   "metadata": {},
   "source": [
    "We can get an error when trying to delete a non empty directory:\n",
    "\n",
    "`rmdir: failed to remove ‘prize_winners/’: Directory not empty`"
   ]
  },
  {
   "cell_type": "markdown",
   "metadata": {},
   "source": [
    "# 4. Copying Files"
   ]
  },
  {
   "cell_type": "code",
   "execution_count": 4,
   "metadata": {},
   "outputs": [
    {
     "name": "stdout",
     "output_type": "stream",
     "text": [
      "augustus\n",
      "tv\n",
      "veruca\n",
      "violet\n",
      "mike\n"
     ]
    }
   ],
   "source": [
    "%%bash\n",
    "\n",
    "cp augustus violet veruca tv brats\n",
    "\n",
    "cp prize_winners/.mike prize_winners/mike\n",
    "\n",
    "ls brats/\n",
    "\n",
    "ls prize_winners/"
   ]
  },
  {
   "cell_type": "markdown",
   "metadata": {},
   "source": [
    "# 5. Hidden Dangers of Copying Files"
   ]
  },
  {
   "cell_type": "markdown",
   "metadata": {},
   "source": [
    "![](https://s3.amazonaws.com/dq-content/385/interactive_copy.gif)\n",
    "\n",
    "Here's a breakdown of the gif:\n",
    "\n",
    "1. We run the commmand to interactively copy east and west to coasts.\n",
    "2. The shell prompts the user to answer if they wish to overwrite east.\n",
    "    * The user hits N for \"no\" and hits enter. This makes it so that east doesn't get overwritten.\n",
    "3. The shell prompts the user to answer if they wish to overwrite west.\n",
    "    * The user hits y for \"yes\" and hits enter. This makes it so that west is overwritten."
   ]
  },
  {
   "cell_type": "markdown",
   "metadata": {},
   "source": [
    "# 6. Copying Directories"
   ]
  },
  {
   "cell_type": "code",
   "execution_count": 6,
   "metadata": {},
   "outputs": [
    {
     "name": "stdout",
     "output_type": "stream",
     "text": [
      "augustus\n",
      "prize_winners\n",
      "tv\n",
      "veruca\n",
      "violet\n"
     ]
    }
   ],
   "source": [
    "%%bash\n",
    "\n",
    "cp -R prize_winners brats\n",
    "\n",
    "ls brats"
   ]
  },
  {
   "cell_type": "markdown",
   "metadata": {},
   "source": [
    "# 7. Deleting Directories and Files"
   ]
  },
  {
   "cell_type": "code",
   "execution_count": 8,
   "metadata": {},
   "outputs": [
    {
     "name": "stdout",
     "output_type": "stream",
     "text": [
      "brats\n",
      "Modifying the Filesystem.ipynb\n"
     ]
    }
   ],
   "source": [
    "%%bash\n",
    "\n",
    "rm violet augustus veruca tv\n",
    "\n",
    "rm -R prize_winners\n",
    "\n",
    "ls"
   ]
  },
  {
   "cell_type": "markdown",
   "metadata": {},
   "source": [
    "# 8. Moving and Renaming Directories and Files"
   ]
  },
  {
   "cell_type": "code",
   "execution_count": 11,
   "metadata": {},
   "outputs": [
    {
     "name": "stdout",
     "output_type": "stream",
     "text": [
      "Mike\n"
     ]
    }
   ],
   "source": [
    "%%bash\n",
    "\n",
    "mv brats/prize_winners/mike brats/\n",
    "\n",
    "mv brats/prize_winners/.mike brats/prize_winners/Mike\n",
    "\n",
    "ls brats/prize_winners/"
   ]
  },
  {
   "cell_type": "markdown",
   "metadata": {},
   "source": [
    "# 9. Next Steps"
   ]
  },
  {
   "cell_type": "markdown",
   "metadata": {},
   "source": [
    "We are making progress, but there's still much to learn! In the next lesson we're going to learn:\n",
    "\n",
    "* What glob patterns and wildcards are\n",
    "* How to use wildcards\n",
    "* How to search for files from the command line"
   ]
  }
 ],
 "metadata": {
  "kernelspec": {
   "display_name": "Python 3",
   "language": "python",
   "name": "python3"
  },
  "language_info": {
   "codemirror_mode": {
    "name": "ipython",
    "version": 3
   },
   "file_extension": ".py",
   "mimetype": "text/x-python",
   "name": "python",
   "nbconvert_exporter": "python",
   "pygments_lexer": "ipython3",
   "version": "3.9.6"
  }
 },
 "nbformat": 4,
 "nbformat_minor": 4
}
