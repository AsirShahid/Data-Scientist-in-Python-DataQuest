{
 "cells": [
  {
   "cell_type": "markdown",
   "metadata": {},
   "source": [
    "# 1. The Filesystem"
   ]
  },
  {
   "cell_type": "markdown",
   "metadata": {},
   "source": [
    "A file system is, among other things, an organizational system for our files. It helps us keep things tidy by placing files together in groups called directories (or folders). Directories can be combined into a group, which will form another directory. We can also group files with directories.\n",
    "\n",
    "The elements of a group will be said to be contained in the directory that encapsulates them. Each file or directory can only be contained in, at most, one directory. Alternatively, when a directory contains another, we say that the latter is a subdirectory of the first, and that the former is parent directory of the latter. When a directory isn't contained in any other directory, it is called a root.\n",
    "\n",
    "This relationship of groups and containment is at the heart of what we call a hierarchical directory structure. Below, we can see an example diagram of one.\n",
    "\n",
    "![](https://dq-content.s3.amazonaws.com/384/Unix+Filesystem+hierarchy+-+Horizontal+with+color.png)\n",
    "\n",
    "In this example, the following statements are true:\n",
    "\n",
    "* date is contained in the directory bin.\n",
    "* bus and sys are subdirectories of proc.\n",
    "* usr is the parent directory of include.\n",
    "* learn contains the files east and west.\n",
    "* dq contains both files and directories.\n",
    "\n",
    "In the following exercise, you'll use the command answer. This command was created merely for answer checking purposes; you probably won't find it in other systems.\n",
    "\n",
    "In this exercise, you'll assess the truthfulness of three statements. To complete this exercise, you should run answer <choice1> <choice2> <choice3> where <choice1>, <choice2>, and <choice3> should each be replaced with true or false according to your assessment of the statement. For example, if you think that the first statement is false and the others are true, you should run answer false true true.\n",
    "\n",
    "1. In the diagram, assess the truthfulness of the following statements:\n",
    "    * prize_winners is a subdirectory of learn.\n",
    "    * dq is the parent directory of prize_winners.\n",
    "    * sbin contains losetup."
   ]
  },
  {
   "cell_type": "markdown",
   "metadata": {},
   "source": [
    "answer false true true"
   ]
  },
  {
   "cell_type": "markdown",
   "metadata": {},
   "source": [
    "# 2. Working Directory"
   ]
  },
  {
   "cell_type": "code",
   "execution_count": 1,
   "metadata": {},
   "outputs": [
    {
     "name": "stdout",
     "output_type": "stream",
     "text": [
      "/home/mohammeds/Documents/Data Scientist in Python DataQuest/The Command Line/Elements of the Command Line/The Filesystem\n"
     ]
    }
   ],
   "source": [
    "%%bash\n",
    "\n",
    "pwd"
   ]
  },
  {
   "cell_type": "markdown",
   "metadata": {},
   "source": [
    "# 3. Inspecting Directories"
   ]
  },
  {
   "cell_type": "code",
   "execution_count": 7,
   "metadata": {},
   "outputs": [
    {
     "name": "stdout",
     "output_type": "stream",
     "text": [
      "Books\n",
      "datasets\n",
      "Desktop\n",
      "Documents\n",
      "Downloads\n",
      "Games\n",
      "geckodriver.log\n",
      "Github\n",
      "go\n",
      "Hugo\n",
      "indexer\n",
      "macho.sh\n",
      "Media\n",
      "Monero\n",
      "Music\n",
      "node\n",
      "NvChad\n",
      "Octave\n",
      "OnionShare\n",
      "org\n",
      "Pictures\n",
      "Projects\n",
      "Public\n",
      "R\n",
      "RoamNotes\n",
      "Sync\n",
      "ta-lib\n",
      "Templates\n",
      "test.py\n",
      "texput.log\n",
      "tutorial-snippets\n",
      "Videos\n",
      "VirtualBox VMs\n",
      "augustus\n",
      "prize_winners/\n",
      "The Filesystem.ipynb\n",
      "tv\n",
      "veruca\n",
      "violet\n"
     ]
    }
   ],
   "source": [
    "%%bash\n",
    "\n",
    "ls ~/\n",
    "\n",
    "ls -p"
   ]
  },
  {
   "cell_type": "markdown",
   "metadata": {},
   "source": [
    "# 4. Inspecting Directories Thoroughly"
   ]
  },
  {
   "cell_type": "code",
   "execution_count": 9,
   "metadata": {},
   "outputs": [
    {
     "name": "stdout",
     "output_type": "stream",
     "text": [
      ".mike\n",
      "total 24K\n",
      "-rw-r--r-- 1 mohammeds mohammeds  466 Aug 17 20:22 augustus\n",
      "-rw-r--r-- 1 mohammeds mohammeds    0 Aug 17 20:01 .gitkeep\n",
      "drwxr-xr-x 1 mohammeds mohammeds   62 Aug 17 20:03 .ipynb_checkpoints\n",
      "drwxr-xr-x 1 mohammeds mohammeds   10 Aug 17 20:39 prize_winners\n",
      "-rw-r--r-- 1 mohammeds mohammeds 5.7K Aug 17 20:40 The Filesystem.ipynb\n",
      "-rw-r--r-- 1 mohammeds mohammeds  517 Aug 17 20:22 tv\n",
      "-rw-r--r-- 1 mohammeds mohammeds  460 Aug 17 20:22 veruca\n",
      "-rw-r--r-- 1 mohammeds mohammeds  474 Aug 17 20:22 violet\n"
     ]
    }
   ],
   "source": [
    "%%bash\n",
    "\n",
    "ls prize_winners/\n",
    "\n",
    "ls -A prize_winners/\n",
    "\n",
    "ls -Ahl"
   ]
  },
  {
   "cell_type": "markdown",
   "metadata": {},
   "source": [
    "# 5. Navigating the Filesystem"
   ]
  },
  {
   "cell_type": "code",
   "execution_count": 11,
   "metadata": {},
   "outputs": [],
   "source": [
    "%%bash\n",
    "\n",
    "cd prize_winners\n",
    "cd /home"
   ]
  },
  {
   "cell_type": "markdown",
   "metadata": {},
   "source": [
    "# 6. Absolute and Relative Paths"
   ]
  },
  {
   "cell_type": "markdown",
   "metadata": {},
   "source": [
    "1. Assess the truthfulness of the following statements in the filesystem we're using:\n",
    "    * If the working directory is /home/dq, dq/prize_winners is a valid relative path.\n",
    "    * If the working directory is /home/dq, prize_winners/.mike is a valid relative path.\n",
    "    * home/dq is an absolute path."
   ]
  },
  {
   "cell_type": "code",
   "execution_count": 25,
   "metadata": {},
   "outputs": [
    {
     "name": "stdout",
     "output_type": "stream",
     "text": [
      "total 0\n",
      "drwxr-xr-x 1 mohammeds mohammeds  10 Aug 17 20:39 .\n",
      "drwxr-xr-x 1 mohammeds mohammeds 162 Aug 17 20:48 ..\n",
      "-rw-r--r-- 1 mohammeds mohammeds   0 Aug 17 20:39 .mike\n"
     ]
    }
   ],
   "source": [
    "%%bash\n",
    "\n",
    "# answer false true false\n",
    "\n",
    "cd /home\n",
    "\n",
    "ls -al \"mohammeds/Documents/Data Scientist in Python DataQuest/The Command Line/Elements of the Command Line/The Filesystem/prize_winners\""
   ]
  },
  {
   "cell_type": "markdown",
   "metadata": {},
   "source": [
    "# 7. Shortcuts for Filesystem Navigation"
   ]
  },
  {
   "cell_type": "code",
   "execution_count": 27,
   "metadata": {},
   "outputs": [],
   "source": [
    "%%bash\n",
    "\n",
    "cd /home\n",
    "\n",
    "cd \"mohammeds/Documents/Data Scientist in Python DataQuest/The Command Line/Elements of the Command Line/The Filesystem/prize_winners\"\n",
    "\n",
    "cd -"
   ]
  },
  {
   "cell_type": "markdown",
   "metadata": {},
   "source": [
    "# 8. Next Steps"
   ]
  },
  {
   "cell_type": "markdown",
   "metadata": {},
   "source": [
    "And we're done with the second lesson! In the next lesson we're going to learn:\n",
    "\n",
    "* How to create directories\n",
    "* How to delete directories and files\n",
    "* How to copy directories and files\n",
    "* How to move and rename directories and files"
   ]
  }
 ],
 "metadata": {
  "kernelspec": {
   "display_name": "Python 3",
   "language": "python",
   "name": "python3"
  },
  "language_info": {
   "codemirror_mode": {
    "name": "ipython",
    "version": 3
   },
   "file_extension": ".py",
   "mimetype": "text/x-python",
   "name": "python",
   "nbconvert_exporter": "python",
   "pygments_lexer": "ipython3",
   "version": "3.9.6"
  }
 },
 "nbformat": 4,
 "nbformat_minor": 4
}
