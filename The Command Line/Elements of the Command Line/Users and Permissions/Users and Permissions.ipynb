{
 "cells": [
  {
   "cell_type": "markdown",
   "metadata": {},
   "source": [
    "# 1. Users"
   ]
  },
  {
   "cell_type": "code",
   "execution_count": 2,
   "metadata": {},
   "outputs": [
    {
     "name": "stdout",
     "output_type": "stream",
     "text": [
      "mohammeds\n",
      "uid=1000(mohammeds) gid=1000(mohammeds) groups=1000(mohammeds),10(wheel),948(docker),953(vboxusers),981(libvirt),999(input)\n"
     ]
    }
   ],
   "source": [
    "%%bash\n",
    "\n",
    "whoami\n",
    "\n",
    "id"
   ]
  },
  {
   "cell_type": "markdown",
   "metadata": {},
   "source": [
    "# 2. Groups"
   ]
  },
  {
   "cell_type": "code",
   "execution_count": 5,
   "metadata": {},
   "outputs": [
    {
     "name": "stdout",
     "output_type": "stream",
     "text": [
      "mohammeds wheel docker vboxusers libvirt input\n",
      "total 28\n",
      "-r-xr--r-- 1 mohammeds mohammeds     0 Aug 18 15:34 config_file_1\n",
      "-r-xr----- 1 mohammeds mohammeds     0 Aug 18 15:34 config_file_2\n",
      "-rw-rw-rw- 1 mohammeds mohammeds     0 Aug 18 15:34 disposable_file_1\n",
      "-rw-rw-r-- 1 mohammeds mohammeds     0 Aug 18 15:34 disposable_file_2\n",
      "drwxr--r-- 1 mohammeds mohammeds     0 Aug 18 15:34 Trash\n",
      "-rw-r--r-- 1 mohammeds mohammeds  1600 Aug 18 15:38 Users and Permissions.ipynb\n",
      "-rwxr-xr-x 1 mohammeds mohammeds 21080 Aug 18 15:36 wsend\n"
     ]
    }
   ],
   "source": [
    "%%bash\n",
    "\n",
    "groups\n",
    "\n",
    "ls -l"
   ]
  },
  {
   "cell_type": "markdown",
   "metadata": {},
   "source": [
    "# 3. Revisiting ls"
   ]
  },
  {
   "cell_type": "markdown",
   "metadata": {},
   "source": [
    "We have established that every action in a *nix system is associated with a user. In addition to this, every file and directory must have an owner. When a user creates a file or directory, ownership is attributed to the user who created it. The Owner column tells us who the owner of the file/directory is. There's also group ownership.\n",
    "\n",
    "The column Group tells us what group owns the file. By default the group ownership is given to the primary group of the user who created the file. A primary group is simply a group that is associated with a user. It will typically have the same name and unique number than that of the user.\n",
    "\n",
    "There is a maxim in Unix-like systems that says \"everything is a file\". This isn't exactly true, but the details that allow us to understand the nuances are not relevant in Data Science. We will accept this maxim as is from now on, making the appropriate distinctions when necessary.\n",
    "\n",
    "Since everything is a file, directories are files, too. The first character of the values in the first column tell us what kind of file it is. You can read more about it in the POSIX specifications for ls. Most of the time, we'll only encounter the values -, d, and l, which tell us, respectively, that the file is a regular file, a directory, and a symbolic link (though not exactly a shortcut, you can think of it as one)."
   ]
  },
  {
   "cell_type": "code",
   "execution_count": 7,
   "metadata": {},
   "outputs": [
    {
     "name": "stdout",
     "output_type": "stream",
     "text": [
      "total 24\n",
      "drwxr-xr-x.   1 root      root   98 Jul 29 22:41 bedrock\n",
      "lrwxrwxrwx.   1 root      root    7 Jul 27  2020 bin -> usr/bin\n",
      "dr-xr-xr-x.   7 root      root 4096 Aug 13 15:01 boot\n",
      "drwxr-xr-x   23 root      root 4660 Aug 18 10:23 dev\n",
      "drwxr-xr-x    1 root      root 6726 Aug 18 15:41 etc\n",
      "drwxr-xr-x.   1 root      root   26 Jun 11 22:51 home\n",
      "lrwxrwxrwx.   1 root      root    7 Jul 27  2020 lib -> usr/lib\n",
      "lrwxrwxrwx.   1 root      root    9 Jul 27  2020 lib64 -> usr/lib64\n",
      "drwx------.   1 root      root    0 Oct 19  2020 lost+found\n",
      "drwxr-xr-x.   1 root      root    0 Jul 27  2020 media\n",
      "drwxr-xr-x.   1 root      root    0 Jul 27  2020 mnt\n",
      "drwxr-xr-x    1 mohammeds root   16 Jun 30 11:35 nix\n",
      "drwxr-xr-x.   1 root      root   54 Jul 30 12:32 opt\n",
      "dr-xr-xr-x  653 root      root    0 Aug 18 10:22 proc\n",
      "dr-xr-x---.   1 root      root  470 Aug 16 15:38 root\n",
      "drwxr-xr-x   68 root      root 1780 Aug 18 15:33 run\n",
      "lrwxrwxrwx.   1 root      root    8 Jul 27  2020 sbin -> usr/sbin\n",
      "drwxr-xr-x.   1 root      root    0 Jul 27  2020 srv\n",
      "lrwxrwxrwx    1 root      root   17 Feb 15  2021 swapfile -> /bedrock/swapfile\n",
      "dr-xr-xr-x   13 root      root    0 Aug 18 10:22 sys\n",
      "drwxrwxrwt.   1 root      root 6140 Aug 18 15:42 tmp\n",
      "drwxr-xr-x.   1 root      root  106 Feb 15  2021 usr\n",
      "drwxr-xr-x.   1 root      root  200 Feb 20 19:16 var\n"
     ]
    },
    {
     "name": "stderr",
     "output_type": "stream",
     "text": [
      "mkdir: cannot create directory ‘oops’: Permission denied\n",
      "bash: line 8: cd: /root: Permission denied\n"
     ]
    },
    {
     "ename": "CalledProcessError",
     "evalue": "Command 'b'\\ncd /\\n\\nls -l \\n\\nmkdir oops\\n\\ncd /root\\n'' returned non-zero exit status 1.",
     "output_type": "error",
     "traceback": [
      "\u001b[0;31m---------------------------------------------------------------------------\u001b[0m",
      "\u001b[0;31mCalledProcessError\u001b[0m                        Traceback (most recent call last)",
      "\u001b[0;32m<ipython-input-7-8fad282ef1b6>\u001b[0m in \u001b[0;36m<module>\u001b[0;34m\u001b[0m\n\u001b[0;32m----> 1\u001b[0;31m \u001b[0mget_ipython\u001b[0m\u001b[0;34m(\u001b[0m\u001b[0;34m)\u001b[0m\u001b[0;34m.\u001b[0m\u001b[0mrun_cell_magic\u001b[0m\u001b[0;34m(\u001b[0m\u001b[0;34m'bash'\u001b[0m\u001b[0;34m,\u001b[0m \u001b[0;34m''\u001b[0m\u001b[0;34m,\u001b[0m \u001b[0;34m'\\ncd /\\n\\nls -l \\n\\nmkdir oops\\n\\ncd /root\\n'\u001b[0m\u001b[0;34m)\u001b[0m\u001b[0;34m\u001b[0m\u001b[0;34m\u001b[0m\u001b[0m\n\u001b[0m",
      "\u001b[0;32m/usr/lib/python3.9/site-packages/IPython/core/interactiveshell.py\u001b[0m in \u001b[0;36mrun_cell_magic\u001b[0;34m(self, magic_name, line, cell)\u001b[0m\n\u001b[1;32m   2379\u001b[0m             \u001b[0;32mwith\u001b[0m \u001b[0mself\u001b[0m\u001b[0;34m.\u001b[0m\u001b[0mbuiltin_trap\u001b[0m\u001b[0;34m:\u001b[0m\u001b[0;34m\u001b[0m\u001b[0;34m\u001b[0m\u001b[0m\n\u001b[1;32m   2380\u001b[0m                 \u001b[0margs\u001b[0m \u001b[0;34m=\u001b[0m \u001b[0;34m(\u001b[0m\u001b[0mmagic_arg_s\u001b[0m\u001b[0;34m,\u001b[0m \u001b[0mcell\u001b[0m\u001b[0;34m)\u001b[0m\u001b[0;34m\u001b[0m\u001b[0;34m\u001b[0m\u001b[0m\n\u001b[0;32m-> 2381\u001b[0;31m                 \u001b[0mresult\u001b[0m \u001b[0;34m=\u001b[0m \u001b[0mfn\u001b[0m\u001b[0;34m(\u001b[0m\u001b[0;34m*\u001b[0m\u001b[0margs\u001b[0m\u001b[0;34m,\u001b[0m \u001b[0;34m**\u001b[0m\u001b[0mkwargs\u001b[0m\u001b[0;34m)\u001b[0m\u001b[0;34m\u001b[0m\u001b[0;34m\u001b[0m\u001b[0m\n\u001b[0m\u001b[1;32m   2382\u001b[0m             \u001b[0;32mreturn\u001b[0m \u001b[0mresult\u001b[0m\u001b[0;34m\u001b[0m\u001b[0;34m\u001b[0m\u001b[0m\n\u001b[1;32m   2383\u001b[0m \u001b[0;34m\u001b[0m\u001b[0m\n",
      "\u001b[0;32m/usr/lib/python3.9/site-packages/IPython/core/magics/script.py\u001b[0m in \u001b[0;36mnamed_script_magic\u001b[0;34m(line, cell)\u001b[0m\n\u001b[1;32m    140\u001b[0m             \u001b[0;32melse\u001b[0m\u001b[0;34m:\u001b[0m\u001b[0;34m\u001b[0m\u001b[0;34m\u001b[0m\u001b[0m\n\u001b[1;32m    141\u001b[0m                 \u001b[0mline\u001b[0m \u001b[0;34m=\u001b[0m \u001b[0mscript\u001b[0m\u001b[0;34m\u001b[0m\u001b[0;34m\u001b[0m\u001b[0m\n\u001b[0;32m--> 142\u001b[0;31m             \u001b[0;32mreturn\u001b[0m \u001b[0mself\u001b[0m\u001b[0;34m.\u001b[0m\u001b[0mshebang\u001b[0m\u001b[0;34m(\u001b[0m\u001b[0mline\u001b[0m\u001b[0;34m,\u001b[0m \u001b[0mcell\u001b[0m\u001b[0;34m)\u001b[0m\u001b[0;34m\u001b[0m\u001b[0;34m\u001b[0m\u001b[0m\n\u001b[0m\u001b[1;32m    143\u001b[0m \u001b[0;34m\u001b[0m\u001b[0m\n\u001b[1;32m    144\u001b[0m         \u001b[0;31m# write a basic docstring:\u001b[0m\u001b[0;34m\u001b[0m\u001b[0;34m\u001b[0m\u001b[0;34m\u001b[0m\u001b[0m\n",
      "\u001b[0;32m<decorator-gen-110>\u001b[0m in \u001b[0;36mshebang\u001b[0;34m(self, line, cell)\u001b[0m\n",
      "\u001b[0;32m/usr/lib/python3.9/site-packages/IPython/core/magic.py\u001b[0m in \u001b[0;36m<lambda>\u001b[0;34m(f, *a, **k)\u001b[0m\n\u001b[1;32m    185\u001b[0m     \u001b[0;31m# but it's overkill for just that one bit of state.\u001b[0m\u001b[0;34m\u001b[0m\u001b[0;34m\u001b[0m\u001b[0;34m\u001b[0m\u001b[0m\n\u001b[1;32m    186\u001b[0m     \u001b[0;32mdef\u001b[0m \u001b[0mmagic_deco\u001b[0m\u001b[0;34m(\u001b[0m\u001b[0marg\u001b[0m\u001b[0;34m)\u001b[0m\u001b[0;34m:\u001b[0m\u001b[0;34m\u001b[0m\u001b[0;34m\u001b[0m\u001b[0m\n\u001b[0;32m--> 187\u001b[0;31m         \u001b[0mcall\u001b[0m \u001b[0;34m=\u001b[0m \u001b[0;32mlambda\u001b[0m \u001b[0mf\u001b[0m\u001b[0;34m,\u001b[0m \u001b[0;34m*\u001b[0m\u001b[0ma\u001b[0m\u001b[0;34m,\u001b[0m \u001b[0;34m**\u001b[0m\u001b[0mk\u001b[0m\u001b[0;34m:\u001b[0m \u001b[0mf\u001b[0m\u001b[0;34m(\u001b[0m\u001b[0;34m*\u001b[0m\u001b[0ma\u001b[0m\u001b[0;34m,\u001b[0m \u001b[0;34m**\u001b[0m\u001b[0mk\u001b[0m\u001b[0;34m)\u001b[0m\u001b[0;34m\u001b[0m\u001b[0;34m\u001b[0m\u001b[0m\n\u001b[0m\u001b[1;32m    188\u001b[0m \u001b[0;34m\u001b[0m\u001b[0m\n\u001b[1;32m    189\u001b[0m         \u001b[0;32mif\u001b[0m \u001b[0mcallable\u001b[0m\u001b[0;34m(\u001b[0m\u001b[0marg\u001b[0m\u001b[0;34m)\u001b[0m\u001b[0;34m:\u001b[0m\u001b[0;34m\u001b[0m\u001b[0;34m\u001b[0m\u001b[0m\n",
      "\u001b[0;32m/usr/lib/python3.9/site-packages/IPython/core/magics/script.py\u001b[0m in \u001b[0;36mshebang\u001b[0;34m(self, line, cell)\u001b[0m\n\u001b[1;32m    243\u001b[0m             \u001b[0msys\u001b[0m\u001b[0;34m.\u001b[0m\u001b[0mstderr\u001b[0m\u001b[0;34m.\u001b[0m\u001b[0mflush\u001b[0m\u001b[0;34m(\u001b[0m\u001b[0;34m)\u001b[0m\u001b[0;34m\u001b[0m\u001b[0;34m\u001b[0m\u001b[0m\n\u001b[1;32m    244\u001b[0m         \u001b[0;32mif\u001b[0m \u001b[0margs\u001b[0m\u001b[0;34m.\u001b[0m\u001b[0mraise_error\u001b[0m \u001b[0;32mand\u001b[0m \u001b[0mp\u001b[0m\u001b[0;34m.\u001b[0m\u001b[0mreturncode\u001b[0m\u001b[0;34m!=\u001b[0m\u001b[0;36m0\u001b[0m\u001b[0;34m:\u001b[0m\u001b[0;34m\u001b[0m\u001b[0;34m\u001b[0m\u001b[0m\n\u001b[0;32m--> 245\u001b[0;31m             \u001b[0;32mraise\u001b[0m \u001b[0mCalledProcessError\u001b[0m\u001b[0;34m(\u001b[0m\u001b[0mp\u001b[0m\u001b[0;34m.\u001b[0m\u001b[0mreturncode\u001b[0m\u001b[0;34m,\u001b[0m \u001b[0mcell\u001b[0m\u001b[0;34m,\u001b[0m \u001b[0moutput\u001b[0m\u001b[0;34m=\u001b[0m\u001b[0mout\u001b[0m\u001b[0;34m,\u001b[0m \u001b[0mstderr\u001b[0m\u001b[0;34m=\u001b[0m\u001b[0merr\u001b[0m\u001b[0;34m)\u001b[0m\u001b[0;34m\u001b[0m\u001b[0;34m\u001b[0m\u001b[0m\n\u001b[0m\u001b[1;32m    246\u001b[0m \u001b[0;34m\u001b[0m\u001b[0m\n\u001b[1;32m    247\u001b[0m     \u001b[0;32mdef\u001b[0m \u001b[0m_run_script\u001b[0m\u001b[0;34m(\u001b[0m\u001b[0mself\u001b[0m\u001b[0;34m,\u001b[0m \u001b[0mp\u001b[0m\u001b[0;34m,\u001b[0m \u001b[0mcell\u001b[0m\u001b[0;34m,\u001b[0m \u001b[0mto_close\u001b[0m\u001b[0;34m)\u001b[0m\u001b[0;34m:\u001b[0m\u001b[0;34m\u001b[0m\u001b[0;34m\u001b[0m\u001b[0m\n",
      "\u001b[0;31mCalledProcessError\u001b[0m: Command 'b'\\ncd /\\n\\nls -l \\n\\nmkdir oops\\n\\ncd /root\\n'' returned non-zero exit status 1."
     ]
    }
   ],
   "source": [
    "%%bash\n",
    "\n",
    "cd /\n",
    "\n",
    "ls -l \n",
    "\n",
    "mkdir oops\n",
    "\n",
    "cd /root"
   ]
  },
  {
   "cell_type": "markdown",
   "metadata": {},
   "source": [
    "# 4. Permissions"
   ]
  },
  {
   "cell_type": "markdown",
   "metadata": {},
   "source": [
    "![](https://s3.amazonaws.com/dq-content/387/permissions.png)"
   ]
  },
  {
   "cell_type": "markdown",
   "metadata": {},
   "source": [
    "In the following scenarios, assume that:\n",
    "\n",
    "* All directories in the path /home/dq have execution permissions for all users.\n",
    "* All files mentioned are in /home/dq.\n",
    "* Group ownership is the same as user ownership.\n",
    "1. First scenario. User dq owns a file whose permissions are r-xr-xr--.\n",
    "    * Question 1. Can any user read this file?\n",
    "    * Question 2. Can dq run this file?\n",
    "2. Second scenario. User learn owns a file whose permissions are rwxr-xr-x.\n",
    "    * Question 3. Can dq modify the contents of this file?\n",
    "    * Question 4. Can dq rename this file?\n",
    "3. Third scenario. User dq can't read, nor enter /home/learn, but has rwx permissions for all the content in /home/learn.\n",
    "    * Question 5. Can user dq read/list the contents of the home directory of learn?\n"
   ]
  },
  {
   "cell_type": "markdown",
   "metadata": {},
   "source": [
    "answer y y n y n"
   ]
  },
  {
   "cell_type": "markdown",
   "metadata": {},
   "source": [
    "# 5. Changing Permissions: Symbolic Notation"
   ]
  },
  {
   "cell_type": "markdown",
   "metadata": {},
   "source": [
    "There are many situations in which we'll want to change permissions. Maybe we don't want to risk deleting or overwritting the contents of a file, so we protect it from ourselves by removing permissions adequately. Maybe we want another user to be able to access some of our files. Permissions can be changed by users with sufficient privileges (e.g. file owners). We can change the permissions of files with the chmod (change mode) command. Usage of this command typically looks like this:\n",
    "\n",
    "`chmod permissions files`\n",
    "\n",
    "The permissions argument can have many different looks. On this screen, we will explore the symbolic ones. In the symbolic notation, this argument can be divided into three components:\n",
    "\n",
    "Scope: owner/user (u), group (g), others (o), all (a – this references all scopes simultaneously)\n",
    "Operator: add (+), remove (-), set (=)\n",
    "Mode: read (r), write (w), execute (x)\n",
    "With this context, we can now rewrite the command above as:\n",
    "\n",
    "`chmod [ugoa][+-=][rwx] files`"
   ]
  },
  {
   "cell_type": "code",
   "execution_count": 9,
   "metadata": {},
   "outputs": [
    {
     "name": "stdout",
     "output_type": "stream",
     "text": [
      "total 16\n",
      "drwxr-xr-x 1 mohammeds mohammeds   236 Aug 18 15:54 .\n",
      "drwxr-xr-x 1 mohammeds mohammeds   252 Aug 18 15:31 ..\n",
      "-r-xr--r-- 1 mohammeds mohammeds     0 Aug 18 15:34 config_file_1\n",
      "-r-xr----- 1 mohammeds mohammeds     0 Aug 18 15:34 config_file_2\n",
      "-rw-rw-rw- 1 mohammeds mohammeds     0 Aug 18 15:34 disposable_file_1\n",
      "-rw-rw-r-- 1 mohammeds mohammeds     0 Aug 18 15:34 disposable_file_2\n",
      "-rw-r--r-- 1 mohammeds mohammeds     0 Aug 18 15:31 .gitkeep\n",
      "drwxr-xr-x 1 mohammeds mohammeds    76 Aug 18 15:32 .ipynb_checkpoints\n",
      "drwxr--r-- 1 mohammeds mohammeds     0 Aug 18 15:34 Trash\n",
      "-rw-r--r-- 1 mohammeds mohammeds 15891 Aug 18 15:54 Users and Permissions.ipynb\n",
      "total 16\n",
      "drwxr-xr-x 1 mohammeds mohammeds   236 Aug 18 15:54 .\n",
      "drwxr-xr-x 1 mohammeds mohammeds   252 Aug 18 15:31 ..\n",
      "-r-xr-xr-- 1 mohammeds mohammeds     0 Aug 18 15:34 config_file_1\n",
      "-r-xr-xr-- 1 mohammeds mohammeds     0 Aug 18 15:34 config_file_2\n",
      "-rwxrwxrw- 1 mohammeds mohammeds     0 Aug 18 15:34 disposable_file_1\n",
      "-rwxrwxrw- 1 mohammeds mohammeds     0 Aug 18 15:34 disposable_file_2\n",
      "-rw-r--r-- 1 mohammeds mohammeds     0 Aug 18 15:31 .gitkeep\n",
      "drwxr-xr-x 1 mohammeds mohammeds    76 Aug 18 15:32 .ipynb_checkpoints\n",
      "drwxrwxrw- 1 mohammeds mohammeds     0 Aug 18 15:34 Trash\n",
      "-rw-r--r-- 1 mohammeds mohammeds 15891 Aug 18 15:54 Users and Permissions.ipynb\n"
     ]
    }
   ],
   "source": [
    "%%bash\n",
    "\n",
    "ls -al\n",
    "\n",
    "chmod g+wx,o+w Trash\n",
    "\n",
    "chmod g+x,o=r config*\n",
    "\n",
    "chmod a=rwx,o-x d*\n",
    "\n",
    "ls -al"
   ]
  },
  {
   "cell_type": "markdown",
   "metadata": {},
   "source": [
    "# 6. The File Status Command"
   ]
  },
  {
   "cell_type": "code",
   "execution_count": 12,
   "metadata": {},
   "outputs": [
    {
     "name": "stdout",
     "output_type": "stream",
     "text": [
      "  File: Trash\n",
      "  Size: 0         \tBlocks: 0          IO Block: 4096   directory\n",
      "Device: 22h/34d\tInode: 21026004    Links: 1\n",
      "Access: (0776/drwxrwxrw-)  Uid: ( 1000/mohammeds)   Gid: ( 1000/mohammeds)\n",
      "Access: 2021-08-18 15:39:14.049337499 -0400\n",
      "Modify: 2021-08-18 15:34:57.000000000 -0400\n",
      "Change: 2021-08-18 16:05:53.398155663 -0400\n",
      " Birth: 2021-08-18 15:39:14.021337344 -0400\n"
     ]
    }
   ],
   "source": [
    "%%bash\n",
    "\n",
    "stat Trash"
   ]
  },
  {
   "cell_type": "markdown",
   "metadata": {},
   "source": [
    "answer 0776"
   ]
  },
  {
   "cell_type": "markdown",
   "metadata": {},
   "source": [
    "# 7. Changing Permissions: Octal Notation"
   ]
  },
  {
   "cell_type": "markdown",
   "metadata": {},
   "source": [
    "As we know, computers think in bits. The symbolic notation we learned is merely a human convenience. Also, for the sake of humans, there is a numeric notation that codifies into numbers the symbolic notation. Its main advantage is that it allows us to express the same things with less symbols, which makes it easier to type and parse.\n",
    "\n",
    "For each scope, each of the file access modes can either be enabled or disabled. Since there are three of them, a little combinatorics (a branch of mathematics concerned with counting) tells us that for each scope we have eight possibilities (2×2×2). We can list them: `---`, `--x`, `-w-`, `-wx`, `r--`, `r-x`, `rw-`, and `rwx`.\n",
    "\n",
    "Given that we have eight possibilities for each scope, if we number them from `0` to `7`, we are able to reduce from three characters to one. This is exactly what we do. Here's how we map from each of these possibilities to a number:\n",
    "\n",
    "* `---:0` (no permissions)\n",
    "* `--x:1` (execute only permission)\n",
    "* `-w-:2` (write only permissions)\n",
    "* `-wx:3` (write and execute permissions)\n",
    "* `r--:4` (read only permissions)\n",
    "* `r-x:5` (read and execute permissions)\n",
    "* `rw-:6` (read and write permissions)\n",
    "* `rwx:7` (read, write, and execute permissions)\n",
    "\n",
    "Hence the name octal notation. We don't need to memorize this map; here are a couple of ways that can help us find this encoding without memorizing everything:\n",
    "\n",
    "* If we consider that - comes before all alphabet letters (including r, w and x), then we see that the map described above is just the lexicographic order (think dictionaries) of the possible words in the permissions.\n",
    "* Alternatively, note that all permissions can be obtained from its building blocks -:0, x:1, w:2 and r:4. If we want permission to read and write, we just add the corresponding digits (4 and 2, respectively), giving rw-:6. If we want permission to write and execute, the result is -wx:3 (because 0+2+1=3).\n",
    "    * This only works for non-overlapping permissions, so in something like getting both permissions from rw- and -wx (which overlap in w), adding wouldn't work as it would give us 9 instead of 7.\n"
   ]
  },
  {
   "cell_type": "markdown",
   "metadata": {},
   "source": [
    "1. Convert between symbolic and octal notation. Make sure you pass three arguments (one for each conversion) to answer.\n",
    "    * Convert rw-----w- to octal notation.\n",
    "    * Convert --xrwx--x to octal notation.\n",
    "    * Convert 045 to symbolic notation.\n",
    "2. Make it so that the Trash directory has only write permissions, and that it has them for all scopes."
   ]
  },
  {
   "cell_type": "markdown",
   "metadata": {},
   "source": [
    "answer 602 171 ---r--r-x"
   ]
  },
  {
   "cell_type": "code",
   "execution_count": 16,
   "metadata": {},
   "outputs": [],
   "source": [
    "%%bash\n",
    "\n",
    "chmod 222 Trash/"
   ]
  },
  {
   "cell_type": "markdown",
   "metadata": {},
   "source": [
    "# 8. The Superuser"
   ]
  },
  {
   "cell_type": "markdown",
   "metadata": {},
   "source": [
    "![](https://s3.amazonaws.com/dq-content/387/sudo.gif)"
   ]
  }
 ],
 "metadata": {
  "kernelspec": {
   "display_name": "Python 3",
   "language": "python",
   "name": "python3"
  },
  "language_info": {
   "codemirror_mode": {
    "name": "ipython",
    "version": 3
   },
   "file_extension": ".py",
   "mimetype": "text/x-python",
   "name": "python",
   "nbconvert_exporter": "python",
   "pygments_lexer": "ipython3",
   "version": "3.9.6"
  }
 },
 "nbformat": 4,
 "nbformat_minor": 4
}
