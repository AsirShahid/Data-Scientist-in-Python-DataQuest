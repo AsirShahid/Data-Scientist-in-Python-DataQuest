{
 "cells": [
  {
   "cell_type": "markdown",
   "metadata": {},
   "source": [
    "# 1. Wildcards and Globbing Patterns"
   ]
  },
  {
   "cell_type": "markdown",
   "metadata": {},
   "source": [
    "We have been using files and their names a lot. With what we've learned until now, the only way we have to copy, say, one hundred files in the command line, is to pass each of the files' names as arguments to cp.\n",
    "\n",
    "It seems like graphical user interfaces have a definite advantage in this regard, except they don't! In fact, the command line is usually much more powerful for this sort of task.\n",
    "\n",
    "The shell gives us a way to specify groups of files by creating patterns to match filenames. In this lesson we will be learning about this feature.\n",
    "\n",
    "The patterns we create to match filenames are called glob patterns. This works in a similar way to regular expressions, which you learned earlier, only the characters used and their roles are a bit different. Glob patterns are built from special characters called wildcards, and from regular characters."
   ]
  },
  {
   "cell_type": "markdown",
   "metadata": {},
   "source": [
    "# 2. The * Wildcard"
   ]
  },
  {
   "cell_type": "code",
   "execution_count": 3,
   "metadata": {},
   "outputs": [
    {
     "name": "stdout",
     "output_type": "stream",
     "text": [
      "veruca\n",
      "violet\n"
     ]
    }
   ],
   "source": [
    "%%bash\n",
    "\n",
    "cd brats\n",
    "ls v*"
   ]
  },
  {
   "cell_type": "markdown",
   "metadata": {},
   "source": [
    "# 3. The ? Wildcard"
   ]
  },
  {
   "cell_type": "code",
   "execution_count": 4,
   "metadata": {},
   "outputs": [
    {
     "name": "stdout",
     "output_type": "stream",
     "text": [
      "mike\n"
     ]
    }
   ],
   "source": [
    "%%bash\n",
    "\n",
    "cd brats/\n",
    "\n",
    "ls ????"
   ]
  },
  {
   "cell_type": "markdown",
   "metadata": {},
   "source": [
    "# 4. Escaping Characters"
   ]
  },
  {
   "cell_type": "code",
   "execution_count": 6,
   "metadata": {},
   "outputs": [
    {
     "name": "stdout",
     "output_type": "stream",
     "text": [
      "a*\n",
      "t?\n"
     ]
    }
   ],
   "source": [
    "%%bash\n",
    "\n",
    "cd brats\n",
    "\n",
    "cp augustus 'a*'\n",
    "cp tv 't?'\n",
    "\n",
    "ls 'a*' 't?'"
   ]
  },
  {
   "cell_type": "markdown",
   "metadata": {},
   "source": [
    "# 5. The Wildcard []"
   ]
  },
  {
   "cell_type": "code",
   "execution_count": 8,
   "metadata": {},
   "outputs": [
    {
     "name": "stdout",
     "output_type": "stream",
     "text": [
      "a*\n",
      "augustus\n",
      "t?\n",
      "tv\n",
      "violet\n",
      "\n",
      "prize_winners:\n",
      "Mike\n"
     ]
    }
   ],
   "source": [
    "%%bash\n",
    "\n",
    "cd brats\n",
    "\n",
    "ls *[!aAeEiIoOuU]"
   ]
  },
  {
   "cell_type": "markdown",
   "metadata": {},
   "source": [
    "# 6. Other Wildcards"
   ]
  },
  {
   "cell_type": "markdown",
   "metadata": {},
   "source": [
    "You may remember that, when using regular expressions, we can refer to sets of characters instead of listing them explicitly. The same functionality exists in the shell's glob patterns. We can use characters ranges like [a-z], [A-Z], [0-9], and [a-Z].\n",
    "\n",
    "We can also use character classes like [:alpha:] (the usual letters), [:digit:] (the numbers 0 through 9), [:lower:] (lowercase letters), [:upper:] (uppercase letters), and [:alnum:] (letters and numbers). You can read more about character classes here.\n",
    "\n",
    "Character ranges and character classes are not square bracket wildcards. They are wildcards just like ? or *, although they must be used inside square brackets, otherwise they will be interpreted literally. A couple of usage examples are:\n",
    "\n",
    "* To list all files (and the content of directories) in the working directory with names that end in ., directly followed by three lowercase letters, we can run ls *.[[:lower:]][[:lower:]][[:lower:]].\n",
    "* To list all files (and the content of directories) in the working directory with names that do not start with an uppercase letter and end with a number, we can run ls [![:upper:]]*[[:digit:]].\n"
   ]
  },
  {
   "cell_type": "code",
   "execution_count": 11,
   "metadata": {},
   "outputs": [
    {
     "name": "stdout",
     "output_type": "stream",
     "text": [
      "augustus\n",
      "mike\n",
      "tv\n",
      "veruca\n",
      "violet\n",
      "\n",
      "prize_winners:\n",
      "Mike\n"
     ]
    }
   ],
   "source": [
    "%%bash\n",
    "\n",
    "cd brats\n",
    "\n",
    "ls *[[:alnum:]]"
   ]
  },
  {
   "cell_type": "markdown",
   "metadata": {},
   "source": [
    "# 7. Summary and Practice"
   ]
  },
  {
   "cell_type": "code",
   "execution_count": null,
   "metadata": {},
   "outputs": [],
   "source": []
  }
 ],
 "metadata": {
  "kernelspec": {
   "display_name": "Python 3",
   "language": "python",
   "name": "python3"
  },
  "language_info": {
   "codemirror_mode": {
    "name": "ipython",
    "version": 3
   },
   "file_extension": ".py",
   "mimetype": "text/x-python",
   "name": "python",
   "nbconvert_exporter": "python",
   "pygments_lexer": "ipython3",
   "version": "3.9.6"
  }
 },
 "nbformat": 4,
 "nbformat_minor": 4
}
