{
 "cells": [
  {
   "cell_type": "markdown",
   "metadata": {},
   "source": [
    "# 1. Introduction"
   ]
  },
  {
   "cell_type": "code",
   "execution_count": 1,
   "metadata": {},
   "outputs": [],
   "source": [
    "from csv import reader\n",
    "\n",
    "opened_file=open(\"potus_visitors_2015.csv\")\n",
    "read_file=reader(opened_file)\n",
    "potus=list(read_file)\n",
    "\n",
    "potus_header=potus[0]\n",
    "potus=potus[1:]\n"
   ]
  },
  {
   "cell_type": "markdown",
   "metadata": {},
   "source": [
    "# 2. Importing Modules"
   ]
  },
  {
   "cell_type": "markdown",
   "metadata": {},
   "source": [
    "# 3. The Datetime Module"
   ]
  },
  {
   "cell_type": "code",
   "execution_count": 2,
   "metadata": {},
   "outputs": [],
   "source": [
    "import datetime as dt"
   ]
  },
  {
   "cell_type": "markdown",
   "metadata": {},
   "source": [
    "# 4. The Datetime Class"
   ]
  },
  {
   "cell_type": "code",
   "execution_count": 3,
   "metadata": {},
   "outputs": [],
   "source": [
    "import datetime as dt\n",
    "\n",
    "ibm_founded=dt.datetime(1911,6,16)\n",
    "man_on_moon=dt.datetime(1969,7,20,20,17)"
   ]
  },
  {
   "cell_type": "markdown",
   "metadata": {},
   "source": [
    "# 5. Using Strptime to Parse Strings as Dates"
   ]
  },
  {
   "cell_type": "markdown",
   "metadata": {},
   "source": [
    "Strftime Code \tMeaning \tExamples\n",
    "\n",
    "%d \tDay of the month as a zero-padded number1 \t04\n",
    "\n",
    "%A \tDay of the week as a word2 \tMonday\n",
    "\n",
    "%m \tMonth as a zero-padded number1 \t09\n",
    "\n",
    "%Y \tYear as a four-digit number \t1901\n",
    "\n",
    "%y \tYear as a two-digit number with zero-padding1, 3 \t01 (2001) 88 (1988)\n",
    "\n",
    "%B \tMonth as a word2 \tSeptember\n",
    "\n",
    "%H \tHour in 24 hour time as zero-padded number1 \t05 (5 a.m.)\n",
    "15 (3 p.m.)\n",
    "\n",
    "%p \ta.m. or p.m.2 \tAM\n",
    "\n",
    "%I \tHour in 12 hour time as zero-padded number1 \t05 (5 a.m., or 5 p.m. if AM/PM indicates otherwise)\n",
    "\n",
    "%M \tMinute as a zero-padded number1 \t07"
   ]
  },
  {
   "cell_type": "code",
   "execution_count": 4,
   "metadata": {},
   "outputs": [],
   "source": [
    "# The `potus` list of lists is available from\n",
    "# the earlier screen where we created it\n",
    "\n",
    "date_format=\"%m/%d/%y %H:%M\"\n",
    "\n",
    "\n",
    "for visitor in potus:\n",
    "    start_date=visitor[2]\n",
    "    start_date=dt.datetime.strptime(start_date,date_format)\n",
    "    visitor[2]=start_date"
   ]
  },
  {
   "cell_type": "markdown",
   "metadata": {},
   "source": [
    "# 6. Using Strftime to format dates"
   ]
  },
  {
   "cell_type": "code",
   "execution_count": 5,
   "metadata": {},
   "outputs": [],
   "source": [
    "visitors_per_month={}\n",
    "\n",
    "for visitor in potus:\n",
    "    start_date=visitor[2]\n",
    "    start_str=start_date.strftime(\"%B, %Y\")\n",
    "    if start_str in visitors_per_month:\n",
    "        visitors_per_month[start_str]+=1\n",
    "    else:\n",
    "        visitors_per_month[start_str]=1\n",
    "    "
   ]
  },
  {
   "cell_type": "markdown",
   "metadata": {},
   "source": [
    "# 7. The Time Class"
   ]
  },
  {
   "cell_type": "code",
   "execution_count": 6,
   "metadata": {},
   "outputs": [],
   "source": [
    "appt_times=[]\n",
    "\n",
    "for visitor in potus:\n",
    "    start_time=visitor[2]\n",
    "    appt_times.append(start_time.time())"
   ]
  },
  {
   "cell_type": "markdown",
   "metadata": {},
   "source": [
    "# 8. Comparing time objects"
   ]
  },
  {
   "cell_type": "code",
   "execution_count": 7,
   "metadata": {},
   "outputs": [],
   "source": [
    "min_time=min(appt_times)\n",
    "max_time=max(appt_times)"
   ]
  },
  {
   "cell_type": "markdown",
   "metadata": {},
   "source": [
    "# 9. Calculations with Dates and Times"
   ]
  },
  {
   "cell_type": "code",
   "execution_count": 8,
   "metadata": {},
   "outputs": [],
   "source": [
    "dt_1 = dt.datetime(1981, 1, 31)\n",
    "dt_2 = dt.datetime(1984, 6, 28)\n",
    "dt_3 = dt.datetime(2016, 5, 24)\n",
    "dt_4 = dt.datetime(2001, 1, 1, 8, 24, 13)\n",
    "\n",
    "answer_1=dt_2-dt_1\n",
    "answer_2=dt_3+dt.timedelta(days=56)\n",
    "answer_3=dt_4-dt.timedelta(seconds=3600)"
   ]
  },
  {
   "cell_type": "markdown",
   "metadata": {},
   "source": [
    "# 10. Summarizing Appointment Lengths"
   ]
  },
  {
   "cell_type": "code",
   "execution_count": 9,
   "metadata": {},
   "outputs": [
    {
     "name": "stdout",
     "output_type": "stream",
     "text": [
      "2:29:00\n",
      "16 days, 12:59:00\n"
     ]
    }
   ],
   "source": [
    "for row in potus:\n",
    "    end_date = row[3]\n",
    "    end_date = dt.datetime.strptime(end_date, \"%m/%d/%y %H:%M\")\n",
    "    row[3] = end_date\n",
    "    \n",
    "appt_lengths={}\n",
    "\n",
    "for row in potus:\n",
    "    start_date=row[2]\n",
    "    end_date=row[3]\n",
    "    length=end_date-start_date\n",
    "    if length in appt_lengths:\n",
    "        appt_lengths[length]+=1\n",
    "    else:\n",
    "        appt_lengths[length]=1\n",
    "min_length=min(appt_lengths)\n",
    "print(min_length)\n",
    "max_length=max(appt_lengths)\n",
    "print(max_length)"
   ]
  },
  {
   "cell_type": "code",
   "execution_count": 10,
   "metadata": {},
   "outputs": [
    {
     "name": "stdout",
     "output_type": "stream",
     "text": [
      "2:29:00\n",
      "16 days, 12:59:00\n"
     ]
    }
   ],
   "source": [
    "min_length=min(appt_lengths)\n",
    "print(min_length)\n",
    "max_length=max(appt_lengths)\n",
    "print(max_length)"
   ]
  },
  {
   "cell_type": "code",
   "execution_count": null,
   "metadata": {},
   "outputs": [],
   "source": []
  }
 ],
 "metadata": {
  "kernelspec": {
   "display_name": "Python 3",
   "language": "python",
   "name": "python3"
  },
  "language_info": {
   "codemirror_mode": {
    "name": "ipython",
    "version": 3
   },
   "file_extension": ".py",
   "mimetype": "text/x-python",
   "name": "python",
   "nbconvert_exporter": "python",
   "pygments_lexer": "ipython3",
   "version": "3.9.4"
  }
 },
 "nbformat": 4,
 "nbformat_minor": 4
}
