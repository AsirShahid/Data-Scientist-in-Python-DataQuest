{
 "cells": [
  {
   "cell_type": "markdown",
   "metadata": {},
   "source": [
    "# 1. Introducing Data Cleaning"
   ]
  },
  {
   "cell_type": "code",
   "execution_count": 4,
   "metadata": {},
   "outputs": [],
   "source": [
    "from csv import reader\n",
    "\n",
    "opened_file=open(\"artworks.csv\")\n",
    "\n",
    "read_file=reader(opened_file)\n",
    "moma_total=list(read_file)\n",
    "moma_header=moma_total[0]\n",
    "moma=moma_total[1:]\n",
    "\n",
    "\n",
    "num_rows=len(moma)"
   ]
  },
  {
   "cell_type": "markdown",
   "metadata": {},
   "source": [
    "# 2. Reading our MoMA Data Set"
   ]
  },
  {
   "cell_type": "code",
   "execution_count": 14,
   "metadata": {},
   "outputs": [],
   "source": [
    "opened_file=open(\"artworks.csv\")\n",
    "read_file=reader(opened_file)\n",
    "moma=list(read_file)\n",
    "moma=moma[1:]"
   ]
  },
  {
   "cell_type": "markdown",
   "metadata": {},
   "source": [
    "# 3. Replacing Substrings with the replace Method"
   ]
  },
  {
   "cell_type": "code",
   "execution_count": 15,
   "metadata": {},
   "outputs": [],
   "source": [
    "age1 = \"I am thirty-one years old\"\n",
    "\n",
    "age2=age1.replace(\"thirty-one\",\"thirty-two\")"
   ]
  },
  {
   "cell_type": "markdown",
   "metadata": {},
   "source": [
    "# 4. Cleaning the Nationality and Gender Columns"
   ]
  },
  {
   "cell_type": "code",
   "execution_count": 17,
   "metadata": {},
   "outputs": [],
   "source": [
    "for row in moma:\n",
    "    nat=row[2]\n",
    "    nat=nat.replace(\"(\",\"\")\n",
    "    nat=nat.replace(\")\",\"\")\n",
    "    row[2]=nat\n",
    "    \n",
    "    gender=row[5]\n",
    "    gender=gender.replace(\"(\",\"\")\n",
    "    gender=gender.replace(\")\",\"\")\n",
    "    row[5]=gender"
   ]
  },
  {
   "cell_type": "markdown",
   "metadata": {},
   "source": [
    "# 5. String Capitalization"
   ]
  },
  {
   "cell_type": "code",
   "execution_count": 18,
   "metadata": {},
   "outputs": [],
   "source": [
    "for row in moma:\n",
    "    gender=row[5]\n",
    "    \n",
    "    gender = gender.title()\n",
    "    \n",
    "    if not gender:\n",
    "        gender = \"Gender Unknown/Other\"\n",
    "    row[5]=gender\n",
    "    \n",
    "    nat=row[2]\n",
    "    \n",
    "    nat = nat.title()\n",
    "    \n",
    "    if not nat:\n",
    "        nat = \"Nationality Unknown\"\n",
    "        \n",
    "    row[2]=nat"
   ]
  },
  {
   "cell_type": "markdown",
   "metadata": {},
   "source": [
    "# 6. Errors During Data Cleaning"
   ]
  },
  {
   "cell_type": "code",
   "execution_count": 19,
   "metadata": {},
   "outputs": [],
   "source": [
    "def clean_and_convert(date):\n",
    "    # check that we don't have an empty string\n",
    "    if date != \"\":\n",
    "        # move the rest of the function inside\n",
    "        # the if statement\n",
    "        date = date.replace(\"(\", \"\")\n",
    "        date = date.replace(\")\", \"\")\n",
    "        date = int(date)\n",
    "    return date\n",
    "\n",
    "for row in moma:\n",
    "    BeginDate=row[3]\n",
    "    EndDate=row[4]\n",
    "    \n",
    "    row[3]=clean_and_convert(BeginDate)\n",
    "    row[4]=clean_and_convert(EndDate)\n",
    "    "
   ]
  },
  {
   "cell_type": "markdown",
   "metadata": {},
   "source": [
    "# 7. Parsing Numbers from Complex Strings, Part One"
   ]
  },
  {
   "cell_type": "code",
   "execution_count": 25,
   "metadata": {},
   "outputs": [
    {
     "name": "stdout",
     "output_type": "stream",
     "text": [
      "['1912', '1929', '1913-1923', '1951', '1994', '1934', '1915', '1995', '1912', '1988', '2002', '1957-1959', '1955', '1970', '1990-1999']\n"
     ]
    }
   ],
   "source": [
    "test_data = [\"1912\", \"1929\", \"1913-1923\",\n",
    "             \"(1951)\", \"1994\", \"1934\",\n",
    "             \"c. 1915\", \"1995\", \"c. 1912\",\n",
    "             \"(1988)\", \"2002\", \"1957-1959\",\n",
    "             \"c. 1955.\", \"c. 1970's\", \n",
    "             \"C. 1990-1999\"]\n",
    "\n",
    "bad_chars = [\"(\",\")\",\"c\",\"C\",\".\",\"s\",\"'\", \" \"]\n",
    "\n",
    "def strip_characters(string):\n",
    "    for char in bad_chars:\n",
    "        string=string.replace(char,\"\")\n",
    "    return string\n",
    "\n",
    "stripped_test_data=[]\n",
    "\n",
    "for data in test_data:\n",
    "    data=strip_characters(data)\n",
    "    stripped_test_data.append(data)\n",
    "    "
   ]
  },
  {
   "cell_type": "markdown",
   "metadata": {},
   "source": [
    "# 8. Parsing Numbers from Complex Strings, Part Two"
   ]
  },
  {
   "cell_type": "code",
   "execution_count": 30,
   "metadata": {},
   "outputs": [],
   "source": [
    "test_data = [\"1912\", \"1929\", \"1913-1923\",\n",
    "             \"(1951)\", \"1994\", \"1934\",\n",
    "             \"c. 1915\", \"1995\", \"c. 1912\",\n",
    "             \"(1988)\", \"2002\", \"1957-1959\",\n",
    "             \"c. 1955.\", \"c. 1970's\", \n",
    "             \"C. 1990-1999\"]\n",
    "\n",
    "bad_chars = [\"(\",\")\",\"c\",\"C\",\".\",\"s\",\"'\", \" \"]\n",
    "\n",
    "def strip_characters(string):\n",
    "    for char in bad_chars:\n",
    "        string = string.replace(char,\"\")\n",
    "    return string\n",
    "\n",
    "stripped_test_data = ['1912', '1929', '1913-1923',\n",
    "                      '1951', '1994', '1934',\n",
    "                      '1915', '1995', '1912',\n",
    "                      '1988', '2002', '1957-1959',\n",
    "                      '1955', '1970', '1990-1999']\n",
    "\n",
    "\n",
    "def process_data(string):\n",
    "    if \"-\" in string:\n",
    "        split_string=string.split(\"-\")\n",
    "        int_one=int(split_string[0])\n",
    "        int_two=int(split_string[1])\n",
    "        \n",
    "        year = round((int_one+int_two)/2)\n",
    "    else:\n",
    "        year=int(string)\n",
    "    return year\n",
    "\n",
    "processed_test_data=[]\n",
    "\n",
    "for data in stripped_test_data:\n",
    "    processed_test_data.append(process_data(data))\n",
    "    \n",
    "    \n",
    "for row in moma:\n",
    "    date=row[6]\n",
    "    date=strip_characters(date)\n",
    "    date=process_data(date)\n",
    "    \n",
    "    row[6]=date"
   ]
  },
  {
   "cell_type": "code",
   "execution_count": null,
   "metadata": {},
   "outputs": [],
   "source": []
  }
 ],
 "metadata": {
  "kernelspec": {
   "display_name": "Python 3",
   "language": "python",
   "name": "python3"
  },
  "language_info": {
   "codemirror_mode": {
    "name": "ipython",
    "version": 3
   },
   "file_extension": ".py",
   "mimetype": "text/x-python",
   "name": "python",
   "nbconvert_exporter": "python",
   "pygments_lexer": "ipython3",
   "version": "3.9.4"
  }
 },
 "nbformat": 4,
 "nbformat_minor": 4
}
