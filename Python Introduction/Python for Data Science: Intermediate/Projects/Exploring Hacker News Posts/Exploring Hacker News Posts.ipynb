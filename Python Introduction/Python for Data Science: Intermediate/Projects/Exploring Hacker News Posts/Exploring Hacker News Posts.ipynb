{
 "cells": [
  {
   "cell_type": "markdown",
   "metadata": {},
   "source": [
    "# 1. Introduction"
   ]
  },
  {
   "cell_type": "markdown",
   "metadata": {},
   "source": [
    "We are interested in \"Ask HN\" and \"Show HN\" posts, meaning posts that begin with either of these two strings.\n",
    "\n",
    "We will compare these and see which type results in more comments. We'll also see if posts at a certain time get moer comments.\n",
    "\n"
   ]
  },
  {
   "cell_type": "code",
   "execution_count": 1,
   "metadata": {},
   "outputs": [
    {
     "name": "stdout",
     "output_type": "stream",
     "text": [
      "[['id', 'title', 'url', 'num_points', 'num_comments', 'author', 'created_at'], ['12224879', 'Interactive Dynamic Video', 'http://www.interactivedynamicvideo.com/', '386', '52', 'ne0phyte', '8/4/2016 11:52'], ['10975351', 'How to Use Open Source and Shut the Fuck Up at the Same Time', 'http://hueniverse.com/2016/01/26/how-to-use-open-source-and-shut-the-fuck-up-at-the-same-time/', '39', '10', 'josep2', '1/26/2016 19:30'], ['11964716', \"Florida DJs May Face Felony for April Fools' Water Joke\", 'http://www.thewire.com/entertainment/2013/04/florida-djs-april-fools-water-joke/63798/', '2', '1', 'vezycash', '6/23/2016 22:20'], ['11919867', 'Technology ventures: From Idea to Enterprise', 'https://www.amazon.com/Technology-Ventures-Enterprise-Thomas-Byers/dp/0073523429', '3', '1', 'hswarna', '6/17/2016 0:01']]\n"
     ]
    }
   ],
   "source": [
    "from csv import reader\n",
    "\n",
    "opened_file=open(\"hacker_news.csv\")\n",
    "read_file=reader(opened_file)\n",
    "hn=list(read_file)\n",
    "\n",
    "print(hn[:5])"
   ]
  },
  {
   "cell_type": "markdown",
   "metadata": {},
   "source": [
    "# 2. Removing Headers from a List of Lists"
   ]
  },
  {
   "cell_type": "code",
   "execution_count": 2,
   "metadata": {},
   "outputs": [
    {
     "name": "stdout",
     "output_type": "stream",
     "text": [
      "[['12224879', 'Interactive Dynamic Video', 'http://www.interactivedynamicvideo.com/', '386', '52', 'ne0phyte', '8/4/2016 11:52'], ['10975351', 'How to Use Open Source and Shut the Fuck Up at the Same Time', 'http://hueniverse.com/2016/01/26/how-to-use-open-source-and-shut-the-fuck-up-at-the-same-time/', '39', '10', 'josep2', '1/26/2016 19:30'], ['11964716', \"Florida DJs May Face Felony for April Fools' Water Joke\", 'http://www.thewire.com/entertainment/2013/04/florida-djs-april-fools-water-joke/63798/', '2', '1', 'vezycash', '6/23/2016 22:20'], ['11919867', 'Technology ventures: From Idea to Enterprise', 'https://www.amazon.com/Technology-Ventures-Enterprise-Thomas-Byers/dp/0073523429', '3', '1', 'hswarna', '6/17/2016 0:01'], ['10301696', 'Note by Note: The Making of Steinway L1037 (2007)', 'http://www.nytimes.com/2007/11/07/movies/07stein.html?_r=0', '8', '2', 'walterbell', '9/30/2015 4:12']]\n"
     ]
    }
   ],
   "source": [
    "headers=hn[0]\n",
    "hn=hn[1:]\n",
    "print(hn[:5])"
   ]
  },
  {
   "cell_type": "markdown",
   "metadata": {},
   "source": [
    "# 3. Extracting Ask HN and Show HN Posts"
   ]
  },
  {
   "cell_type": "code",
   "execution_count": 3,
   "metadata": {},
   "outputs": [
    {
     "name": "stdout",
     "output_type": "stream",
     "text": [
      "1744\n",
      "1162\n",
      "17194\n"
     ]
    }
   ],
   "source": [
    "ask_posts=[]\n",
    "show_posts=[]\n",
    "other_posts=[]\n",
    "\n",
    "for post in hn:\n",
    "    title=post[1]\n",
    "    if title.lower().startswith(\"ask hn\"):\n",
    "        ask_posts.append(post)\n",
    "    elif title.lower().startswith(\"show hn\"):\n",
    "        show_posts.append(post)\n",
    "    else:\n",
    "        other_posts.append(post)\n",
    "print(len(ask_posts))\n",
    "print(len(show_posts))\n",
    "print(len(other_posts))"
   ]
  },
  {
   "cell_type": "markdown",
   "metadata": {},
   "source": [
    "# 4. Calculating the Average Number of Comments for Ask HN and Show HN Posts"
   ]
  },
  {
   "cell_type": "code",
   "execution_count": 4,
   "metadata": {},
   "outputs": [
    {
     "name": "stdout",
     "output_type": "stream",
     "text": [
      "14.038417431192661\n",
      "10.31669535283993\n",
      "26.8730371059672\n"
     ]
    },
    {
     "data": {
      "text/plain": [
       "26.8730371059672"
      ]
     },
     "execution_count": 4,
     "metadata": {},
     "output_type": "execute_result"
    }
   ],
   "source": [
    "def avg_comments(post_type):\n",
    "    total_comments=0\n",
    "    for post in post_type:\n",
    "        num_comments=post[4]\n",
    "        num_comments=int(num_comments)\n",
    "        total_comments+=num_comments\n",
    "    num_posts=len(post_type)\n",
    "    avg_comments=total_comments/num_posts\n",
    "    print(avg_comments)\n",
    "    return avg_comments\n",
    "\n",
    "avg_comments(ask_posts)\n",
    "avg_comments(show_posts)\n",
    "avg_comments(other_posts)"
   ]
  },
  {
   "cell_type": "markdown",
   "metadata": {},
   "source": [
    "## Average Comments\n",
    "\n",
    "We can see that Ask HN posts tend to have ~14 comments per post, significantly more than the ~10 comments per post for Show HN."
   ]
  },
  {
   "cell_type": "markdown",
   "metadata": {},
   "source": [
    "# 5. Finding the Amount of Ask Posts and Comments by Hour Created"
   ]
  },
  {
   "cell_type": "code",
   "execution_count": 7,
   "metadata": {},
   "outputs": [
    {
     "name": "stdout",
     "output_type": "stream",
     "text": [
      "{9: 45, 13: 85, 10: 59, 14: 107, 16: 108, 23: 68, 12: 73, 17: 100, 15: 116, 21: 109, 20: 80, 2: 58, 18: 109, 3: 54, 5: 46, 19: 110, 1: 60, 22: 71, 8: 48, 4: 47, 0: 55, 6: 44, 7: 34, 11: 58}\n",
      "{9: 251, 13: 1253, 10: 793, 14: 1416, 16: 1814, 23: 543, 12: 687, 17: 1146, 15: 4477, 21: 1745, 20: 1722, 2: 1381, 18: 1439, 3: 421, 5: 464, 19: 1188, 1: 683, 22: 479, 8: 492, 4: 337, 0: 447, 6: 397, 7: 267, 11: 641}\n",
      "{14: 86, 22: 46, 18: 61, 7: 26, 20: 60, 5: 19, 16: 93, 19: 55, 15: 78, 3: 27, 17: 93, 6: 16, 2: 30, 13: 99, 8: 34, 21: 47, 4: 26, 11: 44, 12: 61, 23: 36, 9: 30, 1: 28, 10: 36, 0: 31}\n",
      "{14: 1156, 22: 570, 18: 962, 7: 299, 20: 612, 5: 58, 16: 1084, 19: 539, 15: 632, 3: 287, 17: 911, 6: 142, 2: 127, 13: 946, 8: 165, 21: 272, 4: 247, 11: 491, 12: 720, 23: 447, 9: 291, 1: 246, 10: 297, 0: 487}\n"
     ]
    },
    {
     "data": {
      "text/plain": [
       "{14: 86,\n",
       " 22: 46,\n",
       " 18: 61,\n",
       " 7: 26,\n",
       " 20: 60,\n",
       " 5: 19,\n",
       " 16: 93,\n",
       " 19: 55,\n",
       " 15: 78,\n",
       " 3: 27,\n",
       " 17: 93,\n",
       " 6: 16,\n",
       " 2: 30,\n",
       " 13: 99,\n",
       " 8: 34,\n",
       " 21: 47,\n",
       " 4: 26,\n",
       " 11: 44,\n",
       " 12: 61,\n",
       " 23: 36,\n",
       " 9: 30,\n",
       " 1: 28,\n",
       " 10: 36,\n",
       " 0: 31}"
      ]
     },
     "execution_count": 7,
     "metadata": {},
     "output_type": "execute_result"
    }
   ],
   "source": [
    "import datetime as dt\n",
    "\n",
    "def post_time(post_type):\n",
    "    result_list=[]\n",
    "    for post in post_type:\n",
    "        created_at=post[6]\n",
    "        num_comments=int(post[4])\n",
    "        time_comments_list=[]\n",
    "        time_comments_list.append(created_at)\n",
    "        time_comments_list.append(num_comments)\n",
    "        result_list.append(time_comments_list)\n",
    "    counts_by_hour={}\n",
    "    comments_by_hour={}\n",
    "    for result in result_list:\n",
    "        created_hour=dt.datetime.strptime(result[0],\"%m/%d/%Y %H:%M\")\n",
    "        hour=created_hour.hour\n",
    "        if hour in counts_by_hour:\n",
    "            counts_by_hour[hour]+=1\n",
    "            comments_by_hour[hour]+=result[1]\n",
    "        else:\n",
    "            counts_by_hour[hour]=1\n",
    "            comments_by_hour[hour]=result[1]\n",
    "    print(counts_by_hour)\n",
    "    print(comments_by_hour)\n",
    "    return counts_by_hour\n",
    "post_time(ask_posts)\n",
    "post_time(show_posts)"
   ]
  },
  {
   "cell_type": "markdown",
   "metadata": {},
   "source": [
    "# 6. Calculating the Average Number of Comments for Ask HN Posts by Hour# "
   ]
  },
  {
   "cell_type": "code",
   "execution_count": 11,
   "metadata": {},
   "outputs": [
    {
     "data": {
      "text/plain": [
       "[[9, 5.5777777777777775],\n",
       " [13, 14.741176470588234],\n",
       " [10, 13.440677966101696],\n",
       " [14, 13.233644859813085],\n",
       " [16, 16.796296296296298],\n",
       " [23, 7.985294117647059],\n",
       " [12, 9.41095890410959],\n",
       " [17, 11.46],\n",
       " [15, 38.5948275862069],\n",
       " [21, 16.009174311926607],\n",
       " [20, 21.525],\n",
       " [2, 23.810344827586206],\n",
       " [18, 13.20183486238532],\n",
       " [3, 7.796296296296297],\n",
       " [5, 10.08695652173913],\n",
       " [19, 10.8],\n",
       " [1, 11.383333333333333],\n",
       " [22, 6.746478873239437],\n",
       " [8, 10.25],\n",
       " [4, 7.170212765957447],\n",
       " [0, 8.127272727272727],\n",
       " [6, 9.022727272727273],\n",
       " [7, 7.852941176470588],\n",
       " [11, 11.051724137931034]]"
      ]
     },
     "execution_count": 11,
     "metadata": {},
     "output_type": "execute_result"
    }
   ],
   "source": [
    "def comments_per_post_by_hour(post_type):\n",
    "    avg_by_hour=[]\n",
    "    result_list=[]\n",
    "    for post in post_type:\n",
    "        created_at=post[6]\n",
    "        num_comments=int(post[4])\n",
    "        time_comments_list=[]\n",
    "        time_comments_list.append(created_at)\n",
    "        time_comments_list.append(num_comments)\n",
    "        result_list.append(time_comments_list)\n",
    "    counts_by_hour={}\n",
    "    comments_by_hour={}\n",
    "    for result in result_list:\n",
    "        created_hour=dt.datetime.strptime(result[0],\"%m/%d/%Y %H:%M\")\n",
    "        hour=created_hour.hour\n",
    "        if hour in counts_by_hour:\n",
    "            counts_by_hour[hour]+=1\n",
    "            comments_by_hour[hour]+=result[1]\n",
    "        else:\n",
    "            counts_by_hour[hour]=1\n",
    "            comments_by_hour[hour]=result[1]\n",
    "\n",
    "    for hour in counts_by_hour:\n",
    "        hour_avg_list=[]\n",
    "        hour_avg_list.append(hour)\n",
    "        avg_comments=comments_by_hour[hour]/counts_by_hour[hour]\n",
    "        hour_avg_list.append(avg_comments)\n",
    "        avg_by_hour.append(hour_avg_list)\n",
    "    return avg_by_hour\n",
    "    print(avg_by_hour)\n",
    "comments_per_post_by_hour(ask_posts)\n"
   ]
  },
  {
   "cell_type": "code",
   "execution_count": 12,
   "metadata": {},
   "outputs": [
    {
     "data": {
      "text/plain": [
       "[[14, 13.44186046511628],\n",
       " [22, 12.391304347826088],\n",
       " [18, 15.770491803278688],\n",
       " [7, 11.5],\n",
       " [20, 10.2],\n",
       " [5, 3.0526315789473686],\n",
       " [16, 11.655913978494624],\n",
       " [19, 9.8],\n",
       " [15, 8.102564102564102],\n",
       " [3, 10.62962962962963],\n",
       " [17, 9.795698924731182],\n",
       " [6, 8.875],\n",
       " [2, 4.233333333333333],\n",
       " [13, 9.555555555555555],\n",
       " [8, 4.852941176470588],\n",
       " [21, 5.787234042553192],\n",
       " [4, 9.5],\n",
       " [11, 11.159090909090908],\n",
       " [12, 11.80327868852459],\n",
       " [23, 12.416666666666666],\n",
       " [9, 9.7],\n",
       " [1, 8.785714285714286],\n",
       " [10, 8.25],\n",
       " [0, 15.709677419354838]]"
      ]
     },
     "execution_count": 12,
     "metadata": {},
     "output_type": "execute_result"
    }
   ],
   "source": [
    "comments_per_post_by_hour(show_posts)"
   ]
  },
  {
   "cell_type": "markdown",
   "metadata": {},
   "source": [
    "# 7. Sorting and Printing Values from a List of Lists"
   ]
  },
  {
   "cell_type": "code",
   "execution_count": 16,
   "metadata": {},
   "outputs": [],
   "source": [
    "def swap_avg_by_hour(post_type):\n",
    "    avg_by_hour=[]\n",
    "    result_list=[]\n",
    "    for post in post_type:\n",
    "        created_at=post[6]\n",
    "        num_comments=int(post[4])\n",
    "        time_comments_list=[]\n",
    "        time_comments_list.append(created_at)\n",
    "        time_comments_list.append(num_comments)\n",
    "        result_list.append(time_comments_list)\n",
    "    counts_by_hour={}\n",
    "    comments_by_hour={}\n",
    "    for result in result_list:\n",
    "        created_hour=dt.datetime.strptime(result[0],\"%m/%d/%Y %H:%M\")\n",
    "        hour=created_hour.hour\n",
    "        if hour in counts_by_hour:\n",
    "            counts_by_hour[hour]+=1\n",
    "            comments_by_hour[hour]+=result[1]\n",
    "        else:\n",
    "            counts_by_hour[hour]=1\n",
    "            comments_by_hour[hour]=result[1]\n",
    "\n",
    "    for hour in counts_by_hour:\n",
    "        hour_avg_list=[]\n",
    "        hour_avg_list.append(hour)\n",
    "        avg_comments=comments_by_hour[hour]/counts_by_hour[hour]\n",
    "        hour_avg_list.append(avg_comments)\n",
    "        avg_by_hour.append(hour_avg_list)\n",
    "    swapped_avg=[]\n",
    "    for hour in avg_by_hour:\n",
    "        first=[]\n",
    "        first.append(hour[1])\n",
    "        first.append(hour[0])\n",
    "        swapped_avg.append(first)\n",
    "    print(swapped_avg)\n",
    "    sorted_swap=sorted(swapped_avg,reverse=True)\n",
    "    print(\"Top 5 Hours for Ask Posts comments\")\n",
    "    \n",
    "    for row in sorted_swap[:5]:\n",
    "        the_hour=str(row[1])\n",
    "        datetime_hour=dt.datetime.strptime(the_hour,\"%H\")\n",
    "        formatted_hour=datetime_hour.strftime(\"%H:%M\")\n",
    "        print(formatted_hour)\n",
    "        print(\"{}: {:.2f} average comments per post\".format(formatted_hour,row[0]))"
   ]
  },
  {
   "cell_type": "code",
   "execution_count": 18,
   "metadata": {},
   "outputs": [
    {
     "name": "stdout",
     "output_type": "stream",
     "text": [
      "[[5.5777777777777775, 9], [14.741176470588234, 13], [13.440677966101696, 10], [13.233644859813085, 14], [16.796296296296298, 16], [7.985294117647059, 23], [9.41095890410959, 12], [11.46, 17], [38.5948275862069, 15], [16.009174311926607, 21], [21.525, 20], [23.810344827586206, 2], [13.20183486238532, 18], [7.796296296296297, 3], [10.08695652173913, 5], [10.8, 19], [11.383333333333333, 1], [6.746478873239437, 22], [10.25, 8], [7.170212765957447, 4], [8.127272727272727, 0], [9.022727272727273, 6], [7.852941176470588, 7], [11.051724137931034, 11]]\n",
      "Top 5 Hours for Ask Posts comments\n",
      "15:00\n",
      "15:00: 38.59 average comments per post\n",
      "02:00\n",
      "02:00: 23.81 average comments per post\n",
      "20:00\n",
      "20:00: 21.52 average comments per post\n",
      "16:00\n",
      "16:00: 16.80 average comments per post\n",
      "21:00\n",
      "21:00: 16.01 average comments per post\n"
     ]
    }
   ],
   "source": [
    "swap_avg_by_hour(ask_posts)"
   ]
  },
  {
   "cell_type": "code",
   "execution_count": 19,
   "metadata": {},
   "outputs": [
    {
     "name": "stdout",
     "output_type": "stream",
     "text": [
      "[[13.44186046511628, 14], [12.391304347826088, 22], [15.770491803278688, 18], [11.5, 7], [10.2, 20], [3.0526315789473686, 5], [11.655913978494624, 16], [9.8, 19], [8.102564102564102, 15], [10.62962962962963, 3], [9.795698924731182, 17], [8.875, 6], [4.233333333333333, 2], [9.555555555555555, 13], [4.852941176470588, 8], [5.787234042553192, 21], [9.5, 4], [11.159090909090908, 11], [11.80327868852459, 12], [12.416666666666666, 23], [9.7, 9], [8.785714285714286, 1], [8.25, 10], [15.709677419354838, 0]]\n",
      "Top 5 Hours for Ask Posts comments\n",
      "18:00\n",
      "18:00: 15.77 average comments per post\n",
      "00:00\n",
      "00:00: 15.71 average comments per post\n",
      "14:00\n",
      "14:00: 13.44 average comments per post\n",
      "23:00\n",
      "23:00: 12.42 average comments per post\n",
      "22:00\n",
      "22:00: 12.39 average comments per post\n"
     ]
    }
   ],
   "source": [
    "swap_avg_by_hour(show_posts)"
   ]
  },
  {
   "cell_type": "markdown",
   "metadata": {},
   "source": [
    "# 8. Next Steps"
   ]
  },
  {
   "cell_type": "markdown",
   "metadata": {},
   "source": [
    "\n",
    "* Determine if show or ask posts receive more points on average.\n",
    "* Determine if posts created at a certain time are more likely to receive more points.\n",
    "* Compare your results to the average number of comments and points other posts receive.\n",
    "* Use Dataquest's data science project style guide to format your project.\n"
   ]
  }
 ],
 "metadata": {
  "kernelspec": {
   "display_name": "Python 3",
   "language": "python",
   "name": "python3"
  },
  "language_info": {
   "codemirror_mode": {
    "name": "ipython",
    "version": 3
   },
   "file_extension": ".py",
   "mimetype": "text/x-python",
   "name": "python",
   "nbconvert_exporter": "python",
   "pygments_lexer": "ipython3",
   "version": "3.9.4"
  }
 },
 "nbformat": 4,
 "nbformat_minor": 4
}
