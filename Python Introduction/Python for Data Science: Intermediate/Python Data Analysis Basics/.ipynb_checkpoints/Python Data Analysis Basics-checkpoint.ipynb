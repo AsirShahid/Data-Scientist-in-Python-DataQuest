{
 "cells": [
  {
   "cell_type": "markdown",
   "metadata": {},
   "source": [
    "# 1. Reading our MoMA Data Set"
   ]
  },
  {
   "cell_type": "code",
   "execution_count": 1,
   "metadata": {},
   "outputs": [],
   "source": [
    "from csv import reader\n",
    "\n",
    "# Read the `artworks_clean.csv` file\n",
    "opened_file = open('artworks_clean.csv')\n",
    "read_file = reader(opened_file)\n",
    "moma = list(read_file)\n",
    "moma = moma[1:]\n",
    "\n",
    "# Convert the birthdate values\n",
    "for row in moma:\n",
    "    birth_date = row[3]\n",
    "    if birth_date != \"\":\n",
    "        birth_date = int(birth_date)\n",
    "    row[3] = birth_date\n",
    "    \n",
    "# Convert the death date values\n",
    "for row in moma:\n",
    "    death_date = row[4]\n",
    "    if death_date != \"\":\n",
    "        death_date = int(death_date)\n",
    "    row[4] = death_date\n",
    "\n",
    "# Write your code below\n",
    "\n",
    "for row in moma:\n",
    "    date=row[6]\n",
    "    if date!=\"\":\n",
    "        date=int(date)\n",
    "    row[6]=date"
   ]
  },
  {
   "cell_type": "markdown",
   "metadata": {},
   "source": [
    "# 2. Calculating Artist Ages"
   ]
  },
  {
   "cell_type": "code",
   "execution_count": 4,
   "metadata": {},
   "outputs": [],
   "source": [
    "ages=[]\n",
    "for row in moma:\n",
    "    date=row[6]\n",
    "    birth=row[3]\n",
    "    \n",
    "    if type(birth) == int:\n",
    "        age=date-birth\n",
    "    else:\n",
    "        age=0\n",
    "    ages.append(age)\n",
    "    \n",
    "final_ages=[]\n",
    "\n",
    "for age in ages:\n",
    "    if age>20:\n",
    "        final_age=age\n",
    "    elif age<=20:\n",
    "        final_age=\"Unknown\"\n",
    "    final_ages.append(final_age)"
   ]
  },
  {
   "cell_type": "markdown",
   "metadata": {},
   "source": [
    "# 3. Converting Ages to Decades"
   ]
  },
  {
   "cell_type": "code",
   "execution_count": 9,
   "metadata": {},
   "outputs": [],
   "source": [
    "# The final_ages variable is available\n",
    "# from the previous screen\n",
    "\n",
    "decades=[]\n",
    "\n",
    "for age in final_ages:\n",
    "    if age == \"Unknown\":\n",
    "        decade=age\n",
    "    else:\n",
    "        decade=str(age)\n",
    "        decade=decade[:-1]\n",
    "        decade = decade + \"0s\"\n",
    "        \n",
    "    decades.append(decade)"
   ]
  },
  {
   "cell_type": "markdown",
   "metadata": {},
   "source": [
    "# 4. Summarizing the Decade Data"
   ]
  },
  {
   "cell_type": "code",
   "execution_count": 10,
   "metadata": {},
   "outputs": [],
   "source": [
    "# The decades variable is available\n",
    "# from the previous screen\n",
    "\n",
    "decade_frequency={}\n",
    "\n",
    "for decade in decades:\n",
    "    if decade not in decade_frequency:\n",
    "        decade_frequency[decade]=1\n",
    "    else:\n",
    "        decade_frequency[decade]+=1    "
   ]
  },
  {
   "cell_type": "markdown",
   "metadata": {},
   "source": [
    "# 5. Inserting Variables Into Strings"
   ]
  },
  {
   "cell_type": "code",
   "execution_count": 11,
   "metadata": {},
   "outputs": [
    {
     "name": "stdout",
     "output_type": "stream",
     "text": [
      "Pablo Picasso's birth year is 1881\n"
     ]
    }
   ],
   "source": [
    "artist = \"Pablo Picasso\"\n",
    "birth_year = 1881\n",
    "\n",
    "artist_birth_year=\"{}'s birth year is {}\".format(artist,birth_year)\n",
    "print(artist_birth_year)"
   ]
  },
  {
   "cell_type": "markdown",
   "metadata": {},
   "source": [
    "# 6. Creating an Artist Frequency Table"
   ]
  },
  {
   "cell_type": "code",
   "execution_count": 12,
   "metadata": {},
   "outputs": [],
   "source": [
    "artist_freq={}\n",
    "\n",
    "for row in moma:\n",
    "    artist=row[1]\n",
    "    \n",
    "    if artist in artist_freq:\n",
    "        artist_freq[artist]+=1\n",
    "    else:\n",
    "        artist_freq[artist]=1"
   ]
  },
  {
   "cell_type": "markdown",
   "metadata": {},
   "source": [
    "# 7. Creating an Artist Summary Function"
   ]
  },
  {
   "cell_type": "code",
   "execution_count": 17,
   "metadata": {},
   "outputs": [
    {
     "name": "stdout",
     "output_type": "stream",
     "text": [
      "There are 129 artworks by Henri Matisse in the data set\n"
     ]
    }
   ],
   "source": [
    "def artist_summary(name):\n",
    "    num_art=artist_freq[name]\n",
    "    num_artworks=\"There are {} artworks by {} in the data set\".format(num_art,name)\n",
    "    print(num_artworks)\n",
    "    \n",
    "artist_summary(\"Henri Matisse\")"
   ]
  },
  {
   "cell_type": "markdown",
   "metadata": {},
   "source": [
    "# 8. Formatting Numbers Inside Strings"
   ]
  },
  {
   "cell_type": "code",
   "execution_count": 18,
   "metadata": {},
   "outputs": [
    {
     "name": "stdout",
     "output_type": "stream",
     "text": [
      "The population of China is 1,379.30 million\n",
      "The population of India is 1,281.94 million\n",
      "The population of USA is 326.63 million\n",
      "The population of Indonesia is 260.58 million\n",
      "The population of Brazil is 207.35 million\n"
     ]
    }
   ],
   "source": [
    "pop_millions = [\n",
    "    [\"China\", 1379.302771],\n",
    "    [\"India\", 1281.935991],\n",
    "    [\"USA\",  326.625791],\n",
    "    [\"Indonesia\",  260.580739],\n",
    "    [\"Brazil\",  207.353391],\n",
    "]\n",
    "\n",
    "country_pop=\"The population of {} is {:,.2f} million\"\n",
    "\n",
    "for country in pop_millions:\n",
    "    name=country[0]\n",
    "    pop=country[1]\n",
    "    \n",
    "    country_population=country_pop.format(name,pop)\n",
    "    \n",
    "    print(country_population)"
   ]
  },
  {
   "cell_type": "markdown",
   "metadata": {},
   "source": [
    "# 9. Challenge: Summarizing Artwork Gender Data"
   ]
  },
  {
   "cell_type": "code",
   "execution_count": 23,
   "metadata": {},
   "outputs": [
    {
     "name": "stdout",
     "output_type": "stream",
     "text": [
      "There are 2,443 artworks by Female artists\n",
      "There are 13,491 artworks by Male artists\n",
      "There are 791 artworks by Gender Unknown/Other artists\n"
     ]
    }
   ],
   "source": [
    "gender_freq={}\n",
    "\n",
    "for row in moma:\n",
    "    gender=row[5]\n",
    "    \n",
    "    if gender in gender_freq:\n",
    "        gender_freq[gender]+=1\n",
    "    else:\n",
    "        gender_freq[gender]=1\n",
    "for gender,value in gender_freq.items():\n",
    "    gender_artworks=\"There are {:,} artworks by {} artists\".format(value,gender)\n",
    "    print(gender_artworks)"
   ]
  }
 ],
 "metadata": {
  "kernelspec": {
   "display_name": "Python 3",
   "language": "python",
   "name": "python3"
  },
  "language_info": {
   "codemirror_mode": {
    "name": "ipython",
    "version": 3
   },
   "file_extension": ".py",
   "mimetype": "text/x-python",
   "name": "python",
   "nbconvert_exporter": "python",
   "pygments_lexer": "ipython3",
   "version": "3.9.4"
  }
 },
 "nbformat": 4,
 "nbformat_minor": 4
}
