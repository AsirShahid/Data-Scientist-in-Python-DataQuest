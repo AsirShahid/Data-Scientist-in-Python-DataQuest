{
 "cells": [
  {
   "cell_type": "markdown",
   "metadata": {},
   "source": [
    "# 1. Introduction"
   ]
  },
  {
   "cell_type": "code",
   "execution_count": 1,
   "metadata": {},
   "outputs": [
    {
     "name": "stdout",
     "output_type": "stream",
     "text": [
      "<class 'list'>\n",
      "<class 'str'>\n",
      "<class 'dict'>\n"
     ]
    }
   ],
   "source": [
    "l = [1, 2, 3]\n",
    "s = \"string\"\n",
    "d = {\"a\": 1, \"b\": 2}\n",
    "\n",
    "print(type(l))\n",
    "print(type(s))\n",
    "print(type(d))"
   ]
  },
  {
   "cell_type": "markdown",
   "metadata": {},
   "source": [
    "# 2. Classes and Objects"
   ]
  },
  {
   "cell_type": "markdown",
   "metadata": {},
   "source": [
    "# 3. Defining a Class"
   ]
  },
  {
   "cell_type": "code",
   "execution_count": 3,
   "metadata": {},
   "outputs": [],
   "source": [
    "class MyClass:\n",
    "    pass"
   ]
  },
  {
   "attachments": {},
   "cell_type": "markdown",
   "metadata": {},
   "source": [
    "# 4. Instantiating a Class"
   ]
  },
  {
   "cell_type": "code",
   "execution_count": 7,
   "metadata": {},
   "outputs": [
    {
     "name": "stdout",
     "output_type": "stream",
     "text": [
      "<class '__main__.MyClass'>\n"
     ]
    }
   ],
   "source": [
    "class MyClass:\n",
    "    pass\n",
    "my_instance = MyClass()\n",
    "print(type(my_instance))"
   ]
  },
  {
   "cell_type": "markdown",
   "metadata": {},
   "source": [
    "# 5. Creating Methods"
   ]
  },
  {
   "cell_type": "code",
   "execution_count": 8,
   "metadata": {},
   "outputs": [],
   "source": [
    "class MyClass:\n",
    "    def first_method():\n",
    "        return \"This is my first method\"\n",
    "    \n",
    "my_instance=MyClass()"
   ]
  },
  {
   "cell_type": "markdown",
   "metadata": {},
   "source": [
    "# 6. Understanding 'self'"
   ]
  },
  {
   "cell_type": "code",
   "execution_count": 9,
   "metadata": {},
   "outputs": [],
   "source": [
    "class MyClass:\n",
    "    \n",
    "    def first_method(self):\n",
    "        return \"This is my first method\"\n",
    "    \n",
    "my_instance=MyClass()\n",
    "\n",
    "result=my_instance.first_method()"
   ]
  },
  {
   "cell_type": "markdown",
   "metadata": {},
   "source": [
    "# 7. Creating a Method That Accepts an Argument"
   ]
  },
  {
   "cell_type": "code",
   "execution_count": 10,
   "metadata": {},
   "outputs": [],
   "source": [
    "class MyClass:\n",
    "    \n",
    "    def first_method(self):\n",
    "        return \"This is my first method\"\n",
    "    \n",
    "    # Add method here\n",
    "    def return_list(self,input_list):\n",
    "        return input_list\n",
    "    \n",
    "my_instance=MyClass()\n",
    "\n",
    "result=my_instance.return_list([1,2,3])"
   ]
  },
  {
   "cell_type": "markdown",
   "metadata": {},
   "source": [
    "# 8. Attributes and the Init Method"
   ]
  },
  {
   "cell_type": "code",
   "execution_count": 13,
   "metadata": {},
   "outputs": [
    {
     "name": "stdout",
     "output_type": "stream",
     "text": [
      "Hola!\n",
      "[1, 2, 3, 4, 5]\n"
     ]
    }
   ],
   "source": [
    "# The init method — also called a constructor — is a special method that runs when\n",
    "# an instance is created so we can perform any tasks to set up the instance.\n",
    "\n",
    "class ExampleClass:\n",
    "\n",
    "    def __init__(self, string):\n",
    "        print(string)\n",
    "\n",
    "mc = ExampleClass(\"Hola!\")\n",
    "\n",
    "#1. We defined the __init__() method inside our class as accepting two arguments: self and string.\n",
    "#2. Inside the __init__() method, we called the print() function on the string argument.\n",
    "#3. When we instantiated mc — our ExampleClass object — we passed \"Hola!\" as an argument. \n",
    "#The init function ran immediately, displaying the text \"Hola!\"\n",
    "\n",
    "# The init method's most common usage is to store data as an attribute:\n",
    "class ExampleClass:\n",
    "\n",
    "    def __init__(self, string):\n",
    "        self.my_attribute = string\n",
    "\n",
    "mc = ExampleClass(\"Hola!\")\n",
    "\n",
    "\n",
    "\n",
    "class MyList:\n",
    "    def __init__(self,initial_data):\n",
    "        \n",
    "        self.data=initial_data\n",
    "\n",
    "my_list=MyList([1,2,3,4,5])\n",
    "print(my_list.data)"
   ]
  },
  {
   "cell_type": "markdown",
   "metadata": {},
   "source": [
    "# 9. Creating and Append Method"
   ]
  },
  {
   "cell_type": "code",
   "execution_count": 18,
   "metadata": {},
   "outputs": [
    {
     "name": "stdout",
     "output_type": "stream",
     "text": [
      "[1, 2, 3, 4, 5]\n",
      "[1, 2, 3, 4, 5, 6]\n"
     ]
    }
   ],
   "source": [
    "class MyList:\n",
    "\n",
    "    def __init__(self, initial_data):\n",
    "        self.data = initial_data\n",
    "        \n",
    "    # Add method here\n",
    "    \n",
    "    def append(self,new_item):\n",
    "        new_item=[new_item]\n",
    "        self.data+=new_item\n",
    "        \n",
    "my_list=MyList([1,2,3,4,5])\n",
    "\n",
    "print(my_list.data)\n",
    "\n",
    "my_list.append(6)\n",
    "\n",
    "print(my_list.data)"
   ]
  },
  {
   "cell_type": "markdown",
   "metadata": {},
   "source": [
    "# 10. Creating and Updating an Attribute"
   ]
  },
  {
   "cell_type": "code",
   "execution_count": 23,
   "metadata": {},
   "outputs": [
    {
     "name": "stdout",
     "output_type": "stream",
     "text": [
      "5\n",
      "6\n"
     ]
    }
   ],
   "source": [
    "class MyList:\n",
    "\n",
    "    def __init__(self, initial_data):\n",
    "        self.data = initial_data\n",
    "        # Calculate the initial length\n",
    "        self.length = 0\n",
    "        for item in self.data:\n",
    "            self.length += 1\n",
    "\n",
    "    def append(self, new_item):\n",
    "        self.data = self.data + [new_item]\n",
    "        # Update the length here\n",
    "        dx\n",
    "        self.length+=1\n",
    "my_list=MyList([1,1,2,3,5])\n",
    "print(my_list.length)\n",
    "\n",
    "my_list.append(8)\n",
    "print(my_list.length)"
   ]
  }
 ],
 "metadata": {
  "kernelspec": {
   "display_name": "Python 3",
   "language": "python",
   "name": "python3"
  },
  "language_info": {
   "codemirror_mode": {
    "name": "ipython",
    "version": 3
   },
   "file_extension": ".py",
   "mimetype": "text/x-python",
   "name": "python",
   "nbconvert_exporter": "python",
   "pygments_lexer": "ipython3",
   "version": "3.9.4"
  }
 },
 "nbformat": 4,
 "nbformat_minor": 4
}
