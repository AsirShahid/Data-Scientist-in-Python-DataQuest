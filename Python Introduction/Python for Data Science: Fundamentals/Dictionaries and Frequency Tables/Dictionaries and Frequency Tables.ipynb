{
 "cells": [
  {
   "cell_type": "code",
   "execution_count": 1,
   "metadata": {},
   "outputs": [],
   "source": [
    "content_ratings=[\"4+\",\"9+\",\"12+\",\"17+\"]\n",
    "nums=[4433, 987, 1155, 622]\n",
    "\n",
    "content_rating_numbers=[content_ratings,nums]"
   ]
  },
  {
   "cell_type": "code",
   "execution_count": 2,
   "metadata": {},
   "outputs": [
    {
     "name": "stdout",
     "output_type": "stream",
     "text": [
      "{'4+': 4433, '9+': 987, '12+': 1155, '17+': 622}\n"
     ]
    }
   ],
   "source": [
    "content_ratings={'4+': 4433, '9+': 987, '12+': 1155, '17+': 622}\n",
    "\n",
    "print(content_ratings)"
   ]
  },
  {
   "cell_type": "code",
   "execution_count": 4,
   "metadata": {},
   "outputs": [],
   "source": [
    "content_ratings={'4+': 4433, '9+': 987, '12+': 1155, '17+': 622}\n",
    "\n",
    "\n",
    "over_9=content_ratings[\"9+\"]\n",
    "over_17=content_ratings[\"17+\"]\n",
    "\n",
    "print(over_9)\n",
    "print(over_17)"
   ]
  },
  {
   "cell_type": "code",
   "execution_count": 5,
   "metadata": {},
   "outputs": [],
   "source": [
    "content_ratings={}\n",
    "\n",
    "content_ratings[\"4+\"]=4433\n",
    "content_ratings[\"9+\"]=987\n",
    "content_ratings[\"12+\"]=1155\n",
    "content_ratings[\"17+\"]=622\n",
    "\n",
    "over_12_n_apps=content_ratings[\"12+\"]"
   ]
  },
  {
   "cell_type": "code",
   "execution_count": 6,
   "metadata": {},
   "outputs": [],
   "source": [
    "d_1={'key_1': 'first_value', \n",
    " 'key_2': 2,\n",
    " 'key_3': 3.14,\n",
    " 'key_4': True,\n",
    " 'key_5': [4,2,1],\n",
    " 'key_6': {'inner_key' : 6}\n",
    " }\n",
    "\n",
    "\n",
    "print(d_1)\n",
    "error=True"
   ]
  },
  {
   "cell_type": "code",
   "execution_count": 8,
   "metadata": {},
   "outputs": [
    {
     "name": "stdout",
     "output_type": "stream",
     "text": [
      "It exists\n"
     ]
    }
   ],
   "source": [
    "content_ratings={'4+': 4433, '9+': 987, '12+': 1155, '17+': 622}\n",
    "\n",
    "is_in_dictionary_1= \"9+\" in content_ratings\n",
    "is_in_dictionary_2=987 in content_ratings\n",
    "\n",
    "if \"17+\" in content_ratings:\n",
    "    result=\"It exists\"\n",
    "    print(result)"
   ]
  },
  {
   "cell_type": "code",
   "execution_count": 10,
   "metadata": {},
   "outputs": [
    {
     "name": "stdout",
     "output_type": "stream",
     "text": [
      "{'4+': 4433, '9+': 987, '12+': 1155, '17+': 622}\n"
     ]
    }
   ],
   "source": [
    "opened_file = open('AppleStore.csv')\n",
    "from csv import reader\n",
    "read_file = reader(opened_file)\n",
    "apps_data = list(read_file)\n",
    "\n",
    "content_ratings={\"4+\": 0, \"9+\": 0, \"12+\": 0, \"17+\": 0}\n",
    "\n",
    "\n",
    "for app in apps_data[1:]:\n",
    "    c_rating=app[10]\n",
    "    if c_rating in content_ratings:\n",
    "        content_ratings[c_rating]+=1\n",
    "    else:\n",
    "        content_ratings[c_rating]=1\n",
    "print(content_ratings)"
   ]
  },
  {
   "cell_type": "code",
   "execution_count": 11,
   "metadata": {},
   "outputs": [
    {
     "name": "stdout",
     "output_type": "stream",
     "text": [
      "{'4+': 4433, '12+': 1155, '9+': 987, '17+': 622}\n"
     ]
    }
   ],
   "source": [
    "opened_file = open('AppleStore.csv')\n",
    "from csv import reader\n",
    "read_file = reader(opened_file)\n",
    "apps_data = list(read_file)\n",
    "\n",
    "content_ratings={}\n",
    "\n",
    "for app in apps_data[1:]:\n",
    "    c_rating=app[10]\n",
    "    if c_rating in content_ratings:\n",
    "        content_ratings[c_rating]+=1\n",
    "    else:\n",
    "        content_ratings[c_rating]=1\n",
    "print(content_ratings)"
   ]
  },
  {
   "cell_type": "code",
   "execution_count": 12,
   "metadata": {},
   "outputs": [
    {
     "name": "stdout",
     "output_type": "stream",
     "text": [
      "{'Social Networking': 167, 'Photo & Video': 349, 'Games': 3862, 'Music': 138, 'Reference': 64, 'Health & Fitness': 180, 'Weather': 72, 'Utilities': 248, 'Travel': 81, 'Shopping': 122, 'News': 75, 'Navigation': 46, 'Lifestyle': 144, 'Entertainment': 535, 'Food & Drink': 63, 'Sports': 114, 'Book': 112, 'Finance': 104, 'Education': 453, 'Productivity': 178, 'Business': 57, 'Catalogs': 10, 'Medical': 23}\n"
     ]
    }
   ],
   "source": [
    "opened_file = open('AppleStore.csv')\n",
    "from csv import reader\n",
    "read_file = reader(opened_file)\n",
    "apps_data = list(read_file)\n",
    "\n",
    "genre_counting={}\n",
    "\n",
    "\n",
    "for app in apps_data[1:]:\n",
    "    genre=app[11]\n",
    "    if genre in genre_counting:\n",
    "        genre_counting[genre]+=1\n",
    "    else:\n",
    "        genre_counting[genre]=1\n",
    "print(genre_counting)"
   ]
  },
  {
   "cell_type": "code",
   "execution_count": 16,
   "metadata": {},
   "outputs": [],
   "source": [
    "content_ratings = {'4+': 4433, '12+': 1155, '9+': 987, '17+': 622}\n",
    "total_number_of_apps = 7197\n",
    "\n",
    "\n",
    "for row in content_ratings:\n",
    "    content_ratings[row]/=total_number_of_apps\n",
    "    content_ratings[row]*=100\n",
    "    \n",
    "percentage_17_plus=content_ratings[\"17+\"]\n",
    "percentage_15_allowed=content_ratings[\"4+\"]+content_ratings[\"9+\"]+content_ratings[\"12+\"]"
   ]
  },
  {
   "cell_type": "code",
   "execution_count": 18,
   "metadata": {},
   "outputs": [],
   "source": [
    "content_ratings = {'4+': 4433, '12+': 1155, '9+': 987, '17+': 622}\n",
    "total_number_of_apps = 7197\n",
    "c_ratings_percentages={}\n",
    "c_ratings_proportions={}\n",
    "\n",
    "for key in content_ratings:\n",
    "    proportion=content_ratings[key]/total_number_of_apps\n",
    "    c_ratings_proportions[key]=proportion\n",
    "    c_ratings_percentages[key]=proportion*100"
   ]
  },
  {
   "cell_type": "code",
   "execution_count": 20,
   "metadata": {},
   "outputs": [],
   "source": [
    "opened_file = open('AppleStore.csv')\n",
    "from csv import reader\n",
    "read_file = reader(opened_file)\n",
    "apps_data = list(read_file)\n",
    "\n",
    "data_sizes=[]\n",
    "\n",
    "for app in apps_data[1:]:\n",
    "    size=app[2]\n",
    "    data_sizes.append(float(size))\n",
    "min_size=min(data_sizes)\n",
    "max_size=max(data_sizes)"
   ]
  },
  {
   "cell_type": "code",
   "execution_count": 26,
   "metadata": {},
   "outputs": [
    {
     "ename": "SyntaxError",
     "evalue": "invalid syntax (<ipython-input-26-0cfe41aa3b9e>, line 12)",
     "output_type": "error",
     "traceback": [
      "\u001b[0;36m  File \u001b[0;32m\"<ipython-input-26-0cfe41aa3b9e>\"\u001b[0;36m, line \u001b[0;32m12\u001b[0m\n\u001b[0;31m    if rating >0 and < 10000:\u001b[0m\n\u001b[0m                     ^\u001b[0m\n\u001b[0;31mSyntaxError\u001b[0m\u001b[0;31m:\u001b[0m invalid syntax\n"
     ]
    }
   ],
   "source": [
    "opened_file = open('AppleStore.csv')\n",
    "from csv import reader\n",
    "read_file = reader(opened_file)\n",
    "apps_data = list(read_file)\n",
    "\n",
    "rating_list=[]\n",
    "rating_dic={}\n",
    "\n",
    "for app in apps_data[1:]:\n",
    "    rating=float(app[5])\n",
    "    rating_list.append(rating)\n",
    "    if rating >0 and < 10000:\n",
    "        if \"Small App\" in rating_dic:\n",
    "            rating_dic[\"Small App\"]+=1\n",
    "        else:\n",
    "            rating_dic[\"Small App\"]=1\n",
    "    elif rating>=1000000:\n",
    "        if \"Large App\" in rating_dic:\n",
    "            rating_dic[\"Large App\"]+=1\n",
    "        else:\n",
    "            rating_dic[\"Large App\"]=1\n",
    "    else:\n",
    "        if \"Medium App\" in rating_dic:\n",
    "            rating_dic[\"Medium App\"]+=1\n",
    "        else:\n",
    "            rating_dic[\"Medium App\"]=1\n",
    "         \n",
    "    \n",
    "    \n",
    "    \n",
    "rating_min=min(rating_list)\n",
    "rating_max=max(rating_list)\n",
    "\n",
    "print(rating_min)\n",
    "print(rating_max)\n",
    "\n"
   ]
  },
  {
   "cell_type": "code",
   "execution_count": null,
   "metadata": {},
   "outputs": [],
   "source": []
  }
 ],
 "metadata": {
  "kernelspec": {
   "display_name": "Python 3",
   "language": "python",
   "name": "python3"
  },
  "language_info": {
   "codemirror_mode": {
    "name": "ipython",
    "version": 3
   },
   "file_extension": ".py",
   "mimetype": "text/x-python",
   "name": "python",
   "nbconvert_exporter": "python",
   "pygments_lexer": "ipython3",
   "version": "3.9.2"
  }
 },
 "nbformat": 4,
 "nbformat_minor": 4
}
