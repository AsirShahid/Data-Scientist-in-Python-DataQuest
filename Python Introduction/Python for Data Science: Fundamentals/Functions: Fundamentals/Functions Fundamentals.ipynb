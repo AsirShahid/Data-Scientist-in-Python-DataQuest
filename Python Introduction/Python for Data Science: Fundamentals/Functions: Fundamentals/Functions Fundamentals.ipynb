{
 "cells": [
  {
   "cell_type": "code",
   "execution_count": 1,
   "metadata": {},
   "outputs": [
    {
     "name": "stdout",
     "output_type": "stream",
     "text": [
      "103945\n",
      "103945\n"
     ]
    }
   ],
   "source": [
    "a_list = [4444, 8897, 6340, 9896, 4835, 4324, 10, 6445,\n",
    "          661, 1246, 1000, 7429, 1376, 8121, 647, 1280,\n",
    "          3993, 4881, 9500, 6701, 1199, 6251, 4432, 37]\n",
    "\n",
    "sum_manual=0\n",
    "\n",
    "for entry in a_list:\n",
    "    sum_manual+=entry\n",
    "print(sum_manual)\n",
    "print(sum(a_list))"
   ]
  },
  {
   "cell_type": "code",
   "execution_count": 2,
   "metadata": {},
   "outputs": [
    {
     "name": "stdout",
     "output_type": "stream",
     "text": [
      "{'4+': 3, '9+': 1, '12+': 2, '17+': 2}\n"
     ]
    }
   ],
   "source": [
    "ratings = ['4+', '4+', '4+', '9+', '12+', '12+', '17+', '17+']\n",
    "\n",
    "content_ratings={}\n",
    "\n",
    "for rating in ratings:\n",
    "    if rating in content_ratings:\n",
    "        content_ratings[rating]+=1\n",
    "    else:\n",
    "        content_ratings[rating]=1\n",
    "        \n",
    "print(content_ratings)"
   ]
  },
  {
   "cell_type": "code",
   "execution_count": 3,
   "metadata": {},
   "outputs": [],
   "source": [
    "def square(a_number):\n",
    "    squared_number=a_number**2\n",
    "    return squared_number\n",
    "squared_10=square(10)\n",
    "squared_16=square(16)"
   ]
  },
  {
   "cell_type": "code",
   "execution_count": 4,
   "metadata": {},
   "outputs": [],
   "source": [
    "def add_10(input):\n",
    "    input+=10\n",
    "    return input\n",
    "\n",
    "add_30=add_10(30)\n",
    "add_90=add_10(90)"
   ]
  },
  {
   "cell_type": "code",
   "execution_count": 5,
   "metadata": {},
   "outputs": [],
   "source": [
    "def square(input):\n",
    "    return input**2\n",
    "\n",
    "squared_6=square(6)\n",
    "squared_11=square(11)"
   ]
  },
  {
   "cell_type": "code",
   "execution_count": 6,
   "metadata": {},
   "outputs": [],
   "source": [
    "opened_file = open('AppleStore.csv')\n",
    "from csv import reader\n",
    "read_file = reader(opened_file)\n",
    "apps_data = list(read_file)\n",
    "\n",
    "def extract(input):\n",
    "    content=[]\n",
    "    for row in apps_data[1:]:\n",
    "        contents=row[input]\n",
    "        content.append(contents)\n",
    "    return content\n",
    "    \n",
    "genres=extract(11)"
   ]
  },
  {
   "cell_type": "code",
   "execution_count": 7,
   "metadata": {},
   "outputs": [],
   "source": [
    "opened_file = open('AppleStore.csv')\n",
    "from csv import reader\n",
    "read_file = reader(opened_file)\n",
    "apps_data = list(read_file)\n",
    "\n",
    "def extract(input):\n",
    "    content=[]\n",
    "    for row in apps_data[1:]:\n",
    "        contents=row[input]\n",
    "        content.append(contents)\n",
    "    return content\n",
    "    \n",
    "\n",
    "def freq_table(input):\n",
    "    dic={}\n",
    "    for i in input:\n",
    "        if i in dic:\n",
    "            dic[i]+=1\n",
    "        else:\n",
    "            dic[i]=1\n",
    "    return dic\n",
    "\n",
    "genres_ft=freq_table(extract(1))"
   ]
  },
  {
   "cell_type": "code",
   "execution_count": 9,
   "metadata": {},
   "outputs": [],
   "source": [
    "opened_file = open('AppleStore.csv')\n",
    "from csv import reader\n",
    "read_file = reader(opened_file)\n",
    "apps_data = list(read_file)\n",
    "\n",
    "def freq_table(input):\n",
    "    dic={}\n",
    "    \n",
    "    for col in apps_data[1:]:\n",
    "        content=col[input]\n",
    "        \n",
    "        if content in dic:\n",
    "            dic[content]+=1\n",
    "        else:\n",
    "            dic[content]=1\n",
    "    return dic\n",
    "\n",
    "ratings_ft=freq_table(7)"
   ]
  },
  {
   "cell_type": "code",
   "execution_count": 10,
   "metadata": {},
   "outputs": [],
   "source": [
    "opened_file = open('AppleStore.csv')\n",
    "from csv import reader\n",
    "read_file = reader(opened_file)\n",
    "apps_data = list(read_file)\n",
    "\n",
    "def freq_table(index,data):\n",
    "    dic={}\n",
    "    for col in data:\n",
    "        content=col[index]\n",
    "        if content in dic:\n",
    "            dic[content]+=1\n",
    "        else:\n",
    "            dic[content]=1\n",
    "    return dic\n",
    "\n",
    "ratings_ft=freq_table(7,apps_data[1:])"
   ]
  },
  {
   "cell_type": "code",
   "execution_count": 11,
   "metadata": {},
   "outputs": [],
   "source": [
    "opened_file = open('AppleStore.csv')\n",
    "from csv import reader\n",
    "read_file = reader(opened_file)\n",
    "apps_data = list(read_file)\n",
    "\n",
    "def freq_table(index,data):\n",
    "    dic={}\n",
    "    for col in data:\n",
    "        content=col[index]\n",
    "        if content in dic:\n",
    "            dic[content]+=1\n",
    "        else:\n",
    "            dic[content]=1\n",
    "    return dic\n",
    "\n",
    "content_ratings_ft=freq_table(10,apps_data[1:])\n",
    "\n",
    "ratings_ft=freq_table(index=7,data=apps_data[1:])\n",
    "\n",
    "genres_ft=freq_table(index=11,data=apps_data[1:])"
   ]
  },
  {
   "cell_type": "code",
   "execution_count": 14,
   "metadata": {},
   "outputs": [],
   "source": [
    "opened_file = open('AppleStore.csv')\n",
    "from csv import reader\n",
    "read_file = reader(opened_file)\n",
    "apps_data = list(read_file)\n",
    "\n",
    "def extract(data_set, index):\n",
    "    column = []    \n",
    "    for row in data_set[1:]:\n",
    "        value = row[index]\n",
    "        column.append(value)    \n",
    "    return column\n",
    "\n",
    "def find_sum(a_list):\n",
    "    a_sum = 0\n",
    "    for element in a_list:\n",
    "        a_sum += float(element)\n",
    "    return a_sum\n",
    "\n",
    "def find_length(a_list):\n",
    "    length = 0\n",
    "    for element in a_list:\n",
    "        length += 1\n",
    "    return length\n",
    "\n",
    "def mean(data,index):\n",
    "    col=extract(data,index)\n",
    "    return find_sum(col)/find_length(col)\n",
    "\n",
    "avg_price=mean(apps_data,4)"
   ]
  },
  {
   "cell_type": "code",
   "execution_count": null,
   "metadata": {},
   "outputs": [],
   "source": []
  }
 ],
 "metadata": {
  "kernelspec": {
   "display_name": "Python 3",
   "language": "python",
   "name": "python3"
  },
  "language_info": {
   "codemirror_mode": {
    "name": "ipython",
    "version": 3
   },
   "file_extension": ".py",
   "mimetype": "text/x-python",
   "name": "python",
   "nbconvert_exporter": "python",
   "pygments_lexer": "ipython3",
   "version": "3.9.2"
  }
 },
 "nbformat": 4,
 "nbformat_minor": 4
}
