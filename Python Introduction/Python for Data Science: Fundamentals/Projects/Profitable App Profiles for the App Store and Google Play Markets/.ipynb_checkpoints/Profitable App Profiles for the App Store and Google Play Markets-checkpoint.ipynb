{
 "cells": [
  {
   "cell_type": "markdown",
   "metadata": {},
   "source": [
    "# Profitable App Profiles for the App Store and Google Play Markets\n",
    "\n",
    "Our goal here is figuring out which types of apps would be the most profitable for a hypothetical company that makes free Android and IOS apps and relies on in-app advertisements for revenue. The revenue model here is dictated by the amount of users that actively use the app, as more people using the app would result in higher engagement with the advertisements.\n",
    "\n",
    "So here we will go through the different types of apps offered on the Google Play Store and Apple App Store in order to figure out which apps would attract the most users."
   ]
  },
  {
   "cell_type": "markdown",
   "metadata": {},
   "source": [
    "There are over 2 million Android apps on the Google Play Store and over 2 million IOS apps on the App Store. Collecting data for these millions of apps will require a significant investment, so instead we will be using a sample of the data instead.\n",
    "\n",
    "We have 2 different data sets, one for Android applications and another for IOS applications.\n",
    "\n",
    "We can see the documentation for our Android app data set containing ten thousand apps [here](https://www.kaggle.com/lava18/google-play-store-apps), and the documentation for our IOS app data set containing seven thousand apps [here](https://www.kaggle.com/ramamet4/app-store-apple-data-set-10k-apps).\n",
    "\n"
   ]
  },
  {
   "cell_type": "code",
   "execution_count": 2,
   "metadata": {},
   "outputs": [],
   "source": [
    "def explore_data(dataset, start, end, rows_and_columns=False):\n",
    "    dataset_slice = dataset[start:end]\n",
    "    for row in dataset_slice:\n",
    "        print(row)\n",
    "        print(\"\\n\")\n",
    "    if rows_and_columns:\n",
    "        print(\"Number of rows:\", len(dataset))\n",
    "        print(\"Number of columns:\", len(dataset[0]))"
   ]
  },
  {
   "cell_type": "code",
   "execution_count": 3,
   "metadata": {},
   "outputs": [
    {
     "name": "stdout",
     "output_type": "stream",
     "text": [
      "['Photo Editor & Candy Camera & Grid & ScrapBook', 'ART_AND_DESIGN', '4.1', '159', '19M', '10,000+', 'Free', '0', 'Everyone', 'Art & Design', 'January 7, 2018', '1.0.0', '4.0.3 and up']\n",
      "\n",
      "\n",
      "['Coloring book moana', 'ART_AND_DESIGN', '3.9', '967', '14M', '500,000+', 'Free', '0', 'Everyone', 'Art & Design;Pretend Play', 'January 15, 2018', '2.0.0', '4.0.3 and up']\n",
      "\n",
      "\n",
      "['U Launcher Lite – FREE Live Cool Themes, Hide Apps', 'ART_AND_DESIGN', '4.7', '87510', '8.7M', '5,000,000+', 'Free', '0', 'Everyone', 'Art & Design', 'August 1, 2018', '1.2.4', '4.0.3 and up']\n",
      "\n",
      "\n",
      "['Sketch - Draw & Paint', 'ART_AND_DESIGN', '4.5', '215644', '25M', '50,000,000+', 'Free', '0', 'Teen', 'Art & Design', 'June 8, 2018', 'Varies with device', '4.2 and up']\n",
      "\n",
      "\n",
      "['Pixel Draw - Number Art Coloring Book', 'ART_AND_DESIGN', '4.3', '967', '2.8M', '100,000+', 'Free', '0', 'Everyone', 'Art & Design;Creativity', 'June 20, 2018', '1.1', '4.4 and up']\n",
      "\n",
      "\n",
      "Number of rows: 10841\n",
      "Number of columns: 13\n",
      "['284882215', 'Facebook', '389879808', 'USD', '0.0', '2974676', '212', '3.5', '3.5', '95.0', '4+', 'Social Networking', '37', '1', '29', '1']\n",
      "\n",
      "\n",
      "['389801252', 'Instagram', '113954816', 'USD', '0.0', '2161558', '1289', '4.5', '4.0', '10.23', '12+', 'Photo & Video', '37', '0', '29', '1']\n",
      "\n",
      "\n",
      "['529479190', 'Clash of Clans', '116476928', 'USD', '0.0', '2130805', '579', '4.5', '4.5', '9.24.12', '9+', 'Games', '38', '5', '18', '1']\n",
      "\n",
      "\n",
      "['420009108', 'Temple Run', '65921024', 'USD', '0.0', '1724546', '3842', '4.5', '4.0', '1.6.2', '9+', 'Games', '40', '5', '1', '1']\n",
      "\n",
      "\n",
      "['284035177', 'Pandora - Music & Radio', '130242560', 'USD', '0.0', '1126879', '3594', '4.0', '4.5', '8.4.1', '12+', 'Music', '37', '4', '1', '1']\n",
      "\n",
      "\n",
      "Number of rows: 7197\n",
      "Number of columns: 16\n"
     ]
    }
   ],
   "source": [
    "#Google Play Store\n",
    "opened_file=open(\"googleplaystore.csv\")\n",
    "from csv import reader\n",
    "read_file=reader(opened_file)\n",
    "android=list(read_file)\n",
    "android_header=android[0]\n",
    "android_apps=android[1:]\n",
    "\n",
    "explore_data(android_apps,0,5,True)\n",
    "\n",
    "#Apple App Store\n",
    "opened_file=open(\"AppleStore.csv\")\n",
    "read_file=reader(opened_file)\n",
    "ios=list(read_file)\n",
    "ios_header=ios[0]\n",
    "ios_apps=ios[1:]\n",
    "\n",
    "explore_data(ios_apps,0,5,True)"
   ]
  },
  {
   "cell_type": "markdown",
   "metadata": {},
   "source": [
    "The names for the columns of the Play Store data set are self explanatory, however the names for the App Store columns is less evident.\n",
    "\n",
    "The documentation for the App Store data set can be seen [here](https://www.kaggle.com/ramamet4/app-store-apple-data-set-10k-apps). Below is a table showing what each column represents.\n",
    "\n",
    "\n",
    "| Column Name      | Description |\n",
    "| ----------- | ----------- |\n",
    "| id      | App ID       |\n",
    "| track_name   | App Name        |\n",
    "| size_bytes      | Size in bytes       |\n",
    "| currency   | Currency type        |\n",
    "| price      | Price amount       |\n",
    "| rating_count_tot   | User Rating counts (for all versions)        |\n",
    "| rating_count_ver      | User Rating counts (for current version)       |\n",
    "| user_rating   | Average User Rating value (for all versions)        |\n",
    "| user_rating_ver      | Average User Rating value (for current version)         |\n",
    "| ver   | Latest version code        |\n",
    "| cont_rating      | Content Rating       |\n",
    "| prime_genre   | Primary Genre        |\n",
    "| sup_devices.num      | Number of supporting devices       |\n",
    "| ipadSc_urls.num   | Number of screenshots showed for display        |\n",
    "| lang.num      | Number of supported languages       |\n",
    "| vpp_lic   | Vpp Device Based Licensing Enabled        |\n"
   ]
  },
  {
   "cell_type": "code",
   "execution_count": 7,
   "metadata": {},
   "outputs": [
    {
     "name": "stdout",
     "output_type": "stream",
     "text": [
      "['Life Made WI-Fi Touchscreen Photo Frame', '1.9', '19', '3.0M', '1,000+', 'Free', '0', 'Everyone', '', 'February 11, 2018', '1.0.19', '4.0 and up']\n",
      "\n",
      "\n",
      "['App', 'Category', 'Rating', 'Reviews', 'Size', 'Installs', 'Type', 'Price', 'Content Rating', 'Genres', 'Last Updated', 'Current Ver', 'Android Ver']\n",
      "\n",
      "\n",
      "['App', 'Category', 'Rating', 'Reviews', 'Size', 'Installs', 'Type', 'Price', 'Content Rating', 'Genres', 'Last Updated', 'Current Ver', 'Android Ver']\n",
      "10842\n",
      "10841\n"
     ]
    }
   ],
   "source": [
    "# Here we can see that the Android app with an index of 10472 has a missing \"Genre\" rating.\n",
    "# This could create an issue going forward, so we shall remove the offending row.\n",
    "\n",
    "print(android[10473])  # incorrect row\n",
    "print('\\n')\n",
    "print(android_header)  # header\n",
    "print('\\n')\n",
    "print(android[0])      # correct row\n",
    "\n",
    "print(len(android))\n",
    "del android[10473]  # don't run this more than once\n",
    "print(len(android))\n",
    "\n",
    "android_header=android[0]\n",
    "android_apps=android[1:]\n",
    "\n",
    "\n",
    "# for app in android_apps:\n",
    "#     app_index=-1\n",
    "#     app_index+=1\n",
    "#     if len(app) != len(android_header):\n",
    "#         print(app)\n",
    "#         del android_apps[app_index]\n",
    "# for app in ios_apps:\n",
    "#     if len(app) != len(ios_header):\n",
    "#         print(app)"
   ]
  },
  {
   "cell_type": "code",
   "execution_count": 8,
   "metadata": {},
   "outputs": [
    {
     "name": "stdout",
     "output_type": "stream",
     "text": [
      "10840\n"
     ]
    }
   ],
   "source": [
    "print(len(android_apps))\n"
   ]
  },
  {
   "cell_type": "code",
   "execution_count": 9,
   "metadata": {},
   "outputs": [
    {
     "name": "stdout",
     "output_type": "stream",
     "text": [
      "0\n",
      "1181\n"
     ]
    }
   ],
   "source": [
    "#We can check and see if we have any duplicate rows in our data sets.\n",
    "\n",
    "duplicate_apps=[]\n",
    "unique_apps=[]\n",
    "\n",
    "for app in ios_apps:\n",
    "    name=app[0]\n",
    "    \n",
    "    if name in unique_apps:\n",
    "        duplicate_apps.append(name)\n",
    "    else:\n",
    "        unique_apps.append(name)\n",
    "        \n",
    "print(len(duplicate_apps))\n",
    "\n",
    "duplicate_apps=[]\n",
    "unique_apps=[]\n",
    "\n",
    "for app in android_apps:\n",
    "    name=app[0]\n",
    "    \n",
    "    if name in unique_apps:\n",
    "        duplicate_apps.append(name)\n",
    "    else:\n",
    "        unique_apps.append(name)\n",
    "        \n",
    "print(len(duplicate_apps))"
   ]
  },
  {
   "cell_type": "markdown",
   "metadata": {},
   "source": [
    "# Duplicate Apps\n",
    "\n",
    "We can see that we have over one thousand duplicate Android Apps, while we have no duplicate IOS apps. We will remove the duplicate applications based on the number of reviews, deleting the versions of the apps that have the least number of reviews."
   ]
  },
  {
   "cell_type": "code",
   "execution_count": 20,
   "metadata": {},
   "outputs": [
    {
     "name": "stdout",
     "output_type": "stream",
     "text": [
      "9659\n",
      "9659\n",
      "9659\n"
     ]
    }
   ],
   "source": [
    "expected_length=len(android_apps)-len(duplicate_apps)\n",
    "\n",
    "reviews_max={}\n",
    "\n",
    "for app in android_apps:\n",
    "    name=app[0]\n",
    "    n_reviews=float(app[3])\n",
    "    if name in reviews_max and reviews_max[name]<n_reviews:\n",
    "        reviews_max[name]=n_reviews\n",
    "    elif name not in reviews_max:\n",
    "        reviews_max[name]=n_reviews\n",
    "        \n",
    "print(expected_length)\n",
    "print(len(reviews_max))\n",
    "\n",
    "android_clean=[]\n",
    "already_added=[]\n",
    "\n",
    "for app in android_apps:\n",
    "    name=app[0]\n",
    "    n_reviews=float(app[3])\n",
    "    \n",
    "    if n_reviews == reviews_max[name] and name not in already_added:\n",
    "        android_clean.append(app)\n",
    "        already_added.append(name)\n",
    "\n",
    "print(len(android_clean))"
   ]
  },
  {
   "cell_type": "markdown",
   "metadata": {},
   "source": [
    "# Removing Duplicate Apps\n",
    "\n",
    "Above, we removed all duplicate apps found in our original android_apps data set. We now have a new data set known as android_clean, which has been purged of all duplicate applications."
   ]
  },
  {
   "cell_type": "code",
   "execution_count": 21,
   "metadata": {},
   "outputs": [
    {
     "name": "stdout",
     "output_type": "stream",
     "text": [
      "['Photo Editor & Candy Camera & Grid & ScrapBook', 'ART_AND_DESIGN', '4.1', '159', '19M', '10,000+', 'Free', '0', 'Everyone', 'Art & Design', 'January 7, 2018', '1.0.0', '4.0.3 and up']\n",
      "\n",
      "\n",
      "['U Launcher Lite – FREE Live Cool Themes, Hide Apps', 'ART_AND_DESIGN', '4.7', '87510', '8.7M', '5,000,000+', 'Free', '0', 'Everyone', 'Art & Design', 'August 1, 2018', '1.2.4', '4.0.3 and up']\n",
      "\n",
      "\n",
      "['Sketch - Draw & Paint', 'ART_AND_DESIGN', '4.5', '215644', '25M', '50,000,000+', 'Free', '0', 'Teen', 'Art & Design', 'June 8, 2018', 'Varies with device', '4.2 and up']\n",
      "\n",
      "\n",
      "['Pixel Draw - Number Art Coloring Book', 'ART_AND_DESIGN', '4.3', '967', '2.8M', '100,000+', 'Free', '0', 'Everyone', 'Art & Design;Creativity', 'June 20, 2018', '1.1', '4.4 and up']\n",
      "\n",
      "\n",
      "['Paper flowers instructions', 'ART_AND_DESIGN', '4.4', '167', '5.6M', '50,000+', 'Free', '0', 'Everyone', 'Art & Design', 'March 26, 2017', '1.0', '2.3 and up']\n",
      "\n",
      "\n",
      "['Smoke Effect Photo Maker - Smoke Editor', 'ART_AND_DESIGN', '3.8', '178', '19M', '50,000+', 'Free', '0', 'Everyone', 'Art & Design', 'April 26, 2018', '1.1', '4.0.3 and up']\n",
      "\n",
      "\n",
      "['Infinite Painter', 'ART_AND_DESIGN', '4.1', '36815', '29M', '1,000,000+', 'Free', '0', 'Everyone', 'Art & Design', 'June 14, 2018', '6.1.61.1', '4.2 and up']\n",
      "\n",
      "\n",
      "Number of rows: 9659\n",
      "Number of columns: 13\n"
     ]
    }
   ],
   "source": [
    "explore_data(android_clean,0,7,True)"
   ]
  },
  {
   "cell_type": "markdown",
   "metadata": {},
   "source": [
    "# Removing duplicate data\n",
    "\n",
    "The company will be making English apps, thus apps that are not in English will be less relevant to our findings. We shall remove any applications with names that are not English."
   ]
  },
  {
   "cell_type": "code",
   "execution_count": 27,
   "metadata": {},
   "outputs": [
    {
     "name": "stdout",
     "output_type": "stream",
     "text": [
      "True\n",
      "False\n",
      "False\n",
      "False\n"
     ]
    }
   ],
   "source": [
    "def is_english(input_string):\n",
    "    for i in input_string:\n",
    "        if ord(i)>127:\n",
    "            return False\n",
    "    return True\n",
    "        \n",
    "print(is_english('Instagram'))\n",
    "print(is_english('爱奇艺PPS -《欢乐颂2》电视剧热播'))\n",
    "print(is_english('Docs To Go™ Free Office Suite'))\n",
    "print(is_english('Instachat 😜'))"
   ]
  },
  {
   "cell_type": "code",
   "execution_count": 35,
   "metadata": {},
   "outputs": [
    {
     "name": "stdout",
     "output_type": "stream",
     "text": [
      "128540\n",
      "8482\n"
     ]
    }
   ],
   "source": [
    "print(ord(\"😜\"))\n",
    "print(ord(\"™\"))"
   ]
  },
  {
   "cell_type": "markdown",
   "metadata": {},
   "source": [
    "As we saw above, some English apps might contain characters outside of the above range, such as apps that contain Emojis in the name.\n",
    "\n",
    "Thus we will instead use a function that only returns False if there are at least 3 characters outside of the range."
   ]
  },
  {
   "cell_type": "code",
   "execution_count": 64,
   "metadata": {},
   "outputs": [
    {
     "name": "stdout",
     "output_type": "stream",
     "text": [
      "True\n",
      "False\n",
      "True\n",
      "True\n"
     ]
    }
   ],
   "source": [
    "def is_english(input_string):\n",
    "    non_eng=0\n",
    "    for i in input_string:\n",
    "        if ord(i)>127:\n",
    "            non_eng+=1\n",
    "        if non_eng>3:\n",
    "            return False\n",
    "    return True\n",
    "        \n",
    "print(is_english('Instagram'))\n",
    "print(is_english('爱奇艺PPS -《欢乐颂2》电视剧热播'))\n",
    "print(is_english('Docs To Go™ Free Office Suite'))\n",
    "print(is_english('Instachat 😜'))"
   ]
  },
  {
   "cell_type": "code",
   "execution_count": 80,
   "metadata": {},
   "outputs": [
    {
     "name": "stdout",
     "output_type": "stream",
     "text": [
      "['Photo Editor & Candy Camera & Grid & ScrapBook', 'ART_AND_DESIGN', '4.1', '159', '19M', '10,000+', 'Free', '0', 'Everyone', 'Art & Design', 'January 7, 2018', '1.0.0', '4.0.3 and up']\n",
      "\n",
      "\n",
      "['U Launcher Lite – FREE Live Cool Themes, Hide Apps', 'ART_AND_DESIGN', '4.7', '87510', '8.7M', '5,000,000+', 'Free', '0', 'Everyone', 'Art & Design', 'August 1, 2018', '1.2.4', '4.0.3 and up']\n",
      "\n",
      "\n",
      "['Sketch - Draw & Paint', 'ART_AND_DESIGN', '4.5', '215644', '25M', '50,000,000+', 'Free', '0', 'Teen', 'Art & Design', 'June 8, 2018', 'Varies with device', '4.2 and up']\n",
      "\n",
      "\n",
      "['Pixel Draw - Number Art Coloring Book', 'ART_AND_DESIGN', '4.3', '967', '2.8M', '100,000+', 'Free', '0', 'Everyone', 'Art & Design;Creativity', 'June 20, 2018', '1.1', '4.4 and up']\n",
      "\n",
      "\n",
      "['Paper flowers instructions', 'ART_AND_DESIGN', '4.4', '167', '5.6M', '50,000+', 'Free', '0', 'Everyone', 'Art & Design', 'March 26, 2017', '1.0', '2.3 and up']\n",
      "\n",
      "\n",
      "Number of rows: 9614\n",
      "Number of columns: 13\n",
      "['284882215', 'Facebook', '389879808', 'USD', '0.0', '2974676', '212', '3.5', '3.5', '95.0', '4+', 'Social Networking', '37', '1', '29', '1']\n",
      "\n",
      "\n",
      "['389801252', 'Instagram', '113954816', 'USD', '0.0', '2161558', '1289', '4.5', '4.0', '10.23', '12+', 'Photo & Video', '37', '0', '29', '1']\n",
      "\n",
      "\n",
      "['529479190', 'Clash of Clans', '116476928', 'USD', '0.0', '2130805', '579', '4.5', '4.5', '9.24.12', '9+', 'Games', '38', '5', '18', '1']\n",
      "\n",
      "\n",
      "['420009108', 'Temple Run', '65921024', 'USD', '0.0', '1724546', '3842', '4.5', '4.0', '1.6.2', '9+', 'Games', '40', '5', '1', '1']\n",
      "\n",
      "\n",
      "['284035177', 'Pandora - Music & Radio', '130242560', 'USD', '0.0', '1126879', '3594', '4.0', '4.5', '8.4.1', '12+', 'Music', '37', '4', '1', '1']\n",
      "\n",
      "\n",
      "Number of rows: 6183\n",
      "Number of columns: 16\n"
     ]
    }
   ],
   "source": [
    "android_english=[]\n",
    "ios_english=[]\n",
    "\n",
    "def eng_dataset(dataset,new_dataset,index=0):\n",
    "    for app in dataset:\n",
    "        name=app[index]\n",
    "        if is_english(name):\n",
    "            new_dataset.append(app)\n",
    "            \n",
    "eng_dataset(dataset=android_clean,new_dataset=android_english,index=0)\n",
    "\n",
    "eng_dataset(ios_apps,ios_english,index=1)\n",
    "\n",
    "explore_data(android_english,0,5,True)\n",
    "explore_data(ios_english,0,5,True)"
   ]
  },
  {
   "cell_type": "markdown",
   "metadata": {},
   "source": [
    "# Free Apps\n",
    "\n",
    "As mentioned previously, we are only interested in Free apps. Thus, now we can work to remove all the paid apps \n",
    "from our data set."
   ]
  },
  {
   "cell_type": "code",
   "execution_count": 114,
   "metadata": {},
   "outputs": [],
   "source": [
    "android_final=[]\n",
    "ios_final=[]\n",
    "\n",
    "def is_free(dataset,new_dataset,index):\n",
    "    for app in dataset:\n",
    "        price=app[index]\n",
    "        # 7 for Android, 4 for IOS\n",
    "        if price == \"0.0\" or price == \"0\":\n",
    "            new_dataset.append(app)\n",
    "            \n",
    "is_free(android_english,android_final,7)\n",
    "is_free(ios_english,ios_final,4)\n",
    "\n"
   ]
  },
  {
   "cell_type": "code",
   "execution_count": 116,
   "metadata": {},
   "outputs": [
    {
     "name": "stdout",
     "output_type": "stream",
     "text": [
      "['Photo Editor & Candy Camera & Grid & ScrapBook', 'ART_AND_DESIGN', '4.1', '159', '19M', '10,000+', 'Free', '0', 'Everyone', 'Art & Design', 'January 7, 2018', '1.0.0', '4.0.3 and up']\n",
      "\n",
      "\n",
      "['U Launcher Lite – FREE Live Cool Themes, Hide Apps', 'ART_AND_DESIGN', '4.7', '87510', '8.7M', '5,000,000+', 'Free', '0', 'Everyone', 'Art & Design', 'August 1, 2018', '1.2.4', '4.0.3 and up']\n",
      "\n",
      "\n",
      "['Sketch - Draw & Paint', 'ART_AND_DESIGN', '4.5', '215644', '25M', '50,000,000+', 'Free', '0', 'Teen', 'Art & Design', 'June 8, 2018', 'Varies with device', '4.2 and up']\n",
      "\n",
      "\n",
      "['Pixel Draw - Number Art Coloring Book', 'ART_AND_DESIGN', '4.3', '967', '2.8M', '100,000+', 'Free', '0', 'Everyone', 'Art & Design;Creativity', 'June 20, 2018', '1.1', '4.4 and up']\n",
      "\n",
      "\n",
      "['Paper flowers instructions', 'ART_AND_DESIGN', '4.4', '167', '5.6M', '50,000+', 'Free', '0', 'Everyone', 'Art & Design', 'March 26, 2017', '1.0', '2.3 and up']\n",
      "\n",
      "\n",
      "['Smoke Effect Photo Maker - Smoke Editor', 'ART_AND_DESIGN', '3.8', '178', '19M', '50,000+', 'Free', '0', 'Everyone', 'Art & Design', 'April 26, 2018', '1.1', '4.0.3 and up']\n",
      "\n",
      "\n",
      "['Infinite Painter', 'ART_AND_DESIGN', '4.1', '36815', '29M', '1,000,000+', 'Free', '0', 'Everyone', 'Art & Design', 'June 14, 2018', '6.1.61.1', '4.2 and up']\n",
      "\n",
      "\n",
      "['Garden Coloring Book', 'ART_AND_DESIGN', '4.4', '13791', '33M', '1,000,000+', 'Free', '0', 'Everyone', 'Art & Design', 'September 20, 2017', '2.9.2', '3.0 and up']\n",
      "\n",
      "\n",
      "['Kids Paint Free - Drawing Fun', 'ART_AND_DESIGN', '4.7', '121', '3.1M', '10,000+', 'Free', '0', 'Everyone', 'Art & Design;Creativity', 'July 3, 2018', '2.8', '4.0.3 and up']\n",
      "\n",
      "\n",
      "['Text on Photo - Fonteee', 'ART_AND_DESIGN', '4.4', '13880', '28M', '1,000,000+', 'Free', '0', 'Everyone', 'Art & Design', 'October 27, 2017', '1.0.4', '4.1 and up']\n",
      "\n",
      "\n",
      "Number of rows: 8864\n",
      "Number of columns: 13\n"
     ]
    }
   ],
   "source": [
    "explore_data(android_final,0,10,True)"
   ]
  },
  {
   "cell_type": "code",
   "execution_count": 117,
   "metadata": {},
   "outputs": [
    {
     "name": "stdout",
     "output_type": "stream",
     "text": [
      "['284882215', 'Facebook', '389879808', 'USD', '0.0', '2974676', '212', '3.5', '3.5', '95.0', '4+', 'Social Networking', '37', '1', '29', '1']\n",
      "\n",
      "\n",
      "['389801252', 'Instagram', '113954816', 'USD', '0.0', '2161558', '1289', '4.5', '4.0', '10.23', '12+', 'Photo & Video', '37', '0', '29', '1']\n",
      "\n",
      "\n",
      "['529479190', 'Clash of Clans', '116476928', 'USD', '0.0', '2130805', '579', '4.5', '4.5', '9.24.12', '9+', 'Games', '38', '5', '18', '1']\n",
      "\n",
      "\n",
      "['420009108', 'Temple Run', '65921024', 'USD', '0.0', '1724546', '3842', '4.5', '4.0', '1.6.2', '9+', 'Games', '40', '5', '1', '1']\n",
      "\n",
      "\n",
      "['284035177', 'Pandora - Music & Radio', '130242560', 'USD', '0.0', '1126879', '3594', '4.0', '4.5', '8.4.1', '12+', 'Music', '37', '4', '1', '1']\n",
      "\n",
      "\n",
      "['429047995', 'Pinterest', '74778624', 'USD', '0.0', '1061624', '1814', '4.5', '4.0', '6.26', '12+', 'Social Networking', '37', '5', '27', '1']\n",
      "\n",
      "\n",
      "['282935706', 'Bible', '92774400', 'USD', '0.0', '985920', '5320', '4.5', '5.0', '7.5.1', '4+', 'Reference', '37', '5', '45', '1']\n",
      "\n",
      "\n",
      "['553834731', 'Candy Crush Saga', '222846976', 'USD', '0.0', '961794', '2453', '4.5', '4.5', '1.101.0', '4+', 'Games', '43', '5', '24', '1']\n",
      "\n",
      "\n",
      "['324684580', 'Spotify Music', '132510720', 'USD', '0.0', '878563', '8253', '4.5', '4.5', '8.4.3', '12+', 'Music', '37', '5', '18', '1']\n",
      "\n",
      "\n",
      "['343200656', 'Angry Birds', '175966208', 'USD', '0.0', '824451', '107', '4.5', '3.0', '7.4.0', '4+', 'Games', '38', '0', '10', '1']\n",
      "\n",
      "\n",
      "Number of rows: 3222\n",
      "Number of columns: 16\n"
     ]
    }
   ],
   "source": [
    "explore_data(ios_final,0,10,True)"
   ]
  },
  {
   "cell_type": "markdown",
   "metadata": {},
   "source": [
    "# Aim\n",
    "\n",
    "Now that we have cleaned our data, we can focus more on our original aim.\n",
    "\n",
    "The idea for the app would be first creating a minimal Android version, then developing it further given a good user response, then build an IOS version in 6 months given that it is profitable.\n",
    "\n",
    "So we will find genres of apps that should be successful both on Android and on IOS. We first need to see the different Genres and see which would be the most successful. We will do this below by generating a Frequency table."
   ]
  },
  {
   "cell_type": "code",
   "execution_count": 119,
   "metadata": {},
   "outputs": [],
   "source": [
    "def display_table(dataset,index):\n",
    "    table=freq_table(dataset,index)\n",
    "    table_display=[]\n",
    "    \n",
    "    for key in table:\n",
    "        key_val_as_tuple = (table[key],key)\n",
    "        table_display.append(key_val_as_tuple)\n",
    "    table_sorted=sorted(table_display,reverse=True)\n",
    "    \n",
    "    for entry in table_sorted:\n",
    "        print(entry[1],\":\",entry[0])"
   ]
  },
  {
   "cell_type": "code",
   "execution_count": 134,
   "metadata": {},
   "outputs": [],
   "source": [
    "def freq_table(dataset,index):\n",
    "    freq={}\n",
    "    tot=0\n",
    "    for app in dataset:\n",
    "        tot+=1\n",
    "        val=app[index]\n",
    "        if val in freq:\n",
    "            freq[val]+=1\n",
    "        else:\n",
    "            freq[val]=1\n",
    "\n",
    "    table_percents={}\n",
    "    for key in freq:\n",
    "        table_percents[key]=(freq[key]/tot)*100\n",
    "    return table_percents"
   ]
  },
  {
   "cell_type": "code",
   "execution_count": 137,
   "metadata": {},
   "outputs": [
    {
     "name": "stdout",
     "output_type": "stream",
     "text": [
      "FAMILY : 18.907942238267147\n",
      "GAME : 9.724729241877256\n",
      "TOOLS : 8.461191335740072\n",
      "BUSINESS : 4.591606498194946\n",
      "LIFESTYLE : 3.9034296028880866\n",
      "PRODUCTIVITY : 3.892148014440433\n",
      "FINANCE : 3.7003610108303246\n",
      "MEDICAL : 3.531137184115524\n",
      "SPORTS : 3.395758122743682\n",
      "PERSONALIZATION : 3.3167870036101084\n",
      "COMMUNICATION : 3.2378158844765346\n",
      "HEALTH_AND_FITNESS : 3.0798736462093865\n",
      "PHOTOGRAPHY : 2.944494584837545\n",
      "NEWS_AND_MAGAZINES : 2.7978339350180503\n",
      "SOCIAL : 2.6624548736462095\n",
      "TRAVEL_AND_LOCAL : 2.33528880866426\n",
      "SHOPPING : 2.2450361010830324\n",
      "BOOKS_AND_REFERENCE : 2.1435018050541514\n",
      "DATING : 1.861462093862816\n",
      "VIDEO_PLAYERS : 1.7937725631768955\n",
      "MAPS_AND_NAVIGATION : 1.3989169675090252\n",
      "FOOD_AND_DRINK : 1.2409747292418771\n",
      "EDUCATION : 1.1620036101083033\n",
      "ENTERTAINMENT : 0.9589350180505415\n",
      "LIBRARIES_AND_DEMO : 0.9363718411552346\n",
      "AUTO_AND_VEHICLES : 0.9250902527075812\n",
      "HOUSE_AND_HOME : 0.8235559566787004\n",
      "WEATHER : 0.8009927797833934\n",
      "EVENTS : 0.7107400722021661\n",
      "PARENTING : 0.6543321299638989\n",
      "ART_AND_DESIGN : 0.6430505415162455\n",
      "COMICS : 0.6204873646209386\n",
      "BEAUTY : 0.5979241877256317\n"
     ]
    }
   ],
   "source": [
    "display_table(android_final,1)"
   ]
  },
  {
   "cell_type": "code",
   "execution_count": 142,
   "metadata": {},
   "outputs": [
    {
     "name": "stdout",
     "output_type": "stream",
     "text": [
      "Tools : 8.449909747292418\n",
      "Entertainment : 6.069494584837545\n",
      "Education : 5.347472924187725\n",
      "Business : 4.591606498194946\n",
      "Productivity : 3.892148014440433\n",
      "Lifestyle : 3.892148014440433\n",
      "Finance : 3.7003610108303246\n",
      "Medical : 3.531137184115524\n",
      "Sports : 3.463447653429603\n",
      "Personalization : 3.3167870036101084\n",
      "Communication : 3.2378158844765346\n",
      "Action : 3.1024368231046933\n",
      "Health & Fitness : 3.0798736462093865\n",
      "Photography : 2.944494584837545\n",
      "News & Magazines : 2.7978339350180503\n",
      "Social : 2.6624548736462095\n",
      "Travel & Local : 2.3240072202166067\n",
      "Shopping : 2.2450361010830324\n",
      "Books & Reference : 2.1435018050541514\n",
      "Simulation : 2.0419675090252705\n",
      "Dating : 1.861462093862816\n",
      "Arcade : 1.8501805054151623\n",
      "Video Players & Editors : 1.7712093862815883\n",
      "Casual : 1.7599277978339352\n",
      "Maps & Navigation : 1.3989169675090252\n",
      "Food & Drink : 1.2409747292418771\n",
      "Puzzle : 1.128158844765343\n",
      "Racing : 0.9927797833935018\n",
      "Role Playing : 0.9363718411552346\n",
      "Libraries & Demo : 0.9363718411552346\n",
      "Auto & Vehicles : 0.9250902527075812\n",
      "Strategy : 0.9138086642599278\n",
      "House & Home : 0.8235559566787004\n",
      "Weather : 0.8009927797833934\n",
      "Events : 0.7107400722021661\n",
      "Adventure : 0.6768953068592057\n",
      "Comics : 0.6092057761732852\n",
      "Beauty : 0.5979241877256317\n",
      "Art & Design : 0.5979241877256317\n",
      "Parenting : 0.4963898916967509\n",
      "Card : 0.45126353790613716\n",
      "Casino : 0.42870036101083037\n",
      "Trivia : 0.41741877256317694\n",
      "Educational;Education : 0.39485559566787\n",
      "Board : 0.3835740072202166\n",
      "Educational : 0.3722924187725632\n",
      "Education;Education : 0.33844765342960287\n",
      "Word : 0.2594765342960289\n",
      "Casual;Pretend Play : 0.236913357400722\n",
      "Music : 0.2030685920577617\n",
      "Racing;Action & Adventure : 0.16922382671480143\n",
      "Puzzle;Brain Games : 0.16922382671480143\n",
      "Entertainment;Music & Video : 0.16922382671480143\n",
      "Casual;Brain Games : 0.13537906137184114\n",
      "Casual;Action & Adventure : 0.13537906137184114\n",
      "Arcade;Action & Adventure : 0.12409747292418773\n",
      "Action;Action & Adventure : 0.10153429602888085\n",
      "Educational;Pretend Play : 0.09025270758122744\n",
      "Simulation;Action & Adventure : 0.078971119133574\n",
      "Parenting;Education : 0.078971119133574\n",
      "Entertainment;Brain Games : 0.078971119133574\n",
      "Board;Brain Games : 0.078971119133574\n",
      "Parenting;Music & Video : 0.06768953068592057\n",
      "Educational;Brain Games : 0.06768953068592057\n",
      "Casual;Creativity : 0.06768953068592057\n",
      "Art & Design;Creativity : 0.06768953068592057\n",
      "Education;Pretend Play : 0.056407942238267145\n",
      "Role Playing;Pretend Play : 0.04512635379061372\n",
      "Education;Creativity : 0.04512635379061372\n",
      "Role Playing;Action & Adventure : 0.033844765342960284\n",
      "Puzzle;Action & Adventure : 0.033844765342960284\n",
      "Entertainment;Creativity : 0.033844765342960284\n",
      "Entertainment;Action & Adventure : 0.033844765342960284\n",
      "Educational;Creativity : 0.033844765342960284\n",
      "Educational;Action & Adventure : 0.033844765342960284\n",
      "Education;Music & Video : 0.033844765342960284\n",
      "Education;Brain Games : 0.033844765342960284\n",
      "Education;Action & Adventure : 0.033844765342960284\n",
      "Adventure;Action & Adventure : 0.033844765342960284\n",
      "Video Players & Editors;Music & Video : 0.02256317689530686\n",
      "Sports;Action & Adventure : 0.02256317689530686\n",
      "Simulation;Pretend Play : 0.02256317689530686\n",
      "Puzzle;Creativity : 0.02256317689530686\n",
      "Music;Music & Video : 0.02256317689530686\n",
      "Entertainment;Pretend Play : 0.02256317689530686\n",
      "Casual;Education : 0.02256317689530686\n",
      "Board;Action & Adventure : 0.02256317689530686\n",
      "Video Players & Editors;Creativity : 0.01128158844765343\n",
      "Trivia;Education : 0.01128158844765343\n",
      "Travel & Local;Action & Adventure : 0.01128158844765343\n",
      "Tools;Education : 0.01128158844765343\n",
      "Strategy;Education : 0.01128158844765343\n",
      "Strategy;Creativity : 0.01128158844765343\n",
      "Strategy;Action & Adventure : 0.01128158844765343\n",
      "Simulation;Education : 0.01128158844765343\n",
      "Role Playing;Brain Games : 0.01128158844765343\n",
      "Racing;Pretend Play : 0.01128158844765343\n",
      "Puzzle;Education : 0.01128158844765343\n",
      "Parenting;Brain Games : 0.01128158844765343\n",
      "Music & Audio;Music & Video : 0.01128158844765343\n",
      "Lifestyle;Pretend Play : 0.01128158844765343\n",
      "Lifestyle;Education : 0.01128158844765343\n",
      "Health & Fitness;Education : 0.01128158844765343\n",
      "Health & Fitness;Action & Adventure : 0.01128158844765343\n",
      "Entertainment;Education : 0.01128158844765343\n",
      "Communication;Creativity : 0.01128158844765343\n",
      "Comics;Creativity : 0.01128158844765343\n",
      "Casual;Music & Video : 0.01128158844765343\n",
      "Card;Action & Adventure : 0.01128158844765343\n",
      "Books & Reference;Education : 0.01128158844765343\n",
      "Art & Design;Pretend Play : 0.01128158844765343\n",
      "Art & Design;Action & Adventure : 0.01128158844765343\n",
      "Arcade;Pretend Play : 0.01128158844765343\n",
      "Adventure;Education : 0.01128158844765343\n"
     ]
    }
   ],
   "source": [
    "display_table(android_final,9)"
   ]
  },
  {
   "cell_type": "code",
   "execution_count": 144,
   "metadata": {},
   "outputs": [
    {
     "name": "stdout",
     "output_type": "stream",
     "text": [
      "Games : 53.65379272020006\n",
      "Entertainment : 7.4326201722700755\n",
      "Education : 6.293414837454849\n",
      "Photo & Video : 4.848569046957488\n",
      "Utilities : 3.445401500416782\n",
      "Health & Fitness : 2.5006946373992776\n",
      "Productivity : 2.4729091414281745\n",
      "Social Networking : 2.3200889135871074\n",
      "Lifestyle : 2.0005557099194218\n",
      "Music : 1.9171992220061127\n",
      "Shopping : 1.694915254237288\n",
      "Sports : 1.5837732703528755\n",
      "Book : 1.5559877743817727\n",
      "Finance : 1.4448457904973604\n",
      "Travel : 1.125312586829675\n",
      "News : 1.0419560989163656\n",
      "Weather : 1.0002778549597109\n",
      "Reference : 0.8891358710752986\n",
      "Food & Drink : 0.875243123089747\n",
      "Business : 0.7918866351764378\n",
      "Navigation : 0.6390664073353709\n",
      "Medical : 0.31953320366768545\n",
      "Catalogs : 0.13892747985551543\n",
      "prime_genre : 0.01389274798555154\n"
     ]
    }
   ],
   "source": [
    "display_table(ios,11)"
   ]
  },
  {
   "cell_type": "markdown",
   "metadata": {},
   "source": [
    "# Genres\n",
    "\n",
    "Above, we can see the results of our frequncy tables. We must first keep in mind that this is not representative of the App Store and Google Play stores as a whole. We are only looking at Free English apps from our sample.\n",
    "\n",
    "First let's focus on the Android data, given that the app would first be released on the Google Play Store. In our data set, we have 2 relevant columns, \"Category\" and \"Genre\". First, looking at the \"Category\" column, we can see that games make up a large portion of our applications. The \"Family\" category is actually populated by a large amount of games, as we can see when we search up the aforementioned category. That combined with the \"Games\" category makes up nearly a third of our total applications. Next we can look at the \"Genre\" column. The distinction seems unclear, however the Genre column contains a much larger variety, as well as more details. Since we are looking for a general overview, we should stick to the Category column.\n",
    "\n",
    "Next, we can look at the IOS data. This seems to be much more clear. The \"Games\" genre makes up a majority of the applications on the App Store. The IOS App Store also contains much more entertainment oriented applications than the Google Play Store.\n",
    "\n",
    "However, this is not enough information to decide what kind of app we should make. It is possible that Games might be the most popular category in terms of volume, but they might not be the best in terms of ratings. It's possible that there are simply more Games because they could be easier to make, or because developers might make more free games because they are more interested in Game Development than they are in developing an app for, for example, \"Medicine\". This also doesn't show us which genres have the most users.\n",
    "\n",
    "Thus, we still do not have enough information to suggest an app profile."
   ]
  },
  {
   "cell_type": "code",
   "execution_count": 140,
   "metadata": {},
   "outputs": [
    {
     "name": "stdout",
     "output_type": "stream",
     "text": [
      "['App', 'Category', 'Rating', 'Reviews', 'Size', 'Installs', 'Type', 'Price', 'Content Rating', 'Genres', 'Last Updated', 'Current Ver', 'Android Ver']\n",
      "\n",
      "\n",
      "['id', 'track_name', 'size_bytes', 'currency', 'price', 'rating_count_tot', 'rating_count_ver', 'user_rating', 'user_rating_ver', 'ver', 'cont_rating', 'prime_genre', 'sup_devices.num', 'ipadSc_urls.num', 'lang.num', 'vpp_lic']\n"
     ]
    }
   ],
   "source": [
    "print(android_header)\n",
    "print(\"\\n\")\n",
    "print(ios_header)"
   ]
  },
  {
   "cell_type": "code",
   "execution_count": 186,
   "metadata": {},
   "outputs": [],
   "source": [
    "prime_gen=freq_table(ios_final,11)\n",
    "\n",
    "def user_rtg(dataset,genre_index,rating_index):\n",
    "    prime_gen=freq_table(dataset,genre_index)\n",
    "    for genre in prime_gen:\n",
    "        total=0\n",
    "        len_genre=0\n",
    "        \n",
    "        for app in dataset:\n",
    "            genre_app=app[genre_index]\n",
    "            \n",
    "            if genre==genre_app:\n",
    "                total+=float(app[rating_index])\n",
    "                len_genre+=1\n",
    "        avg_ratings=total/len_genre\n",
    "        print(genre + \": \" + str(avg_ratings),  len_genre)"
   ]
  },
  {
   "cell_type": "code",
   "execution_count": 189,
   "metadata": {},
   "outputs": [
    {
     "name": "stdout",
     "output_type": "stream",
     "text": [
      "ART_AND_DESIGN: 24699.42105263158 57\n",
      "AUTO_AND_VEHICLES: 14140.280487804877 82\n",
      "BEAUTY: 7476.226415094339 53\n",
      "BOOKS_AND_REFERENCE: 87995.06842105264 190\n",
      "BUSINESS: 24239.727272727272 407\n",
      "COMICS: 42585.61818181818 55\n",
      "COMMUNICATION: 995608.4634146341 287\n",
      "DATING: 21953.272727272728 165\n",
      "EDUCATION: 56293.09708737864 103\n",
      "ENTERTAINMENT: 301752.24705882353 85\n",
      "EVENTS: 2555.84126984127 63\n",
      "FINANCE: 38535.8993902439 328\n",
      "FOOD_AND_DRINK: 57478.79090909091 110\n",
      "HEALTH_AND_FITNESS: 78094.9706959707 273\n",
      "HOUSE_AND_HOME: 26435.465753424658 73\n",
      "LIBRARIES_AND_DEMO: 10925.807228915663 83\n",
      "LIFESTYLE: 33921.82369942196 346\n",
      "GAME: 683523.8445475638 862\n",
      "FAMILY: 113142.99821002387 1676\n",
      "MEDICAL: 3730.1533546325877 313\n",
      "SOCIAL: 965830.9872881356 236\n",
      "SHOPPING: 223887.34673366835 199\n",
      "PHOTOGRAPHY: 404081.3754789272 261\n",
      "SPORTS: 116938.6146179402 301\n",
      "TRAVEL_AND_LOCAL: 129484.42512077295 207\n",
      "TOOLS: 305732.8973333333 750\n",
      "PERSONALIZATION: 181122.31632653062 294\n",
      "PRODUCTIVITY: 160634.5420289855 345\n",
      "PARENTING: 16378.706896551725 58\n",
      "WEATHER: 171250.77464788733 71\n",
      "VIDEO_PLAYERS: 425350.08176100627 159\n",
      "NEWS_AND_MAGAZINES: 93088.03225806452 248\n",
      "MAPS_AND_NAVIGATION: 142860.0483870968 124\n",
      "\n",
      "\n",
      "Social Networking: 71548.34905660378 106\n",
      "Photo & Video: 28441.54375 160\n",
      "Games: 22788.6696905016 1874\n",
      "Music: 57326.530303030304 66\n",
      "Reference: 74942.11111111111 18\n",
      "Health & Fitness: 23298.015384615384 65\n",
      "Weather: 52279.892857142855 28\n",
      "Utilities: 18684.456790123455 81\n",
      "Travel: 28243.8 40\n",
      "Shopping: 26919.690476190477 84\n",
      "News: 21248.023255813954 43\n",
      "Navigation: 86090.33333333333 6\n",
      "Lifestyle: 16485.764705882353 51\n",
      "Entertainment: 14029.830708661417 254\n",
      "Food & Drink: 33333.92307692308 26\n",
      "Sports: 23008.898550724636 69\n",
      "Book: 39758.5 14\n",
      "Finance: 31467.944444444445 36\n",
      "Education: 7003.983050847458 118\n",
      "Productivity: 21028.410714285714 56\n",
      "Business: 7491.117647058823 17\n",
      "Catalogs: 4004.0 4\n",
      "Medical: 612.0 6\n"
     ]
    }
   ],
   "source": [
    "user_rtg(ios_final,-5,5)\n",
    "\n",
    "print(\"\\n\")\n",
    "\n",
    "\n",
    "user_rtg(android_final,1,3)\n"
   ]
  },
  {
   "cell_type": "markdown",
   "metadata": {},
   "source": [
    "# App Store User Ratings\n",
    " \n",
    "With the IOS App Store dataset, we do not have access to the number of installs, so we will look at the next best thing which is the number of reviews. \n",
    "\n",
    "We can see that the category with the most number of reviews/app is Navigation. However, this is largely dominated by a few apps such as Google Maps and Waze. There are only 6 apps in this category and 2 of them are the aforementioned giants, both owned by Google. Thus it might not be wise to create a Navigation app.\n",
    "\n",
    "Social Networking apps fare a similar faith. While they have many reviews per app and there are 106 apps in this category, the category is still dominated by a few dozen giants. Regardless, Social Media apps would not be a good choice as they would need to hit an inflection point before they take off in popularity which would be difficult to do, as people won't use these apps unless they know people using them.\n",
    "\n",
    "Reference apps could be a good idea. They are next in line in terms of reviews per app and while they have a few giants, they aren't as heavily dominated by them as Social Networking and Navigation apps were. Perhaps it could be a religous app or a guide of some sort."
   ]
  },
  {
   "cell_type": "code",
   "execution_count": 195,
   "metadata": {
    "scrolled": true
   },
   "outputs": [
    {
     "name": "stdout",
     "output_type": "stream",
     "text": [
      "['282935706', 'Bible', '92774400', 'USD', '0.0', '985920', '5320', '4.5', '5.0', '7.5.1', '4+', 'Reference', '37', '5', '45', '1']\n",
      "['308750436', 'Dictionary.com Dictionary & Thesaurus', '111275008', 'USD', '0.0', '200047', '177', '4.0', '4.0', '7.1.3', '4+', 'Reference', '37', '0', '1', '1']\n",
      "['364740856', 'Dictionary.com Dictionary & Thesaurus for iPad', '165748736', 'USD', '0.0', '54175', '10176', '4.5', '4.5', '4.0', '4+', 'Reference', '24', '5', '9', '1']\n",
      "['414706506', 'Google Translate', '65281024', 'USD', '0.0', '26786', '27', '3.5', '4.5', '5.10.0', '4+', 'Reference', '37', '5', '59', '1']\n",
      "['388389451', 'Muslim Pro: Ramadan 2017 Prayer Times, Azan, Quran', '100551680', 'USD', '0.0', '18418', '706', '4.5', '5.0', '9.2.1', '4+', 'Reference', '37', '5', '16', '1']\n",
      "['1130829481', 'New Furniture Mods - Pocket Wiki & Game Tools for Minecraft PC Edition', '52959232', 'USD', '0.0', '17588', '17588', '4.5', '4.5', '1.0', '4+', 'Reference', '38', '3', '2', '1']\n",
      "['399452287', 'Merriam-Webster Dictionary', '155593728', 'USD', '0.0', '16849', '1125', '4.5', '4.5', '4.1', '4+', 'Reference', '38', '1', '12', '1']\n",
      "['475772902', 'Night Sky', '596499456', 'USD', '0.0', '12122', '60', '4.5', '4.5', '4.4.1', '4+', 'Reference', '37', '5', '29', '1']\n",
      "['1135575003', 'City Maps for Minecraft PE - The Best Maps for Minecraft Pocket Edition (MCPE)', '90124288', 'USD', '0.0', '8535', '8535', '4.0', '4.0', '1.0', '4+', 'Reference', '37', '4', '1', '1']\n",
      "['1132715891', 'LUCKY BLOCK MOD ™ for Minecraft PC Edition - The Best Pocket Wiki & Mods Installer Tools', '86874112', 'USD', '0.0', '4693', '4693', '4.0', '4.0', '1.0', '12+', 'Reference', '37', '4', '1', '1']\n",
      "['1137683736', 'GUNS MODS for Minecraft PC Edition - Mods Tools', '85424128', 'USD', '0.0', '1497', '245', '4.0', '3.0', '1.1', '12+', 'Reference', '37', '4', '1', '1']\n",
      "['1133678984', 'Guides for Pokémon GO - Pokemon GO News and Cheats', '27029504', 'USD', '0.0', '826', '58', '4.5', '4.0', '1.1', '17+', 'Reference', '37', '2', '1', '1']\n",
      "['640199958', 'WWDC', '34959360', 'USD', '0.0', '762', '7', '3.5', '4.5', '6.0.0', '4+', 'Reference', '37', '5', '1', '1']\n",
      "['1133706938', 'Horror Maps for Minecraft PE - Download The Scariest Maps for Minecraft Pocket Edition (MCPE) Free', '89927680', 'USD', '0.0', '718', '718', '4.0', '4.0', '1.0', '12+', 'Reference', '37', '4', '1', '1']\n",
      "['1003837100', 'VPN Express', '10645504', 'USD', '0.0', '14', '1', '4.5', '5.0', '1.8', '4+', 'Reference', '37', '2', '2', '1']\n",
      "['1156856246', 'Real Bike Traffic Rider Virtual Reality Glasses', '125990912', 'USD', '0.0', '8', '2', '3.0', '4.5', '8.9', '17+', 'Reference', '40', '5', '1', '1']\n",
      "['980134624', '教えて!goo', '44208128', 'USD', '0.0', '0', '0', '0.0', '0.0', '2.2.3', '12+', 'Reference', '37', '0', '1', '1']\n",
      "['671889349', 'Jishokun-Japanese English Dictionary & Translator', '225522688', 'USD', '0.0', '0', '0', '0.0', '0.0', '2.10.14', '12+', 'Reference', '37', '4', '2', '1']\n"
     ]
    }
   ],
   "source": [
    "# for app in ios_final:\n",
    "#     if app[-5]==\"Navigation\":\n",
    "#         print(app)\n",
    "        \n",
    "# for app in ios_final:\n",
    "#     if app[-5]==\"Social Networking\":\n",
    "#         print(app)\n",
    "        \n",
    "for app in ios_final:\n",
    "    if app[-5]==\"Reference\":\n",
    "        print(app)"
   ]
  },
  {
   "cell_type": "code",
   "execution_count": null,
   "metadata": {},
   "outputs": [],
   "source": []
  },
  {
   "cell_type": "code",
   "execution_count": null,
   "metadata": {},
   "outputs": [],
   "source": []
  }
 ],
 "metadata": {
  "kernelspec": {
   "display_name": "Python 3",
   "language": "python",
   "name": "python3"
  },
  "language_info": {
   "codemirror_mode": {
    "name": "ipython",
    "version": 3
   },
   "file_extension": ".py",
   "mimetype": "text/x-python",
   "name": "python",
   "nbconvert_exporter": "python",
   "pygments_lexer": "ipython3",
   "version": "3.9.2"
  }
 },
 "nbformat": 4,
 "nbformat_minor": 4
}
