{
 "cells": [
  {
   "cell_type": "code",
   "execution_count": 1,
   "metadata": {},
   "outputs": [],
   "source": [
    "def welcome(a_string):\n",
    "    return \"Welcome to \" + a_string + \"!\"\n",
    "dq=\"Dataquest\"\n",
    "jn=\"Jupyter Notebook\"\n",
    "# py=\"Python\""
   ]
  },
  {
   "cell_type": "code",
   "execution_count": 2,
   "metadata": {},
   "outputs": [],
   "source": [
    "welcome(dq)\n",
    "welcome(jn)\n",
    "# welcome(py)"
   ]
  },
  {
   "cell_type": "code",
   "execution_count": 3,
   "metadata": {},
   "outputs": [],
   "source": [
    "result=1200/5\n",
    "second_cell=True\n",
    "\n",
    "if second_cell:\n",
    "    print(result)\n",
    "print(\"Second cell\")"
   ]
  },
  {
   "cell_type": "code",
   "execution_count": 4,
   "metadata": {},
   "outputs": [],
   "source": [
    "print(\"A true thrid cell\")"
   ]
  },
  {
   "cell_type": "markdown",
   "metadata": {},
   "source": [
    "Some of the most useful keyboard shortcuts we can use in command mode are:\n",
    "\n",
    "Ctrl + Enter: run selected cell\n",
    "\n",
    "Shift + Enter: run cell, select below\n",
    "\n",
    "Alt + Enter: run cell, insert below\n",
    "\n",
    "Up: select cell above\n",
    "\n",
    "Down: select cell below\n",
    "\n",
    "Enter: enter edit mode\n",
    "\n",
    "A: insert cell above\n",
    "\n",
    "B: insert cell below\n",
    "\n",
    "D, D (press D twice): delete selected cell\n",
    "\n",
    "Z: undo cell deletion\n",
    "\n",
    "S: save and checkpoint\n",
    "\n",
    "Y: convert to code cell\n",
    "\n",
    "M: convert to Markdown cell (we'll talk about Markdown cells later in this mission)\n"
   ]
  },
  {
   "cell_type": "markdown",
   "metadata": {},
   "source": [
    "Some of the most useful keyboard shortcuts we can use in edit mode are:\n",
    "\n",
    "Ctrl + Enter: run selected cell\n",
    "\n",
    "Shift + Enter: run cell, select below\n",
    "\n",
    "Alt + Enter: run cell, insert below\n",
    "\n",
    "Up: move cursor up\n",
    "\n",
    "Down: move cursor down\n",
    "\n",
    "Esc: enter command mode\n",
    "\n",
    "Ctrl + A: select all\n",
    "\n",
    "Ctrl + Z: undo\n",
    "\n",
    "Ctrl + Y: redo\n",
    "\n",
    "Ctrl + S: save and checkpoint\n",
    "\n",
    "Tab: indent or code completion\n",
    "\n",
    "Shift + Tab: tooltip (for instance, if you press Shift + Tab while the cursor is within the parentheses of a \n",
    "built-in function, a tooltip with documentation will pop up)"
   ]
  },
  {
   "cell_type": "code",
   "execution_count": 13,
   "metadata": {},
   "outputs": [
    {
     "name": "stdout",
     "output_type": "stream",
     "text": [
      ">>> def welcome(a_string):\n",
      "...     return \"Welcome to \" + a_string + \"!\"\n",
      "... dq=\"Dataquest\"\n",
      "... jn=\"Jupyter Notebook\"\n",
      "... # py=\"Python\"\n",
      "...\n",
      ">>> welcome(dq)\n",
      "... welcome(jn)\n",
      "... # welcome(py)\n",
      "...\n",
      ">>> result=1200/5\n",
      "... second_cell=True\n",
      "... \n",
      "... if second_cell:\n",
      "...     print(result)\n",
      "... print(\"Second cell\")\n",
      "...\n",
      ">>> print(\"A true thrid cell\")\n",
      ">>> %history -p\n",
      ">>> open(\"AppleStore.csv\")\n",
      ">>> open(\"AppleStore.csv\",encoding=\"utf8\")\n",
      ">>> open(\"AppleStore.csv\")\n",
      ">>> open(\"AppleStore.csv\",encoding=\"utf8\")\n",
      ">>> open(\"AppleStore.csv\")\n",
      ">>> opened_file=open(\"AppleStore.csv\")\n",
      "... from csv import reader\n",
      "... read_file=reader(opened_file)\n",
      "... apps_data=list(read_file)\n",
      "...\n",
      ">>> opened_file=open(\"AppleStore.csv\")\n",
      "... from csv import reader\n",
      "... read_file=reader(opened_file)\n",
      "... apps_data=list(read_file)\n",
      "... \n",
      "... print(apps_data[:5])\n",
      "...\n",
      ">>> %history -p\n"
     ]
    }
   ],
   "source": [
    "%history -p"
   ]
  },
  {
   "cell_type": "markdown",
   "metadata": {},
   "source": [
    "# Dataset Information\n",
    "\n",
    "Our dataset contains a information on over seven thousand different IOS applications.\n",
    "\n",
    "We have information such as the app's name, size, price, ratings, and genre. The documentation for our dataset can be seen [here](https://www.kaggle.com/ramamet4/app-store-apple-data-set-10k-apps). Below is a table showing what each column represents.\n",
    "\n",
    "\n",
    "| Column Name      | Description |\n",
    "| ----------- | ----------- |\n",
    "| id      | App ID       |\n",
    "| track_name   | App Name        |\n",
    "| size_bytes      | Size in bytes       |\n",
    "| currency   | Currency type        |\n",
    "| price      | Price amount       |\n",
    "| rating_count_tot   | User Rating counts (for all versions)        |\n",
    "| rating_count_ver      | User Rating counts (for current version)       |\n",
    "| user_rating   | Average User Rating value (for all versions)        |\n",
    "| user_rating_ver      | Average User Rating value (for current version)         |\n",
    "| ver   | Latest version code        |\n",
    "| cont_rating      | Content Rating       |\n",
    "| prime_genre   | Primary Genre        |\n",
    "| sup_devices.num      | Number of supporting devices       |\n",
    "| ipadSc_urls.num   | Number of screenshots showed for display        |\n",
    "| lang.num      | Number of supported languages       |\n",
    "| vpp_lic   | Vpp Device Based Licensing Enabled        |\n"
   ]
  },
  {
   "cell_type": "code",
   "execution_count": 12,
   "metadata": {},
   "outputs": [
    {
     "name": "stdout",
     "output_type": "stream",
     "text": [
      "[['id', 'track_name', 'size_bytes', 'currency', 'price', 'rating_count_tot', 'rating_count_ver', 'user_rating', 'user_rating_ver', 'ver', 'cont_rating', 'prime_genre', 'sup_devices.num', 'ipadSc_urls.num', 'lang.num', 'vpp_lic'], ['284882215', 'Facebook', '389879808', 'USD', '0.0', '2974676', '212', '3.5', '3.5', '95.0', '4+', 'Social Networking', '37', '1', '29', '1'], ['389801252', 'Instagram', '113954816', 'USD', '0.0', '2161558', '1289', '4.5', '4.0', '10.23', '12+', 'Photo & Video', '37', '0', '29', '1'], ['529479190', 'Clash of Clans', '116476928', 'USD', '0.0', '2130805', '579', '4.5', '4.5', '9.24.12', '9+', 'Games', '38', '5', '18', '1'], ['420009108', 'Temple Run', '65921024', 'USD', '0.0', '1724546', '3842', '4.5', '4.0', '1.6.2', '9+', 'Games', '40', '5', '1', '1']]\n"
     ]
    }
   ],
   "source": [
    "opened_file=open(\"AppleStore.csv\")\n",
    "from csv import reader\n",
    "read_file=reader(opened_file)\n",
    "apps_data=list(read_file)\n",
    "\n",
    "print(apps_data[:5])"
   ]
  },
  {
   "cell_type": "code",
   "execution_count": null,
   "metadata": {},
   "outputs": [],
   "source": []
  }
 ],
 "metadata": {
  "kernelspec": {
   "display_name": "Python 3",
   "language": "python",
   "name": "python3"
  },
  "language_info": {
   "codemirror_mode": {
    "name": "ipython",
    "version": 3
   },
   "file_extension": ".py",
   "mimetype": "text/x-python",
   "name": "python",
   "nbconvert_exporter": "python",
   "pygments_lexer": "ipython3",
   "version": "3.9.2"
  }
 },
 "nbformat": 4,
 "nbformat_minor": 4
}
