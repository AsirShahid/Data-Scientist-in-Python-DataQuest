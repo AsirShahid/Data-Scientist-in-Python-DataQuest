{
 "cells": [
  {
   "cell_type": "code",
   "execution_count": 3,
   "metadata": {},
   "outputs": [],
   "source": [
    "def welcome(a_string):\n",
    "    print(\"Welcome to \" + a_string + \"!\")\n",
    "dq=\"Dataquest\"\n",
    "jn=\"Jupyter Notebook\"\n",
    "py=\"Python\""
   ]
  },
  {
   "cell_type": "code",
   "execution_count": 4,
   "metadata": {},
   "outputs": [
    {
     "name": "stdout",
     "output_type": "stream",
     "text": [
      "Welcome to Dataquest!\n",
      "Welcome to Jupyter Notebook!\n",
      "Welcome to Python!\n"
     ]
    }
   ],
   "source": [
    "welcome(dq)\n",
    "welcome(jn)\n",
    "welcome(py)"
   ]
  },
  {
   "cell_type": "code",
   "execution_count": null,
   "metadata": {},
   "outputs": [],
   "source": [
    "result=1200/5\n",
    "second_cell=True\n",
    "\n",
    "if second_cell:\n",
    "    print(result)\n",
    "print(\"Second cell\")"
   ]
  },
  {
   "cell_type": "code",
   "execution_count": null,
   "metadata": {},
   "outputs": [],
   "source": [
    "print(\"A true thrid cell\")"
   ]
  },
  {
   "cell_type": "markdown",
   "metadata": {},
   "source": [
    "Some of the most useful keyboard shortcuts we can use in command mode are:\n",
    "\n",
    "Ctrl + Enter: run selected cell\n",
    "\n",
    "Shift + Enter: run cell, select below\n",
    "\n",
    "Alt + Enter: run cell, insert below\n",
    "\n",
    "Up: select cell above\n",
    "\n",
    "Down: select cell below\n",
    "\n",
    "Enter: enter edit mode\n",
    "\n",
    "A: insert cell above\n",
    "\n",
    "B: insert cell below\n",
    "\n",
    "D, D (press D twice): delete selected cell\n",
    "\n",
    "Z: undo cell deletion\n",
    "\n",
    "S: save and checkpoint\n",
    "\n",
    "Y: convert to code cell\n",
    "\n",
    "M: convert to Markdown cell (we'll talk about Markdown cells later in this mission)\n"
   ]
  },
  {
   "cell_type": "markdown",
   "metadata": {},
   "source": [
    "Some of the most useful keyboard shortcuts we can use in edit mode are:\n",
    "\n",
    "Ctrl + Enter: run selected cell\n",
    "\n",
    "Shift + Enter: run cell, select below\n",
    "\n",
    "Alt + Enter: run cell, insert below\n",
    "\n",
    "Up: move cursor up\n",
    "\n",
    "Down: move cursor down\n",
    "\n",
    "Esc: enter command mode\n",
    "\n",
    "Ctrl + A: select all\n",
    "\n",
    "Ctrl + Z: undo\n",
    "\n",
    "Ctrl + Y: redo\n",
    "\n",
    "Ctrl + S: save and checkpoint\n",
    "\n",
    "Tab: indent or code completion\n",
    "\n",
    "Shift + Tab: tooltip (for instance, if you press Shift + Tab while the cursor is within the parentheses of a \n",
    "built-in function, a tooltip with documentation will pop up)"
   ]
  },
  {
   "cell_type": "code",
   "execution_count": 5,
   "metadata": {},
   "outputs": [
    {
     "name": "stdout",
     "output_type": "stream",
     "text": [
      ">>> %history -p\n",
      ">>> welcome(dq)\n",
      "... welcome(jn)\n",
      "... welcome(py)\n",
      "...\n",
      ">>> def welcome(a_string):\n",
      "...     print(\"Welcome to \" + a_string + \"!\")\n",
      "... dq=\"Dataquest\"\n",
      "... jn=\"Jupyter Notebook\"\n",
      "... py=\"Python\"\n",
      "...\n",
      ">>> welcome(dq)\n",
      "... welcome(jn)\n",
      "... welcome(py)\n",
      "...\n",
      ">>> %history -p\n"
     ]
    }
   ],
   "source": [
    "%history -p"
   ]
  },
  {
   "cell_type": "code",
   "execution_count": null,
   "metadata": {},
   "outputs": [],
   "source": []
  }
 ],
 "metadata": {
  "kernelspec": {
   "display_name": "Python 3",
   "language": "python",
   "name": "python3"
  },
  "language_info": {
   "codemirror_mode": {
    "name": "ipython",
    "version": 3
   },
   "file_extension": ".py",
   "mimetype": "text/x-python",
   "name": "python",
   "nbconvert_exporter": "python",
   "pygments_lexer": "ipython3",
   "version": "3.9.2"
  }
 },
 "nbformat": 4,
 "nbformat_minor": 4
}
