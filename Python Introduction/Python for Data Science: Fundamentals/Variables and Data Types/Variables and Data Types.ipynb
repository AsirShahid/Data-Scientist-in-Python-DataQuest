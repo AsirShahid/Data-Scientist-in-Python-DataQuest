{
 "cells": [
  {
   "cell_type": "code",
   "execution_count": 2,
   "metadata": {},
   "outputs": [
    {
     "name": "stdout",
     "output_type": "stream",
     "text": [
      "682\n"
     ]
    }
   ],
   "source": [
    "result=(42-11)*22\n",
    "print(result)"
   ]
  },
  {
   "cell_type": "code",
   "execution_count": 5,
   "metadata": {},
   "outputs": [
    {
     "name": "stdout",
     "output_type": "stream",
     "text": [
      "15\n",
      "318\n",
      "321\n"
     ]
    }
   ],
   "source": [
    "a_value=15\n",
    "a_result=(25-7)*17\n",
    "print(a_value)\n",
    "print(a_result+12)\n",
    "print(a_value+a_result)"
   ]
  },
  {
   "cell_type": "code",
   "execution_count": 6,
   "metadata": {},
   "outputs": [],
   "source": [
    "# INITIAL CODE\n",
    "\n",
    "#old-income=34000\n",
    "#new income =40000\n",
    "\n",
    "old_income=34000\n",
    "new_income=40000"
   ]
  },
  {
   "cell_type": "code",
   "execution_count": 7,
   "metadata": {},
   "outputs": [
    {
     "name": "stdout",
     "output_type": "stream",
     "text": [
      "40000\n"
     ]
    }
   ],
   "source": [
    "income=34000\n",
    "income=34000+6000\n",
    "print(income)"
   ]
  },
  {
   "cell_type": "code",
   "execution_count": 9,
   "metadata": {},
   "outputs": [
    {
     "name": "stdout",
     "output_type": "stream",
     "text": [
      "80\n",
      "30\n"
     ]
    }
   ],
   "source": [
    "variable_1=20\n",
    "variable_2=20\n",
    "variable_2+=10\n",
    "variable_1*=4\n",
    "print(variable_1)\n",
    "print(variable_2)"
   ]
  },
  {
   "cell_type": "code",
   "execution_count": 11,
   "metadata": {},
   "outputs": [
    {
     "name": "stdout",
     "output_type": "stream",
     "text": [
      "16.5\n",
      "5.0\n"
     ]
    }
   ],
   "source": [
    "variable_1=10\n",
    "variable_2=2.5\n",
    "variable_1+=6.5\n",
    "variable_2*=2\n",
    "print(variable_1)\n",
    "print(variable_2)"
   ]
  },
  {
   "cell_type": "code",
   "execution_count": 13,
   "metadata": {},
   "outputs": [
    {
     "name": "stdout",
     "output_type": "stream",
     "text": [
      "14\n",
      "2\n"
     ]
    }
   ],
   "source": [
    "variable_a=13.9\n",
    "variable_b=2.8\n",
    "variable_a=round(variable_a)\n",
    "variable_b=int(variable_b)\n",
    "print(variable_a)\n",
    "print(variable_b)"
   ]
  },
  {
   "cell_type": "code",
   "execution_count": 14,
   "metadata": {},
   "outputs": [
    {
     "name": "stdout",
     "output_type": "stream",
     "text": [
      "Pandora - Music & Radio\n"
     ]
    }
   ],
   "source": [
    "app_name=\"Pandora - Music & Radio\"\n",
    "average_rating=\"4.0\"\n",
    "total_ratings=\"1724546\"\n",
    "price=\"free\"\n",
    "print(app_name)"
   ]
  },
  {
   "cell_type": "code",
   "execution_count": 17,
   "metadata": {},
   "outputs": [
    {
     "name": "stdout",
     "output_type": "stream",
     "text": [
      "Facebook's new motto is \"move fast with stable infra.\"\n"
     ]
    }
   ],
   "source": [
    "motto=\"Facebook's new motto is \\\"move fast with stable infra.\\\"\"\n",
    "print(motto)"
   ]
  },
  {
   "cell_type": "code",
   "execution_count": 18,
   "metadata": {},
   "outputs": [
    {
     "name": "stdout",
     "output_type": "stream",
     "text": [
      "Facebook's rating is 3.5\n"
     ]
    }
   ],
   "source": [
    "facebook=\"Facebook's rating is\"\n",
    "fb_rating=3.5\n",
    "fb_rating_str=str(fb_rating)\n",
    "fb=facebook + \" \" + fb_rating_str\n",
    "print(fb)"
   ]
  },
  {
   "cell_type": "code",
   "execution_count": null,
   "metadata": {},
   "outputs": [],
   "source": []
  }
 ],
 "metadata": {
  "kernelspec": {
   "display_name": "Python 3",
   "language": "python",
   "name": "python3"
  },
  "language_info": {
   "codemirror_mode": {
    "name": "ipython",
    "version": 3
   },
   "file_extension": ".py",
   "mimetype": "text/x-python",
   "name": "python",
   "nbconvert_exporter": "python",
   "pygments_lexer": "ipython3",
   "version": "3.9.2"
  }
 },
 "nbformat": 4,
 "nbformat_minor": 4
}
