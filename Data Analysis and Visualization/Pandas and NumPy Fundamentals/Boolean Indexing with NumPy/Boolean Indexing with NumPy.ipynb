{
 "cells": [
  {
   "cell_type": "markdown",
   "metadata": {},
   "source": [
    "# 1. Reading CSV files with NumPy"
   ]
  },
  {
   "cell_type": "code",
   "execution_count": 1,
   "metadata": {},
   "outputs": [],
   "source": [
    "import numpy as np\n",
    "\n",
    "taxi=np.genfromtxt(\"nyc_taxis.csv\",delimiter=',')\n",
    "\n",
    "taxi_shape=taxi.shape\n"
   ]
  },
  {
   "cell_type": "markdown",
   "metadata": {},
   "source": [
    "# 2. Reading CSV files with NumPy Continued"
   ]
  },
  {
   "cell_type": "code",
   "execution_count": 2,
   "metadata": {},
   "outputs": [],
   "source": [
    "taxi=np.genfromtxt(\"nyc_taxis.csv\",delimiter=',')\n",
    "\n",
    "taxi=taxi[1:]\n",
    "\n",
    "taxi_shape=taxi.shape"
   ]
  },
  {
   "cell_type": "markdown",
   "metadata": {},
   "source": [
    "# 3. Boolean Arrays"
   ]
  },
  {
   "cell_type": "code",
   "execution_count": 3,
   "metadata": {},
   "outputs": [],
   "source": [
    "a = np.array([1, 2, 3, 4, 5])\n",
    "b = np.array([\"blue\", \"blue\", \"red\", \"blue\"])\n",
    "c = np.array([80.0, 103.4, 96.9, 200.3])\n",
    "\n",
    "a_bool=a<3\n",
    "b_bool=b==\"blue\"\n",
    "c_bool=c>100"
   ]
  },
  {
   "cell_type": "markdown",
   "metadata": {},
   "source": [
    "# 4. Boolean Indexing with 1D ndarrays"
   ]
  },
  {
   "cell_type": "code",
   "execution_count": 4,
   "metadata": {},
   "outputs": [],
   "source": [
    "pickup_month = taxi[:,1]\n",
    "\n",
    "january_bool = pickup_month == 1\n",
    "january = pickup_month[january_bool]\n",
    "january_rides = january.shape[0]\n",
    "\n",
    "february_bool=pickup_month==2\n",
    "february=pickup_month[february_bool]\n",
    "february_rides=february.shape[0]"
   ]
  },
  {
   "cell_type": "markdown",
   "metadata": {},
   "source": [
    "# 5. Boolean Indexing with 2D ndarrays"
   ]
  },
  {
   "cell_type": "code",
   "execution_count": 5,
   "metadata": {},
   "outputs": [],
   "source": [
    "tip_amount = taxi[:,12]\n",
    "tip_bool=tip_amount>50\n",
    "top_tips=taxi[tip_bool,5:14]"
   ]
  },
  {
   "cell_type": "markdown",
   "metadata": {},
   "source": [
    "# 6. Assigning Values in ndarrays"
   ]
  },
  {
   "cell_type": "code",
   "execution_count": 6,
   "metadata": {},
   "outputs": [],
   "source": [
    "# this creates a copy of our taxi ndarray\n",
    "taxi_modified = taxi.copy()\n",
    "\n",
    "taxi_modified[1066,5]=1\n",
    "taxi_modified[:,0]=16\n",
    "taxi_modified[550:552,7]=taxi_modified[:,7].mean()"
   ]
  },
  {
   "cell_type": "markdown",
   "metadata": {},
   "source": [
    "# 7. Assignment Using Boolean Arrays"
   ]
  },
  {
   "cell_type": "code",
   "execution_count": 7,
   "metadata": {},
   "outputs": [],
   "source": [
    "# this creates a copy of our taxi ndarray\n",
    "taxi_copy = taxi.copy()\n",
    "\n",
    "total_amount=taxi_copy[:,13]\n",
    "total_amount[total_amount<0]=0"
   ]
  },
  {
   "cell_type": "markdown",
   "metadata": {},
   "source": [
    "# 8. Assignment Using Boolean Arrays Continued"
   ]
  },
  {
   "cell_type": "code",
   "execution_count": 8,
   "metadata": {},
   "outputs": [
    {
     "name": "stdout",
     "output_type": "stream",
     "text": [
      "[[2.016e+03 1.000e+00 1.000e+00 ... 6.999e+01 1.000e+00 0.000e+00]\n",
      " [2.016e+03 1.000e+00 1.000e+00 ... 5.430e+01 1.000e+00 0.000e+00]\n",
      " [2.016e+03 1.000e+00 1.000e+00 ... 3.780e+01 2.000e+00 0.000e+00]\n",
      " ...\n",
      " [2.016e+03 6.000e+00 3.000e+01 ... 6.334e+01 1.000e+00 0.000e+00]\n",
      " [2.016e+03 6.000e+00 3.000e+01 ... 4.475e+01 1.000e+00 0.000e+00]\n",
      " [2.016e+03 6.000e+00 3.000e+01 ... 5.484e+01 2.000e+00 0.000e+00]]\n"
     ]
    }
   ],
   "source": [
    "# create a new column filled with `0`.\n",
    "zeros = np.zeros([taxi.shape[0], 1])\n",
    "taxi_modified = np.concatenate([taxi, zeros], axis=1)\n",
    "print(taxi_modified)\n",
    "\n",
    "airports=[2,3,5]\n",
    "\n",
    "for i in airports:\n",
    "    taxi_modified[taxi_modified[:,5]==i,15]=1"
   ]
  },
  {
   "cell_type": "markdown",
   "metadata": {},
   "source": [
    "# 9. Challenge: Which is the most popular airport?"
   ]
  },
  {
   "cell_type": "code",
   "execution_count": 11,
   "metadata": {},
   "outputs": [],
   "source": [
    "jfk=taxi[taxi[:,6]==2]\n",
    "jfk_count=jfk.shape[0]\n",
    "\n",
    "laguardia=taxi[taxi[:,6]==3]\n",
    "laguardia_count=laguardia.shape[0]\n",
    "\n",
    "newark=taxi[taxi[:,6]==5]\n",
    "newark_count=newark.shape[0]"
   ]
  },
  {
   "cell_type": "markdown",
   "metadata": {},
   "source": [
    "# 10. Challenge: Calculating Statistics for Trips on Clean Data"
   ]
  },
  {
   "cell_type": "code",
   "execution_count": 15,
   "metadata": {},
   "outputs": [],
   "source": [
    "trip_mph = taxi[:,7] / (taxi[:,8] / 3600)\n",
    "cleaned_taxi=taxi[trip_mph<100]\n",
    "\n",
    "mean_distance=cleaned_taxi[:,7].mean()\n",
    "mean_length=cleaned_taxi[:,8].mean()\n",
    "mean_total_amount=cleaned_taxi[:,13].mean()"
   ]
  }
 ],
 "metadata": {
  "kernelspec": {
   "display_name": "Python 3",
   "language": "python",
   "name": "python3"
  },
  "language_info": {
   "codemirror_mode": {
    "name": "ipython",
    "version": 3
   },
   "file_extension": ".py",
   "mimetype": "text/x-python",
   "name": "python",
   "nbconvert_exporter": "python",
   "pygments_lexer": "ipython3",
   "version": "3.9.4"
  }
 },
 "nbformat": 4,
 "nbformat_minor": 4
}
