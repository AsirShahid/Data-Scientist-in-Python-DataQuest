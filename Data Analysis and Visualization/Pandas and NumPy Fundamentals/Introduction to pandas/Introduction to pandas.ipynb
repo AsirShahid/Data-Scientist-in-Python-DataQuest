{
 "cells": [
  {
   "cell_type": "markdown",
   "metadata": {},
   "source": [
    "# 1. Understanding pandas and NumPy"
   ]
  },
  {
   "cell_type": "markdown",
   "metadata": {},
   "source": [
    "The Pandas library provides solutions for many issues found in NumPy. It should be considered an extension of NumPy.\n",
    "\n",
    "Instead of NumPy 2D ndarrays, we will be using Dataframes."
   ]
  },
  {
   "cell_type": "markdown",
   "metadata": {},
   "source": [
    "# 2. Introduction to the Data"
   ]
  },
  {
   "cell_type": "code",
   "execution_count": 1,
   "metadata": {},
   "outputs": [],
   "source": [
    "import pandas as pd\n",
    "f500=pd.read_csv(\"f500.csv\",index_col=0)\n",
    "f500.index.name=None\n",
    "\n",
    "f500_type=type(f500)\n",
    "f500_shape=f500.shape"
   ]
  },
  {
   "cell_type": "markdown",
   "metadata": {},
   "source": [
    "# 3. Introducing DataFrames"
   ]
  },
  {
   "cell_type": "code",
   "execution_count": 2,
   "metadata": {},
   "outputs": [],
   "source": [
    "f500_head=f500.head(6)\n",
    "f500_tail=f500.tail(8)"
   ]
  },
  {
   "cell_type": "markdown",
   "metadata": {},
   "source": [
    "# 4. Introducing DataFrames Continued"
   ]
  },
  {
   "cell_type": "code",
   "execution_count": 4,
   "metadata": {},
   "outputs": [
    {
     "name": "stdout",
     "output_type": "stream",
     "text": [
      "<class 'pandas.core.frame.DataFrame'>\n",
      "Index: 500 entries, Walmart to AutoNation\n",
      "Data columns (total 16 columns):\n",
      " #   Column                    Non-Null Count  Dtype  \n",
      "---  ------                    --------------  -----  \n",
      " 0   rank                      500 non-null    int64  \n",
      " 1   revenues                  500 non-null    int64  \n",
      " 2   revenue_change            498 non-null    float64\n",
      " 3   profits                   499 non-null    float64\n",
      " 4   assets                    500 non-null    int64  \n",
      " 5   profit_change             436 non-null    float64\n",
      " 6   ceo                       500 non-null    object \n",
      " 7   industry                  500 non-null    object \n",
      " 8   sector                    500 non-null    object \n",
      " 9   previous_rank             500 non-null    int64  \n",
      " 10  country                   500 non-null    object \n",
      " 11  hq_location               500 non-null    object \n",
      " 12  website                   500 non-null    object \n",
      " 13  years_on_global_500_list  500 non-null    int64  \n",
      " 14  employees                 500 non-null    int64  \n",
      " 15  total_stockholder_equity  500 non-null    int64  \n",
      "dtypes: float64(3), int64(7), object(6)\n",
      "memory usage: 66.4+ KB\n"
     ]
    }
   ],
   "source": [
    "f500.info()"
   ]
  },
  {
   "cell_type": "markdown",
   "metadata": {},
   "source": [
    "# 5. Selecting a Column From a DataFrame by Label"
   ]
  },
  {
   "cell_type": "code",
   "execution_count": 7,
   "metadata": {},
   "outputs": [
    {
     "name": "stdout",
     "output_type": "stream",
     "text": [
      "<class 'pandas.core.series.Series'>\n"
     ]
    }
   ],
   "source": [
    "industries=f500[\"industry\"]\n",
    "industries_type=type(industries)\n",
    "print(industries_type)"
   ]
  },
  {
   "cell_type": "markdown",
   "metadata": {},
   "source": [
    "# 6. Introduction to Series"
   ]
  },
  {
   "cell_type": "markdown",
   "metadata": {},
   "source": [
    "A Pandas Series is a 1D Pandas object. Pandas handles dataframes as a collection of differens series."
   ]
  },
  {
   "cell_type": "markdown",
   "metadata": {},
   "source": [
    "# 7. Selecting Columns From a DataFrame by Label Continued"
   ]
  },
  {
   "cell_type": "code",
   "execution_count": 9,
   "metadata": {},
   "outputs": [],
   "source": [
    "countries=f500[\"country\"]\n",
    "\n",
    "revenues_years=f500[[\"revenues\",\"years_on_global_500_list\"]]\n",
    "ceo_to_sector=f500.loc[:,\"ceo\":\"sector\"]"
   ]
  },
  {
   "cell_type": "markdown",
   "metadata": {},
   "source": [
    "#  8. Selecting Rows From a DataFrame by Label"
   ]
  },
  {
   "cell_type": "code",
   "execution_count": 14,
   "metadata": {},
   "outputs": [],
   "source": [
    "toyota=f500.loc[\"Toyota Motor\",:]\n",
    "drink_companies=f500.loc[[\"Anheuser-Busch InBev\",\"Coca-Cola\",\"Heineken Holding\"],:]\n",
    "\n",
    "middle_companies=f500.loc[\"Tata Motors\":\"Nationwide\",\"rank\":\"country\"]"
   ]
  },
  {
   "cell_type": "markdown",
   "metadata": {},
   "source": [
    "# 9. Series vs Dataframes"
   ]
  },
  {
   "cell_type": "markdown",
   "metadata": {},
   "source": [
    "# 10. Value Counts Method"
   ]
  },
  {
   "cell_type": "code",
   "execution_count": 30,
   "metadata": {},
   "outputs": [],
   "source": [
    "f500_sel=f500.loc[[\"Walmart\",\"State Grid\",'Sinopec Group',\"China National Petroleum\",\"Toyota Motor\",\"Apple\"],:]\n",
    "\n",
    "countries=f500_sel[\"country\"]\n",
    "\n",
    "country_counts=countries.value_counts()"
   ]
  },
  {
   "cell_type": "markdown",
   "metadata": {},
   "source": [
    "# 11. Selecting Items from a Series by Label"
   ]
  },
  {
   "cell_type": "code",
   "execution_count": 32,
   "metadata": {},
   "outputs": [],
   "source": [
    "countries = f500['country']\n",
    "countries_counts = countries.value_counts()\n",
    "\n",
    "india=countries_counts[\"India\"]\n",
    "north_america=countries_counts[[\"USA\",\"Canada\",\"Mexico\"]]"
   ]
  },
  {
   "cell_type": "markdown",
   "metadata": {},
   "source": [
    "# 12. Summary Challenge"
   ]
  },
  {
   "cell_type": "markdown",
   "metadata": {},
   "source": [
    "Select by Label \tExplicit Syntax \tShorthand Convention\n",
    "\n",
    "Single column from dataframe \tdf.loc[:,\"col1\"] \tdf[\"col1\"]\n",
    "\n",
    "List of columns from dataframe \tdf.loc[:,[\"col1\",\"col7\"]] \tdf[[\"col1\",\"col7\"]]\n",
    "\n",
    "Slice of columns from dataframe \tdf.loc[:,\"col1\":\"col4\"] \t\n",
    "\n",
    "Single row from dataframe \tdf.loc[\"row4\"] \t\n",
    "\n",
    "List of rows from dataframe \tdf.loc[[\"row1\", \"row8\"]] \t\n",
    "\n",
    "Slice of rows from dataframe \tdf.loc[\"row3\":\"row5\"] \tdf[\"row3\":\"row5\"]\n",
    "\n",
    "Single item from series \ts.loc[\"item8\"] \ts[\"item8\"]\n",
    "\n",
    "List of items from series \ts.loc[[\"item1\",\"item7\"]] \ts[[\"item1\",\"item7\"]]\n",
    "\n",
    "Slice of items from series \ts.loc[\"item2\":\"item4\"] \ts[\"item2\":\"item4\"]\n"
   ]
  },
  {
   "cell_type": "code",
   "execution_count": 34,
   "metadata": {},
   "outputs": [],
   "source": [
    "big_movers=f500.loc[[\"Aviva\",\"HP\",\"JD.com\",\"BHP Billiton\"],[\"rank\",\"previous_rank\"]]\n",
    "bottom_companies=f500.loc[\"National Grid\":\"AutoNation\",[\"rank\",\"sector\",\"country\"]]"
   ]
  }
 ],
 "metadata": {
  "kernelspec": {
   "display_name": "Python 3",
   "language": "python",
   "name": "python3"
  },
  "language_info": {
   "codemirror_mode": {
    "name": "ipython",
    "version": 3
   },
   "file_extension": ".py",
   "mimetype": "text/x-python",
   "name": "python",
   "nbconvert_exporter": "python",
   "pygments_lexer": "ipython3",
   "version": "3.9.4"
  }
 },
 "nbformat": 4,
 "nbformat_minor": 4
}
