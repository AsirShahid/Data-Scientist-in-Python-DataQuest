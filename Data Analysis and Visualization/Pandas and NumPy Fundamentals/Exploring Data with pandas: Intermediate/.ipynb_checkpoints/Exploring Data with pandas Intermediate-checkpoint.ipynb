{
 "cells": [
  {
   "cell_type": "markdown",
   "metadata": {},
   "source": [
    "# 1. Introduction"
   ]
  },
  {
   "cell_type": "code",
   "execution_count": 1,
   "metadata": {},
   "outputs": [],
   "source": [
    "import numpy as np\n",
    "import pandas as pd\n",
    "# read the data set into a pandas dataframe\n",
    "\n",
    "f500=pd.read_csv(\"f500.csv\",index_col=0)\n",
    "f500.index.name=None\n",
    "\n",
    "# replace 0 values in the \"previous_rank\" column with NaN\n",
    "f500.loc[f500[\"previous_rank\"]==0,\"previous_rank\"]=np.nan\n",
    "\n",
    "f500_selection=f500[[\"rank\",\"revenues\",\"revenue_change\"]].head(5)"
   ]
  },
  {
   "cell_type": "markdown",
   "metadata": {},
   "source": [
    "# 2. Reading CSV files with pandas"
   ]
  },
  {
   "cell_type": "code",
   "execution_count": 2,
   "metadata": {},
   "outputs": [],
   "source": [
    "f500=pd.read_csv(\"f500.csv\")\n",
    "previous_rank=f500.loc[f500[\"previous_rank\"] == 0, \"previous_rank\"] = np.nan"
   ]
  },
  {
   "cell_type": "markdown",
   "metadata": {},
   "source": [
    "# 3. Using iloc to select by integer position"
   ]
  },
  {
   "cell_type": "code",
   "execution_count": 3,
   "metadata": {},
   "outputs": [],
   "source": [
    "fifth_row=f500.iloc[4]\n",
    "company_value=f500.iloc[0,0]"
   ]
  },
  {
   "cell_type": "markdown",
   "metadata": {},
   "source": [
    "# 4. Using iloc to select by integer position continued"
   ]
  },
  {
   "cell_type": "markdown",
   "metadata": {},
   "source": [
    "|    Select by integer position   |   Explicit Syntax  | Shorthand Convention |\n",
    "|:-------------------------------:|:------------------:|:--------------------:|\n",
    "| Single column from dataframe    | df.iloc[:,3]       |                      |\n",
    "| List of columns from dataframe  | df.iloc[:,[3,5,6]] |                      |\n",
    "| Slice of columns from dataframe | df.iloc[:,3:7]     |                      |\n",
    "| Single row from dataframe       | df.iloc[20]        |                      |\n",
    "| List of rows from dataframe     | df.iloc[[0,3,8]]   |                      |\n",
    "| Slice of rows from dataframe    | df.iloc[3:5]       | df[3:5]              |\n",
    "| Single items from series        | s.iloc[8]          | s[8]                 |\n",
    "| List of item from series        | s.iloc[[2,8,1]]    | s[[2,8,1]]           |\n",
    "| Slice of items from series      | s.iloc[5:10]       | s[5:10]              |"
   ]
  },
  {
   "cell_type": "code",
   "execution_count": 4,
   "metadata": {},
   "outputs": [],
   "source": [
    "first_three_rows=f500.iloc[0:3]\n",
    "first_seventh_row_slice=f500.iloc[[0,6],0:5]"
   ]
  },
  {
   "cell_type": "markdown",
   "metadata": {},
   "source": [
    "# 5. Using pandas methods to create boolean masks"
   ]
  },
  {
   "cell_type": "code",
   "execution_count": 5,
   "metadata": {},
   "outputs": [],
   "source": [
    "null_bool=f500[f500[\"previous_rank\"].isnull()]\n",
    "null_previous_rank=null_bool[[\"company\",\"rank\",\"previous_rank\"]]"
   ]
  },
  {
   "cell_type": "markdown",
   "metadata": {},
   "source": [
    "# 6. Working with Integer Labels"
   ]
  },
  {
   "cell_type": "code",
   "execution_count": 6,
   "metadata": {},
   "outputs": [],
   "source": [
    "null_previous_rank = f500[f500[\"previous_rank\"].isnull()]\n",
    "\n",
    "top5_null_prev_rank=null_previous_rank.iloc[0:5]"
   ]
  },
  {
   "cell_type": "markdown",
   "metadata": {},
   "source": [
    "# 7. Pandas Index Alignment"
   ]
  },
  {
   "cell_type": "code",
   "execution_count": 7,
   "metadata": {},
   "outputs": [],
   "source": [
    "previously_ranked=f500[f500[\"previous_rank\"].notnull()]\n",
    "rank_change=previously_ranked[\"previous_rank\"]-previously_ranked[\"rank\"]\n",
    "\n",
    "f500[\"rank_change\"]=rank_change"
   ]
  },
  {
   "cell_type": "markdown",
   "metadata": {},
   "source": [
    "# 8. Using Boolean Operators "
   ]
  },
  {
   "cell_type": "code",
   "execution_count": 8,
   "metadata": {},
   "outputs": [],
   "source": [
    "large_revenue=f500[\"revenues\"]>100000\n",
    "negative_profits=f500[\"profits\"]<0\n",
    "combined=large_revenue & negative_profits\n",
    "\n",
    "big_rev_neg_profit=f500[combined]"
   ]
  },
  {
   "cell_type": "markdown",
   "metadata": {},
   "source": [
    "# 9. Using Boolean Operators Continued"
   ]
  },
  {
   "cell_type": "code",
   "execution_count": 9,
   "metadata": {},
   "outputs": [],
   "source": [
    "brazil_venezuela=f500[(f500[\"country\"]==\"Brazil\") | (f500[\"country\"]==\"Venezuela\")]\n",
    "tech_outside_usa=f500[~(f500[\"country\"]==\"USA\") & (f500[\"sector\"]==\"Technology\")].head()"
   ]
  },
  {
   "cell_type": "markdown",
   "metadata": {},
   "source": [
    "# 10. Sorting Values"
   ]
  },
  {
   "cell_type": "code",
   "execution_count": 10,
   "metadata": {
    "scrolled": false
   },
   "outputs": [],
   "source": [
    "japanese_companies=(f500[f500[\"country\"]==\"Japan\"]).sort_values(\"employees\",ascending=False).iloc[0]\n",
    "top_japanese_employer=japanese_companies[\"company\"]"
   ]
  },
  {
   "cell_type": "markdown",
   "metadata": {},
   "source": [
    "# 11. Using Loops with pandas"
   ]
  },
  {
   "cell_type": "code",
   "execution_count": 11,
   "metadata": {},
   "outputs": [],
   "source": [
    "top_employer_by_country={}\n",
    "countries=f500[\"country\"].unique()\n",
    "for country in countries:\n",
    "    company=f500[f500[\"country\"]==country].sort_values(\"employees\",ascending=False).iloc[0]\n",
    "    top_employer_name=company[\"company\"]\n",
    "    top_employer_by_country[country]=top_employer_name"
   ]
  },
  {
   "cell_type": "markdown",
   "metadata": {},
   "source": [
    "# 12. Challenge: Calculating Return on Assets by Country"
   ]
  },
  {
   "cell_type": "code",
   "execution_count": 12,
   "metadata": {},
   "outputs": [],
   "source": [
    "f500[\"roa\"]=f500[\"profits\"]/f500[\"assets\"]\n",
    "top_roa_by_sector={}\n",
    "sectors=f500[\"sector\"].unique()\n",
    "\n",
    "for sector in sectors:\n",
    "    company=f500[f500[\"sector\"]==sector].sort_values(\"roa\",ascending=False).iloc[0]\n",
    "    top_roa=company[\"company\"]\n",
    "    top_roa_by_sector[sector]=top_roa"
   ]
  },
  {
   "cell_type": "code",
   "execution_count": 13,
   "metadata": {},
   "outputs": [
    {
     "name": "stdout",
     "output_type": "stream",
     "text": [
      "{'Retailing': 'H & M Hennes & Mauritz', 'Energy': 'National Grid', 'Motor Vehicles & Parts': 'Subaru', 'Financials': 'Berkshire Hathaway', 'Technology': 'Accenture', 'Wholesalers': 'McKesson', 'Health Care': 'Gilead Sciences', 'Telecommunications': 'KDDI', 'Engineering & Construction': 'Pacific Construction Group', 'Industrials': '3M', 'Food & Drug Stores': 'Publix Super Markets', 'Aerospace & Defense': 'Lockheed Martin', 'Food, Beverages & Tobacco': 'Philip Morris International', 'Household Products': 'Unilever', 'Transportation': 'Delta Air Lines', 'Materials': 'CRH', 'Chemicals': 'LyondellBasell Industries', 'Media': 'Disney', 'Apparel': 'Nike', 'Hotels, Restaurants & Leisure': 'McDonald’s', 'Business Services': 'Adecco Group'}\n"
     ]
    }
   ],
   "source": [
    "print(top_roa_by_sector)"
   ]
  },
  {
   "cell_type": "markdown",
   "metadata": {},
   "source": [
    "# 13. Next Steps"
   ]
  },
  {
   "cell_type": "markdown",
   "metadata": {},
   "source": [
    "In this mission, we learned how to:\n",
    "\n",
    "Select columns, rows and individual items using their integer location.\n",
    "\n",
    "Use pd.read_csv() to read CSV files in pandas.\n",
    "\n",
    "Work with integer axis labels.\n",
    "\n",
    "How to use pandas methods to produce boolean arrays.\n",
    "\n",
    "Use boolean operators to combine boolean comparisons to perform more complex analysis.\n",
    "\n",
    "Use index labels to align data.\n",
    "\n",
    "Use aggregation to perform advanced analysis using loops.\n",
    "\n",
    "In the next mission, we'll learn techniques to use when performing data cleaning to prepare a messy data set"
   ]
  }
 ],
 "metadata": {
  "kernelspec": {
   "display_name": "Python 3",
   "language": "python",
   "name": "python3"
  },
  "language_info": {
   "codemirror_mode": {
    "name": "ipython",
    "version": 3
   },
   "file_extension": ".py",
   "mimetype": "text/x-python",
   "name": "python",
   "nbconvert_exporter": "python",
   "pygments_lexer": "ipython3",
   "version": "3.9.4"
  }
 },
 "nbformat": 4,
 "nbformat_minor": 4
}
