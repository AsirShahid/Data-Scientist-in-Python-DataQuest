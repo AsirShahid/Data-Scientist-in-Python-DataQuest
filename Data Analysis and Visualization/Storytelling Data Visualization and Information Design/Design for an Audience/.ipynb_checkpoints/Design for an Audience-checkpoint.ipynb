{
 "cells": [
  {
   "cell_type": "markdown",
   "metadata": {},
   "source": [
    "# 1. Introduction"
   ]
  },
  {
   "cell_type": "markdown",
   "metadata": {},
   "source": [
    "Our focus in this course is explanatory data visualization — specifically, we're going to learn the following:\n",
    "\n",
    "* How to better create graphs for an audience by using information design principles.\n",
    "* The elements of a story and how to create storytelling data visualizations with matplotlib.\n",
    "* How to create visual patterns using Gestalt principles.\n",
    "* How to guide the audience's attention with pre-attentive attributes.\n",
    "* How to use matplotlib built-in styles — with a case study on the FiveThirtyEight style.\n"
   ]
  },
  {
   "cell_type": "markdown",
   "metadata": {},
   "source": [
    "# 2. The Familiarity Principle"
   ]
  },
  {
   "cell_type": "code",
   "execution_count": 10,
   "metadata": {},
   "outputs": [
    {
     "name": "stdout",
     "output_type": "stream",
     "text": [
      "   Country_Other  Total_Deaths\n",
      "0         Turkey       15103.0\n",
      "1          Chile       15663.0\n",
      "2        Belgium       17386.0\n",
      "3      Indonesia       18000.0\n",
      "4        Germany       19539.0\n",
      "5         Poland       20592.0\n",
      "6   South Africa       22249.0\n",
      "7           Peru       36324.0\n",
      "8       Colombia       37995.0\n",
      "9      Argentina       39888.0\n",
      "10        Russia       44159.0\n",
      "11         Spain       46646.0\n",
      "12          Iran       50917.0\n",
      "13        France       55521.0\n",
      "14         Italy       60606.0\n",
      "15            UK       61434.0\n",
      "16        Mexico      110074.0\n",
      "17         India      141005.0\n",
      "18        Brazil      177388.0\n",
      "19           USA      290798.0\n"
     ]
    },
    {
     "data": {
      "image/png": "[encoded data removed]",
      "text/plain": [
       "<Figure size 432x288 with 1 Axes>"
      ]
     },
     "metadata": {
      "needs_background": "light"
     },
     "output_type": "display_data"
    }
   ],
   "source": [
    "import pandas as pd\n",
    "import matplotlib.pyplot as plt\n",
    "top20_deathtoll=pd.read_csv(\"top20_deathtoll.csv\")\n",
    "\n",
    "print(top20_deathtoll)\n",
    "\n",
    "plt.barh(top20_deathtoll[\"Country_Other\"],top20_deathtoll[\"Total_Deaths\"])\n",
    "plt.show()"
   ]
  },
  {
   "cell_type": "markdown",
   "metadata": {},
   "source": [
    "# 3. Matplotlib Interfaces"
   ]
  },
  {
   "cell_type": "markdown",
   "metadata": {},
   "source": [
    "To make the changes we want, we'll use matplotlib's object-oriented interface. Matplotlib has two interfaces:\n",
    "\n",
    "* A functional interface: we use functions to create and modify plots.\n",
    "* An object-oriented (OO) interface: we use methods to create and modify plots.\n",
    "\n",
    "We used the functional approach when we called the function plt.barh(). We also used this approach extensively in the Data Visualization Fundamentals course when we created and modified graphs using functions from the matplotlib.pyplot submodule: plt.plot(), plt.scatter(), plt.title(), plt.xlim(), etc.\n",
    "\n",
    "The functional interface is simpler and easier to use. It comes in handy in the exploratory data visualization workflow, where we need to create graphs fast. But the OO interface offers more power and flexibility in graph editing.\n",
    "\n",
    "On the next screen, we'll learn how to code a graph using the OO interface.\n",
    "\n"
   ]
  },
  {
   "cell_type": "markdown",
   "metadata": {},
   "source": [
    "# 4. The OO Interface"
   ]
  },
  {
   "cell_type": "code",
   "execution_count": null,
   "metadata": {},
   "outputs": [],
   "source": [
    "import pandas as pd\n",
    "import matplotlib.pyplot as plt\n",
    "\n",
    "top20_deathtoll = pd.read_csv('top20_deathtoll.csv')\n",
    "\n"
   ]
  }
 ],
 "metadata": {
  "kernelspec": {
   "display_name": "Python 3",
   "language": "python",
   "name": "python3"
  },
  "language_info": {
   "codemirror_mode": {
    "name": "ipython",
    "version": 3
   },
   "file_extension": ".py",
   "mimetype": "text/x-python",
   "name": "python",
   "nbconvert_exporter": "python",
   "pygments_lexer": "ipython3",
   "version": "3.9.4"
  }
 },
 "nbformat": 4,
 "nbformat_minor": 4
}
