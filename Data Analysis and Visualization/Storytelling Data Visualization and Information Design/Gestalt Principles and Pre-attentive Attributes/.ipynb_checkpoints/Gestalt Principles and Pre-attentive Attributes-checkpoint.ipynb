{
 "cells": [
  {
   "cell_type": "markdown",
   "metadata": {},
   "source": [
    "# 1. Gestalt Principles"
   ]
  },
  {
   "cell_type": "markdown",
   "metadata": {},
   "source": [
    "In the first lesson, we learned two design principles:\n",
    "\n",
    "* Familiarity (choose what is most familiar to your audience)\n",
    "* Maximizing the data-ink ratio\n",
    "\n",
    "Design principles help us in two ways:\n",
    "\n",
    "* They generate design options.\n",
    "* They help us choose among those options.\n",
    "\n",
    "We can derive a few other useful design principles if we understand how our visual perception works. Let's take a \n",
    "look at the image below.\n",
    "\n",
    "![Visual Perception](https://s3.amazonaws.com/dq-content/527/1.1-m527.svg)\n",
    "\n",
    "If you see a square and a triangle, then you perceive a pattern. If we break down the image into individual components, however, we only have a bunch of small gray circles arbitrarily spaced and arranged. Then why do we see a pattern?\n",
    "\n",
    "The pattern we see is a result of how our visual system processes the individual components. Our interest as data scientists is to predict what sort of patterns people see in our data visualizations. To predict that, we can use the Gestalt principles.\n",
    "\n",
    "The idea behind Gestalt principles is that humans generally perceive patterns rather than individual objects. From a practical point of view, Gestalt principles tell us what sort of pattern we can expect people to see when we show them our data visualizations. Let's get started!\n",
    "\n"
   ]
  },
  {
   "cell_type": "markdown",
   "metadata": {},
   "source": [
    "# 2. Proximity"
   ]
  },
  {
   "cell_type": "markdown",
   "metadata": {},
   "source": [
    "Let's take a look at the image below.\n",
    "\n",
    "\n",
    "![](https://s3.amazonaws.com/dq-content/527/2.1-m527.svg)\n",
    "\n",
    "You probably see a rectangle. However, what if we rearrange the gray circles?\n",
    "\n",
    "\n",
    "![](https://s3.amazonaws.com/dq-content/527/2.2-m527.gif)\n",
    "\n",
    "We now see two squares. What if we rearrange the gray circles again?\n",
    "\n",
    "\n",
    "![](https://s3.amazonaws.com/dq-content/527/2.3-m527.gif)\n",
    "\n",
    "We now have four rectangles. The changes in pattern we see depend on how close the gray circles are to each other. When we see distinct objects close to each other, we perceive them as a group. We call this the principle of **proximity** — this is a Gestalt principle.\n",
    "\n",
    "We can see the principle of proximity applied to the data story we created in the previous lesson.\n",
    "\n",
    "\n",
    "\n",
    "![](https://s3.amazonaws.com/dq-content/526/screen1_1.png)\n",
    "\n",
    "We perceive four distinct line plots — along with their progress bars and highlighted periods. That's because the individual elements of each group (the lines, the progress bars, the highlighted periods) are closer to each other compared to those of the other groups.\n",
    "\n",
    "Below, we see a data story from FiveThirtyEight showing how the coronavirus pandemic affected mail services compared to shipping and packaging.\n",
    "\n",
    "\n",
    "![](https://s3.amazonaws.com/dq-content/527/fte_mail_shipping.png)\n",
    "\n",
    "Let's analyze this graph in the following exercise.\n",
    "\n",
    "\n",
    "\n",
    "Examine the FiveThirtyEight graph, and evaluate the truth value of the following sentences.\n",
    "\n",
    "1. The principle of proximity creates three main sections: the title and the subtitle section, the bar chart section, and the sources section. If you think this is true, assign the Boolean True to sentence_1; otherwise, assign False.\n",
    "2. The principle of proximity inside the bar chart creates two visually distinct sections: total mail (first section) and shipping and packaging (second section). If you think this is true, assign True to sentence_2; otherwise, assign False.\n",
    "3. The visualization is not a data story because there's no element of change. If you think this is true, assign True to sentence_3; otherwise, assign False.\n",
    "\n"
   ]
  },
  {
   "cell_type": "code",
   "execution_count": 1,
   "metadata": {},
   "outputs": [],
   "source": [
    "sentence_1=True\n",
    "sentence_2=True\n",
    "sentence_3=False"
   ]
  },
  {
   "cell_type": "markdown",
   "metadata": {},
   "source": [
    "# 3. Similarity"
   ]
  },
  {
   "cell_type": "markdown",
   "metadata": {},
   "source": [
    "Let's take a look at the image below.\n",
    "\n",
    "![](https://s3.amazonaws.com/dq-content/527/3.1-m527.svg)\n",
    "\n",
    "We see two distinct groups: a group of green squares, and a group of blue squares. This time, we separate the groups based on color similarity, not proximity. Let's now look at another image.\n",
    "\n",
    "\n",
    "![](https://s3.amazonaws.com/dq-content/527/3.2-m527.svg)\n",
    "\n",
    "We see two distinct groups: a group of triangles and a group of circles. The separation, however, arises from shape similarity, not color similarity.\n",
    "\n",
    "Generally, our perception groups together individual elements that are similar to one another. We call this the principle of **similarity**. Similarity can apply to color, shape, size, or other visual properties.\n",
    "\n",
    "\n",
    "\n",
    "![](https://s3.amazonaws.com/dq-content/527/3.3-m527.svg)\n",
    "\n",
    "Below, we expect people to see four different line plots based on the principle of proximity. Based on similarity of shape, however, we expect them to realize that they are seeing four variations of the same plot. This enables us to only add x-tick labels to the first plot and maximize the data-ink ratio.\n",
    "\n",
    "\n",
    "![](https://s3.amazonaws.com/dq-content/526/screen1_1.png)\n",
    "\n",
    "Let's analyze another graph from FiveThirtyEight.\n",
    "\n",
    "\n",
    "![](https://s3.amazonaws.com/dq-content/527/fte_non_voters.png)\n",
    "\n",
    "Evaluate the truth value of the following sentences.\n",
    "\n",
    "1. Based on similarity of shape, we see two different groups: people who rarely or never vote and people who sometimes vote. If you think this is true, assign the Boolean True to sentence_1; otherwise, assign False.\n",
    "2. Proximity divides the graph area into nine different bar charts. Assign True or False to sentence_2.\n",
    "3. This isn't a data story because it doesn't show a sequence of events, nor does it show any element of change. Assign True or False to sentence_3.\n"
   ]
  },
  {
   "cell_type": "code",
   "execution_count": 2,
   "metadata": {},
   "outputs": [],
   "source": [
    "sentence_1=False\n",
    "sentence_2=True\n",
    "sentence_3=True"
   ]
  },
  {
   "cell_type": "markdown",
   "metadata": {},
   "source": [
    "# 4. Enclosure"
   ]
  },
  {
   "cell_type": "markdown",
   "metadata": {},
   "source": [
    "Let's take a look at the image below:\n",
    "\n",
    "![](https://s3.amazonaws.com/dq-content/527/4.1-m527.svg)\n",
    "\n",
    "The circle and the square on the first row are both enclosed inside a rectangle. The enclosing leads us to perceive the circle and the square as belonging together.\n",
    "\n",
    "When we see a set of distinct elements enclosed inside a visual form, we perceive them as part of the same group. We call this the principle of **enclosure**.\n",
    "\n",
    "We can enclose objects using different visual forms, not just rectangles. Below, we create an enclosure using a shaded ellipse.\n",
    "\n",
    "\n",
    "\n",
    "![](https://s3.amazonaws.com/dq-content/527/4.2-m527.svg)\n",
    "\n",
    "In data visualization, enclosure comes in handy when we want to separate or draw attention to certain portions of a graph. Below, we highlight the third line plot using enclosure (let's say we want to draw attention to the third plot).\n",
    "\n",
    "\n",
    "\n",
    "![](https://s3.amazonaws.com/dq-content/527/m3_10.png)\n",
    "\n",
    "Let's now take another look at one of the FiveThirtyEight graphs we saw earlier.\n",
    "\n",
    "\n",
    "![](https://s3.amazonaws.com/dq-content/527/fte_mail_shipping.png)\n",
    "\n",
    "Evaluate the truth value of the following sentences.\n",
    "\n",
    "1. Enclosure makes the COVID-19 period distinct. If you think this is true, assign the Boolean True to sentence_1; otherwise, assign False.\n",
    "2. Similarity of color on the bars visually separates them into two groups: negative values (yellow) and positive values (blue). Assign True or False to sentence_2.\n",
    "3. By making bar borders thicker, enclosure draws attention upon the April 2020 and June 2020 values. Assign True or False to sentence_3.\n"
   ]
  },
  {
   "cell_type": "code",
   "execution_count": 4,
   "metadata": {},
   "outputs": [],
   "source": [
    "sentence_1=True\n",
    "sentence_2=True\n",
    "sentence_3=True"
   ]
  },
  {
   "cell_type": "markdown",
   "metadata": {},
   "source": [
    "# 5. Connection"
   ]
  },
  {
   "cell_type": "markdown",
   "metadata": {},
   "source": [
    "Let's take a look at the image below.\n",
    "\n",
    "\n",
    "![](https://s3.amazonaws.com/dq-content/527/5.1-m527.svg)\n",
    "\n",
    "The circle on the first row belongs with the triangle on the last row because of the line that connects them.\n",
    "\n",
    "When we see distinct objects connected by some kind of a visual form (usually a line), we perceive them as part of the same group. We call this the principle of **connection**.\n",
    "\n",
    "Below, we use this principle to show a connection between Mexico and Argentina (let's say we need to make a point about this connection).\n",
    "\n",
    "\n",
    "\n",
    "![](https://s3.amazonaws.com/dq-content/527/m3_12.png)\n",
    "\n",
    "Let's now come back to the FiveThirtyEight graph we analyzed in the previous exercise.\n",
    "\n",
    "\n",
    "\n",
    "![](https://s3.amazonaws.com/dq-content/527/fte_mail_shipping.png)\n",
    "\n",
    "Examine the FiveThirtyEight graph above, and evaluate the truth value of the following sentences.\n",
    "\n",
    "1. The principle of connection shows that the y-axis is the same for both bar plots. If you think this is true, assign the Boolean True to sentence_1; otherwise, assign False.\n",
    "2. Two curved arrows link two snippets of text to two nearby bars — this is an application of the principle of proximity. Assign True or False to sentence_2.\n"
   ]
  },
  {
   "cell_type": "code",
   "execution_count": 5,
   "metadata": {},
   "outputs": [],
   "source": [
    "sentence_1=True\n",
    "sentence_2=False"
   ]
  },
  {
   "cell_type": "markdown",
   "metadata": {},
   "source": [
    "# 6. Visual Hierarchy"
   ]
  },
  {
   "cell_type": "markdown",
   "metadata": {},
   "source": [
    "So far, we've learned four Gestalt principles:\n",
    "\n",
    "* Proximity\n",
    "* Similarity\n",
    "* Enclosure\n",
    "* Connection\n",
    "\n",
    "Connection is typically stronger than proximity and similarity. Let's take a look at the image below:\n",
    "\n",
    "![](https://s3.amazonaws.com/dq-content/527/6.1-m527.svg)\n",
    "\n",
    "We perceive the first two squares as belonging together because of the line that connects them. Connection cancels out the space between them — in other words, connection is stronger than proximity.\n",
    "\n",
    "Below, we see an interaction between connection and similarity:\n",
    "\n",
    "\n",
    "![](https://s3.amazonaws.com/dq-content/527/6.2-m527.svg)\n",
    "\n",
    "On each row, we perceive the square and the circle as belonging together because of the line that connects them. We don't see two groups (three squares and three circles) because connection is stronger than similarity.\n",
    "\n",
    "Connection and enclosure typically have similar strengths. What makes the difference is the properties of the visual objects we use to create the enclosure and the connection. Thicker lines and stronger color can mean a stronger connection. Dotted lines along with a strong-colored enclosing form can mean stronger enclosure and weaker connection.\n",
    "\n",
    "![](https://s3.amazonaws.com/dq-content/527/6.3-m527.svg)\n",
    "\n",
    "Because some of the principles are stronger than others, a visual hierarchy develops. When we create data visualizations, we need to create with visual hierarchy in mind. If connection cancels out similarity without us realizing, we can communicate incorrect information.\n",
    "\n",
    "Let's check our understanding with a few questions.\n",
    "\n",
    "Evaluate the truth value of the following sentences.\n",
    "\n",
    "1. Proximity is typically stronger than enclosure. Assign True or False to sentence_1.\n",
    "2. Similarity can be stronger than proximity in some cases, and vice-versa. Assign True or False to sentence_2.\n",
    "3. Similarity and enclosure are of equal strength. Assign True or False to sentence_3.\n",
    "4. People perceive visuals in a random way, without any principles governing their perception. Assign True or False to sentence_4.\n",
    "\n"
   ]
  },
  {
   "cell_type": "code",
   "execution_count": 6,
   "metadata": {},
   "outputs": [],
   "source": [
    "sentence_1=False\n",
    "sentence_2=True\n",
    "sentence_3=False\n",
    "sentence_4=False"
   ]
  },
  {
   "cell_type": "markdown",
   "metadata": {},
   "source": [
    "# 7. Pre-Attentive Attributes"
   ]
  },
  {
   "cell_type": "markdown",
   "metadata": {},
   "source": [
    "Gestalt principles describe how we can visually perceive distinct elements as a group. These principles indirectly show us that visual perception isn't random. We perceive visual stimuli according to certain rules, and the output is typically predictable.\n",
    "\n",
    "The way we direct our attention on an image is also non-random. Let's start by examining the image below:\n",
    "\n",
    "![](https://s3.amazonaws.com/dq-content/527/7.1-m527.svg)\n",
    "\n",
    "We see a few parallel vertical lines, and except for their position in space, they are identical. Nothing really stands out. Let's now look at this image:\n",
    "\n",
    "\n",
    "![](https://s3.amazonaws.com/dq-content/527/7.2-m527.svg)\n",
    "\n",
    "The thicker green line instantly draws our attention because it's different from the rest. It signals where to look. We see a similar visual effect in the horizontal bar plot below:\n",
    "\n",
    "![](https://s3.amazonaws.com/dq-content/527/m3_18.png)\n",
    "\n",
    "We focus our attention on Brazil because the color of its corresponding bar is different.\n",
    "\n",
    "A visual object that is different from the rest stands out and signals where to look. We can use this visual effect to guide our audience's attention. If people look where we want them to, we can present information more efficiently.\n",
    "\n",
    "Our brains typically become aware of these different objects before we consciously direct our attention toward them. Because they come before conscious attention, we call them pre-attentive (\"pre\" means \"before\"). Below, we see some of the pre-attentive attributes we can use in our data visualizations.\n",
    "\n",
    "\n",
    "![](https://s3.amazonaws.com/dq-content/527/7.4-m527.png)\n",
    "\n",
    "Pre-attentive attributes can become inefficient if we overuse them, so we must be very selective about what we make different. Below, for instance, nothing stands out.\n",
    "\n",
    "![](https://s3.amazonaws.com/dq-content/527/m3_20.png)\n",
    "\n",
    "Although pre-attentive attributes can be useful, they aren't essential. If you don't need one for your graph, then don't add it. Let's now check our understanding, and then we'll be finished with this lesson.\n",
    "\n",
    "Evaluate the truth value of the following sentences.\n",
    "\n",
    "1. In some cases, enclosure can also act as a pre-attentive attribute. Assign True or False to sentence_1.\n",
    "2. Pre-attentive attributes can also explain why we perceive two distinct visual objects as part of the same group. Assign True or False to sentence_2.\n",
    "3. We can apply pre-attentive attributes to text by using various visual effects (bolding, underlining, italicizing, coloring, increasing font size, etc.) . Assign True or False to sentence_3.\n"
   ]
  },
  {
   "cell_type": "code",
   "execution_count": 7,
   "metadata": {},
   "outputs": [],
   "source": [
    "sentence_1=True\n",
    "\n",
    "sentence_2=False\n",
    "\n",
    "sentence_3=True"
   ]
  },
  {
   "cell_type": "markdown",
   "metadata": {},
   "source": [
    "# 8. Next Steps"
   ]
  },
  {
   "cell_type": "markdown",
   "metadata": {},
   "source": [
    "In this lesson, we studied the Gestalt principles and learned the patterns we can expect people to see when we show them our data visualizations. The four principles we learned (proximity, similarity, enclosure, and connection) have clear and useful applications in data visualization. There are, however, more Gestalt principles, but some may be less useful to data scientists (you can start exploring more principles here).\n",
    "\n",
    "We also learned about pre-attentive attributes, which we can use to guide our audience's attention.\n",
    "\n",
    "In the next lesson, we're going to learn how to build a data visualization in the FiveThirtyEight style using Matplotlib."
   ]
  }
 ],
 "metadata": {
  "kernelspec": {
   "display_name": "Python 3",
   "language": "python",
   "name": "python3"
  },
  "language_info": {
   "codemirror_mode": {
    "name": "ipython",
    "version": 3
   },
   "file_extension": ".py",
   "mimetype": "text/x-python",
   "name": "python",
   "nbconvert_exporter": "python",
   "pygments_lexer": "ipython3",
   "version": "3.9.4"
  }
 },
 "nbformat": 4,
 "nbformat_minor": 4
}
