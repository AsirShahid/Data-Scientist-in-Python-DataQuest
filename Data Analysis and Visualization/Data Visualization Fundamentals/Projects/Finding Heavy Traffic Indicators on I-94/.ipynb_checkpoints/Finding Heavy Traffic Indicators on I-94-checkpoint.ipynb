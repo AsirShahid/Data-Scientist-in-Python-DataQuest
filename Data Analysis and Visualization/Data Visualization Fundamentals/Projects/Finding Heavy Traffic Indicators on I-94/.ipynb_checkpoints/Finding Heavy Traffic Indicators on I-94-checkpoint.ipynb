{
 "cells": [
  {
   "cell_type": "markdown",
   "metadata": {},
   "source": [
    "# Finding Heavy Traffic Indicators on I-94"
   ]
  },
  {
   "cell_type": "markdown",
   "metadata": {},
   "source": [
    "# 1. The I-94 Traffic Dataset"
   ]
  },
  {
   "cell_type": "markdown",
   "metadata": {},
   "source": [
    "In this project we will be analyzing a dataset regrading westbound traffic on the I-94 Interstate Highway.\n",
    "\n",
    "We will be determining different heavy traffic indicators on I-94 such as weather, time, and day."
   ]
  },
  {
   "cell_type": "code",
   "execution_count": 1,
   "metadata": {},
   "outputs": [
    {
     "name": "stdout",
     "output_type": "stream",
     "text": [
      "  holiday    temp  rain_1h  snow_1h  clouds_all weather_main  \\\n",
      "0    None  288.28      0.0      0.0          40       Clouds   \n",
      "1    None  289.36      0.0      0.0          75       Clouds   \n",
      "2    None  289.58      0.0      0.0          90       Clouds   \n",
      "3    None  290.13      0.0      0.0          90       Clouds   \n",
      "4    None  291.14      0.0      0.0          75       Clouds   \n",
      "\n",
      "  weather_description            date_time  traffic_volume  \n",
      "0    scattered clouds  2012-10-02 09:00:00            5545  \n",
      "1       broken clouds  2012-10-02 10:00:00            4516  \n",
      "2     overcast clouds  2012-10-02 11:00:00            4767  \n",
      "3     overcast clouds  2012-10-02 12:00:00            5026  \n",
      "4       broken clouds  2012-10-02 13:00:00            4918  \n",
      "      holiday    temp  rain_1h  snow_1h  clouds_all  weather_main  \\\n",
      "48199    None  283.45      0.0      0.0          75        Clouds   \n",
      "48200    None  282.76      0.0      0.0          90        Clouds   \n",
      "48201    None  282.73      0.0      0.0          90  Thunderstorm   \n",
      "48202    None  282.09      0.0      0.0          90        Clouds   \n",
      "48203    None  282.12      0.0      0.0          90        Clouds   \n",
      "\n",
      "          weather_description            date_time  traffic_volume  \n",
      "48199           broken clouds  2018-09-30 19:00:00            3543  \n",
      "48200         overcast clouds  2018-09-30 20:00:00            2781  \n",
      "48201  proximity thunderstorm  2018-09-30 21:00:00            2159  \n",
      "48202         overcast clouds  2018-09-30 22:00:00            1450  \n",
      "48203         overcast clouds  2018-09-30 23:00:00             954  \n",
      "<class 'pandas.core.frame.DataFrame'>\n",
      "RangeIndex: 48204 entries, 0 to 48203\n",
      "Data columns (total 9 columns):\n",
      " #   Column               Non-Null Count  Dtype  \n",
      "---  ------               --------------  -----  \n",
      " 0   holiday              48204 non-null  object \n",
      " 1   temp                 48204 non-null  float64\n",
      " 2   rain_1h              48204 non-null  float64\n",
      " 3   snow_1h              48204 non-null  float64\n",
      " 4   clouds_all           48204 non-null  int64  \n",
      " 5   weather_main         48204 non-null  object \n",
      " 6   weather_description  48204 non-null  object \n",
      " 7   date_time            48204 non-null  object \n",
      " 8   traffic_volume       48204 non-null  int64  \n",
      "dtypes: float64(3), int64(2), object(4)\n",
      "memory usage: 3.3+ MB\n",
      "None\n"
     ]
    }
   ],
   "source": [
    "import pandas as pd\n",
    "traffic=pd.read_csv(\"Metro_Interstate_Traffic_Volume.csv\")\n",
    "\n",
    "print(traffic.head())\n",
    "print(traffic.tail())\n",
    "print(traffic.info())"
   ]
  },
  {
   "cell_type": "markdown",
   "metadata": {},
   "source": [
    "# 2. Analyzing Traffic Volume"
   ]
  },
  {
   "cell_type": "code",
   "execution_count": 2,
   "metadata": {},
   "outputs": [
    {
     "data": {
      "image/png": "[encoded data removed]",
      "text/plain": [
       "<Figure size 432x288 with 1 Axes>"
      ]
     },
     "metadata": {
      "needs_background": "light"
     },
     "output_type": "display_data"
    },
    {
     "name": "stdout",
     "output_type": "stream",
     "text": [
      "count    48204.000000\n",
      "mean      3259.818355\n",
      "std       1986.860670\n",
      "min          0.000000\n",
      "25%       1193.000000\n",
      "50%       3380.000000\n",
      "75%       4933.000000\n",
      "max       7280.000000\n",
      "Name: traffic_volume, dtype: float64\n"
     ]
    }
   ],
   "source": [
    "import matplotlib.pyplot as plt\n",
    "%matplotlib inline\n",
    "\n",
    "traffic[\"traffic_volume\"].plot.hist()\n",
    "plt.show()\n",
    "\n",
    "\n",
    "print(traffic[\"traffic_volume\"].describe())"
   ]
  },
  {
   "cell_type": "markdown",
   "metadata": {},
   "source": [
    "Above we can see that the hourly traffic varied between 0 and 7280. We can also see that we have a bimodal graph. It is likely that this varied based on time of day, with the bottom 25% occurring during the night and the upper 25%-40% occuring during rush hour."
   ]
  },
  {
   "cell_type": "markdown",
   "metadata": {},
   "source": [
    "# 3. Traffic Volume: Day vs. Night"
   ]
  },
  {
   "cell_type": "code",
   "execution_count": 11,
   "metadata": {},
   "outputs": [],
   "source": [
    "traffic[\"date_time\"]=pd.to_datetime(traffic[\"date_time\"])\n",
    "day=traffic[(traffic[\"date_time\"].dt.hour>=7) & (traffic[\"date_time\"].dt.hour<19)]\n",
    "night=traffic[(traffic[\"date_time\"].dt.hour>=19) & (traffic[\"date_time\"].dt.hour)<7]"
   ]
  },
  {
   "cell_type": "markdown",
   "metadata": {},
   "source": [
    "# 4. Traffic Volume: Day vs. Night (II)"
   ]
  },
  {
   "cell_type": "code",
   "execution_count": 13,
   "metadata": {},
   "outputs": [
    {
     "data": {
      "text/plain": [
       "(array([8089., 5102., 2839., 4753., 4770., 4342., 7888., 5636., 3857.,\n",
       "         928.]),\n",
       " array([   0.,  728., 1456., 2184., 2912., 3640., 4368., 5096., 5824.,\n",
       "        6552., 7280.]),\n",
       " <BarContainer object of 10 artists>)"
      ]
     },
     "execution_count": 13,
     "metadata": {},
     "output_type": "execute_result"
    },
    {
     "data": {
      "image/png": "[encoded data removed]",
      "text/plain": [
       "<Figure size 432x288 with 2 Axes>"
      ]
     },
     "metadata": {
      "needs_background": "light"
     },
     "output_type": "display_data"
    }
   ],
   "source": [
    "plt.figure()\n",
    "plt.subplot(2,1,1)\n",
    "plt.hist(day[\"traffic_volume\"]) \n",
    "plt.subplot(2,1,2)\n",
    "plt.hist(night[\"traffic_volume\"])"
   ]
  },
  {
   "cell_type": "code",
   "execution_count": null,
   "metadata": {},
   "outputs": [],
   "source": []
  }
 ],
 "metadata": {
  "kernelspec": {
   "display_name": "Python 3",
   "language": "python",
   "name": "python3"
  },
  "language_info": {
   "codemirror_mode": {
    "name": "ipython",
    "version": 3
   },
   "file_extension": ".py",
   "mimetype": "text/x-python",
   "name": "python",
   "nbconvert_exporter": "python",
   "pygments_lexer": "ipython3",
   "version": "3.9.4"
  }
 },
 "nbformat": 4,
 "nbformat_minor": 4
}
