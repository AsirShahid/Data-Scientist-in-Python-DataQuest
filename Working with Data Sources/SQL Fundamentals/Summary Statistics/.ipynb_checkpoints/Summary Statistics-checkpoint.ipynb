{
 "cells": [
  {
   "cell_type": "markdown",
   "metadata": {},
   "source": [
    "# 1. Introduction"
   ]
  },
  {
   "cell_type": "markdown",
   "metadata": {},
   "source": [
    "In \"Introduction to SQL,\" we wrote queries that filtered rows and columns in a database table. Each of the queries we ran returned multiple rows of values. In this lesson, we'll go over how to calculate the sum, average, minimum, or maximum of these results.\n",
    "\n",
    "We'll also learn how to calculate summary statistics on subsets of a database table by working with data on job outcomes, compiled by FiveThirtyEight.\n",
    "\n",
    "Let's start with some questions about how the data breaks down:\n",
    "\n",
    "* How many majors had a higher representation among women? How many had a higher representation among men? What proportion of majors had the highest representation among women?\n",
    "* Which category of majors had the lowest unemployment rates? Which category of majors had the highest representation among women?\n",
    "* Which majors had the largest spread (difference) between the 25th and 75th percentile starting salaries?\n",
    "\n",
    "Let's move on to the next screen to start learning!"
   ]
  },
  {
   "cell_type": "code",
   "execution_count": 3,
   "metadata": {},
   "outputs": [
    {
     "name": "stdout",
     "output_type": "stream",
     "text": [
      "The sql extension is already loaded. To reload it, use:\n",
      "  %reload_ext sql\n"
     ]
    }
   ],
   "source": [
    "%load_ext sql\n",
    "%sql sqlite://\n"
   ]
  },
  {
   "cell_type": "code",
   "execution_count": 4,
   "metadata": {},
   "outputs": [],
   "source": [
    "%sql sqlite:////home/mohammeds/datasets/jobs.db"
   ]
  },
  {
   "cell_type": "markdown",
   "metadata": {},
   "source": [
    "# 2. A Simple Question"
   ]
  },
  {
   "cell_type": "code",
   "execution_count": 8,
   "metadata": {},
   "outputs": [
    {
     "name": "stdout",
     "output_type": "stream",
     "text": [
      "   sqlite://\n",
      " * sqlite:////home/mohammeds/datasets/jobs.db\n",
      "Done.\n"
     ]
    },
    {
     "data": {
      "text/html": [
       "<table>\n",
       "    <tr>\n",
       "        <th>MIN(Unemployment_rate)</th>\n",
       "    </tr>\n",
       "    <tr>\n",
       "        <td>0.0</td>\n",
       "    </tr>\n",
       "</table>"
      ],
      "text/plain": [
       "[(0.0,)]"
      ]
     },
     "execution_count": 8,
     "metadata": {},
     "output_type": "execute_result"
    }
   ],
   "source": [
    "%%sql\n",
    "\n",
    "SELECT MIN(Unemployment_rate)\n",
    "    FROM recent_grads;"
   ]
  },
  {
   "cell_type": "markdown",
   "metadata": {},
   "source": [
    "# 3. Aggregate Functions"
   ]
  },
  {
   "cell_type": "code",
   "execution_count": 10,
   "metadata": {},
   "outputs": [
    {
     "name": "stdout",
     "output_type": "stream",
     "text": [
      "   sqlite://\n",
      " * sqlite:////home/mohammeds/datasets/jobs.db\n",
      "Done.\n"
     ]
    },
    {
     "data": {
      "text/html": [
       "<table>\n",
       "    <tr>\n",
       "        <th>SUM(Total)</th>\n",
       "    </tr>\n",
       "    <tr>\n",
       "        <td>6776015</td>\n",
       "    </tr>\n",
       "</table>"
      ],
      "text/plain": [
       "[(6776015,)]"
      ]
     },
     "execution_count": 10,
     "metadata": {},
     "output_type": "execute_result"
    }
   ],
   "source": [
    "%%sql\n",
    "\n",
    "SELECT SUM(Total)\n",
    "    FROM recent_grads;"
   ]
  },
  {
   "cell_type": "markdown",
   "metadata": {},
   "source": [
    "# 4. Order of Execution"
   ]
  },
  {
   "cell_type": "code",
   "execution_count": 11,
   "metadata": {},
   "outputs": [
    {
     "name": "stdout",
     "output_type": "stream",
     "text": [
      "   sqlite://\n",
      " * sqlite:////home/mohammeds/datasets/jobs.db\n",
      "Done.\n"
     ]
    },
    {
     "data": {
      "text/html": [
       "<table>\n",
       "    <tr>\n",
       "        <th>COUNT(Major)</th>\n",
       "    </tr>\n",
       "    <tr>\n",
       "        <td>76</td>\n",
       "    </tr>\n",
       "</table>"
      ],
      "text/plain": [
       "[(76,)]"
      ]
     },
     "execution_count": 11,
     "metadata": {},
     "output_type": "execute_result"
    }
   ],
   "source": [
    "%%sql\n",
    "\n",
    "SELECT COUNT(Major)\n",
    "    FROM recent_grads\n",
    "WHERE Men>Women"
   ]
  },
  {
   "cell_type": "markdown",
   "metadata": {},
   "source": [
    "# 5. Missing Values"
   ]
  },
  {
   "cell_type": "code",
   "execution_count": 13,
   "metadata": {},
   "outputs": [
    {
     "name": "stdout",
     "output_type": "stream",
     "text": [
      "   sqlite://\n",
      " * sqlite:////home/mohammeds/datasets/jobs.db\n",
      "(sqlite3.OperationalError) near \"SELECT\": syntax error\n",
      "[SQL: SELECT COUNT(*) FROM recent_grads\n",
      "    \n",
      "SELECT COUNT(Major)\n",
      "    FROM recent_grads]\n",
      "(Background on this error at: http://sqlalche.me/e/13/e3q8)\n"
     ]
    }
   ],
   "source": [
    "%%sql\n",
    "\n",
    "SELECT COUNT(*)\n",
    "    FROM recent_grads\n",
    "    \n",
    "SELECT COUNT(Major)\n",
    "    FROM recent_grads\n",
    "    "
   ]
  },
  {
   "cell_type": "code",
   "execution_count": 30,
   "metadata": {},
   "outputs": [
    {
     "name": "stdout",
     "output_type": "stream",
     "text": [
      "   sqlite://\n",
      " * sqlite:////home/mohammeds/datasets/jobs.db\n",
      "Done.\n"
     ]
    },
    {
     "data": {
      "text/html": [
       "<table>\n",
       "    <tr>\n",
       "        <th>COUNT(Rank)</th>\n",
       "        <th>COUNT(Major_code)</th>\n",
       "        <th>COUNT(Major)</th>\n",
       "        <th>COUNT(Major_category)</th>\n",
       "        <th>COUNT(Total)</th>\n",
       "        <th>COUNT(Sample_size)</th>\n",
       "        <th>COUNT(Men)</th>\n",
       "        <th>COUNT(Women)</th>\n",
       "        <th>COUNT(ShareWomen)</th>\n",
       "        <th>COUNT(Employed)</th>\n",
       "        <th>COUNT(Full_time_year_round)</th>\n",
       "        <th>COUNT(Unemployed)</th>\n",
       "        <th>COUNT(Unemployment_rate)</th>\n",
       "        <th>COUNT(Median)</th>\n",
       "        <th>COUNT(P25th)</th>\n",
       "        <th>COUNT(P75th)</th>\n",
       "        <th>COUNT(College_jobs)</th>\n",
       "        <th>COUNT(Non_college_jobs)</th>\n",
       "        <th>COUNT(Low_wage_jobs)</th>\n",
       "    </tr>\n",
       "    <tr>\n",
       "        <td>173</td>\n",
       "        <td>173</td>\n",
       "        <td>173</td>\n",
       "        <td>173</td>\n",
       "        <td>173</td>\n",
       "        <td>173</td>\n",
       "        <td>173</td>\n",
       "        <td>173</td>\n",
       "        <td>173</td>\n",
       "        <td>173</td>\n",
       "        <td>173</td>\n",
       "        <td>173</td>\n",
       "        <td>172</td>\n",
       "        <td>173</td>\n",
       "        <td>173</td>\n",
       "        <td>173</td>\n",
       "        <td>173</td>\n",
       "        <td>173</td>\n",
       "        <td>173</td>\n",
       "    </tr>\n",
       "</table>"
      ],
      "text/plain": [
       "[(173, 173, 173, 173, 173, 173, 173, 173, 173, 173, 173, 173, 172, 173, 173, 173, 173, 173, 173)]"
      ]
     },
     "execution_count": 30,
     "metadata": {},
     "output_type": "execute_result"
    }
   ],
   "source": [
    "%%sql\n",
    "\n",
    "SELECT COUNT(Rank), \n",
    "    COUNT(Major_code),\n",
    "    COUNT(Major), \n",
    "    COUNT(Major_category), \n",
    "    COUNT(Total), \n",
    "    COUNT(Sample_size), \n",
    "    COUNT(Men), \n",
    "    COUNT(Women),\n",
    "    COUNT(ShareWomen), \n",
    "    COUNT(Employed), \n",
    "    COUNT(Full_time_year_round), \n",
    "    COUNT(Unemployed), \n",
    "    COUNT(Unemployment_rate), \n",
    "    COUNT(Median), \n",
    "    COUNT(P25th), \n",
    "    COUNT(P75th), \n",
    "    COUNT(College_jobs), \n",
    "    COUNT(Non_college_jobs), \n",
    "    COUNT(Low_wage_jobs)\n",
    "\n",
    "    FROM recent_grads;\n",
    "    "
   ]
  },
  {
   "cell_type": "code",
   "execution_count": 33,
   "metadata": {},
   "outputs": [
    {
     "name": "stdout",
     "output_type": "stream",
     "text": [
      "   sqlite://\n",
      " * sqlite:////home/mohammeds/datasets/jobs.db\n",
      "Done.\n"
     ]
    },
    {
     "data": {
      "text/html": [
       "<table>\n",
       "    <tr>\n",
       "        <th>COUNT(*)</th>\n",
       "        <th>COUNT(Unemployment_rate)</th>\n",
       "    </tr>\n",
       "    <tr>\n",
       "        <td>173</td>\n",
       "        <td>172</td>\n",
       "    </tr>\n",
       "</table>"
      ],
      "text/plain": [
       "[(173, 172)]"
      ]
     },
     "execution_count": 33,
     "metadata": {},
     "output_type": "execute_result"
    }
   ],
   "source": [
    "%%sql\n",
    "\n",
    "SELECT COUNT(*), COUNT(Unemployment_rate)\n",
    "    FROM recent_grads;"
   ]
  },
  {
   "cell_type": "markdown",
   "metadata": {},
   "source": [
    "# 6. Combining Multiple Aggregation Functions"
   ]
  },
  {
   "cell_type": "code",
   "execution_count": 35,
   "metadata": {},
   "outputs": [
    {
     "name": "stdout",
     "output_type": "stream",
     "text": [
      "   sqlite://\n",
      " * sqlite:////home/mohammeds/datasets/jobs.db\n",
      "Done.\n"
     ]
    },
    {
     "data": {
      "text/html": [
       "<table>\n",
       "    <tr>\n",
       "        <th>AVG(Total)</th>\n",
       "        <th>MIN(Men)</th>\n",
       "        <th>MAX(Women)</th>\n",
       "    </tr>\n",
       "    <tr>\n",
       "        <td>39167.71676300578</td>\n",
       "        <td>119</td>\n",
       "        <td>307087</td>\n",
       "    </tr>\n",
       "</table>"
      ],
      "text/plain": [
       "[(39167.71676300578, 119, 307087)]"
      ]
     },
     "execution_count": 35,
     "metadata": {},
     "output_type": "execute_result"
    }
   ],
   "source": [
    "%%sql\n",
    "\n",
    "SELECT AVG(Total), MIN(Men), MAX(Women)\n",
    "    from recent_grads;"
   ]
  },
  {
   "cell_type": "markdown",
   "metadata": {},
   "source": [
    "# 7. Customizing the Results"
   ]
  },
  {
   "cell_type": "code",
   "execution_count": 40,
   "metadata": {},
   "outputs": [
    {
     "name": "stdout",
     "output_type": "stream",
     "text": [
      "   sqlite://\n",
      " * sqlite:////home/mohammeds/datasets/jobs.db\n",
      "Done.\n"
     ]
    },
    {
     "data": {
      "text/html": [
       "<table>\n",
       "    <tr>\n",
       "        <th>Number of Majors</th>\n",
       "        <th>Highest Unemployment Rate</th>\n",
       "    </tr>\n",
       "    <tr>\n",
       "        <td>173</td>\n",
       "        <td>0.177226407</td>\n",
       "    </tr>\n",
       "</table>"
      ],
      "text/plain": [
       "[(173, 0.177226407)]"
      ]
     },
     "execution_count": 40,
     "metadata": {},
     "output_type": "execute_result"
    }
   ],
   "source": [
    "%%sql\n",
    "\n",
    "SELECT COUNT(*) AS \"Number of Majors\", \n",
    "MAX(Unemployment_rate) AS \"Highest Unemployment Rate\"\n",
    "    FROM recent_grads;"
   ]
  },
  {
   "cell_type": "markdown",
   "metadata": {},
   "source": [
    "# 8. Counting Unique Values"
   ]
  },
  {
   "cell_type": "code",
   "execution_count": 47,
   "metadata": {},
   "outputs": [
    {
     "name": "stdout",
     "output_type": "stream",
     "text": [
      "   sqlite://\n",
      " * sqlite:////home/mohammeds/datasets/jobs.db\n",
      "Done.\n"
     ]
    },
    {
     "data": {
      "text/html": [
       "<table>\n",
       "    <tr>\n",
       "        <th>unique_majors</th>\n",
       "        <th>unique_major_categories</th>\n",
       "        <th>unique_major_codes</th>\n",
       "    </tr>\n",
       "    <tr>\n",
       "        <td>173</td>\n",
       "        <td>16</td>\n",
       "        <td>173</td>\n",
       "    </tr>\n",
       "</table>"
      ],
      "text/plain": [
       "[(173, 16, 173)]"
      ]
     },
     "execution_count": 47,
     "metadata": {},
     "output_type": "execute_result"
    }
   ],
   "source": [
    "%%sql\n",
    "\n",
    "SELECT COUNT(DISTINCT Major) AS unique_majors, \n",
    "    COUNT(DISTINCT Major_category) AS unique_major_categories,\n",
    "    COUNT(DISTINCT Major_code) AS unique_major_codes\n",
    "    FROM recent_grads;"
   ]
  },
  {
   "cell_type": "markdown",
   "metadata": {},
   "source": [
    "# 9. Data Types"
   ]
  },
  {
   "cell_type": "markdown",
   "metadata": {},
   "source": [
    "Let's consider the different kinds of values we got:\n",
    "\n",
    "* In the Major column, we see text.\n",
    "* In the Total, Men, and Women columns, we see integers.\n",
    "* In the Unemployment_rate column, we see decimal numbers.\n",
    "\n",
    "Each of the above is a data type. Each column has exactly one type of value; it can't be mixed.\n",
    "\n",
    "You can read more about the SQLite data types here. We'll explore them from the point of view of the database when we learn how to create tables.\n",
    "\n",
    "For now, we'll focus on some of the things we can do with different data types."
   ]
  },
  {
   "cell_type": "markdown",
   "metadata": {},
   "source": [
    "# 10. String Functions and Operations"
   ]
  },
  {
   "cell_type": "code",
   "execution_count": 52,
   "metadata": {},
   "outputs": [
    {
     "name": "stdout",
     "output_type": "stream",
     "text": [
      "   sqlite://\n",
      " * sqlite:////home/mohammeds/datasets/jobs.db\n",
      "Done.\n"
     ]
    },
    {
     "data": {
      "text/html": [
       "<table>\n",
       "    <tr>\n",
       "        <th>Major</th>\n",
       "        <th>Total</th>\n",
       "        <th>Men</th>\n",
       "        <th>Women</th>\n",
       "        <th>Unemployment_rate</th>\n",
       "        <th>Length_of_name</th>\n",
       "    </tr>\n",
       "    <tr>\n",
       "        <td>Major: nuclear engineering</td>\n",
       "        <td>2573</td>\n",
       "        <td>2200</td>\n",
       "        <td>373</td>\n",
       "        <td>0.177226407</td>\n",
       "        <td>19</td>\n",
       "    </tr>\n",
       "    <tr>\n",
       "        <td>Major: public administration</td>\n",
       "        <td>5629</td>\n",
       "        <td>2947</td>\n",
       "        <td>2682</td>\n",
       "        <td>0.15949059999999998</td>\n",
       "        <td>21</td>\n",
       "    </tr>\n",
       "    <tr>\n",
       "        <td>Major: computer networking and telecommunications</td>\n",
       "        <td>7613</td>\n",
       "        <td>5291</td>\n",
       "        <td>2322</td>\n",
       "        <td>0.151849807</td>\n",
       "        <td>42</td>\n",
       "    </tr>\n",
       "</table>"
      ],
      "text/plain": [
       "[('Major: nuclear engineering', 2573, 2200, 373, 0.177226407, 19),\n",
       " ('Major: public administration', 5629, 2947, 2682, 0.15949059999999998, 21),\n",
       " ('Major: computer networking and telecommunications', 7613, 5291, 2322, 0.151849807, 42)]"
      ]
     },
     "execution_count": 52,
     "metadata": {},
     "output_type": "execute_result"
    }
   ],
   "source": [
    "%%sql\n",
    "\n",
    "SELECT \"Major: \" || LOWER(Major) AS Major,\n",
    "        Total,\n",
    "        Men,\n",
    "        Women,\n",
    "        Unemployment_rate,\n",
    "        LENGTH(Major) AS Length_of_name\n",
    "    FROM recent_grads\n",
    "ORDER BY Unemployment_rate DESC\n",
    "LIMIT 3;"
   ]
  },
  {
   "cell_type": "markdown",
   "metadata": {},
   "source": [
    "# 11. Performing Arithmetic in SQL"
   ]
  },
  {
   "cell_type": "code",
   "execution_count": 59,
   "metadata": {},
   "outputs": [
    {
     "name": "stdout",
     "output_type": "stream",
     "text": [
      "   sqlite://\n",
      " * sqlite:////home/mohammeds/datasets/jobs.db\n",
      "Done.\n"
     ]
    },
    {
     "data": {
      "text/html": [
       "<table>\n",
       "    <tr>\n",
       "        <th>Major</th>\n",
       "        <th>Major_category</th>\n",
       "        <th>quartile_spread</th>\n",
       "    </tr>\n",
       "    <tr>\n",
       "        <td>MILITARY TECHNOLOGIES</td>\n",
       "        <td>Industrial Arts &amp; Consumer Services</td>\n",
       "        <td>0</td>\n",
       "    </tr>\n",
       "    <tr>\n",
       "        <td>SCHOOL STUDENT COUNSELING</td>\n",
       "        <td>Education</td>\n",
       "        <td>2000</td>\n",
       "    </tr>\n",
       "    <tr>\n",
       "        <td>LIBRARY SCIENCE</td>\n",
       "        <td>Education</td>\n",
       "        <td>2000</td>\n",
       "    </tr>\n",
       "    <tr>\n",
       "        <td>COURT REPORTING</td>\n",
       "        <td>Law &amp; Public Policy</td>\n",
       "        <td>4000</td>\n",
       "    </tr>\n",
       "    <tr>\n",
       "        <td>PHARMACOLOGY</td>\n",
       "        <td>Biology &amp; Life Science</td>\n",
       "        <td>5000</td>\n",
       "    </tr>\n",
       "    <tr>\n",
       "        <td>EDUCATIONAL ADMINISTRATION AND SUPERVISION</td>\n",
       "        <td>Education</td>\n",
       "        <td>6000</td>\n",
       "    </tr>\n",
       "    <tr>\n",
       "        <td>COUNSELING PSYCHOLOGY</td>\n",
       "        <td>Psychology &amp; Social Work</td>\n",
       "        <td>6800</td>\n",
       "    </tr>\n",
       "    <tr>\n",
       "        <td>SPECIAL NEEDS EDUCATION</td>\n",
       "        <td>Education</td>\n",
       "        <td>10000</td>\n",
       "    </tr>\n",
       "    <tr>\n",
       "        <td>MATHEMATICS TEACHER EDUCATION</td>\n",
       "        <td>Education</td>\n",
       "        <td>10000</td>\n",
       "    </tr>\n",
       "    <tr>\n",
       "        <td>SOCIAL WORK</td>\n",
       "        <td>Psychology &amp; Social Work</td>\n",
       "        <td>10000</td>\n",
       "    </tr>\n",
       "    <tr>\n",
       "        <td>EDUCATIONAL PSYCHOLOGY</td>\n",
       "        <td>Psychology &amp; Social Work</td>\n",
       "        <td>10000</td>\n",
       "    </tr>\n",
       "    <tr>\n",
       "        <td>GENETICS</td>\n",
       "        <td>Biology &amp; Life Science</td>\n",
       "        <td>11000</td>\n",
       "    </tr>\n",
       "    <tr>\n",
       "        <td>SOCIAL PSYCHOLOGY</td>\n",
       "        <td>Psychology &amp; Social Work</td>\n",
       "        <td>11000</td>\n",
       "    </tr>\n",
       "    <tr>\n",
       "        <td>SCIENCE AND COMPUTER TEACHER EDUCATION</td>\n",
       "        <td>Education</td>\n",
       "        <td>11000</td>\n",
       "    </tr>\n",
       "    <tr>\n",
       "        <td>HUMAN SERVICES AND COMMUNITY ORGANIZATION</td>\n",
       "        <td>Psychology &amp; Social Work</td>\n",
       "        <td>11000</td>\n",
       "    </tr>\n",
       "    <tr>\n",
       "        <td>UNITED STATES HISTORY</td>\n",
       "        <td>Humanities &amp; Liberal Arts</td>\n",
       "        <td>12000</td>\n",
       "    </tr>\n",
       "    <tr>\n",
       "        <td>SECONDARY TEACHER EDUCATION</td>\n",
       "        <td>Education</td>\n",
       "        <td>13000</td>\n",
       "    </tr>\n",
       "    <tr>\n",
       "        <td>TEACHER EDUCATION: MULTIPLE LEVELS</td>\n",
       "        <td>Education</td>\n",
       "        <td>13000</td>\n",
       "    </tr>\n",
       "    <tr>\n",
       "        <td>ENVIRONMENTAL ENGINEERING</td>\n",
       "        <td>Engineering</td>\n",
       "        <td>14000</td>\n",
       "    </tr>\n",
       "    <tr>\n",
       "        <td>MEDICAL TECHNOLOGIES TECHNICIANS</td>\n",
       "        <td>Health</td>\n",
       "        <td>14000</td>\n",
       "    </tr>\n",
       "</table>"
      ],
      "text/plain": [
       "[('MILITARY TECHNOLOGIES', 'Industrial Arts & Consumer Services', 0),\n",
       " ('SCHOOL STUDENT COUNSELING', 'Education', 2000),\n",
       " ('LIBRARY SCIENCE', 'Education', 2000),\n",
       " ('COURT REPORTING', 'Law & Public Policy', 4000),\n",
       " ('PHARMACOLOGY', 'Biology & Life Science', 5000),\n",
       " ('EDUCATIONAL ADMINISTRATION AND SUPERVISION', 'Education', 6000),\n",
       " ('COUNSELING PSYCHOLOGY', 'Psychology & Social Work', 6800),\n",
       " ('SPECIAL NEEDS EDUCATION', 'Education', 10000),\n",
       " ('MATHEMATICS TEACHER EDUCATION', 'Education', 10000),\n",
       " ('SOCIAL WORK', 'Psychology & Social Work', 10000),\n",
       " ('EDUCATIONAL PSYCHOLOGY', 'Psychology & Social Work', 10000),\n",
       " ('GENETICS', 'Biology & Life Science', 11000),\n",
       " ('SOCIAL PSYCHOLOGY', 'Psychology & Social Work', 11000),\n",
       " ('SCIENCE AND COMPUTER TEACHER EDUCATION', 'Education', 11000),\n",
       " ('HUMAN SERVICES AND COMMUNITY ORGANIZATION', 'Psychology & Social Work', 11000),\n",
       " ('UNITED STATES HISTORY', 'Humanities & Liberal Arts', 12000),\n",
       " ('SECONDARY TEACHER EDUCATION', 'Education', 13000),\n",
       " ('TEACHER EDUCATION: MULTIPLE LEVELS', 'Education', 13000),\n",
       " ('ENVIRONMENTAL ENGINEERING', 'Engineering', 14000),\n",
       " ('MEDICAL TECHNOLOGIES TECHNICIANS', 'Health', 14000)]"
      ]
     },
     "execution_count": 59,
     "metadata": {},
     "output_type": "execute_result"
    }
   ],
   "source": [
    "%%sql\n",
    "\n",
    "SELECT Major,\n",
    "        Major_category,\n",
    "        (P75th - P25th) AS quartile_spread\n",
    "    FROM recent_grads\n",
    "ORDER BY quartile_spread ASC\n",
    "LIMIT 20;"
   ]
  },
  {
   "cell_type": "markdown",
   "metadata": {},
   "source": [
    "# 12. Next Steps"
   ]
  },
  {
   "cell_type": "markdown",
   "metadata": {},
   "source": [
    "In this lesson, we did the following:\n",
    "\n",
    "* Explored how to calculate summary statistics in SQL.\n",
    "* Learned about different types of functions.\n",
    "* Learned about data types in SQL.\n",
    "\n",
    "In the next lesson, we'll learn how to calculate statistics within specific subgroups using the GROUP BY statement."
   ]
  }
 ],
 "metadata": {
  "kernelspec": {
   "display_name": "Python 3",
   "language": "python",
   "name": "python3"
  },
  "language_info": {
   "codemirror_mode": {
    "name": "ipython",
    "version": 3
   },
   "file_extension": ".py",
   "mimetype": "text/x-python",
   "name": "python",
   "nbconvert_exporter": "python",
   "pygments_lexer": "ipython3",
   "version": "3.9.6"
  }
 },
 "nbformat": 4,
 "nbformat_minor": 4
}
