{
 "cells": [
  {
   "cell_type": "markdown",
   "metadata": {},
   "source": [
    "# 1. Introduction"
   ]
  },
  {
   "cell_type": "markdown",
   "metadata": {},
   "source": [
    "In the previous two lessons, we've learned a lot about joining data. We've gone from creating basic joins between two tables to making complex joins using multiple tables, subqueries, unusual join types and aggregate functions.\n",
    "\n",
    "In this lesson, we're going to continue to practice constructing complex joins, while also learning how to:\n",
    "\n",
    "* Build and format your queries for readability\n",
    "* Creating named subqueries and views\n",
    "* Combining data using set operations.\n",
    "\n",
    "Just like the previous lesson, we'll be working with the Chinook database. So you can easily refer to it, the schema for the Chinook database is provided again below.\n",
    "\n",
    "![](https://s3.amazonaws.com/dq-content/190/chinook-schema.svg)"
   ]
  },
  {
   "cell_type": "markdown",
   "metadata": {},
   "source": [
    "# 2. Writing Readable Queries"
   ]
  },
  {
   "cell_type": "markdown",
   "metadata": {},
   "source": [
    "\"Code is read much more often than it is written, so plan accordingly.\n",
    "\n",
    "\"Even if you don't intend anybody else to read your code, there's still a very good chance that somebody will have to stare at your code and figure out what it does: That person is probably going to be you, twelve months from now.\"\n",
    "\n",
    "—Raymond Chen\n",
    "\n",
    "Often quoted and paraphrased, this philosophy is especially important when writing SQL, where queries can quickly get visually complex. Taking the time to write your queries to be more easily understood will take a little extra time now, but will save you time when you come back to old queries that you have written, and help your colleagues when you're working in a data team.\n",
    "\n",
    "One obvious area when it comes to writing queries is the use of capitalization and whitespace. Because white space doesn't have any meaning in SQL, it can be used to help convey meaning in a complex query. Let's compare the same query written twice— first without whitespace and capitalization:\n",
    "\n",
    "    select ta.artist_name artist, count(*) tracks_sold from invoice_line il\n",
    "    inner join (select t.track_id, ar.name artist_name from track t\n",
    "    inner join album al on al.album_id = t.album_id\n",
    "    inner join artist ar on ar.artist_id = al.artist_id) ta\n",
    "    on ta.track_id = il.track_id group by 1 order by 2 desc limit 10;\n",
    "    \n",
    "And now, with whitespace and capitalization:\n",
    "\n",
    "    SELECT\n",
    "        ta.artist_name artist,\n",
    "        COUNT(*) tracks_sold\n",
    "    FROM invoice_line il\n",
    "    INNER JOIN (\n",
    "                SELECT\n",
    "                    t.track_id,\n",
    "                    ar.name artist_name\n",
    "                FROM track t\n",
    "                INNER JOIN album al ON al.album_id = t.album_id\n",
    "                INNER JOIN artist ar ON ar.artist_id = al.artist_id\n",
    "               ) ta\n",
    "               ON ta.track_id = il.track_id\n",
    "    GROUP BY 1\n",
    "    ORDER BY 2 DESC LIMIT 10;\n",
    "    \n",
    "As you can see, a little time put into whitespace and capitalization pays off. A few tips to help make your queries more readable:\n",
    "\n",
    "* If a select statement has more than one column, put each on a new line, indented from the select statement.\n",
    "* Always capitalize SQL function names and keywords\n",
    "* Put each clause of your query on a new line.\n",
    "* Use indenting to make subqueries appear logically separate."
   ]
  },
  {
   "cell_type": "code",
   "execution_count": 7,
   "metadata": {},
   "outputs": [],
   "source": [
    "%%capture\n",
    "\n",
    "%load_ext sql\n",
    "\n",
    "%sql sqlite:///chinook.db"
   ]
  },
  {
   "cell_type": "markdown",
   "metadata": {},
   "source": [
    "# 3. The With Clause"
   ]
  },
  {
   "cell_type": "code",
   "execution_count": 30,
   "metadata": {},
   "outputs": [
    {
     "name": "stdout",
     "output_type": "stream",
     "text": [
      " * sqlite:///chinook.db\n",
      "Done.\n"
     ]
    },
    {
     "data": {
      "text/html": [
       "<table>\n",
       "    <tr>\n",
       "        <th>playlist_id</th>\n",
       "        <th>playlist_name</th>\n",
       "        <th>number_of_tracks</th>\n",
       "        <th>length_seconds</th>\n",
       "    </tr>\n",
       "    <tr>\n",
       "        <td>1</td>\n",
       "        <td>Music</td>\n",
       "        <td>3290</td>\n",
       "        <td>877683.0829999988</td>\n",
       "    </tr>\n",
       "    <tr>\n",
       "        <td>2</td>\n",
       "        <td>Movies</td>\n",
       "        <td>0</td>\n",
       "        <td>None</td>\n",
       "    </tr>\n",
       "    <tr>\n",
       "        <td>3</td>\n",
       "        <td>TV Shows</td>\n",
       "        <td>213</td>\n",
       "        <td>501094.95700000005</td>\n",
       "    </tr>\n",
       "    <tr>\n",
       "        <td>4</td>\n",
       "        <td>Audiobooks</td>\n",
       "        <td>0</td>\n",
       "        <td>None</td>\n",
       "    </tr>\n",
       "    <tr>\n",
       "        <td>5</td>\n",
       "        <td>90’s Music</td>\n",
       "        <td>1477</td>\n",
       "        <td>398705.153</td>\n",
       "    </tr>\n",
       "    <tr>\n",
       "        <td>6</td>\n",
       "        <td>Audiobooks</td>\n",
       "        <td>0</td>\n",
       "        <td>None</td>\n",
       "    </tr>\n",
       "    <tr>\n",
       "        <td>7</td>\n",
       "        <td>Movies</td>\n",
       "        <td>0</td>\n",
       "        <td>None</td>\n",
       "    </tr>\n",
       "    <tr>\n",
       "        <td>8</td>\n",
       "        <td>Music</td>\n",
       "        <td>3290</td>\n",
       "        <td>877683.0829999988</td>\n",
       "    </tr>\n",
       "    <tr>\n",
       "        <td>9</td>\n",
       "        <td>Music Videos</td>\n",
       "        <td>1</td>\n",
       "        <td>294.294</td>\n",
       "    </tr>\n",
       "    <tr>\n",
       "        <td>10</td>\n",
       "        <td>TV Shows</td>\n",
       "        <td>213</td>\n",
       "        <td>501094.95700000005</td>\n",
       "    </tr>\n",
       "    <tr>\n",
       "        <td>11</td>\n",
       "        <td>Brazilian Music</td>\n",
       "        <td>39</td>\n",
       "        <td>9486.558999999997</td>\n",
       "    </tr>\n",
       "    <tr>\n",
       "        <td>12</td>\n",
       "        <td>Classical</td>\n",
       "        <td>75</td>\n",
       "        <td>21770.591999999993</td>\n",
       "    </tr>\n",
       "    <tr>\n",
       "        <td>13</td>\n",
       "        <td>Classical 101 - Deep Cuts</td>\n",
       "        <td>25</td>\n",
       "        <td>6755.73</td>\n",
       "    </tr>\n",
       "    <tr>\n",
       "        <td>14</td>\n",
       "        <td>Classical 101 - Next Steps</td>\n",
       "        <td>25</td>\n",
       "        <td>7575.0509999999995</td>\n",
       "    </tr>\n",
       "    <tr>\n",
       "        <td>15</td>\n",
       "        <td>Classical 101 - The Basics</td>\n",
       "        <td>25</td>\n",
       "        <td>7439.811000000001</td>\n",
       "    </tr>\n",
       "    <tr>\n",
       "        <td>16</td>\n",
       "        <td>Grunge</td>\n",
       "        <td>15</td>\n",
       "        <td>4122.018000000001</td>\n",
       "    </tr>\n",
       "    <tr>\n",
       "        <td>17</td>\n",
       "        <td>Heavy Metal Classic</td>\n",
       "        <td>26</td>\n",
       "        <td>8206.312</td>\n",
       "    </tr>\n",
       "    <tr>\n",
       "        <td>18</td>\n",
       "        <td>On-The-Go 1</td>\n",
       "        <td>1</td>\n",
       "        <td>197.459</td>\n",
       "    </tr>\n",
       "</table>"
      ],
      "text/plain": [
       "[(1, 'Music', 3290, 877683.0829999988),\n",
       " (2, 'Movies', 0, None),\n",
       " (3, 'TV Shows', 213, 501094.95700000005),\n",
       " (4, 'Audiobooks', 0, None),\n",
       " (5, '90’s Music', 1477, 398705.153),\n",
       " (6, 'Audiobooks', 0, None),\n",
       " (7, 'Movies', 0, None),\n",
       " (8, 'Music', 3290, 877683.0829999988),\n",
       " (9, 'Music Videos', 1, 294.294),\n",
       " (10, 'TV Shows', 213, 501094.95700000005),\n",
       " (11, 'Brazilian Music', 39, 9486.558999999997),\n",
       " (12, 'Classical', 75, 21770.591999999993),\n",
       " (13, 'Classical 101 - Deep Cuts', 25, 6755.73),\n",
       " (14, 'Classical 101 - Next Steps', 25, 7575.0509999999995),\n",
       " (15, 'Classical 101 - The Basics', 25, 7439.811000000001),\n",
       " (16, 'Grunge', 15, 4122.018000000001),\n",
       " (17, 'Heavy Metal Classic', 26, 8206.312),\n",
       " (18, 'On-The-Go 1', 1, 197.459)]"
      ]
     },
     "execution_count": 30,
     "metadata": {},
     "output_type": "execute_result"
    }
   ],
   "source": [
    "%%sql\n",
    "\n",
    "WITH playlist_info AS \n",
    "    (\n",
    "        SELECT p.playlist_id,\n",
    "                p.name AS playlist_name,\n",
    "                t.name AS track_name,\n",
    "                (t.milliseconds/1000.0) AS length_seconds\n",
    "        \n",
    "    FROM playlist p\n",
    "    LEFT JOIN playlist_track AS pt ON pt.playlist_id = p.playlist_id\n",
    "    LEFT JOIN track AS T on t.track_id = pt.track_id\n",
    "    )\n",
    "SELECT playlist_id, \n",
    "        playlist_name, \n",
    "        COUNT(track_name) AS number_of_tracks, \n",
    "        SUM(length_seconds) AS length_seconds\n",
    "    FROM playlist_info\n",
    "GROUP BY playlist_id, playlist_name\n",
    "ORDER BY playlist_id ASC"
   ]
  },
  {
   "cell_type": "markdown",
   "metadata": {},
   "source": [
    "# 4. Creating Views"
   ]
  },
  {
   "cell_type": "markdown",
   "metadata": {},
   "source": [
    "When we use the WITH clause, we're creating a temporary named subquery that we can use only within that query. But what if we find ourselves using the same WITH with lots of different queries? It would be nice to permanently define a subquery that we can use again and again.\n",
    "\n",
    "We do this by creating a view, which we can then use in all future queries. An easy way to think of this is the WITH clause creates a temporary view. The syntax for creating a view is:\n",
    "\n",
    "    CREATE VIEW database.view_name AS\n",
    "        SELECT * FROM database.table;\n",
    "        \n",
    "We'll be specifying the database name using [database name].[view or table name] syntax in instead of just [view or table name]. You'll need to use this in conjunction with any views because we have manually attached the database. If you're working with SQLite on your local machine, or in one of our Jupyter projects, you don't need to specify the database name like in the following example:\n",
    "\n",
    "    CREATE VIEW view_name AS\n",
    "        SELECT * FROM table;\n",
    "        \n",
    "Here's an example of how to create a view called customer_2, identical to the existing customer table:\n",
    "\n",
    "    CREATE VIEW chinook.customer_2 AS\n",
    "        SELECT * FROM chinook.customer;\n",
    "        \n",
    "If we wanted to modify this view, and tried to redefine it, we'd get an error.\n",
    "\n",
    "If we wish to redefine a view, we first have to delete, or drop the existing view:\n",
    "\n",
    "    DROP VIEW chinook.customer_2;"
   ]
  },
  {
   "cell_type": "code",
   "execution_count": 94,
   "metadata": {},
   "outputs": [
    {
     "name": "stdout",
     "output_type": "stream",
     "text": [
      " * sqlite:///chinook.db\n",
      "Done.\n"
     ]
    },
    {
     "data": {
      "text/plain": [
       "[]"
      ]
     },
     "execution_count": 94,
     "metadata": {},
     "output_type": "execute_result"
    }
   ],
   "source": [
    "%%sql\n",
    "\n",
    "DROP VIEW IF EXISTS customer_gt_90_dollars;"
   ]
  },
  {
   "cell_type": "code",
   "execution_count": 95,
   "metadata": {},
   "outputs": [
    {
     "name": "stdout",
     "output_type": "stream",
     "text": [
      " * sqlite:///chinook.db\n",
      "Done.\n",
      "Done.\n"
     ]
    },
    {
     "data": {
      "text/html": [
       "<table>\n",
       "    <tr>\n",
       "        <th>customer_id</th>\n",
       "        <th>first_name</th>\n",
       "        <th>last_name</th>\n",
       "        <th>company</th>\n",
       "        <th>address</th>\n",
       "        <th>city</th>\n",
       "        <th>state</th>\n",
       "        <th>country</th>\n",
       "        <th>postal_code</th>\n",
       "        <th>phone</th>\n",
       "        <th>fax</th>\n",
       "        <th>email</th>\n",
       "        <th>support_rep_id</th>\n",
       "    </tr>\n",
       "    <tr>\n",
       "        <td>1</td>\n",
       "        <td>Luís</td>\n",
       "        <td>Gonçalves</td>\n",
       "        <td>Embraer - Empresa Brasileira de Aeronáutica S.A.</td>\n",
       "        <td>Av. Brigadeiro Faria Lima, 2170</td>\n",
       "        <td>São José dos Campos</td>\n",
       "        <td>SP</td>\n",
       "        <td>Brazil</td>\n",
       "        <td>12227-000</td>\n",
       "        <td>+55 (12) 3923-5555</td>\n",
       "        <td>+55 (12) 3923-5566</td>\n",
       "        <td>luisg@embraer.com.br</td>\n",
       "        <td>3</td>\n",
       "    </tr>\n",
       "    <tr>\n",
       "        <td>3</td>\n",
       "        <td>François</td>\n",
       "        <td>Tremblay</td>\n",
       "        <td>None</td>\n",
       "        <td>1498 rue Bélanger</td>\n",
       "        <td>Montréal</td>\n",
       "        <td>QC</td>\n",
       "        <td>Canada</td>\n",
       "        <td>H2G 1A7</td>\n",
       "        <td>+1 (514) 721-4711</td>\n",
       "        <td>None</td>\n",
       "        <td>ftremblay@gmail.com</td>\n",
       "        <td>3</td>\n",
       "    </tr>\n",
       "    <tr>\n",
       "        <td>5</td>\n",
       "        <td>František</td>\n",
       "        <td>Wichterlová</td>\n",
       "        <td>JetBrains s.r.o.</td>\n",
       "        <td>Klanova 9/506</td>\n",
       "        <td>Prague</td>\n",
       "        <td>None</td>\n",
       "        <td>Czech Republic</td>\n",
       "        <td>14700</td>\n",
       "        <td>+420 2 4172 5555</td>\n",
       "        <td>+420 2 4172 5555</td>\n",
       "        <td>frantisekw@jetbrains.com</td>\n",
       "        <td>4</td>\n",
       "    </tr>\n",
       "    <tr>\n",
       "        <td>6</td>\n",
       "        <td>Helena</td>\n",
       "        <td>Holý</td>\n",
       "        <td>None</td>\n",
       "        <td>Rilská 3174/6</td>\n",
       "        <td>Prague</td>\n",
       "        <td>None</td>\n",
       "        <td>Czech Republic</td>\n",
       "        <td>14300</td>\n",
       "        <td>+420 2 4177 0449</td>\n",
       "        <td>None</td>\n",
       "        <td>hholy@gmail.com</td>\n",
       "        <td>5</td>\n",
       "    </tr>\n",
       "    <tr>\n",
       "        <td>13</td>\n",
       "        <td>Fernanda</td>\n",
       "        <td>Ramos</td>\n",
       "        <td>None</td>\n",
       "        <td>Qe 7 Bloco G</td>\n",
       "        <td>Brasília</td>\n",
       "        <td>DF</td>\n",
       "        <td>Brazil</td>\n",
       "        <td>71020-677</td>\n",
       "        <td>+55 (61) 3363-5547</td>\n",
       "        <td>+55 (61) 3363-7855</td>\n",
       "        <td>fernadaramos4@uol.com.br</td>\n",
       "        <td>4</td>\n",
       "    </tr>\n",
       "    <tr>\n",
       "        <td>17</td>\n",
       "        <td>Jack</td>\n",
       "        <td>Smith</td>\n",
       "        <td>Microsoft Corporation</td>\n",
       "        <td>1 Microsoft Way</td>\n",
       "        <td>Redmond</td>\n",
       "        <td>WA</td>\n",
       "        <td>USA</td>\n",
       "        <td>98052-8300</td>\n",
       "        <td>+1 (425) 882-8080</td>\n",
       "        <td>+1 (425) 882-8081</td>\n",
       "        <td>jacksmith@microsoft.com</td>\n",
       "        <td>5</td>\n",
       "    </tr>\n",
       "    <tr>\n",
       "        <td>20</td>\n",
       "        <td>Dan</td>\n",
       "        <td>Miller</td>\n",
       "        <td>None</td>\n",
       "        <td>541 Del Medio Avenue</td>\n",
       "        <td>Mountain View</td>\n",
       "        <td>CA</td>\n",
       "        <td>USA</td>\n",
       "        <td>94040-111</td>\n",
       "        <td>+1 (650) 644-3358</td>\n",
       "        <td>None</td>\n",
       "        <td>dmiller@comcast.com</td>\n",
       "        <td>4</td>\n",
       "    </tr>\n",
       "    <tr>\n",
       "        <td>21</td>\n",
       "        <td>Kathy</td>\n",
       "        <td>Chase</td>\n",
       "        <td>None</td>\n",
       "        <td>801 W 4th Street</td>\n",
       "        <td>Reno</td>\n",
       "        <td>NV</td>\n",
       "        <td>USA</td>\n",
       "        <td>89503</td>\n",
       "        <td>+1 (775) 223-7665</td>\n",
       "        <td>None</td>\n",
       "        <td>kachase@hotmail.com</td>\n",
       "        <td>5</td>\n",
       "    </tr>\n",
       "    <tr>\n",
       "        <td>22</td>\n",
       "        <td>Heather</td>\n",
       "        <td>Leacock</td>\n",
       "        <td>None</td>\n",
       "        <td>120 S Orange Ave</td>\n",
       "        <td>Orlando</td>\n",
       "        <td>FL</td>\n",
       "        <td>USA</td>\n",
       "        <td>32801</td>\n",
       "        <td>+1 (407) 999-7788</td>\n",
       "        <td>None</td>\n",
       "        <td>hleacock@gmail.com</td>\n",
       "        <td>4</td>\n",
       "    </tr>\n",
       "    <tr>\n",
       "        <td>30</td>\n",
       "        <td>Edward</td>\n",
       "        <td>Francis</td>\n",
       "        <td>None</td>\n",
       "        <td>230 Elgin Street</td>\n",
       "        <td>Ottawa</td>\n",
       "        <td>ON</td>\n",
       "        <td>Canada</td>\n",
       "        <td>K2P 1L7</td>\n",
       "        <td>+1 (613) 234-3322</td>\n",
       "        <td>None</td>\n",
       "        <td>edfrancis@yachoo.ca</td>\n",
       "        <td>3</td>\n",
       "    </tr>\n",
       "</table>"
      ],
      "text/plain": [
       "[(1, 'Luís', 'Gonçalves', 'Embraer - Empresa Brasileira de Aeronáutica S.A.', 'Av. Brigadeiro Faria Lima, 2170', 'São José dos Campos', 'SP', 'Brazil', '12227-000', '+55 (12) 3923-5555', '+55 (12) 3923-5566', 'luisg@embraer.com.br', 3),\n",
       " (3, 'François', 'Tremblay', None, '1498 rue Bélanger', 'Montréal', 'QC', 'Canada', 'H2G 1A7', '+1 (514) 721-4711', None, 'ftremblay@gmail.com', 3),\n",
       " (5, 'František', 'Wichterlová', 'JetBrains s.r.o.', 'Klanova 9/506', 'Prague', None, 'Czech Republic', '14700', '+420 2 4172 5555', '+420 2 4172 5555', 'frantisekw@jetbrains.com', 4),\n",
       " (6, 'Helena', 'Holý', None, 'Rilská 3174/6', 'Prague', None, 'Czech Republic', '14300', '+420 2 4177 0449', None, 'hholy@gmail.com', 5),\n",
       " (13, 'Fernanda', 'Ramos', None, 'Qe 7 Bloco G', 'Brasília', 'DF', 'Brazil', '71020-677', '+55 (61) 3363-5547', '+55 (61) 3363-7855', 'fernadaramos4@uol.com.br', 4),\n",
       " (17, 'Jack', 'Smith', 'Microsoft Corporation', '1 Microsoft Way', 'Redmond', 'WA', 'USA', '98052-8300', '+1 (425) 882-8080', '+1 (425) 882-8081', 'jacksmith@microsoft.com', 5),\n",
       " (20, 'Dan', 'Miller', None, '541 Del Medio Avenue', 'Mountain View', 'CA', 'USA', '94040-111', '+1 (650) 644-3358', None, 'dmiller@comcast.com', 4),\n",
       " (21, 'Kathy', 'Chase', None, '801 W 4th Street', 'Reno', 'NV', 'USA', '89503', '+1 (775) 223-7665', None, 'kachase@hotmail.com', 5),\n",
       " (22, 'Heather', 'Leacock', None, '120 S Orange Ave', 'Orlando', 'FL', 'USA', '32801', '+1 (407) 999-7788', None, 'hleacock@gmail.com', 4),\n",
       " (30, 'Edward', 'Francis', None, '230 Elgin Street', 'Ottawa', 'ON', 'Canada', 'K2P 1L7', '+1 (613) 234-3322', None, 'edfrancis@yachoo.ca', 3)]"
      ]
     },
     "execution_count": 95,
     "metadata": {},
     "output_type": "execute_result"
    }
   ],
   "source": [
    "%%sql\n",
    "\n",
    "CREATE VIEW customer_gt_90_dollars AS\n",
    "    SELECT c.*\n",
    "        FROM customer AS c\n",
    "    INNER JOIN invoice AS i ON i.customer_id=c.customer_id\n",
    "    GROUP BY c.customer_id\n",
    "    HAVING SUM(i.total)>90;\n",
    "\n",
    "SELECT * FROM customer_gt_90_dollars\n",
    "LIMIT 10;"
   ]
  },
  {
   "cell_type": "markdown",
   "metadata": {},
   "source": [
    "# 5. Combining Rows With Union"
   ]
  },
  {
   "cell_type": "code",
   "execution_count": 96,
   "metadata": {},
   "outputs": [
    {
     "name": "stdout",
     "output_type": "stream",
     "text": [
      " * sqlite:///chinook.db\n",
      "Done.\n"
     ]
    },
    {
     "data": {
      "text/plain": [
       "[]"
      ]
     },
     "execution_count": 96,
     "metadata": {},
     "output_type": "execute_result"
    }
   ],
   "source": [
    "%%sql\n",
    "\n",
    "CREATE VIEW customer_usa AS \n",
    "     SELECT * FROM customer\n",
    "     WHERE country = \"USA\";"
   ]
  },
  {
   "cell_type": "code",
   "execution_count": 112,
   "metadata": {},
   "outputs": [
    {
     "name": "stdout",
     "output_type": "stream",
     "text": [
      " * sqlite:///chinook.db\n",
      "Done.\n"
     ]
    },
    {
     "data": {
      "text/html": [
       "<table>\n",
       "    <tr>\n",
       "        <th>customer_id</th>\n",
       "        <th>first_name</th>\n",
       "        <th>last_name</th>\n",
       "        <th>company</th>\n",
       "        <th>address</th>\n",
       "        <th>city</th>\n",
       "        <th>state</th>\n",
       "        <th>country</th>\n",
       "        <th>postal_code</th>\n",
       "        <th>phone</th>\n",
       "        <th>fax</th>\n",
       "        <th>email</th>\n",
       "        <th>support_rep_id</th>\n",
       "    </tr>\n",
       "    <tr>\n",
       "        <td>1</td>\n",
       "        <td>Luís</td>\n",
       "        <td>Gonçalves</td>\n",
       "        <td>Embraer - Empresa Brasileira de Aeronáutica S.A.</td>\n",
       "        <td>Av. Brigadeiro Faria Lima, 2170</td>\n",
       "        <td>São José dos Campos</td>\n",
       "        <td>SP</td>\n",
       "        <td>Brazil</td>\n",
       "        <td>12227-000</td>\n",
       "        <td>+55 (12) 3923-5555</td>\n",
       "        <td>+55 (12) 3923-5566</td>\n",
       "        <td>luisg@embraer.com.br</td>\n",
       "        <td>3</td>\n",
       "    </tr>\n",
       "    <tr>\n",
       "        <td>3</td>\n",
       "        <td>François</td>\n",
       "        <td>Tremblay</td>\n",
       "        <td>None</td>\n",
       "        <td>1498 rue Bélanger</td>\n",
       "        <td>Montréal</td>\n",
       "        <td>QC</td>\n",
       "        <td>Canada</td>\n",
       "        <td>H2G 1A7</td>\n",
       "        <td>+1 (514) 721-4711</td>\n",
       "        <td>None</td>\n",
       "        <td>ftremblay@gmail.com</td>\n",
       "        <td>3</td>\n",
       "    </tr>\n",
       "    <tr>\n",
       "        <td>5</td>\n",
       "        <td>František</td>\n",
       "        <td>Wichterlová</td>\n",
       "        <td>JetBrains s.r.o.</td>\n",
       "        <td>Klanova 9/506</td>\n",
       "        <td>Prague</td>\n",
       "        <td>None</td>\n",
       "        <td>Czech Republic</td>\n",
       "        <td>14700</td>\n",
       "        <td>+420 2 4172 5555</td>\n",
       "        <td>+420 2 4172 5555</td>\n",
       "        <td>frantisekw@jetbrains.com</td>\n",
       "        <td>4</td>\n",
       "    </tr>\n",
       "    <tr>\n",
       "        <td>6</td>\n",
       "        <td>Helena</td>\n",
       "        <td>Holý</td>\n",
       "        <td>None</td>\n",
       "        <td>Rilská 3174/6</td>\n",
       "        <td>Prague</td>\n",
       "        <td>None</td>\n",
       "        <td>Czech Republic</td>\n",
       "        <td>14300</td>\n",
       "        <td>+420 2 4177 0449</td>\n",
       "        <td>None</td>\n",
       "        <td>hholy@gmail.com</td>\n",
       "        <td>5</td>\n",
       "    </tr>\n",
       "    <tr>\n",
       "        <td>13</td>\n",
       "        <td>Fernanda</td>\n",
       "        <td>Ramos</td>\n",
       "        <td>None</td>\n",
       "        <td>Qe 7 Bloco G</td>\n",
       "        <td>Brasília</td>\n",
       "        <td>DF</td>\n",
       "        <td>Brazil</td>\n",
       "        <td>71020-677</td>\n",
       "        <td>+55 (61) 3363-5547</td>\n",
       "        <td>+55 (61) 3363-7855</td>\n",
       "        <td>fernadaramos4@uol.com.br</td>\n",
       "        <td>4</td>\n",
       "    </tr>\n",
       "</table>"
      ],
      "text/plain": [
       "[(1, 'Luís', 'Gonçalves', 'Embraer - Empresa Brasileira de Aeronáutica S.A.', 'Av. Brigadeiro Faria Lima, 2170', 'São José dos Campos', 'SP', 'Brazil', '12227-000', '+55 (12) 3923-5555', '+55 (12) 3923-5566', 'luisg@embraer.com.br', 3),\n",
       " (3, 'François', 'Tremblay', None, '1498 rue Bélanger', 'Montréal', 'QC', 'Canada', 'H2G 1A7', '+1 (514) 721-4711', None, 'ftremblay@gmail.com', 3),\n",
       " (5, 'František', 'Wichterlová', 'JetBrains s.r.o.', 'Klanova 9/506', 'Prague', None, 'Czech Republic', '14700', '+420 2 4172 5555', '+420 2 4172 5555', 'frantisekw@jetbrains.com', 4),\n",
       " (6, 'Helena', 'Holý', None, 'Rilská 3174/6', 'Prague', None, 'Czech Republic', '14300', '+420 2 4177 0449', None, 'hholy@gmail.com', 5),\n",
       " (13, 'Fernanda', 'Ramos', None, 'Qe 7 Bloco G', 'Brasília', 'DF', 'Brazil', '71020-677', '+55 (61) 3363-5547', '+55 (61) 3363-7855', 'fernadaramos4@uol.com.br', 4)]"
      ]
     },
     "execution_count": 112,
     "metadata": {},
     "output_type": "execute_result"
    }
   ],
   "source": [
    "%%sql\n",
    "\n",
    "SELECT * FROM customer_gt_90_dollars\n",
    "\n",
    "UNION\n",
    "\n",
    "SELECT * FROM customer_usa\n",
    "LIMIT 5"
   ]
  },
  {
   "cell_type": "markdown",
   "metadata": {},
   "source": [
    "# 6. Combining Rows Using Intersect and Except"
   ]
  },
  {
   "cell_type": "markdown",
   "metadata": {},
   "source": [
    "The three scenarios we discussed at the start of the previous screen were:\n",
    "\n",
    "* Customers who are in the USA or have spent more than \\$90\n",
    "* Customers who are in the USA and have spent more than \\$90\n",
    "* Customers who are in the USA and have not spent more than \\$90\n",
    "We just successfully used UNION for the first, but what about the other two? There are two other operators that will help us with these - intersect and except. Combined, these three operators allow us to perform set operations in SQL. Here's a diagram and explanation of how these compare with union.\n",
    "\n",
    "![](https://s3.amazonaws.com/dq-content/190/set_operations.svg)\n",
    "\n",
    "The results of UNION, INTERSECT and EXCEPT conform to the 'everything in SQL is a table' concept we learned in the SQL fundamentals course. The results of these operations can be used in subqueries and joined to other tables for more complex analysis. Let's look at a scenario where we'll need to join the results of a set operation to another table:\n",
    "\n"
   ]
  },
  {
   "cell_type": "code",
   "execution_count": 129,
   "metadata": {},
   "outputs": [
    {
     "name": "stdout",
     "output_type": "stream",
     "text": [
      " * sqlite:///chinook.db\n",
      "Done.\n"
     ]
    },
    {
     "data": {
      "text/html": [
       "<table>\n",
       "    <tr>\n",
       "        <th>employee_name</th>\n",
       "    </tr>\n",
       "    <tr>\n",
       "        <td>Jane Peacock</td>\n",
       "    </tr>\n",
       "    <tr>\n",
       "        <td>Margaret Park</td>\n",
       "    </tr>\n",
       "    <tr>\n",
       "        <td>Steve Johnson</td>\n",
       "    </tr>\n",
       "</table>"
      ],
      "text/plain": [
       "[('Jane Peacock',), ('Margaret Park',), ('Steve Johnson',)]"
      ]
     },
     "execution_count": 129,
     "metadata": {},
     "output_type": "execute_result"
    }
   ],
   "source": [
    "%%sql\n",
    "\n",
    "\n",
    "WITH customer_usa_gt_90 AS (\n",
    "                            SELECT * FROM customer_gt_90_dollars\n",
    "                            INTERSECT\n",
    "                            SELECT * FROM customer_usa\n",
    "                            )"
   ]
  },
  {
   "cell_type": "code",
   "execution_count": 131,
   "metadata": {},
   "outputs": [
    {
     "name": "stdout",
     "output_type": "stream",
     "text": [
      " * sqlite:///chinook.db\n",
      "Done.\n"
     ]
    },
    {
     "data": {
      "text/html": [
       "<table>\n",
       "    <tr>\n",
       "        <th>employee_name</th>\n",
       "    </tr>\n",
       "    <tr>\n",
       "        <td>Jane Peacock</td>\n",
       "    </tr>\n",
       "    <tr>\n",
       "        <td>Margaret Park</td>\n",
       "    </tr>\n",
       "    <tr>\n",
       "        <td>Steve Johnson</td>\n",
       "    </tr>\n",
       "</table>"
      ],
      "text/plain": [
       "[('Jane Peacock',), ('Margaret Park',), ('Steve Johnson',)]"
      ]
     },
     "execution_count": 131,
     "metadata": {},
     "output_type": "execute_result"
    }
   ],
   "source": [
    "%%sql\n",
    "\n",
    "SELECT DISTINCT (e.first_name || \" \" || e.last_name) AS employee_name\n",
    "    FROM customer_gt_90_dollars AS c90\n",
    "LEFT JOIN employee AS e ON e.employee_id = c90.support_rep_id\n",
    "WHERE e.title=\"Sales Support Agent\"\n",
    "\n",
    "INTERSECT\n",
    "\n",
    "SELECT DISTINCT (e.first_name || \" \" || e.last_name) AS employee_name\n",
    "    FROM customer_usa AS cusa\n",
    "LEFT JOIN employee AS e ON e.employee_id = cusa.support_rep_id\n",
    "WHERE e.title=\"Sales Support Agent\"\n",
    "ORDER BY employee_name"
   ]
  },
  {
   "cell_type": "code",
   "execution_count": null,
   "metadata": {},
   "outputs": [],
   "source": []
  }
 ],
 "metadata": {
  "kernelspec": {
   "display_name": "Python 3",
   "language": "python",
   "name": "python3"
  },
  "language_info": {
   "codemirror_mode": {
    "name": "ipython",
    "version": 3
   },
   "file_extension": ".py",
   "mimetype": "text/x-python",
   "name": "python",
   "nbconvert_exporter": "python",
   "pygments_lexer": "ipython3",
   "version": "3.9.6"
  }
 },
 "nbformat": 4,
 "nbformat_minor": 4
}
