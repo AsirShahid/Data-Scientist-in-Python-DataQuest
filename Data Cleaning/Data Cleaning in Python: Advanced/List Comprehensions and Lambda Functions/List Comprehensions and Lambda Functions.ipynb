{
 "cells": [
  {
   "cell_type": "markdown",
   "metadata": {},
   "source": [
    "# 1. The JSON Format"
   ]
  },
  {
   "cell_type": "code",
   "execution_count": 1,
   "metadata": {},
   "outputs": [],
   "source": [
    "import json\n",
    "\n",
    "world_cup_str = \"\"\"\n",
    "[\n",
    "    {\n",
    "        \"team_1\": \"France\",\n",
    "        \"team_2\": \"Croatia\",\n",
    "        \"game_type\": \"Final\",\n",
    "        \"score\" : [4, 2]\n",
    "    },\n",
    "    {\n",
    "        \"team_1\": \"Belgium\",\n",
    "        \"team_2\": \"England\",\n",
    "        \"game_type\": \"3rd/4th Playoff\",\n",
    "        \"score\" : [2, 0]\n",
    "    }\n",
    "]\n",
    "\"\"\"\n",
    "\n",
    "world_cup_obj=json.loads(world_cup_str)"
   ]
  },
  {
   "cell_type": "markdown",
   "metadata": {},
   "source": [
    "# 2. Reading a JSON file"
   ]
  },
  {
   "cell_type": "code",
   "execution_count": 3,
   "metadata": {},
   "outputs": [],
   "source": [
    "file=open(\"hn_2014.json\")\n",
    "hn=json.load(file)"
   ]
  },
  {
   "cell_type": "markdown",
   "metadata": {},
   "source": [
    "# 3. Deleting Dictionary Keys"
   ]
  },
  {
   "cell_type": "code",
   "execution_count": 15,
   "metadata": {},
   "outputs": [
    {
     "name": "stdout",
     "output_type": "stream",
     "text": [
      "Before Deleting Keys:\n",
      "[{'author': 'dragongraphics', 'numComments': 0, 'points': 2, 'url': 'http://ashleynolan.co.uk/blog/are-we-getting-too-sassy', 'storyText': '', 'createdAt': '2014-05-29T08:07:50Z', 'tags': ['story', 'author_dragongraphics', 'story_7815238'], 'createdAtI': 1401350870, 'title': 'Are we getting too Sassy? Weighing up micro-optimisation vs. maintainability', 'objectId': '7815238'}, {'author': 'jcr', 'numComments': 0, 'points': 1, 'url': 'http://spectrum.ieee.org/automaton/robotics/home-robots/telemba-telepresence-robot', 'storyText': '', 'createdAt': '2014-05-29T08:05:58Z', 'tags': ['story', 'author_jcr', 'story_7815234'], 'createdAtI': 1401350758, 'title': 'Telemba Turns Your Old Roomba and Tablet Into a Telepresence Robot', 'objectId': '7815234'}]\n",
      "After Deleting Keys:\n",
      "[{'author': 'dragongraphics', 'numComments': 0, 'points': 2, 'url': 'http://ashleynolan.co.uk/blog/are-we-getting-too-sassy', 'storyText': '', 'createdAt': '2014-05-29T08:07:50Z', 'tags': ['story', 'author_dragongraphics', 'story_7815238'], 'title': 'Are we getting too Sassy? Weighing up micro-optimisation vs. maintainability', 'objectId': '7815238'}, {'author': 'jcr', 'numComments': 0, 'points': 1, 'url': 'http://spectrum.ieee.org/automaton/robotics/home-robots/telemba-telepresence-robot', 'storyText': '', 'createdAt': '2014-05-29T08:05:58Z', 'tags': ['story', 'author_jcr', 'story_7815234'], 'title': 'Telemba Turns Your Old Roomba and Tablet Into a Telepresence Robot', 'objectId': '7815234'}]\n"
     ]
    }
   ],
   "source": [
    "def del_key(dict_, key):\n",
    "    # create a copy so we don't\n",
    "    # modify the original dict\n",
    "    modified_dict = dict_.copy()\n",
    "    del modified_dict[key]\n",
    "    return modified_dict\n",
    "\n",
    "hn_clean=[]\n",
    "\n",
    "print(\"Before Deleting Keys:\",hn[:2], sep=\"\\n\")\n",
    "\n",
    "for dicts in hn:\n",
    "    new_dict=del_key(dicts, \"createdAtI\")\n",
    "    hn_clean.append(new_dict)\n",
    "    \n",
    "print(\"After Deleting Keys:\",hn_clean[:2], sep=\"\\n\")"
   ]
  },
  {
   "cell_type": "markdown",
   "metadata": {},
   "source": [
    "# 4. Writing List Comprehensions"
   ]
  },
  {
   "cell_type": "markdown",
   "metadata": {},
   "source": [
    "![](https://s3.amazonaws.com/dq-content/355/loop_components_hn.svg)"
   ]
  },
  {
   "cell_type": "code",
   "execution_count": null,
   "metadata": {},
   "outputs": [],
   "source": [
    "# LOOP VERSION\n",
    "#\n",
    "# hn_clean = []\n",
    "#\n",
    "# for d in hn:\n",
    "#     new_d = del_key(d, 'createdAtI')\n",
    "#     hn_clean.append(new_d)\n",
    "\n"
   ]
  }
 ],
 "metadata": {
  "kernelspec": {
   "display_name": "Python 3",
   "language": "python",
   "name": "python3"
  },
  "language_info": {
   "codemirror_mode": {
    "name": "ipython",
    "version": 3
   },
   "file_extension": ".py",
   "mimetype": "text/x-python",
   "name": "python",
   "nbconvert_exporter": "python",
   "pygments_lexer": "ipython3",
   "version": "3.9.6"
  }
 },
 "nbformat": 4,
 "nbformat_minor": 4
}
