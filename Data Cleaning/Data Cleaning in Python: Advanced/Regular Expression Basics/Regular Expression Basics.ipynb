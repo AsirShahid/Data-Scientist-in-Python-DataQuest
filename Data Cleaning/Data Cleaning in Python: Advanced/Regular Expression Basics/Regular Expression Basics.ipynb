{
 "cells": [
  {
   "cell_type": "markdown",
   "metadata": {},
   "source": [
    "# 1. Introduction"
   ]
  },
  {
   "cell_type": "code",
   "execution_count": 1,
   "metadata": {},
   "outputs": [],
   "source": [
    "import pandas as pd\n",
    "\n",
    "hn=pd.read_csv(\"hacker_news.csv\")"
   ]
  },
  {
   "cell_type": "code",
   "execution_count": 2,
   "metadata": {},
   "outputs": [
    {
     "name": "stdout",
     "output_type": "stream",
     "text": [
      "         id                                              title  \\\n",
      "0  12224879                          Interactive Dynamic Video   \n",
      "1  11964716  Florida DJs May Face Felony for April Fools' W...   \n",
      "2  11919867       Technology ventures: From Idea to Enterprise   \n",
      "3  10301696  Note by Note: The Making of Steinway L1037 (2007)   \n",
      "4  10482257  Title II kills investment? Comcast and other I...   \n",
      "\n",
      "                                                 url  num_points  \\\n",
      "0            http://www.interactivedynamicvideo.com/         386   \n",
      "1  http://www.thewire.com/entertainment/2013/04/f...           2   \n",
      "2  https://www.amazon.com/Technology-Ventures-Ent...           3   \n",
      "3  http://www.nytimes.com/2007/11/07/movies/07ste...           8   \n",
      "4  http://arstechnica.com/business/2015/10/comcas...          53   \n",
      "\n",
      "   num_comments      author       created_at  \n",
      "0            52    ne0phyte   8/4/2016 11:52  \n",
      "1             1    vezycash  6/23/2016 22:20  \n",
      "2             1     hswarna   6/17/2016 0:01  \n",
      "3             2  walterbell   9/30/2015 4:12  \n",
      "4            22      Deinos  10/31/2015 9:48  \n"
     ]
    }
   ],
   "source": [
    "print(hn.head())"
   ]
  },
  {
   "cell_type": "code",
   "execution_count": 3,
   "metadata": {},
   "outputs": [
    {
     "name": "stdout",
     "output_type": "stream",
     "text": [
      "<class 'pandas.core.frame.DataFrame'>\n",
      "RangeIndex: 20099 entries, 0 to 20098\n",
      "Data columns (total 7 columns):\n",
      " #   Column        Non-Null Count  Dtype \n",
      "---  ------        --------------  ----- \n",
      " 0   id            20099 non-null  int64 \n",
      " 1   title         20099 non-null  object\n",
      " 2   url           17659 non-null  object\n",
      " 3   num_points    20099 non-null  int64 \n",
      " 4   num_comments  20099 non-null  int64 \n",
      " 5   author        20099 non-null  object\n",
      " 6   created_at    20099 non-null  object\n",
      "dtypes: int64(3), object(4)\n",
      "memory usage: 1.1+ MB\n",
      "None\n"
     ]
    }
   ],
   "source": [
    "print(hn.info())"
   ]
  },
  {
   "cell_type": "code",
   "execution_count": 4,
   "metadata": {},
   "outputs": [
    {
     "name": "stdout",
     "output_type": "stream",
     "text": [
      "(20099, 7)\n"
     ]
    }
   ],
   "source": [
    "print(hn.shape)"
   ]
  },
  {
   "cell_type": "markdown",
   "metadata": {},
   "source": [
    "# 2. The Regular Expression Module"
   ]
  },
  {
   "cell_type": "code",
   "execution_count": 5,
   "metadata": {},
   "outputs": [
    {
     "name": "stdout",
     "output_type": "stream",
     "text": [
      "160\n"
     ]
    }
   ],
   "source": [
    "import re\n",
    "\n",
    "titles = hn[\"title\"].tolist()\n",
    "\n",
    "python_mentions=0\n",
    "\n",
    "pattern=\"[Pp]ython\"\n",
    "\n",
    "for title in titles:\n",
    "    if re.search(pattern,title):\n",
    "        python_mentions+=1\n",
    "print(python_mentions)"
   ]
  },
  {
   "cell_type": "markdown",
   "metadata": {},
   "source": [
    "# 3. Counting Matches with pandas Methods"
   ]
  },
  {
   "cell_type": "code",
   "execution_count": 6,
   "metadata": {},
   "outputs": [
    {
     "name": "stdout",
     "output_type": "stream",
     "text": [
      "160\n"
     ]
    }
   ],
   "source": [
    "pattern=\"[Pp]ython\"\n",
    "titles=hn[\"title\"]\n",
    "\n",
    "python_mentions=titles.str.contains(pattern).sum()\n",
    "\n",
    "print(python_mentions)"
   ]
  },
  {
   "cell_type": "markdown",
   "metadata": {},
   "source": [
    "# 4. Using Regular Expressions to Select Data"
   ]
  },
  {
   "cell_type": "code",
   "execution_count": 7,
   "metadata": {},
   "outputs": [
    {
     "name": "stdout",
     "output_type": "stream",
     "text": [
      "190                     Ruby on Google AppEngine Goes Beta\n",
      "484           Related: Pure Ruby Relational Algebra Engine\n",
      "1388     Show HN: HTTPalooza  Ruby's greatest HTTP clie...\n",
      "1949     Rewriting a Ruby C Extension in Rust: How a Na...\n",
      "2022     Show HN: CrashBreak  Reproduce exceptions as f...\n",
      "2163                   Ruby 2.3 Is Only 4% Faster than 2.2\n",
      "2306     Websocket Shootout: Clojure, C++, Elixir, Go, ...\n",
      "2620                       Why Startups Use Ruby on Rails?\n",
      "2645     Ask HN: Should I continue working a Ruby gem f...\n",
      "3290     Ruby on Rails and the importance of being stup...\n",
      "3749     Telegram.org Bot Platform Webhooks Server, for...\n",
      "3874     Warp Directory (wd) unix command line tool for...\n",
      "4026     OS X 10.11 Ruby / Rails users can install ther...\n",
      "4163     Charles Nutter of JRuby Banned by Rubinius for...\n",
      "4602     Quiz: Ruby or Rails? Matz and DHH were not abl...\n",
      "5832     Show HN: An experimental Python to C#/Go/Ruby/...\n",
      "6180     Shrine  A new solution for handling file uploa...\n",
      "7171     JRuby+Truffle: Why its important to optimise t...\n",
      "7235                                        Ruby or Rails?\n",
      "7671                    How I hunted the most odd ruby bug\n",
      "7776     Elixir obsoletes Ruby, Erlang and Clojure in o...\n",
      "7870                            Elixir and Ruby Comparison\n",
      "8502     Show HN: Di-ary  a math note-taking app built ...\n",
      "10212               Ruby has been fast enough for 13 years\n",
      "11060    Show HN: VeryAnts: Probabilistic Integer Arith...\n",
      "11534                             The Ruby Code of Conduct\n",
      "11622    FasterPath: Faster Pathname Handling for Ruby ...\n",
      "12061       Ask HN: What's your favorite ruby HTTP client?\n",
      "12091    Show HN: Automated Bundle Update with Descript...\n",
      "12114                                         Awesome Ruby\n",
      "12543    Ruby Bug: SecureRandom should try /dev/urandom...\n",
      "12987    Show HN: Klipse  code evaluator pluggable on a...\n",
      "13550    Matz: I cannot accept the CoC for the Ruby com...\n",
      "13650                  Programs that rewrite Ruby programs\n",
      "14798                  Ruby Wrapper for Telegram's Bot API\n",
      "14980                    A Ruby gem for genetic algorithms\n",
      "16093                          Master Ruby Web APIs Is Out\n",
      "16149         Ruru: native Ruby extensions written in Rust\n",
      "16327                   Make Ruby Great Again [transcript]\n",
      "16422                                 Object Oriented Ruby\n",
      "16536                           Ruby Deoptimization Engine\n",
      "16875                         Video: Make Ruby Great Again\n",
      "17072    A coupon/deals site built using Roda gem for Ruby\n",
      "17510                        Table Flip on Ruby Exceptions\n",
      "18877    Using Rust with Ruby, a Deep Dive with Yehuda ...\n",
      "19077                           Python is Better than Ruby\n",
      "19224                    Modern concurrency tools for Ruby\n",
      "19743    Using a Neural Network to Train a Ruby Twitter...\n",
      "Name: title, dtype: object\n"
     ]
    }
   ],
   "source": [
    "titles = hn['title']\n",
    "\n",
    "pattern=\"[Rr]uby\"\n",
    "\n",
    "ruby_titles=titles[titles.str.contains(pattern)]\n",
    "\n",
    "print(ruby_titles)"
   ]
  },
  {
   "cell_type": "markdown",
   "metadata": {},
   "source": [
    "# 5. Quantifiers"
   ]
  },
  {
   "cell_type": "markdown",
   "metadata": {},
   "source": [
    "![](https://s3.amazonaws.com/dq-content/354/quantifier_example.svg)"
   ]
  },
  {
   "cell_type": "markdown",
   "metadata": {},
   "source": [
    "![](https://s3.amazonaws.com/dq-content/354/quantifiers_numeric.svg)"
   ]
  },
  {
   "cell_type": "markdown",
   "metadata": {},
   "source": [
    "![](https://s3.amazonaws.com/dq-content/354/quantifiers_other.svg)"
   ]
  },
  {
   "cell_type": "code",
   "execution_count": 8,
   "metadata": {},
   "outputs": [
    {
     "name": "stdout",
     "output_type": "stream",
     "text": [
      "Number of email/e-mail occurences\n",
      "86\n",
      "Email Titles\n",
      "119      Show HN: Send an email from your shell to your...\n",
      "313          Disposable emails for safe spam free shopping\n",
      "1361     Ask HN: Doing cold emails? helps us prove this...\n",
      "1750     Protect yourself from spam, bots and phishing ...\n",
      "2421                    Ashley Madison hack treating email\n",
      "                               ...                        \n",
      "18098    House panel looking into Reddit post about Cli...\n",
      "18583    Mailgen  Generates clean, responsive HTML for ...\n",
      "18847    Show HN: Crisp iOS keyboard for email and text...\n",
      "19303    Ask HN: Why big email providers don't sign the...\n",
      "19446    Tell HN: Secure email provider Riseup will run...\n",
      "Name: title, Length: 86, dtype: object\n"
     ]
    }
   ],
   "source": [
    "email_bool=titles.str.contains(\"e-?mail\")\n",
    "\n",
    "email_count=email_bool.sum()\n",
    "\n",
    "email_titles=titles[email_bool]\n",
    "\n",
    "print(\"Number of email/e-mail occurences\",email_count,\"Email Titles\",email_titles,sep=\"\\n\")"
   ]
  },
  {
   "cell_type": "markdown",
   "metadata": {},
   "source": [
    "# 6. Character Classes"
   ]
  },
  {
   "cell_type": "markdown",
   "metadata": {},
   "source": [
    "![](https://s3.amazonaws.com/dq-content/354/character_classes_v2_1.svg)"
   ]
  },
  {
   "cell_type": "code",
   "execution_count": 9,
   "metadata": {},
   "outputs": [
    {
     "name": "stdout",
     "output_type": "stream",
     "text": [
      "444\n"
     ]
    }
   ],
   "source": [
    "pattern=\"\\[\\w+\\]\"\n",
    "\n",
    "tag_titles=titles.str.contains(pattern)\n",
    "tag_count=tag_titles.sum()\n",
    "\n",
    "print(tag_count)"
   ]
  },
  {
   "cell_type": "markdown",
   "metadata": {},
   "source": [
    "# 7. Accessing the Matching Text with Capture Groups"
   ]
  },
  {
   "cell_type": "markdown",
   "metadata": {},
   "source": [
    "![](https://s3.amazonaws.com/dq-content/354/tags_syntax_breakdown_v2.svg)"
   ]
  },
  {
   "cell_type": "code",
   "execution_count": 10,
   "metadata": {},
   "outputs": [
    {
     "name": "stdout",
     "output_type": "stream",
     "text": [
      "pdf            276\n",
      "video          111\n",
      "audio            3\n",
      "2015             3\n",
      "slides           2\n",
      "beta             2\n",
      "2014             2\n",
      "blank            1\n",
      "Ubuntu           1\n",
      "gif              1\n",
      "detainee         1\n",
      "Python           1\n",
      "Map              1\n",
      "React            1\n",
      "crash            1\n",
      "Benchmark        1\n",
      "HBR              1\n",
      "CSS              1\n",
      "5                1\n",
      "JavaScript       1\n",
      "transcript       1\n",
      "ANNOUNCE         1\n",
      "SpaceX           1\n",
      "Excerpt          1\n",
      "Petition         1\n",
      "GOST             1\n",
      "coffee           1\n",
      "survey           1\n",
      "Live             1\n",
      "Challenge        1\n",
      "repost           1\n",
      "SPA              1\n",
      "Videos           1\n",
      "png              1\n",
      "song             1\n",
      "USA              1\n",
      "satire           1\n",
      "viz              1\n",
      "map              1\n",
      "Beta             1\n",
      "Infograph        1\n",
      "NSFW             1\n",
      "videos           1\n",
      "1996             1\n",
      "Australian       1\n",
      "ask              1\n",
      "German           1\n",
      "2008             1\n",
      "much             1\n",
      "Skinnywhale      1\n",
      "comic            1\n",
      "updated          1\n",
      "Name: title, dtype: int64\n"
     ]
    }
   ],
   "source": [
    "pattern = r\"\\[(\\w+)\\]\"\n",
    "\n",
    "tag_freq=titles.str.extract(pattern,expand=False).value_counts()\n",
    "\n",
    "print(tag_freq)"
   ]
  },
  {
   "cell_type": "markdown",
   "metadata": {},
   "source": [
    "# 8. Negative Character Classes"
   ]
  },
  {
   "cell_type": "markdown",
   "metadata": {},
   "source": [
    "![](https://s3.amazonaws.com/dq-content/354/negative_character_classes.svg)"
   ]
  },
  {
   "cell_type": "code",
   "execution_count": 11,
   "metadata": {},
   "outputs": [
    {
     "name": "stdout",
     "output_type": "stream",
     "text": [
      "436      Unikernel Power Comes to Java, Node.js, Go, an...\n",
      "811      Ask HN: Are there any projects or compilers wh...\n",
      "1840                     Adopting RxJava on the Airbnb App\n",
      "1972           Node.js vs. Java: Which Is Faster for APIs?\n",
      "2093                     Java EE and Microservices in 2016\n",
      "2367     Code that is valid in both PHP and Java, and p...\n",
      "2493     Ask HN: I've been a java dev for a couple of y...\n",
      "2751                 Eventsourcing for Java 0.4.0 released\n",
      "2910                 2016 JavaOne Intel Keynote  32mn Talk\n",
      "3452     What are the Differences Between Java Platform...\n",
      "4273      Ask HN: Is Bloch's Effective Java Still Current?\n",
      "4624     Oracle Discloses Critical Java Vulnerability i...\n",
      "5461                        Lambdas (in Java 8) Screencast\n",
      "5847     IntelliJ IDEA and the whole IntelliJ platform ...\n",
      "5947                                        JavaFX is dead\n",
      "6268             Oracle deprecating Java applets in Java 9\n",
      "7436     Forget Guava: 5 Google Libraries Java Develope...\n",
      "7481     Ask HN: Beside Java what languages have a stro...\n",
      "8100        Advantages of Functional Programming in Java 8\n",
      "8135     Show HN: Rogue AI Dungeon, javacript bot scrip...\n",
      "8447                  Show HN: Java multicore intelligence\n",
      "8487     Why IntelliJ IDEA is hailed as the most friend...\n",
      "8984     Ask HN: Should Learn/switch to JavaScript Prog...\n",
      "8987     Last-khajiit/vkb: Java bot for vk.com competit...\n",
      "10529             Angular 2 coming to Java, Python and PHP\n",
      "11454    Ask HN: Java or .NET for a new big enterprise ...\n",
      "11902                         The Java Deserialization Bug\n",
      "12382          Ask HN: Why does Java continue to dominate?\n",
      "12582    Java Memory Model Examples: Good, Bad and Ugly...\n",
      "12711    Oracle seeks $9.3B for Googles use of Java in ...\n",
      "13048        A high performance caching library for Java 8\n",
      "13105    Show HN: Backblaze-b2 is a simple java library...\n",
      "13150             Java Tops TIOBE's Popular-Languages List\n",
      "13170    Show HN: Tablesaw: A Java data-frame for 500M-...\n",
      "13272      Java StringBuffer and StringBuilder performance\n",
      "13620    1M Java questions have now been asked on Stack...\n",
      "13839        Ask HN: Hosting a Java Spring web application\n",
      "13843                                 Var and val in Java?\n",
      "13844               Answerz.com  Java and J2ee Programming\n",
      "13930     Java 8s new Optional type doesn't solve anything\n",
      "13934    Java 6 vs. Java 7 vs. Java 8 between 2013  201...\n",
      "15257                       Oracle and the fall of Java EE\n",
      "15868                 Java generics never cease to impress\n",
      "16023    Will you use ReactJS with a REST service inste...\n",
      "16932       Swift versus Java: the bitset performance test\n",
      "16948          Show HN: Bt  0-hassle BitTorrent for Java 8\n",
      "17579                Java Lazy Streamed Zip Implementation\n",
      "18407    Show HN: Scala idioms in Java: cases, patterns...\n",
      "19481    Show HN: Adding List Comprehension in Java - E...\n",
      "19735          Java Named Top Programming Language of 2015\n",
      "Name: title, dtype: object\n"
     ]
    }
   ],
   "source": [
    "def first_10_matches(pattern):\n",
    "    \"\"\"\n",
    "    Return the first 10 story titles that match\n",
    "    the provided regular expression\n",
    "    \"\"\"\n",
    "    all_matches = titles[titles.str.contains(pattern)]\n",
    "    first_10 = all_matches.head(10)\n",
    "    return first_10\n",
    "\n",
    "pattern=r\"[Jj]ava[^Ss]\"\n",
    "\n",
    "first_10_matches(pattern)\n",
    "\n",
    "java_titles=titles[titles.str.contains(pattern)]\n",
    "\n",
    "print(java_titles)"
   ]
  },
  {
   "cell_type": "markdown",
   "metadata": {},
   "source": [
    "# 9. Word Boundaries"
   ]
  },
  {
   "cell_type": "code",
   "execution_count": 12,
   "metadata": {},
   "outputs": [
    {
     "name": "stdout",
     "output_type": "stream",
     "text": [
      "436      Unikernel Power Comes to Java, Node.js, Go, an...\n",
      "811      Ask HN: Are there any projects or compilers wh...\n",
      "1023                          Pippo  Web framework in Java\n",
      "1972           Node.js vs. Java: Which Is Faster for APIs?\n",
      "2093                     Java EE and Microservices in 2016\n",
      "2367     Code that is valid in both PHP and Java, and p...\n",
      "2493     Ask HN: I've been a java dev for a couple of y...\n",
      "2751                 Eventsourcing for Java 0.4.0 released\n",
      "3228                               Comparing Rust and Java\n",
      "3452     What are the Differences Between Java Platform...\n",
      "3627                     Friends don't let friends do Java\n",
      "4273      Ask HN: Is Bloch's Effective Java Still Current?\n",
      "4624     Oracle Discloses Critical Java Vulnerability i...\n",
      "5461                        Lambdas (in Java 8) Screencast\n",
      "5847     IntelliJ IDEA and the whole IntelliJ platform ...\n",
      "6268             Oracle deprecating Java applets in Java 9\n",
      "7436     Forget Guava: 5 Google Libraries Java Develope...\n",
      "7481     Ask HN: Beside Java what languages have a stro...\n",
      "7686             Insider: Oracle has lost interest in Java\n",
      "8100        Advantages of Functional Programming in Java 8\n",
      "8447                  Show HN: Java multicore intelligence\n",
      "8487     Why IntelliJ IDEA is hailed as the most friend...\n",
      "8984     Ask HN: Should Learn/switch to JavaScript Prog...\n",
      "8987     Last-khajiit/vkb: Java bot for vk.com competit...\n",
      "10529             Angular 2 coming to Java, Python and PHP\n",
      "11454    Ask HN: Java or .NET for a new big enterprise ...\n",
      "11902                         The Java Deserialization Bug\n",
      "12382          Ask HN: Why does Java continue to dominate?\n",
      "12582    Java Memory Model Examples: Good, Bad and Ugly...\n",
      "12711    Oracle seeks $9.3B for Googles use of Java in ...\n",
      "12730                              Show HN: Shazam in Java\n",
      "13048        A high performance caching library for Java 8\n",
      "13105    Show HN: Backblaze-b2 is a simple java library...\n",
      "13150             Java Tops TIOBE's Popular-Languages List\n",
      "13170    Show HN: Tablesaw: A Java data-frame for 500M-...\n",
      "13272      Java StringBuffer and StringBuilder performance\n",
      "13620    1M Java questions have now been asked on Stack...\n",
      "13839        Ask HN: Hosting a Java Spring web application\n",
      "13843                                 Var and val in Java?\n",
      "13844               Answerz.com  Java and J2ee Programming\n",
      "13930     Java 8s new Optional type doesn't solve anything\n",
      "13934    Java 6 vs. Java 7 vs. Java 8 between 2013  201...\n",
      "14393              JavaScript is immature compared to Java\n",
      "14847    Show HN: TurboRLE: Bringing Turbo Run Length E...\n",
      "15257                       Oracle and the fall of Java EE\n",
      "15868                 Java generics never cease to impress\n",
      "16023    Will you use ReactJS with a REST service inste...\n",
      "16932       Swift versus Java: the bitset performance test\n",
      "16948          Show HN: Bt  0-hassle BitTorrent for Java 8\n",
      "17458                            Super Mario clone in Java\n",
      "17579                Java Lazy Streamed Zip Implementation\n",
      "18407    Show HN: Scala idioms in Java: cases, patterns...\n",
      "19481    Show HN: Adding List Comprehension in Java - E...\n",
      "19735          Java Named Top Programming Language of 2015\n",
      "Name: title, dtype: object\n"
     ]
    }
   ],
   "source": [
    "pattern=r\"\\b[Jj]ava\\b\"\n",
    "\n",
    "first_10_matches(pattern)\n",
    "\n",
    "java_titles=titles[titles.str.contains(pattern)]\n",
    "\n",
    "print(java_titles)"
   ]
  },
  {
   "cell_type": "markdown",
   "metadata": {},
   "source": [
    "# 10. Matching at the Start and End of Strings"
   ]
  },
  {
   "cell_type": "markdown",
   "metadata": {},
   "source": [
    "![](https://s3.amazonaws.com/dq-content/354/positional_anchors.svg)"
   ]
  },
  {
   "cell_type": "code",
   "execution_count": 13,
   "metadata": {},
   "outputs": [
    {
     "name": "stdout",
     "output_type": "stream",
     "text": [
      "15\n",
      "417\n"
     ]
    }
   ],
   "source": [
    "beginning_count=titles.str.contains(r\"^\\[\\w+\\]\").sum()\n",
    "print(beginning_count)\n",
    "\n",
    "ending_count=titles.str.contains(r\"\\[\\w+\\]$\").sum()\n",
    "print(ending_count)"
   ]
  },
  {
   "cell_type": "markdown",
   "metadata": {},
   "source": [
    "# 11. Challenge: Using Flags to Modify Regex Patterns"
   ]
  },
  {
   "cell_type": "code",
   "execution_count": 14,
   "metadata": {},
   "outputs": [
    {
     "name": "stdout",
     "output_type": "stream",
     "text": [
      "Test String\n",
      "0       email\n",
      "1       Email\n",
      "2      e Mail\n",
      "3      e mail\n",
      "4      E-mail\n",
      "5      e-mail\n",
      "6       eMail\n",
      "7      E-Mail\n",
      "8       EMAIL\n",
      "9      emails\n",
      "10     Emails\n",
      "11    E-Mails\n",
      "dtype: object\n",
      "12\n",
      "HN Titles\n",
      "119      Show HN: Send an email from your shell to your...\n",
      "161      Computer Specialist Who Deleted Clinton Emails...\n",
      "174                                        Email Apps Suck\n",
      "261      Emails Show Unqualified Clinton Foundation Don...\n",
      "313          Disposable emails for safe spam free shopping\n",
      "                               ...                        \n",
      "18847    Show HN: Crisp iOS keyboard for email and text...\n",
      "19303    Ask HN: Why big email providers don't sign the...\n",
      "19395    I used HTML Email when applying for jobs, here...\n",
      "19446    Tell HN: Secure email provider Riseup will run...\n",
      "19905    Gmail Will Soon Warn Users When Emails Arrive ...\n",
      "Name: title, Length: 141, dtype: object\n",
      "141\n"
     ]
    }
   ],
   "source": [
    "import re\n",
    "\n",
    "email_tests = pd.Series(['email', 'Email', 'e Mail', 'e mail', 'E-mail',\n",
    "              'e-mail', 'eMail', 'E-Mail', 'EMAIL', 'emails', 'Emails',\n",
    "              'E-Mails'])\n",
    "\n",
    "pattern=r\"\\be[\\-\\s]?mails?\\b\"\n",
    "\n",
    "email_tests[email_tests.str.contains(pattern)]\n",
    "\n",
    "emails=email_tests.str.contains(pattern, flags=re.I)\n",
    "\n",
    "\n",
    "email_mentions=emails.sum()\n",
    "print(\"Test String\",email_tests[emails],email_mentions, sep=\"\\n\")\n",
    "\n",
    "\n",
    "emails=titles.str.contains(pattern,flags=re.I)\n",
    "\n",
    "email_mentions=emails.sum()\n",
    "\n",
    "print(\"HN Titles\",titles[emails],email_mentions,sep=\"\\n\")\n"
   ]
  },
  {
   "cell_type": "markdown",
   "metadata": {},
   "source": [
    "# 12. Next Steps"
   ]
  },
  {
   "cell_type": "markdown",
   "metadata": {},
   "source": [
    "In this lesson, we learned the basics of using regular expressions to perform powerful text matching, including:\n",
    "\n",
    "* Character classes to match certain groups of characters, including sets to match different capitalizations of programming languages.\n",
    "* Quantifiers to match different quantities of characters, including matching different variations of \"email.\"\n",
    "* Negative character classes for matching anything except certain groups of characters.\n",
    "* Word boundaries to match only specific instances of words.\n",
    "* Positional anchors to match only at the start and end of strings.\n",
    "* The ignorecase flag to make patterns case insensitive.\n",
    "\n",
    "In the next lesson, we'll expand on our regular expression knowledge with some advanced regex concepts!"
   ]
  }
 ],
 "metadata": {
  "kernelspec": {
   "display_name": "Python 3",
   "language": "python",
   "name": "python3"
  },
  "language_info": {
   "codemirror_mode": {
    "name": "ipython",
    "version": 3
   },
   "file_extension": ".py",
   "mimetype": "text/x-python",
   "name": "python",
   "nbconvert_exporter": "python",
   "pygments_lexer": "ipython3",
   "version": "3.9.6"
  }
 },
 "nbformat": 4,
 "nbformat_minor": 4
}
