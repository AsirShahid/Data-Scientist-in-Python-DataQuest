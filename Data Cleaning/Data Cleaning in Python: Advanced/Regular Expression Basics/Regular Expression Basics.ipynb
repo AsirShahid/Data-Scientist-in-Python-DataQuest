{
 "cells": [
  {
   "cell_type": "markdown",
   "metadata": {},
   "source": [
    "# 1. Introduction"
   ]
  },
  {
   "cell_type": "code",
   "execution_count": 1,
   "metadata": {},
   "outputs": [],
   "source": [
    "import pandas as pd\n",
    "\n",
    "hn=pd.read_csv(\"hacker_news.csv\")"
   ]
  },
  {
   "cell_type": "code",
   "execution_count": 2,
   "metadata": {},
   "outputs": [
    {
     "name": "stdout",
     "output_type": "stream",
     "text": [
      "         id                                              title  \\\n",
      "0  12224879                          Interactive Dynamic Video   \n",
      "1  11964716  Florida DJs May Face Felony for April Fools' W...   \n",
      "2  11919867       Technology ventures: From Idea to Enterprise   \n",
      "3  10301696  Note by Note: The Making of Steinway L1037 (2007)   \n",
      "4  10482257  Title II kills investment? Comcast and other I...   \n",
      "\n",
      "                                                 url  num_points  \\\n",
      "0            http://www.interactivedynamicvideo.com/         386   \n",
      "1  http://www.thewire.com/entertainment/2013/04/f...           2   \n",
      "2  https://www.amazon.com/Technology-Ventures-Ent...           3   \n",
      "3  http://www.nytimes.com/2007/11/07/movies/07ste...           8   \n",
      "4  http://arstechnica.com/business/2015/10/comcas...          53   \n",
      "\n",
      "   num_comments      author       created_at  \n",
      "0            52    ne0phyte   8/4/2016 11:52  \n",
      "1             1    vezycash  6/23/2016 22:20  \n",
      "2             1     hswarna   6/17/2016 0:01  \n",
      "3             2  walterbell   9/30/2015 4:12  \n",
      "4            22      Deinos  10/31/2015 9:48  \n"
     ]
    }
   ],
   "source": [
    "print(hn.head())"
   ]
  },
  {
   "cell_type": "code",
   "execution_count": 3,
   "metadata": {},
   "outputs": [
    {
     "name": "stdout",
     "output_type": "stream",
     "text": [
      "<class 'pandas.core.frame.DataFrame'>\n",
      "RangeIndex: 20099 entries, 0 to 20098\n",
      "Data columns (total 7 columns):\n",
      " #   Column        Non-Null Count  Dtype \n",
      "---  ------        --------------  ----- \n",
      " 0   id            20099 non-null  int64 \n",
      " 1   title         20099 non-null  object\n",
      " 2   url           17659 non-null  object\n",
      " 3   num_points    20099 non-null  int64 \n",
      " 4   num_comments  20099 non-null  int64 \n",
      " 5   author        20099 non-null  object\n",
      " 6   created_at    20099 non-null  object\n",
      "dtypes: int64(3), object(4)\n",
      "memory usage: 1.1+ MB\n",
      "None\n"
     ]
    }
   ],
   "source": [
    "print(hn.info())"
   ]
  },
  {
   "cell_type": "code",
   "execution_count": 4,
   "metadata": {},
   "outputs": [
    {
     "name": "stdout",
     "output_type": "stream",
     "text": [
      "(20099, 7)\n"
     ]
    }
   ],
   "source": [
    "print(hn.shape)"
   ]
  },
  {
   "cell_type": "markdown",
   "metadata": {},
   "source": [
    "# 2. The Regular Expression Module"
   ]
  },
  {
   "cell_type": "code",
   "execution_count": 5,
   "metadata": {},
   "outputs": [
    {
     "name": "stdout",
     "output_type": "stream",
     "text": [
      "160\n"
     ]
    }
   ],
   "source": [
    "import re\n",
    "\n",
    "titles = hn[\"title\"].tolist()\n",
    "\n",
    "python_mentions=0\n",
    "\n",
    "pattern=\"[Pp]ython\"\n",
    "\n",
    "for title in titles:\n",
    "    if re.search(pattern,title):\n",
    "        python_mentions+=1\n",
    "print(python_mentions)"
   ]
  },
  {
   "cell_type": "markdown",
   "metadata": {},
   "source": [
    "# 3. Counting Matches with pandas Methods"
   ]
  },
  {
   "cell_type": "code",
   "execution_count": 7,
   "metadata": {},
   "outputs": [
    {
     "name": "stdout",
     "output_type": "stream",
     "text": [
      "160\n"
     ]
    }
   ],
   "source": [
    "pattern=\"[Pp]ython\"\n",
    "titles=hn[\"title\"]\n",
    "\n",
    "python_mentions=titles.str.contains(pattern).sum()\n",
    "\n",
    "print(python_mentions)"
   ]
  },
  {
   "cell_type": "markdown",
   "metadata": {},
   "source": [
    "# 4. Using Regular Expressions to Select Data"
   ]
  },
  {
   "cell_type": "code",
   "execution_count": 9,
   "metadata": {},
   "outputs": [
    {
     "name": "stdout",
     "output_type": "stream",
     "text": [
      "190                     Ruby on Google AppEngine Goes Beta\n",
      "484           Related: Pure Ruby Relational Algebra Engine\n",
      "1388     Show HN: HTTPalooza  Ruby's greatest HTTP clie...\n",
      "1949     Rewriting a Ruby C Extension in Rust: How a Na...\n",
      "2022     Show HN: CrashBreak  Reproduce exceptions as f...\n",
      "2163                   Ruby 2.3 Is Only 4% Faster than 2.2\n",
      "2306     Websocket Shootout: Clojure, C++, Elixir, Go, ...\n",
      "2620                       Why Startups Use Ruby on Rails?\n",
      "2645     Ask HN: Should I continue working a Ruby gem f...\n",
      "3290     Ruby on Rails and the importance of being stup...\n",
      "3749     Telegram.org Bot Platform Webhooks Server, for...\n",
      "3874     Warp Directory (wd) unix command line tool for...\n",
      "4026     OS X 10.11 Ruby / Rails users can install ther...\n",
      "4163     Charles Nutter of JRuby Banned by Rubinius for...\n",
      "4602     Quiz: Ruby or Rails? Matz and DHH were not abl...\n",
      "5832     Show HN: An experimental Python to C#/Go/Ruby/...\n",
      "6180     Shrine  A new solution for handling file uploa...\n",
      "7171     JRuby+Truffle: Why its important to optimise t...\n",
      "7235                                        Ruby or Rails?\n",
      "7671                    How I hunted the most odd ruby bug\n",
      "7776     Elixir obsoletes Ruby, Erlang and Clojure in o...\n",
      "7870                            Elixir and Ruby Comparison\n",
      "8502     Show HN: Di-ary  a math note-taking app built ...\n",
      "10212               Ruby has been fast enough for 13 years\n",
      "11060    Show HN: VeryAnts: Probabilistic Integer Arith...\n",
      "11534                             The Ruby Code of Conduct\n",
      "11622    FasterPath: Faster Pathname Handling for Ruby ...\n",
      "12061       Ask HN: What's your favorite ruby HTTP client?\n",
      "12091    Show HN: Automated Bundle Update with Descript...\n",
      "12114                                         Awesome Ruby\n",
      "12543    Ruby Bug: SecureRandom should try /dev/urandom...\n",
      "12987    Show HN: Klipse  code evaluator pluggable on a...\n",
      "13550    Matz: I cannot accept the CoC for the Ruby com...\n",
      "13650                  Programs that rewrite Ruby programs\n",
      "14798                  Ruby Wrapper for Telegram's Bot API\n",
      "14980                    A Ruby gem for genetic algorithms\n",
      "16093                          Master Ruby Web APIs Is Out\n",
      "16149         Ruru: native Ruby extensions written in Rust\n",
      "16327                   Make Ruby Great Again [transcript]\n",
      "16422                                 Object Oriented Ruby\n",
      "16536                           Ruby Deoptimization Engine\n",
      "16875                         Video: Make Ruby Great Again\n",
      "17072    A coupon/deals site built using Roda gem for Ruby\n",
      "17510                        Table Flip on Ruby Exceptions\n",
      "18877    Using Rust with Ruby, a Deep Dive with Yehuda ...\n",
      "19077                           Python is Better than Ruby\n",
      "19224                    Modern concurrency tools for Ruby\n",
      "19743    Using a Neural Network to Train a Ruby Twitter...\n",
      "Name: title, dtype: object\n"
     ]
    }
   ],
   "source": [
    "titles = hn['title']\n",
    "\n",
    "pattern=\"[Rr]uby\"\n",
    "\n",
    "ruby_titles=titles[titles.str.contains(pattern)]\n",
    "\n",
    "print(ruby_titles)"
   ]
  },
  {
   "cell_type": "markdown",
   "metadata": {},
   "source": [
    "# 5. Quantifiers"
   ]
  },
  {
   "cell_type": "code",
   "execution_count": 14,
   "metadata": {},
   "outputs": [
    {
     "name": "stdout",
     "output_type": "stream",
     "text": [
      "Number of email/e-mail occurences\n",
      "86\n",
      "Email Titles\n",
      "119      Show HN: Send an email from your shell to your...\n",
      "313          Disposable emails for safe spam free shopping\n",
      "1361     Ask HN: Doing cold emails? helps us prove this...\n",
      "1750     Protect yourself from spam, bots and phishing ...\n",
      "2421                    Ashley Madison hack treating email\n",
      "                               ...                        \n",
      "18098    House panel looking into Reddit post about Cli...\n",
      "18583    Mailgen  Generates clean, responsive HTML for ...\n",
      "18847    Show HN: Crisp iOS keyboard for email and text...\n",
      "19303    Ask HN: Why big email providers don't sign the...\n",
      "19446    Tell HN: Secure email provider Riseup will run...\n",
      "Name: title, Length: 86, dtype: object\n"
     ]
    }
   ],
   "source": [
    "email_bool=titles.str.contains(\"e-?mail\")\n",
    "\n",
    "email_count=email_bool.sum()\n",
    "\n",
    "email_titles=titles[email_bool]\n",
    "\n",
    "print(\"Number of email/e-mail occurences\",email_count,\"Email Titles\",email_titles,sep=\"\\n\")"
   ]
  },
  {
   "cell_type": "markdown",
   "metadata": {},
   "source": [
    "# 6. Character Classes"
   ]
  },
  {
   "cell_type": "code",
   "execution_count": 16,
   "metadata": {},
   "outputs": [
    {
     "name": "stdout",
     "output_type": "stream",
     "text": [
      "444\n"
     ]
    }
   ],
   "source": [
    "pattern=\"\\[\\w+\\]\"\n",
    "\n",
    "tag_titles=titles.str.contains(pattern)\n",
    "tag_count=tag_titles.sum()\n",
    "\n",
    "print(tag_count)"
   ]
  },
  {
   "cell_type": "markdown",
   "metadata": {},
   "source": [
    "# 7. Accessing the Matching Text with Capture Groups"
   ]
  },
  {
   "cell_type": "code",
   "execution_count": null,
   "metadata": {},
   "outputs": [],
   "source": []
  }
 ],
 "metadata": {
  "kernelspec": {
   "display_name": "Python 3",
   "language": "python",
   "name": "python3"
  },
  "language_info": {
   "codemirror_mode": {
    "name": "ipython",
    "version": 3
   },
   "file_extension": ".py",
   "mimetype": "text/x-python",
   "name": "python",
   "nbconvert_exporter": "python",
   "pygments_lexer": "ipython3",
   "version": "3.9.6"
  }
 },
 "nbformat": 4,
 "nbformat_minor": 4
}
