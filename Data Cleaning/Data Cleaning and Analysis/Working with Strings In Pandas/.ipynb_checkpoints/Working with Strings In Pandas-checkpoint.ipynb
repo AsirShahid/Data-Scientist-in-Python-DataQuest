{
 "cells": [
  {
   "cell_type": "markdown",
   "metadata": {},
   "source": [
    "# 1. Introduction"
   ]
  },
  {
   "cell_type": "code",
   "execution_count": 7,
   "metadata": {},
   "outputs": [
    {
     "name": "stdout",
     "output_type": "stream",
     "text": [
      "         Country                         Region_x  Happiness Rank  \\\n",
      "0    Switzerland                   Western Europe               1   \n",
      "1        Iceland                   Western Europe               2   \n",
      "2        Denmark                   Western Europe               3   \n",
      "3         Norway                   Western Europe               4   \n",
      "4         Canada                    North America               5   \n",
      "..           ...                              ...             ...   \n",
      "153       Rwanda               Sub-Saharan Africa             154   \n",
      "154        Benin               Sub-Saharan Africa             155   \n",
      "155        Syria  Middle East and Northern Africa             156   \n",
      "156      Burundi               Sub-Saharan Africa             157   \n",
      "157         Togo               Sub-Saharan Africa             158   \n",
      "\n",
      "     Happiness Score  Standard Error  Economy (GDP per Capita)   Family  \\\n",
      "0              7.587         0.03411                   1.39651  1.34951   \n",
      "1              7.561         0.04884                   1.30232  1.40223   \n",
      "2              7.527         0.03328                   1.32548  1.36058   \n",
      "3              7.522         0.03880                   1.45900  1.33095   \n",
      "4              7.427         0.03553                   1.32629  1.32261   \n",
      "..               ...             ...                       ...      ...   \n",
      "153            3.465         0.03464                   0.22208  0.77370   \n",
      "154            3.340         0.03656                   0.28665  0.35386   \n",
      "155            3.006         0.05015                   0.66320  0.47489   \n",
      "156            2.905         0.08658                   0.01530  0.41587   \n",
      "157            2.839         0.06727                   0.20868  0.13995   \n",
      "\n",
      "     Health (Life Expectancy)  Freedom  Trust (Government Corruption)  ...  \\\n",
      "0                     0.94143  0.66557                        0.41978  ...   \n",
      "1                     0.94784  0.62877                        0.14145  ...   \n",
      "2                     0.87464  0.64938                        0.48357  ...   \n",
      "3                     0.88521  0.66973                        0.36503  ...   \n",
      "4                     0.90563  0.63297                        0.32957  ...   \n",
      "..                        ...      ...                            ...  ...   \n",
      "153                   0.42864  0.59201                        0.55191  ...   \n",
      "154                   0.31910  0.48450                        0.08010  ...   \n",
      "155                   0.72193  0.15684                        0.18906  ...   \n",
      "156                   0.22396  0.11850                        0.10062  ...   \n",
      "157                   0.28443  0.36453                        0.10731  ...   \n",
      "\n",
      "         GovernmentAccountingConcept  \\\n",
      "0    Consolidated central government   \n",
      "1    Consolidated central government   \n",
      "2    Consolidated central government   \n",
      "3    Consolidated central government   \n",
      "4    Consolidated central government   \n",
      "..                               ...   \n",
      "153     Budgetary central government   \n",
      "154     Budgetary central government   \n",
      "155                              NaN   \n",
      "156  Consolidated central government   \n",
      "157     Budgetary central government   \n",
      "\n",
      "                   ImfDataDisseminationStandard LatestPopulationCensus  \\\n",
      "0    Special Data Dissemination Standard (SDDS)                   2010   \n",
      "1    Special Data Dissemination Standard (SDDS)                   2011   \n",
      "2    Special Data Dissemination Standard (SDDS)                   2011   \n",
      "3    Special Data Dissemination Standard (SDDS)                   2011   \n",
      "4    Special Data Dissemination Standard (SDDS)                   2011   \n",
      "..                                          ...                    ...   \n",
      "153    General Data Dissemination System (GDDS)                   2012   \n",
      "154    General Data Dissemination System (GDDS)                   2013   \n",
      "155                                         NaN                    NaN   \n",
      "156    General Data Dissemination System (GDDS)                   2008   \n",
      "157    General Data Dissemination System (GDDS)                   2010   \n",
      "\n",
      "                              LatestHouseholdSurvey  \\\n",
      "0                                               NaN   \n",
      "1                                               NaN   \n",
      "2                                               NaN   \n",
      "3                                               NaN   \n",
      "4                                               NaN   \n",
      "..                                              ...   \n",
      "153            Malaria Indicator Survey (MIS), 2013   \n",
      "154  Multiple Indicator Cluster Survey (MICS), 2014   \n",
      "155                                             NaN   \n",
      "156            Malaria Indicator Survey (MIS), 2012   \n",
      "157    Demographic and Health Survey (DHS), 2013/14   \n",
      "\n",
      "                                              IESurvey  \\\n",
      "0       Expenditure survey/budget survey (ES/BS), 2004   \n",
      "1              Integrated household survey (IHS), 2010   \n",
      "2                     Income tax registers (ITR), 2010   \n",
      "3                             Income survey (IS), 2010   \n",
      "4                       Labor force survey (LFS), 2010   \n",
      "..                                                 ...   \n",
      "153         Integrated household survey (IHS), 2010/11   \n",
      "154  Core Welfare Indicator Questionnaire Survey (C...   \n",
      "155                                                NaN   \n",
      "156  Core Welfare Indicator Questionnaire Survey (C...   \n",
      "157  Core Welfare Indicator Questionnaire Survey (C...   \n",
      "\n",
      "    VitalRegistrationComplete LatestAgriculturalCensus LatestIndustrialData  \\\n",
      "0                         Yes                     2008               2010.0   \n",
      "1                         Yes                     2010               2005.0   \n",
      "2                         Yes                     2010               2010.0   \n",
      "3                         Yes                     2010               2010.0   \n",
      "4                         Yes                     2011               2011.0   \n",
      "..                        ...                      ...                  ...   \n",
      "153                       NaN                     2008                  NaN   \n",
      "154                       NaN                  2011/12                  NaN   \n",
      "155                       NaN                      NaN                  NaN   \n",
      "156                       NaN                      NaN               2010.0   \n",
      "157                       NaN                2011/2012                  NaN   \n",
      "\n",
      "    LatestTradeData LatestWaterWithdrawalData  \n",
      "0            2013.0                    2000.0  \n",
      "1            2013.0                    2005.0  \n",
      "2            2013.0                    2009.0  \n",
      "3            2013.0                    2006.0  \n",
      "4            2013.0                    1986.0  \n",
      "..              ...                       ...  \n",
      "153          2013.0                    2000.0  \n",
      "154          2013.0                    2001.0  \n",
      "155             NaN                       NaN  \n",
      "156          2012.0                    2000.0  \n",
      "157          2013.0                    2002.0  \n",
      "\n",
      "[158 rows x 43 columns]\n"
     ]
    }
   ],
   "source": [
    "import pandas as pd\n",
    "\n",
    "world_dev = pd.read_csv(\"World_dev.csv\")\n",
    "col_renaming = {'SourceOfMostRecentIncomeAndExpenditureData': 'IESurvey'}\n",
    "\n",
    "happiness_2015=pd.read_csv(\"World_Happiness_2015.csv\")\n",
    "\n",
    "merged=pd.merge(happiness_2015,world_dev, how=\"left\", left_on=\"Country\", right_on=\"ShortName\")\n",
    "\n",
    "\n",
    "merged.rename(col_renaming,axis=1,inplace=True)\n",
    "\n",
    "print(merged)"
   ]
  },
  {
   "cell_type": "markdown",
   "metadata": {},
   "source": [
    "# 2. Using Apply to Transform Strings"
   ]
  },
  {
   "cell_type": "code",
   "execution_count": 9,
   "metadata": {},
   "outputs": [
    {
     "name": "stdout",
     "output_type": "stream",
     "text": [
      "       Country        Region_x  Happiness Rank  Happiness Score  \\\n",
      "0  Switzerland  Western Europe               1            7.587   \n",
      "1      Iceland  Western Europe               2            7.561   \n",
      "2      Denmark  Western Europe               3            7.527   \n",
      "3       Norway  Western Europe               4            7.522   \n",
      "4       Canada   North America               5            7.427   \n",
      "\n",
      "   Standard Error  Economy (GDP per Capita)   Family  \\\n",
      "0         0.03411                   1.39651  1.34951   \n",
      "1         0.04884                   1.30232  1.40223   \n",
      "2         0.03328                   1.32548  1.36058   \n",
      "3         0.03880                   1.45900  1.33095   \n",
      "4         0.03553                   1.32629  1.32261   \n",
      "\n",
      "   Health (Life Expectancy)  Freedom  Trust (Government Corruption)  ...  \\\n",
      "0                   0.94143  0.66557                        0.41978  ...   \n",
      "1                   0.94784  0.62877                        0.14145  ...   \n",
      "2                   0.87464  0.64938                        0.48357  ...   \n",
      "3                   0.88521  0.66973                        0.36503  ...   \n",
      "4                   0.90563  0.63297                        0.32957  ...   \n",
      "\n",
      "                 ImfDataDisseminationStandard  LatestPopulationCensus  \\\n",
      "0  Special Data Dissemination Standard (SDDS)                    2010   \n",
      "1  Special Data Dissemination Standard (SDDS)                    2011   \n",
      "2  Special Data Dissemination Standard (SDDS)                    2011   \n",
      "3  Special Data Dissemination Standard (SDDS)                    2011   \n",
      "4  Special Data Dissemination Standard (SDDS)                    2011   \n",
      "\n",
      "  LatestHouseholdSurvey                                        IESurvey  \\\n",
      "0                   NaN  Expenditure survey/budget survey (ES/BS), 2004   \n",
      "1                   NaN         Integrated household survey (IHS), 2010   \n",
      "2                   NaN                Income tax registers (ITR), 2010   \n",
      "3                   NaN                        Income survey (IS), 2010   \n",
      "4                   NaN                  Labor force survey (LFS), 2010   \n",
      "\n",
      "  VitalRegistrationComplete LatestAgriculturalCensus LatestIndustrialData  \\\n",
      "0                       Yes                     2008               2010.0   \n",
      "1                       Yes                     2010               2005.0   \n",
      "2                       Yes                     2010               2010.0   \n",
      "3                       Yes                     2010               2010.0   \n",
      "4                       Yes                     2011               2011.0   \n",
      "\n",
      "  LatestTradeData LatestWaterWithdrawalData Currency Apply  \n",
      "0          2013.0                    2000.0          franc  \n",
      "1          2013.0                    2005.0          krona  \n",
      "2          2013.0                    2009.0          krone  \n",
      "3          2013.0                    2006.0          krone  \n",
      "4          2013.0                    1986.0         dollar  \n",
      "\n",
      "[5 rows x 44 columns]\n"
     ]
    }
   ],
   "source": [
    "def extract_last_word(element):\n",
    "    return str(element).split()[-1]\n",
    "\n",
    "merged[\"Currency Apply\"]=merged[\"CurrencyUnit\"].apply(extract_last_word)\n",
    "\n",
    "print(merged.head())"
   ]
  },
  {
   "cell_type": "markdown",
   "metadata": {},
   "source": [
    "# 3. Vectorized String Methods Overview"
   ]
  },
  {
   "cell_type": "markdown",
   "metadata": {},
   "source": [
    "Whenever possible, we should try to use the vectorized methods instead of Series.apply() due to performance reasons.\n",
    "\n",
    "Here are some examples.\n",
    "\n",
    "| Method               | Description                                                   |\n",
    "|----------------------|---------------------------------------------------------------|\n",
    "| Series.str.split()   | Splits each element in the Series.                            |\n",
    "| Series.str.strip()   | Strips whitespace from each string in the Series.             |\n",
    "| Series.str.lower()   | Converts strings in the Series to lowercase.                  |\n",
    "| Series.str.upper()   | Converts strings in the Series to uppercase.                  |\n",
    "| Series.str.get()     | Retrieves the ith element of each element in the Series.      |\n",
    "| Series.str.replace() | Replaces a regex or string in the Series with another string. |\n",
    "| Series.str.cat()     | Concatenates strings in a Series.                             |\n",
    "| Series.str.extract() | Extracts substrings from the Series matching a regex pattern. |\n",
    "\n"
   ]
  },
  {
   "cell_type": "code",
   "execution_count": 12,
   "metadata": {},
   "outputs": [
    {
     "name": "stdout",
     "output_type": "stream",
     "text": [
      "0     franc\n",
      "1     krona\n",
      "2     krone\n",
      "3     krone\n",
      "4    dollar\n",
      "Name: Currency Vectorized, dtype: object\n"
     ]
    }
   ],
   "source": [
    "merged[\"Currency Vectorized\"]=merged[\"CurrencyUnit\"].str.split().str.get(-1)\n",
    "\n",
    "print(merged[\"Currency Vectorized\"].head())"
   ]
  },
  {
   "cell_type": "markdown",
   "metadata": {},
   "source": [
    "# 4. Exploring Missing Values with Vectorized String Methods"
   ]
  },
  {
   "cell_type": "code",
   "execution_count": 17,
   "metadata": {},
   "outputs": [
    {
     "name": "stdout",
     "output_type": "stream",
     "text": [
      "13\n",
      "14.0    21\n",
      "4.0     20\n",
      "12.0    17\n",
      "13.0    14\n",
      "NaN     13\n",
      "15.0    13\n",
      "16.0    12\n",
      "18.0     9\n",
      "17.0     9\n",
      "11.0     8\n",
      "22.0     7\n",
      "25.0     5\n",
      "19.0     3\n",
      "9.0      2\n",
      "10.0     1\n",
      "39.0     1\n",
      "26.0     1\n",
      "23.0     1\n",
      "20.0     1\n",
      "Name: CurrencyUnit, dtype: int64\n"
     ]
    }
   ],
   "source": [
    "print(merged[\"CurrencyUnit\"].isnull().sum())\n",
    "\n",
    "lengths=merged[\"CurrencyUnit\"].str.len()\n",
    "\n",
    "value_counts=lengths.value_counts(dropna=False)\n",
    "\n",
    "print(value_counts)"
   ]
  },
  {
   "cell_type": "markdown",
   "metadata": {},
   "source": [
    "# 5. Finding Specific Words in Strings"
   ]
  },
  {
   "cell_type": "code",
   "execution_count": 19,
   "metadata": {},
   "outputs": [
    {
     "name": "stdout",
     "output_type": "stream",
     "text": [
      "0     NaN\n",
      "1     NaN\n",
      "2     NaN\n",
      "3     NaN\n",
      "4    True\n",
      "Name: SpecialNotes, dtype: object\n"
     ]
    }
   ],
   "source": [
    "pattern = r\"[Nn]ational accounts\"\n",
    "\n",
    "national_accounts=merged[\"SpecialNotes\"].str.contains(pattern)\n",
    "\n",
    "print(national_accounts.head())"
   ]
  },
  {
   "cell_type": "markdown",
   "metadata": {},
   "source": [
    "# 6. Finding Specific Words in Strings Continue"
   ]
  },
  {
   "cell_type": "code",
   "execution_count": 21,
   "metadata": {},
   "outputs": [
    {
     "name": "stdout",
     "output_type": "stream",
     "text": [
      "          Country                   Region_x  Happiness Rank  Happiness Score  \\\n",
      "4          Canada              North America               5            7.427   \n",
      "7          Sweden             Western Europe               8            7.364   \n",
      "8     New Zealand  Australia and New Zealand               9            7.286   \n",
      "9       Australia  Australia and New Zealand              10            7.284   \n",
      "14  United States              North America              15            7.119   \n",
      "\n",
      "    Standard Error  Economy (GDP per Capita)   Family  \\\n",
      "4          0.03553                   1.32629  1.32261   \n",
      "7          0.03157                   1.33171  1.28907   \n",
      "8          0.03371                   1.25018  1.31967   \n",
      "9          0.04083                   1.33358  1.30923   \n",
      "14         0.03839                   1.39451  1.24711   \n",
      "\n",
      "    Health (Life Expectancy)  Freedom  Trust (Government Corruption)  ...  \\\n",
      "4                    0.90563  0.63297                        0.32957  ...   \n",
      "7                    0.91087  0.65980                        0.43844  ...   \n",
      "8                    0.90837  0.63938                        0.42922  ...   \n",
      "9                    0.93156  0.65124                        0.35637  ...   \n",
      "14                   0.86179  0.54604                        0.15890  ...   \n",
      "\n",
      "    LatestPopulationCensus  LatestHouseholdSurvey  \\\n",
      "4                     2011                    NaN   \n",
      "7                     2011                    NaN   \n",
      "8                     2013                    NaN   \n",
      "9                     2011                    NaN   \n",
      "14                    2010                    NaN   \n",
      "\n",
      "                                          IESurvey VitalRegistrationComplete  \\\n",
      "4                   Labor force survey (LFS), 2010                       Yes   \n",
      "7                         Income survey (IS), 2005                       Yes   \n",
      "8                                              NaN                       Yes   \n",
      "9   Expenditure survey/budget survey (ES/BS), 2003                       Yes   \n",
      "14                  Labor force survey (LFS), 2010                       Yes   \n",
      "\n",
      "   LatestAgriculturalCensus LatestIndustrialData LatestTradeData  \\\n",
      "4                      2011               2011.0          2013.0   \n",
      "7                      2010               2010.0          2013.0   \n",
      "8                      2012               2010.0          2013.0   \n",
      "9                      2011               2011.0          2013.0   \n",
      "14                     2012               2008.0          2013.0   \n",
      "\n",
      "   LatestWaterWithdrawalData Currency Apply Currency Vectorized  \n",
      "4                     1986.0         dollar              dollar  \n",
      "7                     2007.0          krona               krona  \n",
      "8                     2002.0         dollar              dollar  \n",
      "9                     2000.0         dollar              dollar  \n",
      "14                    2005.0         dollar              dollar  \n",
      "\n",
      "[5 rows x 45 columns]\n"
     ]
    }
   ],
   "source": [
    "pattern = r\"[Nn]ational accounts\"\n",
    "\n",
    "national_accounts=merged[\"SpecialNotes\"].str.contains(pattern,na=False)\n",
    "\n",
    "merged_national_accounts=merged[national_accounts]\n",
    "\n",
    "print(merged_national_accounts.head())"
   ]
  },
  {
   "cell_type": "markdown",
   "metadata": {},
   "source": [
    "# 7. Extracting Substrings from a Series"
   ]
  },
  {
   "cell_type": "code",
   "execution_count": 24,
   "metadata": {},
   "outputs": [
    {
     "name": "stdout",
     "output_type": "stream",
     "text": [
      "        0\n",
      "0     NaN\n",
      "1     NaN\n",
      "2     NaN\n",
      "3     NaN\n",
      "4     NaN\n",
      "..    ...\n",
      "153  2006\n",
      "154   NaN\n",
      "155   NaN\n",
      "156   NaN\n",
      "157  2013\n",
      "\n",
      "[158 rows x 1 columns]\n"
     ]
    }
   ],
   "source": [
    "pattern =r\"([0-2][0-9]{3})\"\n",
    "\n",
    "years=merged[\"SpecialNotes\"].str.extract(pattern)\n",
    "\n",
    "print(years)"
   ]
  },
  {
   "cell_type": "markdown",
   "metadata": {},
   "source": [
    "# 8. Extracting Substrings from a Series Continued"
   ]
  },
  {
   "cell_type": "markdown",
   "metadata": {},
   "source": [
    "In the last exercise, we learned how to identify more complex patterns with regular expressions and extract substrings from a column using that pattern.\n",
    "\n",
    "When we used the Series.str.extract() method, we enclosed our regular expression in parentheses. The parentheses indicate that only the character pattern matched should be extracted and returned in a series. We call this a capturing group.\n",
    "\n",
    "If the capturing group doesn't exist in a row (or there is no match) the value in that row is set to NaN instead. As a result, the Series returned looked like this:\n",
    "\n"
   ]
  },
  {
   "cell_type": "markdown",
   "metadata": {},
   "source": [
    "# 9. Extracting All Matches of a Pattern from a Series"
   ]
  },
  {
   "cell_type": "code",
   "execution_count": 27,
   "metadata": {},
   "outputs": [
    {
     "name": "stdout",
     "output_type": "stream",
     "text": [
      "2012    33\n",
      "2010    28\n",
      "2011    22\n",
      "2013    12\n",
      "2009     8\n",
      "2005     6\n",
      "2008     6\n",
      "2007     4\n",
      "2004     3\n",
      "2002     1\n",
      "1992     1\n",
      "2006     1\n",
      "2003     1\n",
      "1998     1\n",
      "1995     1\n",
      "2000     1\n",
      "1999     1\n",
      "Name: Years, dtype: int64\n"
     ]
    }
   ],
   "source": [
    "pattern = r\"(?P<Years>[1-2][0-9]{3})\"\n",
    "\n",
    "years=merged[\"IESurvey\"].str.extractall(pattern)\n",
    "\n",
    "value_counts=years[\"Years\"].value_counts()\n",
    "\n",
    "print(value_counts)"
   ]
  },
  {
   "cell_type": "markdown",
   "metadata": {},
   "source": [
    "# 10. Extracting More Than One Group of Patterns from a Series"
   ]
  },
  {
   "cell_type": "code",
   "execution_count": null,
   "metadata": {},
   "outputs": [],
   "source": [
    "pattern = r\"(?P<First_Year>[1-2][0-9]{3})/?(?P<Second_Year>[0-9]{2})?\"\n",
    "\n"
   ]
  }
 ],
 "metadata": {
  "kernelspec": {
   "display_name": "Python 3",
   "language": "python",
   "name": "python3"
  },
  "language_info": {
   "codemirror_mode": {
    "name": "ipython",
    "version": 3
   },
   "file_extension": ".py",
   "mimetype": "text/x-python",
   "name": "python",
   "nbconvert_exporter": "python",
   "pygments_lexer": "ipython3",
   "version": "3.9.6"
  }
 },
 "nbformat": 4,
 "nbformat_minor": 4
}
