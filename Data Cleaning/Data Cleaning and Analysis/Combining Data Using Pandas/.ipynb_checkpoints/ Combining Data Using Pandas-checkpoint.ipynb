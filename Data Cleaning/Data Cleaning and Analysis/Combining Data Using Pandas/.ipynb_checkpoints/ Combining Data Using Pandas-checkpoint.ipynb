{
 "cells": [
  {
   "cell_type": "markdown",
   "metadata": {},
   "source": [
    "# 1. Introduction"
   ]
  },
  {
   "cell_type": "markdown",
   "metadata": {},
   "source": [
    "We will see how world happiness changes from 2015-2017"
   ]
  },
  {
   "cell_type": "code",
   "execution_count": 2,
   "metadata": {},
   "outputs": [],
   "source": [
    "import pandas as pd\n",
    "\n",
    "happiness2015=pd.read_csv(\"World_Happiness_2015.csv\")\n",
    "happiness2016=pd.read_csv(\"World_Happiness_2016.csv\")\n",
    "happiness2017=pd.read_csv(\"World_Happiness_2017.csv\")\n",
    "\n",
    "happiness2015[\"Year\"]=2015\n",
    "happiness2016[\"Year\"]=2016\n",
    "happiness2017[\"Year\"]=2017"
   ]
  },
  {
   "cell_type": "markdown",
   "metadata": {},
   "source": [
    "# 2. Combining Dataframes with the Concat Function"
   ]
  },
  {
   "cell_type": "code",
   "execution_count": 11,
   "metadata": {},
   "outputs": [
    {
     "name": "stdout",
     "output_type": "stream",
     "text": [
      "       Country  Happiness Score  Year\n",
      "0  Switzerland            7.587  2015\n",
      "1      Iceland            7.561  2015\n",
      "2      Denmark            7.527  2015\n",
      "0      Denmark            7.526  2016\n",
      "1  Switzerland            7.509  2016\n",
      "2      Iceland            7.501  2016\n",
      "       Country  Happiness Score  Year      Country  Happiness Score  Year\n",
      "0  Switzerland            7.587  2015      Denmark            7.526  2016\n",
      "1      Iceland            7.561  2015  Switzerland            7.509  2016\n",
      "2      Denmark            7.527  2015      Iceland            7.501  2016\n"
     ]
    }
   ],
   "source": [
    "head_2015 = happiness2015[['Country','Happiness Score', 'Year']].head(3)\n",
    "head_2016 = happiness2016[['Country','Happiness Score', 'Year']].head(3)\n",
    "\n",
    "concat_axis0=pd.concat([head_2015,head_2016],axis=0)\n",
    "\n",
    "concat_axis1=pd.concat([head_2015,head_2016],axis=1)\n",
    "\n",
    "print(concat_axis0)\n",
    "print(concat_axis1)\n",
    "\n",
    "question1=concat_axis0.shape[0]\n",
    "question2=concat_axis1.shape[0]"
   ]
  },
  {
   "cell_type": "markdown",
   "metadata": {},
   "source": [
    "# 3. Combining Dataframes with the Concat Function Continued"
   ]
  },
  {
   "cell_type": "code",
   "execution_count": 10,
   "metadata": {},
   "outputs": [
    {
     "name": "stdout",
     "output_type": "stream",
     "text": [
      "   Year      Country  Happiness Score  Standard Error\n",
      "0  2015  Switzerland            7.587         0.03411\n",
      "1  2015      Iceland            7.561         0.04884\n",
      "2  2015      Denmark            7.527         0.03328\n",
      "3  2015       Norway            7.522         0.03880\n",
      "0  2016      Denmark            7.526             NaN\n",
      "1  2016  Switzerland            7.509             NaN\n",
      "2  2016      Iceland            7.501             NaN\n"
     ]
    }
   ],
   "source": [
    "head_2015 = happiness2015[['Year','Country','Happiness Score', 'Standard Error']].head(4)\n",
    "head_2016 = happiness2016[['Country','Happiness Score', 'Year']].head(3)\n",
    "\n",
    "concat_axis0=pd.concat([head_2015,head_2016],axis=0)\n",
    "\n",
    "print(concat_axis0)\n",
    "\n",
    "rows=concat_axis0.shape[0]\n",
    "columns=concat_axis0.shape[1]"
   ]
  },
  {
   "cell_type": "markdown",
   "metadata": {},
   "source": [
    "# 4. Combining Dataframes with Different Shapes Using the Concat Function"
   ]
  },
  {
   "cell_type": "code",
   "execution_count": 12,
   "metadata": {},
   "outputs": [
    {
     "name": "stdout",
     "output_type": "stream",
     "text": [
      "   Year      Country  Happiness Score  Standard Error\n",
      "0  2015  Switzerland            7.587         0.03411\n",
      "1  2015      Iceland            7.561         0.04884\n",
      "2  2015      Denmark            7.527         0.03328\n",
      "3  2015       Norway            7.522         0.03880\n",
      "4  2016      Denmark            7.526             NaN\n",
      "5  2016  Switzerland            7.509             NaN\n",
      "6  2016      Iceland            7.501             NaN\n"
     ]
    }
   ],
   "source": [
    "head_2015 = happiness2015[['Year','Country','Happiness Score', 'Standard Error']].head(4)\n",
    "head_2016 = happiness2016[['Country','Happiness Score', 'Year']].head(3)\n",
    "\n",
    "concat_update_index=pd.concat([head_2015,head_2016],axis=0, ignore_index=True)\n",
    "print(concat_update_index)"
   ]
  },
  {
   "cell_type": "markdown",
   "metadata": {},
   "source": [
    "# 5. Joining Dataframes with the Merge Function"
   ]
  },
  {
   "cell_type": "code",
   "execution_count": 18,
   "metadata": {},
   "outputs": [
    {
     "name": "stdout",
     "output_type": "stream",
     "text": [
      "   Country  Happiness Rank  Year\n",
      "2  Denmark               3  2015\n",
      "3   Norway               4  2015\n",
      "4   Canada               5  2015\n",
      "   Country  Happiness Rank  Year\n",
      "2  Iceland               3  2016\n",
      "3   Norway               4  2016\n",
      "4  Finland               5  2016\n",
      "  Country  Happiness Rank_x  Year_x  Happiness Rank_y  Year_y\n",
      "0  Norway                 4    2015                 4    2016\n"
     ]
    }
   ],
   "source": [
    "three_2015 = happiness2015[['Country','Happiness Rank','Year']].iloc[2:5]\n",
    "three_2016 = happiness2016[['Country','Happiness Rank','Year']].iloc[2:5]\n",
    "\n",
    "merged=pd.merge(left=three_2015,right=three_2016,on=\"Country\")\n",
    "\n",
    "print(three_2015)\n",
    "print(three_2016)\n",
    "print(merged)"
   ]
  },
  {
   "cell_type": "markdown",
   "metadata": {},
   "source": [
    "# 6. Joining on Columns with the Merge Function"
   ]
  },
  {
   "cell_type": "markdown",
   "metadata": {},
   "source": [
    "There are actually four different types of joins:\n",
    "\n",
    "1. Inner: only includes elements that appear in both dataframes with a common key\n",
    "2. Outer: includes all data from both dataframes\n",
    "3. Left: includes all of the rows from the \"left\" dataframe along with any rows from the \"right\" dataframe with a common key; the result retains all columns from both of the original dataframes\n",
    "4. Right: includes all of the rows from the \"right\" dataframe along with any rows from the \"left\" dataframe with a common key; the result retains all columns from both of the original dataframes\n"
   ]
  },
  {
   "cell_type": "code",
   "execution_count": 22,
   "metadata": {},
   "outputs": [
    {
     "name": "stdout",
     "output_type": "stream",
     "text": [
      "   Country  Happiness Rank_x  Year_x  Happiness Rank_y  Year_y\n",
      "0  Denmark                 3    2015               NaN     NaN\n",
      "1   Norway                 4    2015               4.0  2016.0\n",
      "2   Canada                 5    2015               NaN     NaN\n",
      "   Country  Happiness Rank_x  Year_x  Happiness Rank_y  Year_y\n",
      "0  Iceland                 3    2016               NaN     NaN\n",
      "1   Norway                 4    2016               4.0  2015.0\n",
      "2  Finland                 5    2016               NaN     NaN\n"
     ]
    }
   ],
   "source": [
    "three_2015 = happiness2015[['Country','Happiness Rank','Year']].iloc[2:5]\n",
    "three_2016 = happiness2016[['Country','Happiness Rank','Year']].iloc[2:5]\n",
    "\n",
    "merged_left = pd.merge(left=three_2015, right=three_2016, on='Country',how=\"left\")\n",
    "\n",
    "merged_left_updated=pd.merge(left=three_2016,right=three_2015, on=\"Country\",how=\"left\")\n",
    "\n",
    "print(merged_left)\n",
    "print(merged_left_updated)"
   ]
  },
  {
   "cell_type": "markdown",
   "metadata": {},
   "source": [
    "Based on the results of this exercise, when using a left join, does changing the dataframe assigned to the left and right parameters change the result? Try to answer this question before moving onto the next screen.\n",
    "\n",
    "Yes, changing the dataframe assigned to the left and right parameters makes a difference. It is equivilant to changing the join type from left to right."
   ]
  },
  {
   "cell_type": "markdown",
   "metadata": {},
   "source": [
    "# 7. Left Joins with the Merge Function"
   ]
  },
  {
   "cell_type": "code",
   "execution_count": 24,
   "metadata": {},
   "outputs": [
    {
     "name": "stdout",
     "output_type": "stream",
     "text": [
      "   Country  Happiness Rank_2015  Year_2015  Happiness Rank_2016  Year_2016\n",
      "0  Denmark                    3       2015                  NaN        NaN\n",
      "1   Norway                    4       2015                  4.0     2016.0\n",
      "2   Canada                    5       2015                  NaN        NaN\n",
      "   Country  Happiness Rank_2016  Year_2016  Happiness Rank_2015  Year_2015\n",
      "0  Iceland                    3       2016                  NaN        NaN\n",
      "1   Norway                    4       2016                  4.0     2015.0\n",
      "2  Finland                    5       2016                  NaN        NaN\n"
     ]
    }
   ],
   "source": [
    "three_2015 = happiness2015[['Country','Happiness Rank','Year']].iloc[2:5]\n",
    "three_2016 = happiness2016[['Country','Happiness Rank','Year']].iloc[2:5]\n",
    "merged = pd.merge(left=three_2015, right=three_2016, how='left', on='Country')\n",
    "merged_updated = pd.merge(left=three_2016, right=three_2015, how = 'left', on='Country')\n",
    "\n",
    "merged_suffixes=pd.merge(left=three_2015,right=three_2016,how=\"left\",on=\"Country\",suffixes=(\"_2015\",\"_2016\"))\n",
    "merged_updated_suffixes=pd.merge(left=three_2016,right=three_2015,how=\"left\",on=\"Country\",suffixes=(\"_2016\",\"_2015\"))\n",
    "\n",
    "print(merged_suffixes)\n",
    "print(merged_updated_suffixes)"
   ]
  },
  {
   "cell_type": "markdown",
   "metadata": {},
   "source": [
    "# 8. Join on Index with the Merge Function"
   ]
  },
  {
   "cell_type": "code",
   "execution_count": 30,
   "metadata": {},
   "outputs": [
    {
     "name": "stdout",
     "output_type": "stream",
     "text": [
      "  Country_2015  Happiness Rank_2015  Year_2015 Country_2016  \\\n",
      "2      Denmark                    3       2015      Iceland   \n",
      "3       Norway                    4       2015       Norway   \n",
      "4       Canada                    5       2015      Finland   \n",
      "5      Finland                    6       2015          NaN   \n",
      "\n",
      "   Happiness Rank_2016  Year_2016  \n",
      "2                  3.0     2016.0  \n",
      "3                  4.0     2016.0  \n",
      "4                  5.0     2016.0  \n",
      "5                  NaN        NaN  \n"
     ]
    }
   ],
   "source": [
    "import pandas as pd\n",
    "four_2015 = happiness2015[['Country','Happiness Rank','Year']].iloc[2:6]\n",
    "three_2016 = happiness2016[['Country','Happiness Rank','Year']].iloc[2:5]\n",
    "merge_index = pd.merge(left = four_2015,right = three_2016, left_index = True, right_index = True, suffixes = ('_2015','_2016'))\n",
    "\n",
    "rows=4\n",
    "columns=6\n",
    "\n",
    "merge_index_left=pd.merge(left=four_2015,right=three_2016,how=\"left\",left_index=True,right_index=True,suffixes=(\"_2015\",\"_2016\"))\n",
    "\n",
    "print(merge_index_left)"
   ]
  },
  {
   "cell_type": "markdown",
   "metadata": {},
   "source": [
    "# 9. Challenge: Combine Data and Create a Visualization"
   ]
  },
  {
   "cell_type": "code",
   "execution_count": 41,
   "metadata": {},
   "outputs": [
    {
     "name": "stdout",
     "output_type": "stream",
     "text": [
      "                      Country          Region  Happiness Rank  \\\n",
      "0                 Switzerland  Western Europe             1.0   \n",
      "1                     Iceland  Western Europe             2.0   \n",
      "2                     Denmark  Western Europe             3.0   \n",
      "3                      Norway  Western Europe             4.0   \n",
      "4                      Canada   North America             5.0   \n",
      "..                        ...             ...             ...   \n",
      "150                    Rwanda             NaN             NaN   \n",
      "151                     Syria             NaN             NaN   \n",
      "152                  Tanzania             NaN             NaN   \n",
      "153                   Burundi             NaN             NaN   \n",
      "154  Central African Republic             NaN             NaN   \n",
      "\n",
      "     Happiness Score  Standard Error  Economy (GDP per Capita)    Family  \\\n",
      "0              7.587         0.03411                   1.39651  1.349510   \n",
      "1              7.561         0.04884                   1.30232  1.402230   \n",
      "2              7.527         0.03328                   1.32548  1.360580   \n",
      "3              7.522         0.03880                   1.45900  1.330950   \n",
      "4              7.427         0.03553                   1.32629  1.322610   \n",
      "..               ...             ...                       ...       ...   \n",
      "150            3.471             NaN                       NaN  0.945707   \n",
      "151            3.462             NaN                       NaN  0.396103   \n",
      "152            3.349             NaN                       NaN  1.041990   \n",
      "153            2.905             NaN                       NaN  0.629794   \n",
      "154            2.693             NaN                       NaN  0.000000   \n",
      "\n",
      "     Health (Life Expectancy)   Freedom  Trust (Government Corruption)  ...  \\\n",
      "0                     0.94143  0.665570                        0.41978  ...   \n",
      "1                     0.94784  0.628770                        0.14145  ...   \n",
      "2                     0.87464  0.649380                        0.48357  ...   \n",
      "3                     0.88521  0.669730                        0.36503  ...   \n",
      "4                     0.90563  0.632970                        0.32957  ...   \n",
      "..                        ...       ...                            ...  ...   \n",
      "150                       NaN  0.581844                            NaN  ...   \n",
      "151                       NaN  0.081539                            NaN  ...   \n",
      "152                       NaN  0.390018                            NaN  ...   \n",
      "153                       NaN  0.059901                            NaN  ...   \n",
      "154                       NaN  0.270842                            NaN  ...   \n",
      "\n",
      "     Year  Lower Confidence Interval  Upper Confidence Interval  \\\n",
      "0    2015                        NaN                        NaN   \n",
      "1    2015                        NaN                        NaN   \n",
      "2    2015                        NaN                        NaN   \n",
      "3    2015                        NaN                        NaN   \n",
      "4    2015                        NaN                        NaN   \n",
      "..    ...                        ...                        ...   \n",
      "150  2017                        NaN                        NaN   \n",
      "151  2017                        NaN                        NaN   \n",
      "152  2017                        NaN                        NaN   \n",
      "153  2017                        NaN                        NaN   \n",
      "154  2017                        NaN                        NaN   \n",
      "\n",
      "     Happiness.Rank  Whisker.high  Whisker.low  Economy..GDP.per.Capita.  \\\n",
      "0               NaN           NaN          NaN                       NaN   \n",
      "1               NaN           NaN          NaN                       NaN   \n",
      "2               NaN           NaN          NaN                       NaN   \n",
      "3               NaN           NaN          NaN                       NaN   \n",
      "4               NaN           NaN          NaN                       NaN   \n",
      "..              ...           ...          ...                       ...   \n",
      "150           151.0      3.543030     3.398970                  0.368746   \n",
      "151           152.0      3.663669     3.260331                  0.777153   \n",
      "152           153.0      3.461430     3.236570                  0.511136   \n",
      "153           154.0      3.074690     2.735310                  0.091623   \n",
      "154           155.0      2.864884     2.521116                  0.000000   \n",
      "\n",
      "     Health..Life.Expectancy.  Trust..Government.Corruption.  \\\n",
      "0                         NaN                            NaN   \n",
      "1                         NaN                            NaN   \n",
      "2                         NaN                            NaN   \n",
      "3                         NaN                            NaN   \n",
      "4                         NaN                            NaN   \n",
      "..                        ...                            ...   \n",
      "150                  0.326425                       0.455220   \n",
      "151                  0.500533                       0.151347   \n",
      "152                  0.364509                       0.066035   \n",
      "153                  0.151611                       0.084148   \n",
      "154                  0.018773                       0.056565   \n",
      "\n",
      "     Dystopia.Residual  \n",
      "0                  NaN  \n",
      "1                  NaN  \n",
      "2                  NaN  \n",
      "3                  NaN  \n",
      "4                  NaN  \n",
      "..                 ...  \n",
      "150           0.540061  \n",
      "151           1.061574  \n",
      "152           0.621130  \n",
      "153           1.683024  \n",
      "154           2.066005  \n",
      "\n",
      "[470 rows x 22 columns]\n",
      "      Happiness Score\n",
      "Year                 \n",
      "2015         5.375734\n",
      "2016         5.382185\n",
      "2017         5.354019\n"
     ]
    },
    {
     "data": {
      "text/plain": [
       "<AxesSubplot:title={'center':'Mean Happiness Scores by Year'}, ylabel='Year'>"
      ]
     },
     "execution_count": 41,
     "metadata": {},
     "output_type": "execute_result"
    },
    {
     "data": {
      "image/png": "[encoded data removed]",
      "text/plain": [
       "<Figure size 432x288 with 1 Axes>"
      ]
     },
     "metadata": {
      "needs_background": "light"
     },
     "output_type": "display_data"
    }
   ],
   "source": [
    "happiness2017.rename(columns={'Happiness.Score': 'Happiness Score'}, inplace=True)\n",
    "\n",
    "combined=pd.concat([happiness2015,happiness2016,happiness2017],axis=0)\n",
    "print(combined)\n",
    "\n",
    "pivot_table_combined=combined.pivot_table(index=\"Year\",values=\"Happiness Score\")\n",
    "\n",
    "print(pivot_table_combined)\n",
    "\n",
    "pivot_table_combined.plot(kind=\"barh\",title=\"Mean Happiness Scores by Year\",xlim=(0,10))\n"
   ]
  },
  {
   "cell_type": "markdown",
   "metadata": {},
   "source": [
    "It seems as though World Happiness has actually decreased slighhtly from 2015 to 2017. However, this decrease is pretty insignificant, so it might be more accurate to say that they stagnated over this time period."
   ]
  },
  {
   "cell_type": "markdown",
   "metadata": {},
   "source": [
    "# 10. Next steps"
   ]
  },
  {
   "cell_type": "markdown",
   "metadata": {},
   "source": [
    "In the last exercise, we confirmed that the mean world happiness score stayed approximately the same from 2015 to 2017.\n",
    "\n",
    "In this lesson, we learned how to combine data using the pd.concat() and pd.merge() functions. In your travels with pandas, you may happen upon the df.append() and df.join() methods, which are basically shortcuts for the concat() and merge() functions. We didn't cover them in this lesson, as the differences are few, but if you want to learn more about them, check out this documentation.\n",
    "\n",
    "As we saw in the last screen, in order to perform more complex analysis, we have to be able to clean and manipulate data, whether it be adding data to a dataframe or renaming a column. In the next lesson, we'll continue building on what we've learned so far as we learn ways to transform and reshape our data.\n",
    "\n"
   ]
  }
 ],
 "metadata": {
  "kernelspec": {
   "display_name": "Python 3",
   "language": "python",
   "name": "python3"
  },
  "language_info": {
   "codemirror_mode": {
    "name": "ipython",
    "version": 3
   },
   "file_extension": ".py",
   "mimetype": "text/x-python",
   "name": "python",
   "nbconvert_exporter": "python",
   "pygments_lexer": "ipython3",
   "version": "3.9.6"
  }
 },
 "nbformat": 4,
 "nbformat_minor": 4
}
