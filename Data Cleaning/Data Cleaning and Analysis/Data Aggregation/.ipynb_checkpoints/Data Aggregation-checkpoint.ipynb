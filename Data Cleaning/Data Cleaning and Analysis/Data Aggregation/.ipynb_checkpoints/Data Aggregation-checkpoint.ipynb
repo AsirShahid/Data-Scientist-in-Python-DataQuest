{
 "cells": [
  {
   "cell_type": "markdown",
   "metadata": {},
   "source": [
    "# 1. Introduction"
   ]
  },
  {
   "cell_type": "markdown",
   "metadata": {},
   "source": [
    "In this lesson, we will lean how to aggregate data with Pandas.\n",
    "\n",
    "We will learn different techniques for aggregating data. and we will build some intuition around the groupby operation."
   ]
  },
  {
   "cell_type": "markdown",
   "metadata": {},
   "source": [
    "We will work with the World Happines Report which assigns each country a happiness score based on poll results.\n",
    "\n",
    "Using that data, we will try to answer the following questions:\n",
    "\n",
    "1. How can aggregating the data give us more insight into happiness scores?\n",
    "2. How did world happiness change from 2015 to 2017?\n",
    "3. Which factors contribute the most to the happiness score?"
   ]
  },
  {
   "cell_type": "markdown",
   "metadata": {},
   "source": [
    "# 2. Introduction to the Data"
   ]
  },
  {
   "cell_type": "code",
   "execution_count": 1,
   "metadata": {},
   "outputs": [
    {
     "name": "stdout",
     "output_type": "stream",
     "text": [
      "<class 'pandas.core.frame.DataFrame'>\n",
      "RangeIndex: 5 entries, 0 to 4\n",
      "Data columns (total 12 columns):\n",
      " #   Column                         Non-Null Count  Dtype  \n",
      "---  ------                         --------------  -----  \n",
      " 0   Country                        5 non-null      object \n",
      " 1   Region                         5 non-null      object \n",
      " 2   Happiness Rank                 5 non-null      int64  \n",
      " 3   Happiness Score                5 non-null      float64\n",
      " 4   Standard Error                 5 non-null      float64\n",
      " 5   Economy (GDP per Capita)       5 non-null      float64\n",
      " 6   Family                         5 non-null      float64\n",
      " 7   Health (Life Expectancy)       5 non-null      float64\n",
      " 8   Freedom                        5 non-null      float64\n",
      " 9   Trust (Government Corruption)  5 non-null      float64\n",
      " 10  Generosity                     5 non-null      float64\n",
      " 11  Dystopia Residual              5 non-null      float64\n",
      "dtypes: float64(9), int64(1), object(2)\n",
      "memory usage: 608.0+ bytes\n"
     ]
    }
   ],
   "source": [
    "import pandas as pd\n",
    "\n",
    "happiness2015=pd.read_csv(\"2015.csv\")\n",
    "\n",
    "first_5=happiness2015[:5]\n",
    "\n",
    "first_5.info()"
   ]
  },
  {
   "cell_type": "markdown",
   "metadata": {},
   "source": [
    "# 3. Using Loops to Aggregate Data"
   ]
  },
  {
   "cell_type": "code",
   "execution_count": 3,
   "metadata": {},
   "outputs": [
    {
     "data": {
      "text/plain": [
       "<AxesSubplot:title={'center':'Happiness Scores'}>"
      ]
     },
     "execution_count": 3,
     "metadata": {},
     "output_type": "execute_result"
    },
    {
     "data": {
      "image/png": "[encoded data removed]",
      "text/plain": [
       "<Figure size 432x288 with 1 Axes>"
      ]
     },
     "metadata": {
      "needs_background": "light"
     },
     "output_type": "display_data"
    }
   ],
   "source": [
    "happiness2015['Happiness Score'].plot(kind='bar', title='Happiness Scores', ylim=(0,10))"
   ]
  },
  {
   "cell_type": "code",
   "execution_count": 5,
   "metadata": {},
   "outputs": [
    {
     "data": {
      "text/plain": [
       "array(['Western Europe', 'North America', 'Australia and New Zealand',\n",
       "       'Middle East and Northern Africa', 'Latin America and Caribbean',\n",
       "       'Southeastern Asia', 'Central and Eastern Europe', 'Eastern Asia',\n",
       "       'Sub-Saharan Africa', 'Southern Asia'], dtype=object)"
      ]
     },
     "execution_count": 5,
     "metadata": {},
     "output_type": "execute_result"
    }
   ],
   "source": [
    "happiness2015['Region'].unique()"
   ]
  },
  {
   "cell_type": "code",
   "execution_count": null,
   "metadata": {},
   "outputs": [],
   "source": []
  }
 ],
 "metadata": {
  "kernelspec": {
   "display_name": "Python 3",
   "language": "python",
   "name": "python3"
  },
  "language_info": {
   "codemirror_mode": {
    "name": "ipython",
    "version": 3
   },
   "file_extension": ".py",
   "mimetype": "text/x-python",
   "name": "python",
   "nbconvert_exporter": "python",
   "pygments_lexer": "ipython3",
   "version": "3.9.6"
  }
 },
 "nbformat": 4,
 "nbformat_minor": 4
}
