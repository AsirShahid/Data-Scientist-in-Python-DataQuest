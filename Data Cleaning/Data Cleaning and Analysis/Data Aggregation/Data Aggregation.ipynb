{
 "cells": [
  {
   "cell_type": "markdown",
   "metadata": {},
   "source": [
    "# 1. Introduction"
   ]
  },
  {
   "cell_type": "markdown",
   "metadata": {},
   "source": [
    "In this lesson, we will lean how to aggregate data with Pandas.\n",
    "\n",
    "We will learn different techniques for aggregating data. and we will build some intuition around the groupby operation."
   ]
  },
  {
   "cell_type": "markdown",
   "metadata": {},
   "source": [
    "We will work with the World Happines Report which assigns each country a happiness score based on poll results.\n",
    "\n",
    "Using that data, we will try to answer the following questions:\n",
    "\n",
    "1. How can aggregating the data give us more insight into happiness scores?\n",
    "2. How did world happiness change from 2015 to 2017?\n",
    "3. Which factors contribute the most to the happiness score?"
   ]
  },
  {
   "cell_type": "markdown",
   "metadata": {},
   "source": [
    "# 2. Introduction to the Data"
   ]
  },
  {
   "cell_type": "code",
   "execution_count": 2,
   "metadata": {},
   "outputs": [
    {
     "name": "stdout",
     "output_type": "stream",
     "text": [
      "<class 'pandas.core.frame.DataFrame'>\n",
      "RangeIndex: 5 entries, 0 to 4\n",
      "Data columns (total 12 columns):\n",
      " #   Column                         Non-Null Count  Dtype  \n",
      "---  ------                         --------------  -----  \n",
      " 0   Country                        5 non-null      object \n",
      " 1   Region                         5 non-null      object \n",
      " 2   Happiness Rank                 5 non-null      int64  \n",
      " 3   Happiness Score                5 non-null      float64\n",
      " 4   Standard Error                 5 non-null      float64\n",
      " 5   Economy (GDP per Capita)       5 non-null      float64\n",
      " 6   Family                         5 non-null      float64\n",
      " 7   Health (Life Expectancy)       5 non-null      float64\n",
      " 8   Freedom                        5 non-null      float64\n",
      " 9   Trust (Government Corruption)  5 non-null      float64\n",
      " 10  Generosity                     5 non-null      float64\n",
      " 11  Dystopia Residual              5 non-null      float64\n",
      "dtypes: float64(9), int64(1), object(2)\n",
      "memory usage: 608.0+ bytes\n"
     ]
    }
   ],
   "source": [
    "import pandas as pd\n",
    "\n",
    "happiness2015=pd.read_csv(\"2015.csv\")\n",
    "\n",
    "first_5=happiness2015[:5]\n",
    "\n",
    "first_5.info()"
   ]
  },
  {
   "cell_type": "markdown",
   "metadata": {},
   "source": [
    "# 3. Using Loops to Aggregate Data"
   ]
  },
  {
   "cell_type": "code",
   "execution_count": 3,
   "metadata": {},
   "outputs": [
    {
     "data": {
      "text/plain": [
       "<AxesSubplot:title={'center':'Happiness Scores'}>"
      ]
     },
     "execution_count": 3,
     "metadata": {},
     "output_type": "execute_result"
    },
    {
     "data": {
      "image/png": "[encoded data removed]",
      "text/plain": [
       "<Figure size 432x288 with 1 Axes>"
      ]
     },
     "metadata": {
      "needs_background": "light"
     },
     "output_type": "display_data"
    }
   ],
   "source": [
    "happiness2015['Happiness Score'].plot(kind='bar', title='Happiness Scores', ylim=(0,10))"
   ]
  },
  {
   "cell_type": "code",
   "execution_count": 4,
   "metadata": {},
   "outputs": [
    {
     "data": {
      "text/plain": [
       "array(['Western Europe', 'North America', 'Australia and New Zealand',\n",
       "       'Middle East and Northern Africa', 'Latin America and Caribbean',\n",
       "       'Southeastern Asia', 'Central and Eastern Europe', 'Eastern Asia',\n",
       "       'Sub-Saharan Africa', 'Southern Asia'], dtype=object)"
      ]
     },
     "execution_count": 4,
     "metadata": {},
     "output_type": "execute_result"
    }
   ],
   "source": [
    "happiness2015['Region'].unique()"
   ]
  },
  {
   "cell_type": "code",
   "execution_count": 5,
   "metadata": {},
   "outputs": [
    {
     "data": {
      "text/plain": [
       "<AxesSubplot:title={'center':'Southern Asia Happiness Scores'}, ylabel='Country'>"
      ]
     },
     "execution_count": 5,
     "metadata": {},
     "output_type": "execute_result"
    },
    {
     "data": {
      "image/png": "[encoded data removed]",
      "text/plain": [
       "<Figure size 432x288 with 1 Axes>"
      ]
     },
     "metadata": {
      "needs_background": "light"
     },
     "output_type": "display_data"
    }
   ],
   "source": [
    "so_asia = happiness2015[happiness2015['Region'] == 'Southern Asia']\n",
    "so_asia.plot(x='Country', y='Happiness Score', kind='barh', title='Southern Asia Happiness Scores', xlim=(0,10))"
   ]
  },
  {
   "cell_type": "code",
   "execution_count": 6,
   "metadata": {},
   "outputs": [
    {
     "name": "stdout",
     "output_type": "stream",
     "text": [
      "['Western Europe' 'North America' 'Australia and New Zealand'\n",
      " 'Middle East and Northern Africa' 'Latin America and Caribbean'\n",
      " 'Southeastern Asia' 'Central and Eastern Europe' 'Eastern Asia'\n",
      " 'Sub-Saharan Africa' 'Southern Asia']\n",
      "{'Western Europe': 6.689619047619048, 'North America': 7.273, 'Australia and New Zealand': 7.285, 'Middle East and Northern Africa': 5.406899999999999, 'Latin America and Caribbean': 6.144681818181818, 'Southeastern Asia': 5.317444444444445, 'Central and Eastern Europe': 5.332931034482758, 'Eastern Asia': 5.626166666666666, 'Sub-Saharan Africa': 4.202800000000001, 'Southern Asia': 4.580857142857143}\n"
     ]
    }
   ],
   "source": [
    "mean_happiness={}\n",
    "\n",
    "print(happiness2015[\"Region\"].unique())\n",
    "\n",
    "for region in happiness2015[\"Region\"].unique():\n",
    "    region_group=happiness2015[happiness2015[\"Region\"]==region]\n",
    "    region_mean=region_group[\"Happiness Score\"].mean()\n",
    "    mean_happiness[region]=region_mean\n",
    "    \n",
    "print(mean_happiness)"
   ]
  },
  {
   "cell_type": "markdown",
   "metadata": {},
   "source": [
    "So above we split the dataframe into different groups, applied a functino to each group, and then combined the results into a data structure."
   ]
  },
  {
   "cell_type": "markdown",
   "metadata": {},
   "source": [
    "# 4. The GroupBy Operation"
   ]
  },
  {
   "cell_type": "markdown",
   "metadata": {},
   "source": [
    "Pandas has a prebuilt operation for the process that we performed above. The groupby operation performs the split-apply-combine process on a dataframe, however it does it in two steps."
   ]
  },
  {
   "cell_type": "markdown",
   "metadata": {},
   "source": [
    "# 5. Creating GroupBy Objects"
   ]
  },
  {
   "cell_type": "code",
   "execution_count": 7,
   "metadata": {},
   "outputs": [
    {
     "name": "stdout",
     "output_type": "stream",
     "text": [
      "<pandas.core.groupby.generic.DataFrameGroupBy object at 0x7fc4ec4b60a0>\n",
      "       Country                     Region  Happiness Rank  Happiness Score  \\\n",
      "8  New Zealand  Australia and New Zealand               9            7.286   \n",
      "9    Australia  Australia and New Zealand              10            7.284   \n",
      "\n",
      "   Standard Error  Economy (GDP per Capita)   Family  \\\n",
      "8         0.03371                   1.25018  1.31967   \n",
      "9         0.04083                   1.33358  1.30923   \n",
      "\n",
      "   Health (Life Expectancy)  Freedom  Trust (Government Corruption)  \\\n",
      "8                   0.90837  0.63938                        0.42922   \n",
      "9                   0.93156  0.65124                        0.35637   \n",
      "\n",
      "   Generosity  Dystopia Residual  \n",
      "8     0.47501            2.26425  \n",
      "9     0.43562            2.26646  \n"
     ]
    }
   ],
   "source": [
    "grouped=happiness2015.groupby(\"Region\")\n",
    "print(grouped)\n",
    "aus_nz=grouped.get_group(\"Australia and New Zealand\")\n",
    "print(aus_nz)"
   ]
  },
  {
   "cell_type": "markdown",
   "metadata": {},
   "source": [
    "# 6. Exploring GroupBy Objects"
   ]
  },
  {
   "cell_type": "code",
   "execution_count": 8,
   "metadata": {},
   "outputs": [
    {
     "name": "stdout",
     "output_type": "stream",
     "text": [
      "{'Australia and New Zealand': Int64Index([8, 9], dtype='int64'), 'Central and Eastern Europe': Int64Index([ 30,  43,  44,  51,  53,  54,  55,  58,  59,  61,  63,  68,  69,\n",
      "             72,  76,  79,  82,  85,  86,  88,  92,  94,  95, 103, 105, 110,\n",
      "            126, 129, 133],\n",
      "           dtype='int64'), 'Eastern Asia': Int64Index([37, 45, 46, 71, 83, 99], dtype='int64'), 'Latin America and Caribbean': Int64Index([ 11,  13,  15,  22,  24,  26,  29,  31,  32,  39,  40,  41,  42,\n",
      "             47,  50,  52,  56,  57,  64,  97, 104, 118],\n",
      "           dtype='int64'), 'Middle East and Northern Africa': Int64Index([ 10,  19,  21,  27,  34,  38,  48,  62,  67,  75,  81,  91, 102,\n",
      "            106, 107, 109, 111, 134, 135, 155],\n",
      "           dtype='int64'), 'North America': Int64Index([4, 14], dtype='int64'), 'Southeastern Asia': Int64Index([23, 33, 60, 73, 74, 89, 98, 128, 144], dtype='int64'), 'Southern Asia': Int64Index([78, 80, 108, 116, 120, 131, 152], dtype='int64'), 'Sub-Saharan Africa': Int64Index([ 70,  77,  84,  90,  93,  96, 100, 112, 113, 114, 115, 117, 119,\n",
      "            121, 122, 123, 124, 125, 127, 130, 132, 136, 137, 138, 139, 140,\n",
      "            141, 142, 143, 145, 146, 147, 148, 149, 150, 151, 153, 154, 156,\n",
      "            157],\n",
      "           dtype='int64'), 'Western Europe': Int64Index([0, 1, 2, 3, 5, 6, 7, 12, 16, 17, 18, 20, 25, 28, 35, 36, 49, 65,\n",
      "            66, 87, 101],\n",
      "           dtype='int64')}\n",
      "    Country  Region  Happiness Rank  Happiness Score  Standard Error  \\\n",
      "4      True    True            True             True            True   \n",
      "14     True    True            True             True            True   \n",
      "\n",
      "    Economy (GDP per Capita)  Family  Health (Life Expectancy)  Freedom  \\\n",
      "4                       True    True                      True     True   \n",
      "14                      True    True                      True     True   \n",
      "\n",
      "    Trust (Government Corruption)  Generosity  Dystopia Residual  \n",
      "4                            True        True               True  \n",
      "14                           True        True               True  \n"
     ]
    }
   ],
   "source": [
    "grouped = happiness2015.groupby('Region')\n",
    "\n",
    "print(grouped.groups)\n",
    "\n",
    "north_america=happiness2015.iloc[[4,14]]\n",
    "na_group=grouped.get_group(\"North America\")\n",
    "\n",
    "equal=north_america==na_group\n",
    "\n",
    "print(equal)"
   ]
  },
  {
   "cell_type": "markdown",
   "metadata": {},
   "source": [
    "# 7. Common Aggregation Methods with Groupby"
   ]
  },
  {
   "cell_type": "code",
   "execution_count": 9,
   "metadata": {},
   "outputs": [
    {
     "name": "stdout",
     "output_type": "stream",
     "text": [
      "                                 Happiness Rank  Happiness Score  \\\n",
      "Region                                                             \n",
      "Australia and New Zealand              9.500000         7.285000   \n",
      "Central and Eastern Europe            79.000000         5.332931   \n",
      "Eastern Asia                          64.500000         5.626167   \n",
      "Latin America and Caribbean           46.909091         6.144682   \n",
      "Middle East and Northern Africa       77.600000         5.406900   \n",
      "North America                         10.000000         7.273000   \n",
      "Southeastern Asia                     81.222222         5.317444   \n",
      "Southern Asia                        113.142857         4.580857   \n",
      "Sub-Saharan Africa                   127.900000         4.202800   \n",
      "Western Europe                        29.523810         6.689619   \n",
      "\n",
      "                                 Standard Error  Economy (GDP per Capita)  \\\n",
      "Region                                                                      \n",
      "Australia and New Zealand              0.037270                  1.291880   \n",
      "Central and Eastern Europe             0.045208                  0.942438   \n",
      "Eastern Asia                           0.037225                  1.151780   \n",
      "Latin America and Caribbean            0.061127                  0.876815   \n",
      "Middle East and Northern Africa        0.046337                  1.066973   \n",
      "North America                          0.036960                  1.360400   \n",
      "Southeastern Asia                      0.042691                  0.789054   \n",
      "Southern Asia                          0.032161                  0.560486   \n",
      "Sub-Saharan Africa                     0.055299                  0.380473   \n",
      "Western Europe                         0.037625                  1.298596   \n",
      "\n",
      "                                   Family  Health (Life Expectancy)   Freedom  \\\n",
      "Region                                                                          \n",
      "Australia and New Zealand        1.314450                  0.919965  0.645310   \n",
      "Central and Eastern Europe       1.053042                  0.718774  0.358269   \n",
      "Eastern Asia                     1.099427                  0.877388  0.462490   \n",
      "Latin America and Caribbean      1.104720                  0.703870  0.501740   \n",
      "Middle East and Northern Africa  0.920490                  0.705616  0.361751   \n",
      "North America                    1.284860                  0.883710  0.589505   \n",
      "Southeastern Asia                0.940468                  0.677357  0.557104   \n",
      "Southern Asia                    0.645321                  0.540830  0.373337   \n",
      "Sub-Saharan Africa               0.809085                  0.282332  0.365944   \n",
      "Western Europe                   1.247302                  0.909148  0.549926   \n",
      "\n",
      "                                 Trust (Government Corruption)  Generosity  \\\n",
      "Region                                                                       \n",
      "Australia and New Zealand                             0.392795    0.455315   \n",
      "Central and Eastern Europe                            0.086674    0.152264   \n",
      "Eastern Asia                                          0.127695    0.225885   \n",
      "Latin America and Caribbean                           0.117172    0.217788   \n",
      "Middle East and Northern Africa                       0.181702    0.190375   \n",
      "North America                                         0.244235    0.429580   \n",
      "Southeastern Asia                                     0.151276    0.419261   \n",
      "Southern Asia                                         0.102536    0.341429   \n",
      "Sub-Saharan Africa                                    0.123878    0.221137   \n",
      "Western Europe                                        0.231463    0.302109   \n",
      "\n",
      "                                 Dystopia Residual  \n",
      "Region                                              \n",
      "Australia and New Zealand                 2.265355  \n",
      "Central and Eastern Europe                2.021400  \n",
      "Eastern Asia                              1.681607  \n",
      "Latin America and Caribbean               2.622577  \n",
      "Middle East and Northern Africa           1.980009  \n",
      "North America                             2.480935  \n",
      "Southeastern Asia                         1.783020  \n",
      "Southern Asia                             2.016769  \n",
      "Sub-Saharan Africa                        2.019980  \n",
      "Western Europe                            2.151185  \n"
     ]
    }
   ],
   "source": [
    "grouped = happiness2015.groupby('Region')\n",
    "means=grouped.mean()\n",
    "print(means)"
   ]
  },
  {
   "cell_type": "markdown",
   "metadata": {},
   "source": [
    "# 8. Aggregating Specific Columns with Groupby"
   ]
  },
  {
   "cell_type": "code",
   "execution_count": 14,
   "metadata": {},
   "outputs": [
    {
     "name": "stdout",
     "output_type": "stream",
     "text": [
      "<pandas.core.groupby.generic.SeriesGroupBy object at 0x7fc4e7300880>\n",
      "Region\n",
      "Australia and New Zealand          7.285000\n",
      "Central and Eastern Europe         5.332931\n",
      "Eastern Asia                       5.626167\n",
      "Latin America and Caribbean        6.144682\n",
      "Middle East and Northern Africa    5.406900\n",
      "North America                      7.273000\n",
      "Southeastern Asia                  5.317444\n",
      "Southern Asia                      4.580857\n",
      "Sub-Saharan Africa                 4.202800\n",
      "Western Europe                     6.689619\n",
      "Name: Happiness Score, dtype: float64\n"
     ]
    }
   ],
   "source": [
    "grouped = happiness2015.groupby('Region')\n",
    "\n",
    "happy_grouped=grouped[\"Happiness Score\"]\n",
    "\n",
    "print(happy_grouped)\n",
    "\n",
    "happy_mean=happy_grouped.mean()\n",
    "print(happy_mean)"
   ]
  },
  {
   "cell_type": "markdown",
   "metadata": {},
   "source": [
    "# 9. Introduction to the Agg() Method"
   ]
  },
  {
   "cell_type": "code",
   "execution_count": 25,
   "metadata": {},
   "outputs": [
    {
     "name": "stdout",
     "output_type": "stream",
     "text": [
      "                                     mean   amax\n",
      "Region                                          \n",
      "Australia and New Zealand        7.285000  7.286\n",
      "Central and Eastern Europe       5.332931  6.505\n",
      "Eastern Asia                     5.626167  6.298\n",
      "Latin America and Caribbean      6.144682  7.226\n",
      "Middle East and Northern Africa  5.406900  7.278\n",
      "North America                    7.273000  7.427\n",
      "Southeastern Asia                5.317444  6.798\n",
      "Southern Asia                    4.580857  5.253\n",
      "Sub-Saharan Africa               4.202800  5.477\n",
      "Western Europe                   6.689619  7.587\n",
      "Region\n",
      "Australia and New Zealand          0.001000\n",
      "Central and Eastern Europe         1.172069\n",
      "Eastern Asia                       0.671833\n",
      "Latin America and Caribbean        1.081318\n",
      "Middle East and Northern Africa    1.871100\n",
      "North America                      0.154000\n",
      "Southeastern Asia                  1.480556\n",
      "Southern Asia                      0.672143\n",
      "Sub-Saharan Africa                 1.274200\n",
      "Western Europe                     0.897381\n",
      "Name: Happiness Score, dtype: float64\n"
     ]
    }
   ],
   "source": [
    "import numpy as np\n",
    "grouped = happiness2015.groupby('Region')\n",
    "happy_grouped = grouped['Happiness Score']\n",
    "def dif(group):\n",
    "    return (group.max() - group.mean())\n",
    "\n",
    "happy_mean_max=happy_grouped.agg([np.mean, np.max])\n",
    "\n",
    "mean_max_dif=happy_grouped.agg(dif)\n",
    "\n",
    "print(happy_mean_max)\n",
    "print(mean_max_dif)"
   ]
  },
  {
   "cell_type": "markdown",
   "metadata": {},
   "source": [
    "# 10. Computing Multiple and Custom Aggregations with the Agg() Method"
   ]
  },
  {
   "cell_type": "code",
   "execution_count": 27,
   "metadata": {},
   "outputs": [
    {
     "name": "stdout",
     "output_type": "stream",
     "text": [
      "Region\n",
      "Australia and New Zealand          7.285000\n",
      "Central and Eastern Europe         5.332931\n",
      "Eastern Asia                       5.626167\n",
      "Latin America and Caribbean        6.144682\n",
      "Middle East and Northern Africa    5.406900\n",
      "North America                      7.273000\n",
      "Southeastern Asia                  5.317444\n",
      "Southern Asia                      4.580857\n",
      "Sub-Saharan Africa                 4.202800\n",
      "Western Europe                     6.689619\n",
      "Name: Happiness Score, dtype: float64\n"
     ]
    }
   ],
   "source": [
    "happiness_means = happiness2015.groupby('Region')['Happiness Score'].mean()\n",
    "print(happiness_means)"
   ]
  },
  {
   "cell_type": "markdown",
   "metadata": {},
   "source": [
    "1. If we run the code above, will the index of happiness_means be the unique values in the Region column or the Happiness Score column?\n",
    "\n",
    "The index of happiness means will be the unique value in the regions column.\n",
    "\n",
    "2. Will the values aggregated in happiness_means be the values from the Region column or the Happiness Score column?\n",
    "\n",
    "The values aggregated in happiness means will be from the happiness score column.\n",
    "\n",
    "3. Print happiness_means. Were your predictions correct?\n",
    "\n",
    "Yes they were."
   ]
  },
  {
   "cell_type": "markdown",
   "metadata": {},
   "source": [
    "# 11. Aggregation with Pivot Tables"
   ]
  },
  {
   "cell_type": "code",
   "execution_count": 32,
   "metadata": {},
   "outputs": [
    {
     "name": "stdout",
     "output_type": "stream",
     "text": [
      "                                 Happiness Score\n",
      "Region                                          \n",
      "Australia and New Zealand               7.285000\n",
      "Central and Eastern Europe              5.332931\n",
      "Eastern Asia                            5.626167\n",
      "Latin America and Caribbean             6.144682\n",
      "Middle East and Northern Africa         5.406900\n",
      "North America                           7.273000\n",
      "Southeastern Asia                       5.317444\n",
      "Southern Asia                           4.580857\n",
      "Sub-Saharan Africa                      4.202800\n",
      "Western Europe                          6.689619\n",
      "All                                     5.375734\n",
      "5.3757341772151905\n"
     ]
    },
    {
     "data": {
      "image/png": "[encoded data removed]",
      "text/plain": [
       "<Figure size 432x288 with 1 Axes>"
      ]
     },
     "metadata": {
      "needs_background": "light"
     },
     "output_type": "display_data"
    }
   ],
   "source": [
    "pv_happiness = happiness2015.pivot_table(values='Happiness Score', index='Region', aggfunc=np.mean, margins=True)\n",
    "\n",
    "print(pv_happiness)\n",
    "\n",
    "pv_happiness.plot(kind=\"barh\", xlim=(0,10),title=\"Mean Happiness Scores by Region\", legend=False)\n",
    "\n",
    "# We can see that Australia and Newzealand are at the top, followed by North America and Western Europe\n",
    "# close behind. Then other regions of the world are further behind.\n",
    "\n",
    "world_mean_happiness=happiness2015[\"Happiness Score\"].mean()\n",
    "\n",
    "print(world_mean_happiness)"
   ]
  },
  {
   "cell_type": "markdown",
   "metadata": {},
   "source": [
    "It looks like the mean happiness for the world is the same as the mean happiness for the \"All\" group above."
   ]
  },
  {
   "cell_type": "markdown",
   "metadata": {},
   "source": [
    "# 12. Aggregating Multiple Columns and Functions with Pivot Tables"
   ]
  },
  {
   "cell_type": "code",
   "execution_count": 39,
   "metadata": {},
   "outputs": [
    {
     "name": "stdout",
     "output_type": "stream",
     "text": [
      "                                Happiness Score                    Family  \\\n",
      "                                           amin   amax      mean     amin   \n",
      "Region                                                                      \n",
      "Australia and New Zealand                 7.284  7.286  7.285000  1.30923   \n",
      "Central and Eastern Europe                4.218  6.505  5.332931  0.38562   \n",
      "Eastern Asia                              4.874  6.298  5.626167  0.94675   \n",
      "Latin America and Caribbean               4.518  7.226  6.144682  0.74302   \n",
      "Middle East and Northern Africa           3.006  7.278  5.406900  0.47489   \n",
      "North America                             7.119  7.427  7.273000  1.24711   \n",
      "Southeastern Asia                         3.819  6.798  5.317444  0.62736   \n",
      "Southern Asia                             3.575  5.253  4.580857  0.30285   \n",
      "Sub-Saharan Africa                        2.839  5.477  4.202800  0.00000   \n",
      "Western Europe                            4.857  7.587  6.689619  0.89318   \n",
      "\n",
      "                                                    \n",
      "                                    amax      mean  \n",
      "Region                                              \n",
      "Australia and New Zealand        1.31967  1.314450  \n",
      "Central and Eastern Europe       1.34043  1.053042  \n",
      "Eastern Asia                     1.30060  1.099427  \n",
      "Latin America and Caribbean      1.30477  1.104720  \n",
      "Middle East and Northern Africa  1.22393  0.920490  \n",
      "North America                    1.32261  1.284860  \n",
      "Southeastern Asia                1.26504  0.940468  \n",
      "Southern Asia                    1.10395  0.645321  \n",
      "Sub-Saharan Africa               1.18468  0.809085  \n",
      "Western Europe                   1.40223  1.247302  \n",
      "                                    amin                     amax  \\\n",
      "                                  Family Happiness Score   Family   \n",
      "Region                                                              \n",
      "Australia and New Zealand        1.30923           7.284  1.31967   \n",
      "Central and Eastern Europe       0.38562           4.218  1.34043   \n",
      "Eastern Asia                     0.94675           4.874  1.30060   \n",
      "Latin America and Caribbean      0.74302           4.518  1.30477   \n",
      "Middle East and Northern Africa  0.47489           3.006  1.22393   \n",
      "North America                    1.24711           7.119  1.32261   \n",
      "Southeastern Asia                0.62736           3.819  1.26504   \n",
      "Southern Asia                    0.30285           3.575  1.10395   \n",
      "Sub-Saharan Africa               0.00000           2.839  1.18468   \n",
      "Western Europe                   0.89318           4.857  1.40223   \n",
      "All                              0.00000           2.839  1.40223   \n",
      "\n",
      "                                                     mean                  \n",
      "                                Happiness Score    Family Happiness Score  \n",
      "Region                                                                     \n",
      "Australia and New Zealand                 7.286  1.314450        7.285000  \n",
      "Central and Eastern Europe                6.505  1.053042        5.332931  \n",
      "Eastern Asia                              6.298  1.099427        5.626167  \n",
      "Latin America and Caribbean               7.226  1.104720        6.144682  \n",
      "Middle East and Northern Africa           7.278  0.920490        5.406900  \n",
      "North America                             7.427  1.284860        7.273000  \n",
      "Southeastern Asia                         6.798  0.940468        5.317444  \n",
      "Southern Asia                             5.253  0.645321        4.580857  \n",
      "Sub-Saharan Africa                        5.477  0.809085        4.202800  \n",
      "Western Europe                            7.587  1.247302        6.689619  \n",
      "All                                       7.587  0.991046        5.375734  \n"
     ]
    }
   ],
   "source": [
    "grouped=happiness2015.groupby(\"Region\")[[\"Happiness Score\", \"Family\"]]\n",
    "happy_family_stats=grouped.agg([np.min,np.max,np.mean])\n",
    "\n",
    "pv_happy_family_stats=happiness2015.pivot_table(values=[\"Happiness Score\", \"Family\"], index=\"Region\", aggfunc=[np.min, np.max, np.mean], margins=True)\n",
    "\n",
    "print(happy_family_stats)\n",
    "print(pv_happy_family_stats)"
   ]
  },
  {
   "cell_type": "markdown",
   "metadata": {},
   "source": [
    "# 13. Next Steps"
   ]
  },
  {
   "cell_type": "markdown",
   "metadata": {},
   "source": [
    "In this lesson, we learned how to use the groupby operation and the df.pivot_table() method for aggregation. In the next lesson, we'll learn how to combine datasets using the pd.concat() and pd.merge() functions."
   ]
  }
 ],
 "metadata": {
  "kernelspec": {
   "display_name": "Python 3",
   "language": "python",
   "name": "python3"
  },
  "language_info": {
   "codemirror_mode": {
    "name": "ipython",
    "version": 3
   },
   "file_extension": ".py",
   "mimetype": "text/x-python",
   "name": "python",
   "nbconvert_exporter": "python",
   "pygments_lexer": "ipython3",
   "version": "3.9.6"
  }
 },
 "nbformat": 4,
 "nbformat_minor": 4
}
