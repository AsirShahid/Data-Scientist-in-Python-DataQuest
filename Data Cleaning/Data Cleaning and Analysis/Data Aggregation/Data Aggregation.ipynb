{
 "cells": [
  {
   "cell_type": "markdown",
   "metadata": {},
   "source": [
    "# 1. Introduction"
   ]
  },
  {
   "cell_type": "markdown",
   "metadata": {},
   "source": [
    "In this lesson, we will lean how to aggregate data with Pandas.\n",
    "\n",
    "We will learn different techniques for aggregating data. and we will build some intuition around the groupby operation."
   ]
  },
  {
   "cell_type": "markdown",
   "metadata": {},
   "source": [
    "We will work with the World Happines Report which assigns each country a happiness score based on poll results.\n",
    "\n",
    "Using that data, we will try to answer the following questions:\n",
    "\n",
    "1. How can aggregating the data give us more insight into happiness scores?\n",
    "2. How did world happiness change from 2015 to 2017?\n",
    "3. Which factors contribute the most to the happiness score?"
   ]
  },
  {
   "cell_type": "markdown",
   "metadata": {},
   "source": [
    "# 2. Introduction to the Data"
   ]
  },
  {
   "cell_type": "code",
   "execution_count": 1,
   "metadata": {},
   "outputs": [
    {
     "name": "stdout",
     "output_type": "stream",
     "text": [
      "<class 'pandas.core.frame.DataFrame'>\n",
      "RangeIndex: 5 entries, 0 to 4\n",
      "Data columns (total 12 columns):\n",
      " #   Column                         Non-Null Count  Dtype  \n",
      "---  ------                         --------------  -----  \n",
      " 0   Country                        5 non-null      object \n",
      " 1   Region                         5 non-null      object \n",
      " 2   Happiness Rank                 5 non-null      int64  \n",
      " 3   Happiness Score                5 non-null      float64\n",
      " 4   Standard Error                 5 non-null      float64\n",
      " 5   Economy (GDP per Capita)       5 non-null      float64\n",
      " 6   Family                         5 non-null      float64\n",
      " 7   Health (Life Expectancy)       5 non-null      float64\n",
      " 8   Freedom                        5 non-null      float64\n",
      " 9   Trust (Government Corruption)  5 non-null      float64\n",
      " 10  Generosity                     5 non-null      float64\n",
      " 11  Dystopia Residual              5 non-null      float64\n",
      "dtypes: float64(9), int64(1), object(2)\n",
      "memory usage: 608.0+ bytes\n"
     ]
    }
   ],
   "source": [
    "import pandas as pd\n",
    "\n",
    "happiness2015=pd.read_csv(\"2015.csv\")\n",
    "\n",
    "first_5=happiness2015[:5]\n",
    "\n",
    "first_5.info()"
   ]
  },
  {
   "cell_type": "markdown",
   "metadata": {},
   "source": [
    "# 3. Using Loops to Aggregate Data"
   ]
  },
  {
   "cell_type": "code",
   "execution_count": 2,
   "metadata": {},
   "outputs": [
    {
     "data": {
      "text/plain": [
       "<AxesSubplot:title={'center':'Happiness Scores'}>"
      ]
     },
     "execution_count": 2,
     "metadata": {},
     "output_type": "execute_result"
    },
    {
     "data": {
      "image/png": "[encoded data removed]",
      "text/plain": [
       "<Figure size 432x288 with 1 Axes>"
      ]
     },
     "metadata": {
      "needs_background": "light"
     },
     "output_type": "display_data"
    }
   ],
   "source": [
    "happiness2015['Happiness Score'].plot(kind='bar', title='Happiness Scores', ylim=(0,10))"
   ]
  },
  {
   "cell_type": "code",
   "execution_count": 3,
   "metadata": {},
   "outputs": [
    {
     "data": {
      "text/plain": [
       "array(['Western Europe', 'North America', 'Australia and New Zealand',\n",
       "       'Middle East and Northern Africa', 'Latin America and Caribbean',\n",
       "       'Southeastern Asia', 'Central and Eastern Europe', 'Eastern Asia',\n",
       "       'Sub-Saharan Africa', 'Southern Asia'], dtype=object)"
      ]
     },
     "execution_count": 3,
     "metadata": {},
     "output_type": "execute_result"
    }
   ],
   "source": [
    "happiness2015['Region'].unique()"
   ]
  },
  {
   "cell_type": "code",
   "execution_count": 4,
   "metadata": {},
   "outputs": [
    {
     "data": {
      "text/plain": [
       "<AxesSubplot:title={'center':'Southern Asia Happiness Scores'}, ylabel='Country'>"
      ]
     },
     "execution_count": 4,
     "metadata": {},
     "output_type": "execute_result"
    },
    {
     "data": {
      "image/png": "[encoded data removed]",
      "text/plain": [
       "<Figure size 432x288 with 1 Axes>"
      ]
     },
     "metadata": {
      "needs_background": "light"
     },
     "output_type": "display_data"
    }
   ],
   "source": [
    "so_asia = happiness2015[happiness2015['Region'] == 'Southern Asia']\n",
    "so_asia.plot(x='Country', y='Happiness Score', kind='barh', title='Southern Asia Happiness Scores', xlim=(0,10))"
   ]
  },
  {
   "cell_type": "code",
   "execution_count": 5,
   "metadata": {},
   "outputs": [
    {
     "name": "stdout",
     "output_type": "stream",
     "text": [
      "['Western Europe' 'North America' 'Australia and New Zealand'\n",
      " 'Middle East and Northern Africa' 'Latin America and Caribbean'\n",
      " 'Southeastern Asia' 'Central and Eastern Europe' 'Eastern Asia'\n",
      " 'Sub-Saharan Africa' 'Southern Asia']\n",
      "{'Western Europe': 6.689619047619048, 'North America': 7.273, 'Australia and New Zealand': 7.285, 'Middle East and Northern Africa': 5.406899999999999, 'Latin America and Caribbean': 6.144681818181818, 'Southeastern Asia': 5.317444444444445, 'Central and Eastern Europe': 5.332931034482758, 'Eastern Asia': 5.626166666666666, 'Sub-Saharan Africa': 4.202800000000001, 'Southern Asia': 4.580857142857143}\n"
     ]
    }
   ],
   "source": [
    "mean_happiness={}\n",
    "\n",
    "print(happiness2015[\"Region\"].unique())\n",
    "\n",
    "for region in happiness2015[\"Region\"].unique():\n",
    "    region_group=happiness2015[happiness2015[\"Region\"]==region]\n",
    "    region_mean=region_group[\"Happiness Score\"].mean()\n",
    "    mean_happiness[region]=region_mean\n",
    "    \n",
    "print(mean_happiness)"
   ]
  },
  {
   "cell_type": "markdown",
   "metadata": {},
   "source": [
    "So above we split the dataframe into different groups, applied a functino to each group, and then combined the results into a data structure."
   ]
  },
  {
   "cell_type": "markdown",
   "metadata": {},
   "source": [
    "# 4. The GroupBy Operation"
   ]
  },
  {
   "cell_type": "markdown",
   "metadata": {},
   "source": [
    "Pandas has a prebuilt operation for the process that we performed above. The groupby operation performs the split-apply-combine process on a dataframe, however it does it in two steps."
   ]
  },
  {
   "cell_type": "markdown",
   "metadata": {},
   "source": [
    "# 5. Creating GroupBy Objects"
   ]
  },
  {
   "cell_type": "code",
   "execution_count": 6,
   "metadata": {},
   "outputs": [
    {
     "name": "stdout",
     "output_type": "stream",
     "text": [
      "<pandas.core.groupby.generic.DataFrameGroupBy object at 0x7fa33bbf72b0>\n",
      "       Country                     Region  Happiness Rank  Happiness Score  \\\n",
      "8  New Zealand  Australia and New Zealand               9            7.286   \n",
      "9    Australia  Australia and New Zealand              10            7.284   \n",
      "\n",
      "   Standard Error  Economy (GDP per Capita)   Family  \\\n",
      "8         0.03371                   1.25018  1.31967   \n",
      "9         0.04083                   1.33358  1.30923   \n",
      "\n",
      "   Health (Life Expectancy)  Freedom  Trust (Government Corruption)  \\\n",
      "8                   0.90837  0.63938                        0.42922   \n",
      "9                   0.93156  0.65124                        0.35637   \n",
      "\n",
      "   Generosity  Dystopia Residual  \n",
      "8     0.47501            2.26425  \n",
      "9     0.43562            2.26646  \n"
     ]
    }
   ],
   "source": [
    "grouped=happiness2015.groupby(\"Region\")\n",
    "print(grouped)\n",
    "aus_nz=grouped.get_group(\"Australia and New Zealand\")\n",
    "print(aus_nz)"
   ]
  },
  {
   "cell_type": "markdown",
   "metadata": {},
   "source": [
    "# 6. Exploring GroupBy Objects"
   ]
  },
  {
   "cell_type": "code",
   "execution_count": 7,
   "metadata": {},
   "outputs": [
    {
     "name": "stdout",
     "output_type": "stream",
     "text": [
      "{'Australia and New Zealand': Int64Index([8, 9], dtype='int64'), 'Central and Eastern Europe': Int64Index([ 30,  43,  44,  51,  53,  54,  55,  58,  59,  61,  63,  68,  69,\n",
      "             72,  76,  79,  82,  85,  86,  88,  92,  94,  95, 103, 105, 110,\n",
      "            126, 129, 133],\n",
      "           dtype='int64'), 'Eastern Asia': Int64Index([37, 45, 46, 71, 83, 99], dtype='int64'), 'Latin America and Caribbean': Int64Index([ 11,  13,  15,  22,  24,  26,  29,  31,  32,  39,  40,  41,  42,\n",
      "             47,  50,  52,  56,  57,  64,  97, 104, 118],\n",
      "           dtype='int64'), 'Middle East and Northern Africa': Int64Index([ 10,  19,  21,  27,  34,  38,  48,  62,  67,  75,  81,  91, 102,\n",
      "            106, 107, 109, 111, 134, 135, 155],\n",
      "           dtype='int64'), 'North America': Int64Index([4, 14], dtype='int64'), 'Southeastern Asia': Int64Index([23, 33, 60, 73, 74, 89, 98, 128, 144], dtype='int64'), 'Southern Asia': Int64Index([78, 80, 108, 116, 120, 131, 152], dtype='int64'), 'Sub-Saharan Africa': Int64Index([ 70,  77,  84,  90,  93,  96, 100, 112, 113, 114, 115, 117, 119,\n",
      "            121, 122, 123, 124, 125, 127, 130, 132, 136, 137, 138, 139, 140,\n",
      "            141, 142, 143, 145, 146, 147, 148, 149, 150, 151, 153, 154, 156,\n",
      "            157],\n",
      "           dtype='int64'), 'Western Europe': Int64Index([0, 1, 2, 3, 5, 6, 7, 12, 16, 17, 18, 20, 25, 28, 35, 36, 49, 65,\n",
      "            66, 87, 101],\n",
      "           dtype='int64')}\n"
     ]
    }
   ],
   "source": [
    "grouped = happiness2015.groupby('Region')\n",
    "\n",
    "print(grouped.groups)\n",
    "\n"
   ]
  },
  {
   "cell_type": "code",
   "execution_count": null,
   "metadata": {},
   "outputs": [],
   "source": []
  }
 ],
 "metadata": {
  "kernelspec": {
   "display_name": "Python 3",
   "language": "python",
   "name": "python3"
  },
  "language_info": {
   "codemirror_mode": {
    "name": "ipython",
    "version": 3
   },
   "file_extension": ".py",
   "mimetype": "text/x-python",
   "name": "python",
   "nbconvert_exporter": "python",
   "pygments_lexer": "ipython3",
   "version": "3.9.6"
  }
 },
 "nbformat": 4,
 "nbformat_minor": 4
}
