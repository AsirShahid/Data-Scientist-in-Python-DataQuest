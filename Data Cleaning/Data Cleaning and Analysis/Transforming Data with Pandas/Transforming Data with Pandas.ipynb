{
 "cells": [
  {
   "cell_type": "markdown",
   "metadata": {},
   "source": [
    "# 1. Introduction"
   ]
  },
  {
   "cell_type": "code",
   "execution_count": 2,
   "metadata": {},
   "outputs": [
    {
     "name": "stdout",
     "output_type": "stream",
     "text": [
      "         Country  ... Dystopia Residual\n",
      "0    Switzerland  ...           2.51738\n",
      "1        Iceland  ...           2.70201\n",
      "2        Denmark  ...           2.49204\n",
      "3         Norway  ...           2.46531\n",
      "4         Canada  ...           2.45176\n",
      "..           ...  ...               ...\n",
      "153       Rwanda  ...           0.67042\n",
      "154        Benin  ...           1.63328\n",
      "155        Syria  ...           0.32858\n",
      "156      Burundi  ...           1.83302\n",
      "157         Togo  ...           1.56726\n",
      "\n",
      "[158 rows x 12 columns]\n"
     ]
    }
   ],
   "source": [
    "import pandas as pd\n",
    "\n",
    "mapping = {'Economy (GDP per Capita)': 'Economy', 'Health (Life Expectancy)': 'Health', 'Trust (Government Corruption)': 'Trust' }\n",
    "\n",
    "happiness2015=pd.read_csv(\"World_Happiness_2015.csv\")\n",
    "\n",
    "happiness2015=happiness2015.rename(mapping, axis=1)\n",
    "\n",
    "print(happiness2015)"
   ]
  },
  {
   "cell_type": "markdown",
   "metadata": {},
   "source": [
    "# 2. Apply a Function Element-wise Using the Map and Apply Methods"
   ]
  },
  {
   "cell_type": "code",
   "execution_count": 6,
   "metadata": {},
   "outputs": [
    {
     "name": "stdout",
     "output_type": "stream",
     "text": [
      "True\n"
     ]
    }
   ],
   "source": [
    "def label(element):\n",
    "    if element > 1:\n",
    "        return 'High'\n",
    "    else:\n",
    "        return 'Low'\n",
    "    \n",
    "economy_impact_map=happiness2015[\"Economy\"].map(label)\n",
    "\n",
    "economy_impact_apply=happiness2015[\"Economy\"].apply(label)\n",
    "\n",
    "equal=economy_impact_apply.equals(economy_impact_map)\n",
    "\n",
    "print(equal)"
   ]
  },
  {
   "cell_type": "markdown",
   "metadata": {},
   "source": [
    "# 3. Apply a Function Element-wise Using the Map and Apply Methods Continued"
   ]
  },
  {
   "cell_type": "code",
   "execution_count": 7,
   "metadata": {},
   "outputs": [],
   "source": [
    "def label(element,x):\n",
    "    if element > x:\n",
    "        return 'High'\n",
    "    else:\n",
    "        return 'Low'\n",
    "economy_impact_apply = happiness2015['Economy'].apply(label,x=0.8)"
   ]
  },
  {
   "cell_type": "markdown",
   "metadata": {},
   "source": [
    "# 4. Apply a Function Element-wise to Multiple Columns Using Applymap Method"
   ]
  },
  {
   "cell_type": "markdown",
   "metadata": {},
   "source": [
    "We learned in the last screen that we can only use the Series.apply() method to apply a function with additional arguments element-wise - the Series.map() method will return an error."
   ]
  },
  {
   "cell_type": "code",
   "execution_count": 11,
   "metadata": {},
   "outputs": [
    {
     "name": "stdout",
     "output_type": "stream",
     "text": [
      "    Economy Family Health Freedom Trust Generosity\n",
      "0      High   High    Low     Low   Low        Low\n",
      "1      High   High    Low     Low   Low        Low\n",
      "2      High   High    Low     Low   Low        Low\n",
      "3      High   High    Low     Low   Low        Low\n",
      "4      High   High    Low     Low   Low        Low\n",
      "..      ...    ...    ...     ...   ...        ...\n",
      "153     Low    Low    Low     Low   Low        Low\n",
      "154     Low    Low    Low     Low   Low        Low\n",
      "155     Low    Low    Low     Low   Low        Low\n",
      "156     Low    Low    Low     Low   Low        Low\n",
      "157     Low    Low    Low     Low   Low        Low\n",
      "\n",
      "[158 rows x 6 columns]\n"
     ]
    }
   ],
   "source": [
    "def label(element):\n",
    "    if element > 1:\n",
    "        return 'High'\n",
    "    else:\n",
    "        return 'Low'\n",
    "economy_apply = happiness2015['Economy'].apply(label)\n",
    "factors = ['Economy', 'Family', 'Health', 'Freedom', 'Trust', 'Generosity']\n",
    "\n",
    "factors_impact=happiness2015[factors].applymap(label)\n",
    "\n",
    "print(factors_impact)"
   ]
  },
  {
   "cell_type": "markdown",
   "metadata": {},
   "source": [
    "# 5. Apply Functions along an Axis using the Apply Method"
   ]
  },
  {
   "cell_type": "code",
   "execution_count": 13,
   "metadata": {},
   "outputs": [
    {
     "name": "stdout",
     "output_type": "stream",
     "text": [
      "       Economy    Family    Health  Freedom  Trust  Generosity\n",
      "High  0.417722  0.563291  0.012658      NaN    NaN         NaN\n",
      "Low   0.582278  0.436709  0.987342      1.0    1.0         1.0\n"
     ]
    }
   ],
   "source": [
    "def v_counts(col):\n",
    "    num=col.value_counts()\n",
    "    den=col.size\n",
    "    return num/den\n",
    "v_counts_pct=factors_impact.apply(v_counts)\n",
    "\n",
    "print(v_counts_pct)"
   ]
  },
  {
   "cell_type": "markdown",
   "metadata": {},
   "source": [
    "# 6. Apply Functions along an Axis using the Apply Method Continued"
   ]
  },
  {
   "cell_type": "code",
   "execution_count": 16,
   "metadata": {},
   "outputs": [
    {
     "name": "stdout",
     "output_type": "stream",
     "text": [
      "       Economy     Family     Health  ...      Trust  Generosity  Dystopia Residual\n",
      "0    18.406617  17.787136  12.408462  ...   5.532885    3.911691          33.180177\n",
      "1    17.224177  18.545563  12.535908  ...   1.870784    5.770401          35.736146\n",
      "2    17.609672  18.075993  11.620035  ...   6.424472    4.535539          33.108011\n",
      "3    19.396437  17.694097  11.768280  ...   4.852832    4.613002          32.774661\n",
      "4    17.857681  17.808132  12.193753  ...   4.437458    6.168170          33.011445\n",
      "..         ...        ...        ...  ...        ...         ...                ...\n",
      "153   6.409235  22.329004  12.370563  ...  15.928139    6.530447          19.348341\n",
      "154   8.582335  10.594611   9.553892  ...   2.398204    5.467066          48.900599\n",
      "155  22.062542  15.798071  24.016301  ...   6.289421   15.694943          10.930805\n",
      "156   0.526678  14.315663   7.709466  ...   3.463683    6.790706          63.098795\n",
      "157   7.350476   4.929553  10.018669  ...   3.779852    5.875660          55.204650\n",
      "\n",
      "[158 rows x 7 columns]\n"
     ]
    }
   ],
   "source": [
    "factors = ['Economy', 'Family', 'Health', 'Freedom', 'Trust', 'Generosity', 'Dystopia Residual']\n",
    "\n",
    "def percentages(col):\n",
    "    div=col/happiness2015[\"Happiness Score\"]\n",
    "    return div*100\n",
    "\n",
    "factor_percentages=happiness2015[factors].apply(percentages)\n",
    "\n",
    "print(factor_percentages)"
   ]
  },
  {
   "cell_type": "markdown",
   "metadata": {},
   "source": [
    "# 7. Reshaping Data with the Melt Function "
   ]
  },
  {
   "cell_type": "code",
   "execution_count": 20,
   "metadata": {},
   "outputs": [
    {
     "name": "stdout",
     "output_type": "stream",
     "text": [
      "          Country                           Region  ...    value  Percentage\n",
      "0     Switzerland                   Western Europe  ...  1.39651       18.41\n",
      "1         Iceland                   Western Europe  ...  1.30232       17.22\n",
      "2         Denmark                   Western Europe  ...  1.32548       17.61\n",
      "3          Norway                   Western Europe  ...  1.45900       19.40\n",
      "4          Canada                    North America  ...  1.32629       17.86\n",
      "...           ...                              ...  ...      ...         ...\n",
      "1101       Rwanda               Sub-Saharan Africa  ...  0.67042       19.35\n",
      "1102        Benin               Sub-Saharan Africa  ...  1.63328       48.90\n",
      "1103        Syria  Middle East and Northern Africa  ...  0.32858       10.93\n",
      "1104      Burundi               Sub-Saharan Africa  ...  1.83302       63.10\n",
      "1105         Togo               Sub-Saharan Africa  ...  1.56726       55.20\n",
      "\n",
      "[1106 rows x 7 columns]\n"
     ]
    }
   ],
   "source": [
    "main_cols = ['Country', 'Region', 'Happiness Rank', 'Happiness Score']\n",
    "factors = ['Economy', 'Family', 'Health', 'Freedom', 'Trust', 'Generosity', 'Dystopia Residual']\n",
    "\n",
    "melt=pd.melt(happiness2015, id_vars=main_cols, value_vars=factors)\n",
    "\n",
    "melt[\"Percentage\"]=round(melt[\"value\"]/melt[\"Happiness Score\"]*100,2)\n",
    "\n",
    "print(melt)"
   ]
  },
  {
   "cell_type": "markdown",
   "metadata": {},
   "source": [
    "# 8. Challenge: Aggregate the Data and Create a Visualization"
   ]
  },
  {
   "cell_type": "code",
   "execution_count": 27,
   "metadata": {},
   "outputs": [
    {
     "data": {
      "text/plain": [
       "<AxesSubplot:ylabel='value'>"
      ]
     },
     "execution_count": 27,
     "metadata": {},
     "output_type": "execute_result"
    },
    {
     "data": {
      "image/png": "[encoded data removed]",
      "text/plain": [
       "<Figure size 432x288 with 1 Axes>"
      ]
     },
     "metadata": {},
     "output_type": "display_data"
    }
   ],
   "source": [
    "melt = pd.melt(happiness2015, id_vars = ['Country', 'Region', 'Happiness Rank', 'Happiness Score'], value_vars= ['Economy', 'Family', 'Health', 'Freedom', 'Trust', 'Generosity', 'Dystopia Residual'])\n",
    "melt['Percentage'] = round(melt['value']/melt['Happiness Score'] * 100, 2)\n",
    "\n",
    "pv_melt=melt.pivot_table(index=\"variable\",values=\"value\")\n",
    "\n",
    "pv_melt.plot(kind=\"pie\",y=\"value\",legend=False)\n",
    "\n",
    "# We can see above that the most impactful criteria are the Economy and Family values."
   ]
  },
  {
   "cell_type": "markdown",
   "metadata": {},
   "source": [
    "# 9. Next steps"
   ]
  },
  {
   "cell_type": "markdown",
   "metadata": {},
   "source": [
    "In this lesson, we learned how to transform data using the Series.map(), Series.apply(), DataFrame.apply(), and DataFrame.applymap() methods along with the pd.melt() function. Below is a summary chart of the differences between the map(), apply(), and applymap() methods:\n",
    "\n",
    "As you explore pandas, you'll also find that pandas has a method to \"un-melt\" the data, or transform rows into columns. This method is called the df.pivot() method, not to be confused with the df.pivot_table() method used to aggregate data. Although we couldn't cover the df.pivot() method explicitly in this lesson, we encourage you to explore it on your own.\n",
    "\n",
    "In the next lesson, we'll learn how to manipulate strings in pandas as we continue building on what we've learned so far.\n",
    "\n"
   ]
  }
 ],
 "metadata": {
  "kernelspec": {
   "display_name": "Python 3",
   "language": "python",
   "name": "python3"
  },
  "language_info": {
   "codemirror_mode": {
    "name": "ipython",
    "version": 3
   },
   "file_extension": ".py",
   "mimetype": "text/x-python",
   "name": "python",
   "nbconvert_exporter": "python",
   "pygments_lexer": "ipython3",
   "version": "3.9.6"
  }
 },
 "nbformat": 4,
 "nbformat_minor": 4
}
