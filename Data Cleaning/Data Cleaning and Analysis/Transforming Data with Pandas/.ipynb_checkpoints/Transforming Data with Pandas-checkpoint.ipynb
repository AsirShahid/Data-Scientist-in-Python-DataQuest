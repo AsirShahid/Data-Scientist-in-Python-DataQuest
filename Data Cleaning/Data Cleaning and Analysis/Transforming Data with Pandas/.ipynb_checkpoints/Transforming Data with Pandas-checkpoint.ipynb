{
 "cells": [
  {
   "cell_type": "markdown",
   "metadata": {},
   "source": [
    "# 1. Introduction"
   ]
  },
  {
   "cell_type": "code",
   "execution_count": 2,
   "metadata": {},
   "outputs": [
    {
     "name": "stdout",
     "output_type": "stream",
     "text": [
      "         Country  ... Dystopia Residual\n",
      "0    Switzerland  ...           2.51738\n",
      "1        Iceland  ...           2.70201\n",
      "2        Denmark  ...           2.49204\n",
      "3         Norway  ...           2.46531\n",
      "4         Canada  ...           2.45176\n",
      "..           ...  ...               ...\n",
      "153       Rwanda  ...           0.67042\n",
      "154        Benin  ...           1.63328\n",
      "155        Syria  ...           0.32858\n",
      "156      Burundi  ...           1.83302\n",
      "157         Togo  ...           1.56726\n",
      "\n",
      "[158 rows x 12 columns]\n"
     ]
    }
   ],
   "source": [
    "import pandas as pd\n",
    "\n",
    "mapping = {'Economy (GDP per Capita)': 'Economy', 'Health (Life Expectancy)': 'Health', 'Trust (Government Corruption)': 'Trust' }\n",
    "\n",
    "happiness2015=pd.read_csv(\"World_Happiness_2015.csv\")\n",
    "\n",
    "happiness2015=happiness2015.rename(mapping, axis=1)\n",
    "\n",
    "print(happiness2015)"
   ]
  },
  {
   "cell_type": "markdown",
   "metadata": {},
   "source": [
    "# 2. Apply a Function Element-wise Using the Map and Apply Methods"
   ]
  },
  {
   "cell_type": "code",
   "execution_count": 6,
   "metadata": {},
   "outputs": [
    {
     "name": "stdout",
     "output_type": "stream",
     "text": [
      "True\n"
     ]
    }
   ],
   "source": [
    "def label(element):\n",
    "    if element > 1:\n",
    "        return 'High'\n",
    "    else:\n",
    "        return 'Low'\n",
    "    \n",
    "economy_impact_map=happiness2015[\"Economy\"].map(label)\n",
    "\n",
    "economy_impact_apply=happiness2015[\"Economy\"].apply(label)\n",
    "\n",
    "equal=economy_impact_apply.equals(economy_impact_map)\n",
    "\n",
    "print(equal)"
   ]
  },
  {
   "cell_type": "markdown",
   "metadata": {},
   "source": [
    "# 3. Apply a Function Element-wise Using the Map and Apply Methods Continued"
   ]
  },
  {
   "cell_type": "code",
   "execution_count": 7,
   "metadata": {},
   "outputs": [],
   "source": [
    "def label(element,x):\n",
    "    if element > x:\n",
    "        return 'High'\n",
    "    else:\n",
    "        return 'Low'\n",
    "economy_impact_apply = happiness2015['Economy'].apply(label,x=0.8)"
   ]
  },
  {
   "cell_type": "markdown",
   "metadata": {},
   "source": [
    "# 4. Apply a Function Element-wise to Multiple Columns Using Applymap Method"
   ]
  },
  {
   "cell_type": "markdown",
   "metadata": {},
   "source": [
    "We learned in the last screen that we can only use the Series.apply() method to apply a function with additional arguments element-wise - the Series.map() method will return an error."
   ]
  },
  {
   "cell_type": "code",
   "execution_count": 11,
   "metadata": {},
   "outputs": [
    {
     "name": "stdout",
     "output_type": "stream",
     "text": [
      "    Economy Family Health Freedom Trust Generosity\n",
      "0      High   High    Low     Low   Low        Low\n",
      "1      High   High    Low     Low   Low        Low\n",
      "2      High   High    Low     Low   Low        Low\n",
      "3      High   High    Low     Low   Low        Low\n",
      "4      High   High    Low     Low   Low        Low\n",
      "..      ...    ...    ...     ...   ...        ...\n",
      "153     Low    Low    Low     Low   Low        Low\n",
      "154     Low    Low    Low     Low   Low        Low\n",
      "155     Low    Low    Low     Low   Low        Low\n",
      "156     Low    Low    Low     Low   Low        Low\n",
      "157     Low    Low    Low     Low   Low        Low\n",
      "\n",
      "[158 rows x 6 columns]\n"
     ]
    }
   ],
   "source": [
    "def label(element):\n",
    "    if element > 1:\n",
    "        return 'High'\n",
    "    else:\n",
    "        return 'Low'\n",
    "economy_apply = happiness2015['Economy'].apply(label)\n",
    "factors = ['Economy', 'Family', 'Health', 'Freedom', 'Trust', 'Generosity']\n",
    "\n",
    "factors_impact=happiness2015[factors].applymap(label)\n",
    "\n",
    "print(factors_impact)"
   ]
  },
  {
   "cell_type": "markdown",
   "metadata": {},
   "source": [
    "# 5. Apply Functions along an Axis using the Apply Method"
   ]
  }
 ],
 "metadata": {
  "kernelspec": {
   "display_name": "Python 3",
   "language": "python",
   "name": "python3"
  },
  "language_info": {
   "codemirror_mode": {
    "name": "ipython",
    "version": 3
   },
   "file_extension": ".py",
   "mimetype": "text/x-python",
   "name": "python",
   "nbconvert_exporter": "python",
   "pygments_lexer": "ipython3",
   "version": "3.9.6"
  }
 },
 "nbformat": 4,
 "nbformat_minor": 4
}
