{
 "cells": [
  {
   "cell_type": "markdown",
   "metadata": {},
   "source": [
    "# 1. Introduction"
   ]
  },
  {
   "cell_type": "code",
   "execution_count": 1,
   "metadata": {},
   "outputs": [
    {
     "name": "stdout",
     "output_type": "stream",
     "text": [
      "(164, 13) (164, 14) (164, 13)\n"
     ]
    }
   ],
   "source": [
    "import pandas as pd\n",
    "\n",
    "happiness2015=pd.read_csv(\"wh_2015.csv\")\n",
    "happiness2016=pd.read_csv(\"wh_2016.csv\")\n",
    "happiness2017=pd.read_csv(\"wh_2017.csv\")\n",
    "\n",
    "shape_2015=happiness2015.shape\n",
    "shape_2016=happiness2016.shape\n",
    "shape_2017=happiness2017.shape\n",
    "\n",
    "print(shape_2015,shape_2016,shape_2017)"
   ]
  },
  {
   "cell_type": "markdown",
   "metadata": {},
   "source": [
    "# 2. Identifying Missing Values"
   ]
  },
  {
   "cell_type": "code",
   "execution_count": 2,
   "metadata": {},
   "outputs": [
    {
     "name": "stdout",
     "output_type": "stream",
     "text": [
      "Country                          0\n",
      "Region                           7\n",
      "Happiness Rank                   7\n",
      "Happiness Score                  7\n",
      "Lower Confidence Interval        7\n",
      "Upper Confidence Interval        7\n",
      "Economy (GDP per Capita)         7\n",
      "Family                           7\n",
      "Health (Life Expectancy)         7\n",
      "Freedom                          7\n",
      "Trust (Government Corruption)    7\n",
      "Generosity                       7\n",
      "Dystopia Residual                7\n",
      "Year                             0\n",
      "dtype: int64 Country                          0\n",
      "Happiness.Rank                   9\n",
      "Happiness.Score                  9\n",
      "Whisker.high                     9\n",
      "Whisker.low                      9\n",
      "Economy..GDP.per.Capita.         9\n",
      "Family                           9\n",
      "Health..Life.Expectancy.         9\n",
      "Freedom                          9\n",
      "Generosity                       9\n",
      "Trust..Government.Corruption.    9\n",
      "Dystopia.Residual                9\n",
      "Year                             0\n",
      "dtype: int64\n"
     ]
    }
   ],
   "source": [
    "missing_2016=happiness2016.isnull().sum()\n",
    "missing_2017=happiness2017.isnull().sum()\n",
    "\n",
    "print(missing_2016,missing_2017)"
   ]
  },
  {
   "cell_type": "markdown",
   "metadata": {},
   "source": [
    "# 3. Correcting Data Cleaning Errors that Result in Missing Values"
   ]
  },
  {
   "cell_type": "markdown",
   "metadata": {},
   "source": [
    "\n",
    "| Method               | Description                                                   |\n",
    "|----------------------|---------------------------------------------------------------|\n",
    "| Series.str.split()   | Splits each element in the Series.                            |\n",
    "| Series.str.strip()   | Strips whitespace from each string in the Series.             |\n",
    "| Series.str.lower()   | Converts strings in the Series to lowercase.                  |\n",
    "| Series.str.upper()   | Converts strings in the Series to uppercase.                  |\n",
    "| Series.str.get()     | Retrieves the ith element of each element in the Series.      |\n",
    "| Series.str.replace() | Replaces a regex or string in the Series with another string. |\n",
    "| Series.str.cat()     | Concatenates strings in a Series.                             |\n",
    "| Series.str.extract() | Extracts substrings from the Series matching a regex pattern. |"
   ]
  },
  {
   "cell_type": "code",
   "execution_count": 3,
   "metadata": {},
   "outputs": [
    {
     "data": {
      "text/plain": [
       "<AxesSubplot:ylabel='YEAR'>"
      ]
     },
     "execution_count": 3,
     "metadata": {},
     "output_type": "execute_result"
    },
    {
     "data": {
      "image/png": "[encoded data removed]",
      "text/plain": [
       "<Figure size 432x288 with 1 Axes>"
      ]
     },
     "metadata": {
      "needs_background": "light"
     },
     "output_type": "display_data"
    }
   ],
   "source": [
    "import seaborn as sns\n",
    "\n",
    "happiness2017.columns = happiness2017.columns.str.replace('.', ' ').str.replace('\\s+', ' ').str.strip().str.upper()\n",
    "\n",
    "#happiness2015.columns=happiness2015.columns.str.replace(\".\",\" \").str.replace(\"\\s+\", \" \").str.strip().str.upper()\n",
    "\n",
    "happiness2015.columns=happiness2015.columns.str.replace(\".\",\" \").str.replace(\"(\",\"\").str.replace(\")\",\"\").str.strip().str.upper()\n",
    "\n",
    "\n",
    "happiness2016.columns=happiness2016.columns.str.replace(\".\",\" \").str.replace(\"(\",\"\").str.replace(\")\",\"\").str.strip().str.upper()\n",
    "\n",
    "\n",
    "combined=pd.concat([happiness2015,happiness2016,happiness2017], ignore_index=True)\n",
    "\n",
    "missing=combined.isnull().sum()\n",
    "combined_updated = combined.set_index('YEAR')\n",
    "sns.heatmap(combined_updated.isnull(), cbar=False)"
   ]
  },
  {
   "cell_type": "markdown",
   "metadata": {},
   "source": [
    "# 4. Visualizing Missing Dat"
   ]
  },
  {
   "cell_type": "code",
   "execution_count": 4,
   "metadata": {},
   "outputs": [
    {
     "name": "stdout",
     "output_type": "stream",
     "text": [
      "164\n",
      "328    NaN\n",
      "329    NaN\n",
      "330    NaN\n",
      "331    NaN\n",
      "332    NaN\n",
      "      ... \n",
      "487    NaN\n",
      "488    NaN\n",
      "489    NaN\n",
      "490    NaN\n",
      "491    NaN\n",
      "Name: REGION, Length: 164, dtype: object\n"
     ]
    }
   ],
   "source": [
    "regions_2017=combined[combined[\"YEAR\"]==2017][\"REGION\"]\n",
    "\n",
    "missing=regions_2017.isnull().sum()\n",
    "\n",
    "print(missing,regions_2017, sep=\"\\n\")"
   ]
  },
  {
   "cell_type": "markdown",
   "metadata": {},
   "source": [
    "# 5. Using Data From Additional Sources to Fill in Missing Values"
   ]
  },
  {
   "cell_type": "code",
   "execution_count": 5,
   "metadata": {},
   "outputs": [
    {
     "name": "stdout",
     "output_type": "stream",
     "text": [
      "Index(['COUNTRY', 'REGION', 'HAPPINESS RANK', 'HAPPINESS SCORE',\n",
      "       'STANDARD ERROR', 'ECONOMY GDP PER CAPITA', 'FAMILY',\n",
      "       'HEALTH LIFE EXPECTANCY', 'FREEDOM', 'TRUST GOVERNMENT CORRUPTION',\n",
      "       'GENEROSITY', 'DYSTOPIA RESIDUAL', 'YEAR', 'LOWER CONFIDENCE INTERVAL',\n",
      "       'UPPER CONFIDENCE INTERVAL', 'WHISKER HIGH', 'WHISKER LOW', 'REGION_y'],\n",
      "      dtype='object')\n"
     ]
    }
   ],
   "source": [
    "regions = happiness2015[[\"COUNTRY\",\"REGION\"]].merge(happiness2016[[\"COUNTRY\",\"REGION\"]], on=\"COUNTRY\")\n",
    "\n",
    "combined=pd.merge(left=combined,right=regions,on=\"COUNTRY\",how=\"left\")\n",
    "\n",
    "\n",
    "combined=combined.drop(\"REGION_x\",axis=1)\n",
    "\n",
    "print(combined.columns)\n",
    "\n",
    "missing=combined.isnull().sum()"
   ]
  },
  {
   "cell_type": "markdown",
   "metadata": {},
   "source": [
    "How should regions be properly generated?"
   ]
  },
  {
   "cell_type": "markdown",
   "metadata": {},
   "source": [
    "# 6. Identifying Duplicates Values"
   ]
  },
  {
   "cell_type": "code",
   "execution_count": 6,
   "metadata": {},
   "outputs": [
    {
     "data": {
      "text/html": [
       "<div>\n",
       "<style scoped>\n",
       "    .dataframe tbody tr th:only-of-type {\n",
       "        vertical-align: middle;\n",
       "    }\n",
       "\n",
       "    .dataframe tbody tr th {\n",
       "        vertical-align: top;\n",
       "    }\n",
       "\n",
       "    .dataframe thead th {\n",
       "        text-align: right;\n",
       "    }\n",
       "</style>\n",
       "<table border=\"1\" class=\"dataframe\">\n",
       "  <thead>\n",
       "    <tr style=\"text-align: right;\">\n",
       "      <th></th>\n",
       "      <th>COUNTRY</th>\n",
       "      <th>REGION</th>\n",
       "      <th>HAPPINESS RANK</th>\n",
       "      <th>HAPPINESS SCORE</th>\n",
       "      <th>STANDARD ERROR</th>\n",
       "      <th>ECONOMY GDP PER CAPITA</th>\n",
       "      <th>FAMILY</th>\n",
       "      <th>HEALTH LIFE EXPECTANCY</th>\n",
       "      <th>FREEDOM</th>\n",
       "      <th>TRUST GOVERNMENT CORRUPTION</th>\n",
       "      <th>GENEROSITY</th>\n",
       "      <th>DYSTOPIA RESIDUAL</th>\n",
       "      <th>YEAR</th>\n",
       "      <th>LOWER CONFIDENCE INTERVAL</th>\n",
       "      <th>UPPER CONFIDENCE INTERVAL</th>\n",
       "      <th>WHISKER HIGH</th>\n",
       "      <th>WHISKER LOW</th>\n",
       "      <th>REGION_y</th>\n",
       "    </tr>\n",
       "  </thead>\n",
       "  <tbody>\n",
       "    <tr>\n",
       "      <th>162</th>\n",
       "      <td>SOMALILAND REGION</td>\n",
       "      <td>NaN</td>\n",
       "      <td>NaN</td>\n",
       "      <td>NaN</td>\n",
       "      <td>NaN</td>\n",
       "      <td>NaN</td>\n",
       "      <td>NaN</td>\n",
       "      <td>NaN</td>\n",
       "      <td>NaN</td>\n",
       "      <td>NaN</td>\n",
       "      <td>NaN</td>\n",
       "      <td>NaN</td>\n",
       "      <td>2015</td>\n",
       "      <td>NaN</td>\n",
       "      <td>NaN</td>\n",
       "      <td>NaN</td>\n",
       "      <td>NaN</td>\n",
       "      <td>Sub-Saharan Africa</td>\n",
       "    </tr>\n",
       "    <tr>\n",
       "      <th>326</th>\n",
       "      <td>SOMALILAND REGION</td>\n",
       "      <td>NaN</td>\n",
       "      <td>NaN</td>\n",
       "      <td>NaN</td>\n",
       "      <td>NaN</td>\n",
       "      <td>NaN</td>\n",
       "      <td>NaN</td>\n",
       "      <td>NaN</td>\n",
       "      <td>NaN</td>\n",
       "      <td>NaN</td>\n",
       "      <td>NaN</td>\n",
       "      <td>NaN</td>\n",
       "      <td>2016</td>\n",
       "      <td>NaN</td>\n",
       "      <td>NaN</td>\n",
       "      <td>NaN</td>\n",
       "      <td>NaN</td>\n",
       "      <td>NaN</td>\n",
       "    </tr>\n",
       "    <tr>\n",
       "      <th>489</th>\n",
       "      <td>SOMALILAND REGION</td>\n",
       "      <td>NaN</td>\n",
       "      <td>NaN</td>\n",
       "      <td>NaN</td>\n",
       "      <td>NaN</td>\n",
       "      <td>NaN</td>\n",
       "      <td>NaN</td>\n",
       "      <td>NaN</td>\n",
       "      <td>NaN</td>\n",
       "      <td>NaN</td>\n",
       "      <td>NaN</td>\n",
       "      <td>NaN</td>\n",
       "      <td>2017</td>\n",
       "      <td>NaN</td>\n",
       "      <td>NaN</td>\n",
       "      <td>NaN</td>\n",
       "      <td>NaN</td>\n",
       "      <td>NaN</td>\n",
       "    </tr>\n",
       "  </tbody>\n",
       "</table>\n",
       "</div>"
      ],
      "text/plain": [
       "               COUNTRY REGION  HAPPINESS RANK  HAPPINESS SCORE  \\\n",
       "162  SOMALILAND REGION    NaN             NaN              NaN   \n",
       "326  SOMALILAND REGION    NaN             NaN              NaN   \n",
       "489  SOMALILAND REGION    NaN             NaN              NaN   \n",
       "\n",
       "     STANDARD ERROR  ECONOMY GDP PER CAPITA  FAMILY  HEALTH LIFE EXPECTANCY  \\\n",
       "162             NaN                     NaN     NaN                     NaN   \n",
       "326             NaN                     NaN     NaN                     NaN   \n",
       "489             NaN                     NaN     NaN                     NaN   \n",
       "\n",
       "     FREEDOM  TRUST GOVERNMENT CORRUPTION  GENEROSITY  DYSTOPIA RESIDUAL  \\\n",
       "162      NaN                          NaN         NaN                NaN   \n",
       "326      NaN                          NaN         NaN                NaN   \n",
       "489      NaN                          NaN         NaN                NaN   \n",
       "\n",
       "     YEAR  LOWER CONFIDENCE INTERVAL  UPPER CONFIDENCE INTERVAL  WHISKER HIGH  \\\n",
       "162  2015                        NaN                        NaN           NaN   \n",
       "326  2016                        NaN                        NaN           NaN   \n",
       "489  2017                        NaN                        NaN           NaN   \n",
       "\n",
       "     WHISKER LOW            REGION_y  \n",
       "162          NaN  Sub-Saharan Africa  \n",
       "326          NaN                 NaN  \n",
       "489          NaN                 NaN  "
      ]
     },
     "execution_count": 6,
     "metadata": {},
     "output_type": "execute_result"
    }
   ],
   "source": [
    "combined[\"COUNTRY\"]=combined[\"COUNTRY\"].str.upper()\n",
    "\n",
    "dups=combined.duplicated([\"COUNTRY\",\"YEAR\"])\n",
    "\n",
    "combined[dups]"
   ]
  },
  {
   "cell_type": "markdown",
   "metadata": {},
   "source": [
    "# 7. Correcting Duplicates Values "
   ]
  },
  {
   "cell_type": "code",
   "execution_count": 7,
   "metadata": {},
   "outputs": [],
   "source": [
    "combined['COUNTRY'] = combined['COUNTRY'].str.upper()\n",
    "\n",
    "combined=combined.drop_duplicates([\"COUNTRY\",\"YEAR\"])"
   ]
  },
  {
   "cell_type": "markdown",
   "metadata": {},
   "source": [
    "# 8. Handle Missing Values by Dropping Columns"
   ]
  },
  {
   "cell_type": "code",
   "execution_count": 8,
   "metadata": {},
   "outputs": [
    {
     "name": "stdout",
     "output_type": "stream",
     "text": [
      "COUNTRY                          0\n",
      "REGION                         174\n",
      "HAPPINESS RANK                  19\n",
      "HAPPINESS SCORE                 19\n",
      "ECONOMY GDP PER CAPITA          19\n",
      "FAMILY                          19\n",
      "HEALTH LIFE EXPECTANCY          19\n",
      "FREEDOM                         19\n",
      "TRUST GOVERNMENT CORRUPTION     19\n",
      "GENEROSITY                      19\n",
      "DYSTOPIA RESIDUAL               19\n",
      "YEAR                             0\n",
      "REGION_y                        19\n",
      "dtype: int64\n"
     ]
    }
   ],
   "source": [
    "columns_to_drop = ['LOWER CONFIDENCE INTERVAL', 'STANDARD ERROR', 'UPPER CONFIDENCE INTERVAL', 'WHISKER HIGH', 'WHISKER LOW']\n",
    "\n",
    "combined=combined.drop(columns_to_drop,axis=1)\n",
    "\n",
    "missing=combined.isnull().sum()\n",
    "\n",
    "print(missing)"
   ]
  },
  {
   "cell_type": "markdown",
   "metadata": {},
   "source": [
    "# 9. Handle Missing Values by Dropping Columns Continued"
   ]
  },
  {
   "cell_type": "code",
   "execution_count": 17,
   "metadata": {},
   "outputs": [
    {
     "name": "stdout",
     "output_type": "stream",
     "text": [
      "               COUNTRY          REGION  HAPPINESS RANK  HAPPINESS SCORE  \\\n",
      "0          SWITZERLAND  Western Europe             1.0            7.587   \n",
      "1              ICELAND  Western Europe             2.0            7.561   \n",
      "2              DENMARK  Western Europe             3.0            7.527   \n",
      "3               NORWAY  Western Europe             4.0            7.522   \n",
      "4               CANADA   North America             5.0            7.427   \n",
      "..                 ...             ...             ...              ...   \n",
      "486               OMAN             NaN             NaN              NaN   \n",
      "487        PUERTO RICO             NaN             NaN              NaN   \n",
      "488  SOMALILAND REGION             NaN             NaN              NaN   \n",
      "490           SURINAME             NaN             NaN              NaN   \n",
      "491          SWAZILAND             NaN             NaN              NaN   \n",
      "\n",
      "     ECONOMY GDP PER CAPITA   FAMILY  HEALTH LIFE EXPECTANCY  FREEDOM  \\\n",
      "0                   1.39651  1.34951                 0.94143  0.66557   \n",
      "1                   1.30232  1.40223                 0.94784  0.62877   \n",
      "2                   1.32548  1.36058                 0.87464  0.64938   \n",
      "3                   1.45900  1.33095                 0.88521  0.66973   \n",
      "4                   1.32629  1.32261                 0.90563  0.63297   \n",
      "..                      ...      ...                     ...      ...   \n",
      "486                     NaN      NaN                     NaN      NaN   \n",
      "487                     NaN      NaN                     NaN      NaN   \n",
      "488                     NaN      NaN                     NaN      NaN   \n",
      "490                     NaN      NaN                     NaN      NaN   \n",
      "491                     NaN      NaN                     NaN      NaN   \n",
      "\n",
      "     TRUST GOVERNMENT CORRUPTION  GENEROSITY  DYSTOPIA RESIDUAL  YEAR  \\\n",
      "0                        0.41978     0.29678            2.51738  2015   \n",
      "1                        0.14145     0.43630            2.70201  2015   \n",
      "2                        0.48357     0.34139            2.49204  2015   \n",
      "3                        0.36503     0.34699            2.46531  2015   \n",
      "4                        0.32957     0.45811            2.45176  2015   \n",
      "..                           ...         ...                ...   ...   \n",
      "486                          NaN         NaN                NaN  2017   \n",
      "487                          NaN         NaN                NaN  2017   \n",
      "488                          NaN         NaN                NaN  2017   \n",
      "490                          NaN         NaN                NaN  2017   \n",
      "491                          NaN         NaN                NaN  2017   \n",
      "\n",
      "                        REGION_y  \n",
      "0                 Western Europe  \n",
      "1                 Western Europe  \n",
      "2                 Western Europe  \n",
      "3                 Western Europe  \n",
      "4                  North America  \n",
      "..                           ...  \n",
      "486                          NaN  \n",
      "487  Latin America and Caribbean  \n",
      "488           Sub-Saharan Africa  \n",
      "490  Latin America and Caribbean  \n",
      "491                          NaN  \n",
      "\n",
      "[489 rows x 13 columns]\n",
      "COUNTRY                          0\n",
      "REGION                         174\n",
      "HAPPINESS RANK                  19\n",
      "HAPPINESS SCORE                 19\n",
      "ECONOMY GDP PER CAPITA          19\n",
      "FAMILY                          19\n",
      "HEALTH LIFE EXPECTANCY          19\n",
      "FREEDOM                         19\n",
      "TRUST GOVERNMENT CORRUPTION     19\n",
      "GENEROSITY                      19\n",
      "DYSTOPIA RESIDUAL               19\n",
      "YEAR                             0\n",
      "REGION_y                        19\n",
      "dtype: int64\n"
     ]
    }
   ],
   "source": [
    "combined=combined.dropna(axis=1,thresh=159)\n",
    "\n",
    "missing=combined.isnull().sum()\n",
    "\n",
    "print(combined,missing,sep=\"\\n\")"
   ]
  },
  {
   "cell_type": "markdown",
   "metadata": {},
   "source": [
    "# 10. Analyzing Missing Data"
   ]
  },
  {
   "cell_type": "code",
   "execution_count": null,
   "metadata": {},
   "outputs": [],
   "source": []
  }
 ],
 "metadata": {
  "kernelspec": {
   "display_name": "Python 3",
   "language": "python",
   "name": "python3"
  },
  "language_info": {
   "codemirror_mode": {
    "name": "ipython",
    "version": 3
   },
   "file_extension": ".py",
   "mimetype": "text/x-python",
   "name": "python",
   "nbconvert_exporter": "python",
   "pygments_lexer": "ipython3",
   "version": "3.9.6"
  }
 },
 "nbformat": 4,
 "nbformat_minor": 4
}
