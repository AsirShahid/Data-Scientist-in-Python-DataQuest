{
 "cells": [
  {
   "cell_type": "markdown",
   "metadata": {},
   "source": [
    "# 1. How Guided Projects Work"
   ]
  },
  {
   "cell_type": "markdown",
   "metadata": {},
   "source": [
    "Welcome to the Star Wars Survey guided project! Guided projects help you apply the concepts you learn in Dataquest lessons and start building a portfolio. In this in-browser coding experience, you'll get help and hints to bridge the gap between learning on our platform and applications in the real world.\n",
    "\n",
    "Doing well on a guided project is a bit different from doing well in a Dataquest lesson, where there's a \"correct\" answer. Guided projects help you create solutions on your own (although we'll be there to help!).\n",
    "\n",
    "In this project, you'll work with Jupyter notebook and analyze data on the Star Wars movies. When you're finished, you'll have a notebook you can either add to your portfolio or expand on your own.\n",
    "\n",
    "Google, StackOverflow, and the documentation for various packages will help you as you progress through this project. Data scientists make extensive use of resources like these as they write code.\n",
    "\n",
    "Now, let's get started!"
   ]
  },
  {
   "cell_type": "markdown",
   "metadata": {},
   "source": [
    "# 2. Overview"
   ]
  },
  {
   "cell_type": "markdown",
   "metadata": {},
   "source": [
    "* RespondentID — An anonymized ID for the respondent (person taking the survey)\n",
    "* Gender — the respondent's gender\n",
    "* Age — the respondent's age\n",
    "* Household Income — the respondent's income\n",
    "* Education — the respondent's education level\n",
    "* Location (Census Region) — the respondent's location\n",
    "* Have you seen any of the 6 films in the Star Wars franchise? — a Yes or No response\n",
    "* Do you consider yourself to be a fan of the Star Wars film franchise? — a Yes or No response"
   ]
  },
  {
   "cell_type": "code",
   "execution_count": 1,
   "metadata": {},
   "outputs": [
    {
     "name": "stdout",
     "output_type": "stream",
     "text": [
      "   RespondentID Have you seen any of the 6 films in the Star Wars franchise?  \\\n",
      "0    3292879998                                                Yes             \n",
      "1    3292879538                                                 No             \n",
      "2    3292765271                                                Yes             \n",
      "3    3292763116                                                Yes             \n",
      "4    3292731220                                                Yes             \n",
      "5    3292719380                                                Yes             \n",
      "6    3292684787                                                Yes             \n",
      "7    3292663732                                                Yes             \n",
      "8    3292654043                                                Yes             \n",
      "9    3292640424                                                Yes             \n",
      "\n",
      "  Do you consider yourself to be a fan of the Star Wars film franchise?  \\\n",
      "0                                                Yes                      \n",
      "1                                                NaN                      \n",
      "2                                                 No                      \n",
      "3                                                Yes                      \n",
      "4                                                Yes                      \n",
      "5                                                Yes                      \n",
      "6                                                Yes                      \n",
      "7                                                Yes                      \n",
      "8                                                Yes                      \n",
      "9                                                 No                      \n",
      "\n",
      "  Which of the following Star Wars films have you seen? Please select all that apply.  \\\n",
      "0           Star Wars: Episode I  The Phantom Menace                                    \n",
      "1                                                NaN                                    \n",
      "2           Star Wars: Episode I  The Phantom Menace                                    \n",
      "3           Star Wars: Episode I  The Phantom Menace                                    \n",
      "4           Star Wars: Episode I  The Phantom Menace                                    \n",
      "5           Star Wars: Episode I  The Phantom Menace                                    \n",
      "6           Star Wars: Episode I  The Phantom Menace                                    \n",
      "7           Star Wars: Episode I  The Phantom Menace                                    \n",
      "8           Star Wars: Episode I  The Phantom Menace                                    \n",
      "9                                                NaN                                    \n",
      "\n",
      "                                    Unnamed: 4  \\\n",
      "0  Star Wars: Episode II  Attack of the Clones   \n",
      "1                                          NaN   \n",
      "2  Star Wars: Episode II  Attack of the Clones   \n",
      "3  Star Wars: Episode II  Attack of the Clones   \n",
      "4  Star Wars: Episode II  Attack of the Clones   \n",
      "5  Star Wars: Episode II  Attack of the Clones   \n",
      "6  Star Wars: Episode II  Attack of the Clones   \n",
      "7  Star Wars: Episode II  Attack of the Clones   \n",
      "8  Star Wars: Episode II  Attack of the Clones   \n",
      "9  Star Wars: Episode II  Attack of the Clones   \n",
      "\n",
      "                                    Unnamed: 5  \\\n",
      "0  Star Wars: Episode III  Revenge of the Sith   \n",
      "1                                          NaN   \n",
      "2  Star Wars: Episode III  Revenge of the Sith   \n",
      "3  Star Wars: Episode III  Revenge of the Sith   \n",
      "4  Star Wars: Episode III  Revenge of the Sith   \n",
      "5  Star Wars: Episode III  Revenge of the Sith   \n",
      "6  Star Wars: Episode III  Revenge of the Sith   \n",
      "7  Star Wars: Episode III  Revenge of the Sith   \n",
      "8  Star Wars: Episode III  Revenge of the Sith   \n",
      "9                                          NaN   \n",
      "\n",
      "                          Unnamed: 6  \\\n",
      "0  Star Wars: Episode IV  A New Hope   \n",
      "1                                NaN   \n",
      "2                                NaN   \n",
      "3  Star Wars: Episode IV  A New Hope   \n",
      "4  Star Wars: Episode IV  A New Hope   \n",
      "5  Star Wars: Episode IV  A New Hope   \n",
      "6  Star Wars: Episode IV  A New Hope   \n",
      "7  Star Wars: Episode IV  A New Hope   \n",
      "8  Star Wars: Episode IV  A New Hope   \n",
      "9                                NaN   \n",
      "\n",
      "                                     Unnamed: 7  \\\n",
      "0  Star Wars: Episode V The Empire Strikes Back   \n",
      "1                                           NaN   \n",
      "2                                           NaN   \n",
      "3  Star Wars: Episode V The Empire Strikes Back   \n",
      "4  Star Wars: Episode V The Empire Strikes Back   \n",
      "5  Star Wars: Episode V The Empire Strikes Back   \n",
      "6  Star Wars: Episode V The Empire Strikes Back   \n",
      "7  Star Wars: Episode V The Empire Strikes Back   \n",
      "8  Star Wars: Episode V The Empire Strikes Back   \n",
      "9                                           NaN   \n",
      "\n",
      "                                 Unnamed: 8  \\\n",
      "0  Star Wars: Episode VI Return of the Jedi   \n",
      "1                                       NaN   \n",
      "2                                       NaN   \n",
      "3  Star Wars: Episode VI Return of the Jedi   \n",
      "4  Star Wars: Episode VI Return of the Jedi   \n",
      "5  Star Wars: Episode VI Return of the Jedi   \n",
      "6  Star Wars: Episode VI Return of the Jedi   \n",
      "7  Star Wars: Episode VI Return of the Jedi   \n",
      "8  Star Wars: Episode VI Return of the Jedi   \n",
      "9                                       NaN   \n",
      "\n",
      "   Please rank the Star Wars films in order of preference with 1 being your favorite film in the franchise and 6 being your least favorite film.  \\\n",
      "0                                                3.0                                                                                               \n",
      "1                                                NaN                                                                                               \n",
      "2                                                1.0                                                                                               \n",
      "3                                                5.0                                                                                               \n",
      "4                                                5.0                                                                                               \n",
      "5                                                1.0                                                                                               \n",
      "6                                                6.0                                                                                               \n",
      "7                                                4.0                                                                                               \n",
      "8                                                5.0                                                                                               \n",
      "9                                                1.0                                                                                               \n",
      "\n",
      "   ...         Unnamed: 28       Which character shot first?  \\\n",
      "0  ...      Very favorably  I don't understand this question   \n",
      "1  ...                 NaN                               NaN   \n",
      "2  ...    Unfamiliar (N/A)  I don't understand this question   \n",
      "3  ...      Very favorably  I don't understand this question   \n",
      "4  ...  Somewhat favorably                            Greedo   \n",
      "5  ...      Very favorably                               Han   \n",
      "6  ...      Very favorably                               Han   \n",
      "7  ...      Very favorably                               Han   \n",
      "8  ...  Somewhat favorably                               Han   \n",
      "9  ...      Very favorably  I don't understand this question   \n",
      "\n",
      "   Are you familiar with the Expanded Universe?  \\\n",
      "0                                           Yes   \n",
      "1                                           NaN   \n",
      "2                                            No   \n",
      "3                                            No   \n",
      "4                                           Yes   \n",
      "5                                           Yes   \n",
      "6                                           Yes   \n",
      "7                                            No   \n",
      "8                                            No   \n",
      "9                                            No   \n",
      "\n",
      "   Do you consider yourself to be a fan of the Expanded Universe?  \\\n",
      "0                                                 No                \n",
      "1                                                NaN                \n",
      "2                                                NaN                \n",
      "3                                                NaN                \n",
      "4                                                 No                \n",
      "5                                                 No                \n",
      "6                                                 No                \n",
      "7                                                NaN                \n",
      "8                                                NaN                \n",
      "9                                                NaN                \n",
      "\n",
      "   Do you consider yourself to be a fan of the Star Trek franchise? Gender  \\\n",
      "0                                                 No                  Male   \n",
      "1                                                Yes                  Male   \n",
      "2                                                 No                  Male   \n",
      "3                                                Yes                  Male   \n",
      "4                                                 No                  Male   \n",
      "5                                                Yes                  Male   \n",
      "6                                                 No                  Male   \n",
      "7                                                Yes                  Male   \n",
      "8                                                 No                  Male   \n",
      "9                                                 No                  Male   \n",
      "\n",
      "     Age     Household Income                         Education  \\\n",
      "0  18-29                  NaN                High school degree   \n",
      "1  18-29         $0 - $24,999                   Bachelor degree   \n",
      "2  18-29         $0 - $24,999                High school degree   \n",
      "3  18-29  $100,000 - $149,999  Some college or Associate degree   \n",
      "4  18-29  $100,000 - $149,999  Some college or Associate degree   \n",
      "5  18-29    $25,000 - $49,999                   Bachelor degree   \n",
      "6  18-29                  NaN                High school degree   \n",
      "7  18-29                  NaN                High school degree   \n",
      "8  18-29         $0 - $24,999  Some college or Associate degree   \n",
      "9  18-29    $25,000 - $49,999  Some college or Associate degree   \n",
      "\n",
      "  Location (Census Region)  \n",
      "0           South Atlantic  \n",
      "1       West South Central  \n",
      "2       West North Central  \n",
      "3       West North Central  \n",
      "4       West North Central  \n",
      "5          Middle Atlantic  \n",
      "6       East North Central  \n",
      "7           South Atlantic  \n",
      "8           South Atlantic  \n",
      "9                  Pacific  \n",
      "\n",
      "[10 rows x 38 columns]\n",
      "Index(['RespondentID',\n",
      "       'Have you seen any of the 6 films in the Star Wars franchise?',\n",
      "       'Do you consider yourself to be a fan of the Star Wars film franchise?',\n",
      "       'Which of the following Star Wars films have you seen? Please select all that apply.',\n",
      "       'Unnamed: 4', 'Unnamed: 5', 'Unnamed: 6', 'Unnamed: 7', 'Unnamed: 8',\n",
      "       'Please rank the Star Wars films in order of preference with 1 being your favorite film in the franchise and 6 being your least favorite film.',\n",
      "       'Unnamed: 10', 'Unnamed: 11', 'Unnamed: 12', 'Unnamed: 13',\n",
      "       'Unnamed: 14',\n",
      "       'Please state whether you view the following characters favorably, unfavorably, or are unfamiliar with him/her.',\n",
      "       'Unnamed: 16', 'Unnamed: 17', 'Unnamed: 18', 'Unnamed: 19',\n",
      "       'Unnamed: 20', 'Unnamed: 21', 'Unnamed: 22', 'Unnamed: 23',\n",
      "       'Unnamed: 24', 'Unnamed: 25', 'Unnamed: 26', 'Unnamed: 27',\n",
      "       'Unnamed: 28', 'Which character shot first?',\n",
      "       'Are you familiar with the Expanded Universe?',\n",
      "       'Do you consider yourself to be a fan of the Expanded Universe?',\n",
      "       'Do you consider yourself to be a fan of the Star Trek franchise?',\n",
      "       'Gender', 'Age', 'Household Income', 'Education',\n",
      "       'Location (Census Region)'],\n",
      "      dtype='object')\n"
     ]
    }
   ],
   "source": [
    "import pandas as pd\n",
    "import numpy as np\n",
    "import matplotlib.pyplot as plt\n",
    "\n",
    "star_wars=pd.read_csv(\"star_wars.csv\", encoding=\"ISO-8859-1\")\n",
    "\n",
    "\n",
    "print(star_wars.head(10))\n",
    "\n",
    "print(star_wars.columns)"
   ]
  },
  {
   "cell_type": "markdown",
   "metadata": {},
   "source": [
    "# 3. Cleaning and Mapping Yes/No Columns"
   ]
  },
  {
   "cell_type": "code",
   "execution_count": 2,
   "metadata": {},
   "outputs": [
    {
     "name": "stdout",
     "output_type": "stream",
     "text": [
      "Yes    936\n",
      "No     250\n",
      "Name: Have you seen any of the 6 films in the Star Wars franchise?, dtype: int64\n",
      "Yes    552\n",
      "No     284\n",
      "Name: Do you consider yourself to be a fan of the Star Wars film franchise?, dtype: int64\n"
     ]
    }
   ],
   "source": [
    "print(star_wars[\"Have you seen any of the 6 films in the Star Wars franchise?\"].value_counts())\n",
    "print(star_wars[\"Do you consider yourself to be a fan of the Star Wars film franchise?\"].value_counts())\n",
    "\n",
    "yes_no={\"Yes\": True,\n",
    "       \"No\": False\n",
    "}\n",
    "\n",
    "star_wars[\"Have you seen any of the 6 films in the Star Wars franchise?\"]=star_wars[\"Have you seen any of the 6 films in the Star Wars franchise?\"].map(yes_no)\n",
    "star_wars[\"Do you consider yourself to be a fan of the Star Wars film franchise?\"]=star_wars[\"Do you consider yourself to be a fan of the Star Wars film franchise?\"].map(yes_no)"
   ]
  },
  {
   "cell_type": "code",
   "execution_count": 3,
   "metadata": {},
   "outputs": [
    {
     "name": "stdout",
     "output_type": "stream",
     "text": [
      "True     936\n",
      "False    250\n",
      "Name: Have you seen any of the 6 films in the Star Wars franchise?, dtype: int64\n",
      "True     552\n",
      "False    284\n",
      "Name: Do you consider yourself to be a fan of the Star Wars film franchise?, dtype: int64\n"
     ]
    }
   ],
   "source": [
    "print(star_wars[\"Have you seen any of the 6 films in the Star Wars franchise?\"].value_counts())\n",
    "print(star_wars[\"Do you consider yourself to be a fan of the Star Wars film franchise?\"].value_counts())"
   ]
  },
  {
   "cell_type": "markdown",
   "metadata": {},
   "source": [
    "# 4. Cleaning and Mapping Checkbox Columns"
   ]
  },
  {
   "cell_type": "code",
   "execution_count": 4,
   "metadata": {},
   "outputs": [],
   "source": [
    "watched_map={\"Star Wars: Episode I  The Phantom Menace\": True,\n",
    "             \"Star Wars: Episode II  Attack of the Clones\": True,\n",
    "             \"Star Wars: Episode III  Revenge of the Sith\": True,\n",
    "             \"Star Wars: Episode IV  A New Hope\": True,\n",
    "             \"Star Wars: Episode V The Empire Strikes Back\": True,\n",
    "             \"Star Wars: Episode VI Return of the Jedi\": True,\n",
    "             \"Star Wars: Episode IV  A New Hope\": True,\n",
    "             np.nan: False\n",
    "}"
   ]
  },
  {
   "cell_type": "code",
   "execution_count": 5,
   "metadata": {},
   "outputs": [],
   "source": [
    "for i in range(3,9):\n",
    "    star_wars.iloc[:,i]=star_wars.iloc[:,i].map(watched_map)"
   ]
  },
  {
   "cell_type": "code",
   "execution_count": 6,
   "metadata": {},
   "outputs": [],
   "source": [
    "star_wars=star_wars.rename(columns={\n",
    "    \"Which of the following Star Wars films have you seen? Please select all that apply.\": \"seen_1\",\n",
    "    \"Unnamed: 4\": \"seen_2\",\n",
    "    \"Unnamed: 5\": \"seen_3\",\n",
    "    \"Unnamed: 6\": \"seen_4\",\n",
    "    \"Unnamed: 7\": \"seen_5\",\n",
    "    \"Unnamed: 8\": \"seen_6\",\n",
    "})"
   ]
  },
  {
   "cell_type": "code",
   "execution_count": 7,
   "metadata": {},
   "outputs": [
    {
     "name": "stdout",
     "output_type": "stream",
     "text": [
      "   seen_1  seen_2  seen_3  seen_4  seen_5  seen_6\n",
      "0    True    True    True    True    True    True\n",
      "1   False   False   False   False   False   False\n",
      "2    True    True    True   False   False   False\n"
     ]
    }
   ],
   "source": [
    "print(star_wars.iloc[0:3,3:9])"
   ]
  },
  {
   "cell_type": "code",
   "execution_count": 8,
   "metadata": {},
   "outputs": [
    {
     "name": "stdout",
     "output_type": "stream",
     "text": [
      "0       3.0\n",
      "1       NaN\n",
      "2       1.0\n",
      "3       5.0\n",
      "4       5.0\n",
      "       ... \n",
      "1181    5.0\n",
      "1182    4.0\n",
      "1183    NaN\n",
      "1184    4.0\n",
      "1185    6.0\n",
      "Name: Please rank the Star Wars films in order of preference with 1 being your favorite film in the franchise and 6 being your least favorite film., Length: 1186, dtype: float64\n"
     ]
    }
   ],
   "source": [
    "print(star_wars.iloc[:,9])"
   ]
  },
  {
   "cell_type": "markdown",
   "metadata": {},
   "source": [
    "# 5. Cleaning the Ranking Columns"
   ]
  },
  {
   "cell_type": "code",
   "execution_count": 9,
   "metadata": {},
   "outputs": [],
   "source": [
    "star_wars=star_wars.rename(columns={\n",
    "    \"Please rank the Star Wars films in order of preference with 1 being your favorite film in the franchise and 6 being your least favorite film.\": \"ranking_1\",\n",
    "    \"Unnamed: 10\": \"ranking_2\",\n",
    "    \"Unnamed: 11\": \"ranking_3\",\n",
    "    \"Unnamed: 12\": \"ranking_4\",\n",
    "    \"Unnamed: 13\": \"ranking_5\",\n",
    "    \"Unnamed: 14\": \"ranking_6\"\n",
    "})"
   ]
  },
  {
   "cell_type": "code",
   "execution_count": 10,
   "metadata": {},
   "outputs": [
    {
     "name": "stdout",
     "output_type": "stream",
     "text": [
      "      ranking_1  ranking_2  ranking_3  ranking_4  ranking_5  ranking_6\n",
      "0           3.0        2.0        1.0        4.0        5.0        6.0\n",
      "1           NaN        NaN        NaN        NaN        NaN        NaN\n",
      "2           1.0        2.0        3.0        4.0        5.0        6.0\n",
      "3           5.0        6.0        1.0        2.0        4.0        3.0\n",
      "4           5.0        4.0        6.0        2.0        1.0        3.0\n",
      "...         ...        ...        ...        ...        ...        ...\n",
      "1181        5.0        4.0        6.0        3.0        2.0        1.0\n",
      "1182        4.0        5.0        6.0        2.0        3.0        1.0\n",
      "1183        NaN        NaN        NaN        NaN        NaN        NaN\n",
      "1184        4.0        3.0        6.0        5.0        2.0        1.0\n",
      "1185        6.0        1.0        2.0        3.0        4.0        5.0\n",
      "\n",
      "[1186 rows x 6 columns]\n"
     ]
    }
   ],
   "source": [
    "print(star_wars.iloc[:,9:15])"
   ]
  },
  {
   "cell_type": "markdown",
   "metadata": {},
   "source": [
    "# 6. Finding the Highest-Ranked Movie"
   ]
  },
  {
   "cell_type": "code",
   "execution_count": 30,
   "metadata": {},
   "outputs": [
    {
     "data": {
      "image/png": "[encoded data removed]",
      "text/plain": [
       "<Figure size 432x288 with 1 Axes>"
      ]
     },
     "metadata": {
      "needs_background": "light"
     },
     "output_type": "display_data"
    }
   ],
   "source": [
    "%matplotlib inline\n",
    "\n",
    "star_wars.iloc[:,9:15].mean().plot.bar()\n",
    "\n",
    "plt.show()"
   ]
  },
  {
   "cell_type": "markdown",
   "metadata": {},
   "source": [
    "We can see above that the first three movies have the worst rankings while the last three have the best rankings."
   ]
  },
  {
   "cell_type": "markdown",
   "metadata": {},
   "source": [
    "# 7. Finding the Most Viewed Movie"
   ]
  },
  {
   "cell_type": "code",
   "execution_count": 31,
   "metadata": {},
   "outputs": [
    {
     "data": {
      "image/png": "[encoded data removed]",
      "text/plain": [
       "<Figure size 432x288 with 1 Axes>"
      ]
     },
     "metadata": {
      "needs_background": "light"
     },
     "output_type": "display_data"
    }
   ],
   "source": [
    "star_wars.iloc[:,3:9].sum().plot.bar()\n",
    "\n",
    "plt.show()"
   ]
  },
  {
   "cell_type": "markdown",
   "metadata": {},
   "source": [
    "We can see that the fifth movie was also the most popular and that last 3 movies are more watchhed than the first three."
   ]
  },
  {
   "cell_type": "markdown",
   "metadata": {},
   "source": [
    "# 8. Exploring the Data by Binary Segments"
   ]
  },
  {
   "cell_type": "code",
   "execution_count": 37,
   "metadata": {},
   "outputs": [],
   "source": [
    "males=star_wars[star_wars[\"Gender\"]==\"Male\"]\n",
    "females=star_wars[star_wars[\"Gender\"]==\"Female\"]"
   ]
  },
  {
   "cell_type": "code",
   "execution_count": 59,
   "metadata": {},
   "outputs": [
    {
     "data": {
      "image/png": "[encoded data removed]",
      "text/plain": [
       "<Figure size 432x288 with 1 Axes>"
      ]
     },
     "metadata": {
      "needs_background": "light"
     },
     "output_type": "display_data"
    },
    {
     "data": {
      "image/png": "[encoded data removed]",
      "text/plain": [
       "<Figure size 432x288 with 1 Axes>"
      ]
     },
     "metadata": {
      "needs_background": "light"
     },
     "output_type": "display_data"
    }
   ],
   "source": [
    "%matplotlib inline\n",
    "\n",
    "males.iloc[:,9:15].mean().plot.bar(rot=0)\n",
    "\n",
    "plt.show()\n",
    "\n",
    "females.iloc[:,9:15].mean().plot.bar(rot=0)\n",
    "\n",
    "plt.show()"
   ]
  },
  {
   "cell_type": "code",
   "execution_count": 60,
   "metadata": {},
   "outputs": [
    {
     "data": {
      "image/png": "[encoded data removed]",
      "text/plain": [
       "<Figure size 432x288 with 1 Axes>"
      ]
     },
     "metadata": {
      "needs_background": "light"
     },
     "output_type": "display_data"
    },
    {
     "data": {
      "image/png": "[encoded data removed]",
      "text/plain": [
       "<Figure size 432x288 with 1 Axes>"
      ]
     },
     "metadata": {
      "needs_background": "light"
     },
     "output_type": "display_data"
    }
   ],
   "source": [
    "males.iloc[:,3:9].sum().plot.bar(rot=0)\n",
    "\n",
    "plt.show()\n",
    "\n",
    "females.iloc[:,3:9].sum().plot.bar(rot=0)\n",
    "\n",
    "plt.show()"
   ]
  },
  {
   "cell_type": "markdown",
   "metadata": {},
   "source": [
    "We can see that men seemed to watch the first three movies more often than women, however the women that do see them tend to like them more. "
   ]
  },
  {
   "cell_type": "code",
   "execution_count": 67,
   "metadata": {},
   "outputs": [
    {
     "name": "stdout",
     "output_type": "stream",
     "text": [
      "True     303\n",
      "False    120\n",
      "Name: Do you consider yourself to be a fan of the Star Wars film franchise?, dtype: int64\n",
      "True     238\n",
      "False    159\n",
      "Name: Do you consider yourself to be a fan of the Star Wars film franchise?, dtype: int64\n"
     ]
    }
   ],
   "source": [
    "print(males[\"Do you consider yourself to be a fan of the Star Wars film franchise?\"].value_counts())\n",
    "print(females[\"Do you consider yourself to be a fan of the Star Wars film franchise?\"].value_counts())"
   ]
  },
  {
   "cell_type": "markdown",
   "metadata": {},
   "source": [
    "We can see that a higher perentage of men seem to consider themselves Star Wars fans than women. This could have resulted in them watching the first 3 episodes and then disliking them more compared to the second 3."
   ]
  },
  {
   "cell_type": "markdown",
   "metadata": {},
   "source": [
    "# 9. Next Steps"
   ]
  },
  {
   "cell_type": "markdown",
   "metadata": {},
   "source": [
    "That's it for the guided steps! We highly recommend exploring the data further on your own.\n",
    "\n",
    "Here are some potential next steps:\n",
    "\n",
    "* Try to segment the data based on columns like Education, Location (Census Region), and Which character shot first?, which aren't binary. Are there any interesting patterns?\n",
    "* Clean columns 15 to 29, which contain data on the characters respondents view favorably and unfavorably.\n",
    "    * Which character do respondents like the most?\n",
    "    * Which character do respondents dislike the most?\n",
    "    * Which character is the most controversial (split between likes and dislikes)?\n",
    "\n",
    "Curious to see what other students have done on this project? Head over to our Community to check them out. While you are there, please remember to give us your feedback!\n",
    "\n",
    "And of course, we welcome you to share your own project and show off your hard work. Head over to our Community to share your finished Guided Project!\n",
    "\n",
    "We highly recommend creating a GitHub repository and placing this project there. It will help other people see your work, including employers. As you start to put multiple projects on GitHub, you'll have the beginnings of a strong portfolio.\n",
    "\n",
    "You're welcome to keep working on the project here, but we highly recommend downloading it to your computer using the download icon above and working on it there.\n",
    "\n"
   ]
  }
 ],
 "metadata": {
  "kernelspec": {
   "display_name": "Python 3",
   "language": "python",
   "name": "python3"
  },
  "language_info": {
   "codemirror_mode": {
    "name": "ipython",
    "version": 3
   },
   "file_extension": ".py",
   "mimetype": "text/x-python",
   "name": "python",
   "nbconvert_exporter": "python",
   "pygments_lexer": "ipython3",
   "version": "3.9.6"
  }
 },
 "nbformat": 4,
 "nbformat_minor": 4
}
