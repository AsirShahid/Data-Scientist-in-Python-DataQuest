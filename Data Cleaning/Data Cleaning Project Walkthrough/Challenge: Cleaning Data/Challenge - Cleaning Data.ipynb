{
 "cells": [
  {
   "cell_type": "markdown",
   "metadata": {},
   "source": [
    "# 1. Introduction"
   ]
  },
  {
   "cell_type": "markdown",
   "metadata": {},
   "source": [
    "At Dataquest, we're huge believers in learning through doing, and we hope this shows in your experience with the missions. While missions focus on introducing concepts, challenges allow you to perform deliberate practice by completing structured problems. You can read more about deliberate practice on [Wikipedia](http://bit.ly/2cJ2Qt7) and [at Nautilus](http://nautil.us/issue/35/boundaries/not-all-practice-makes-perfect). Challenges will feel similar to missions, but with little instructional material and a larger focus on exercises.\n",
    "\n",
    "If you have questions or run into issues, head over to the [Dataquest Community](https://community.dataquest.io/)."
   ]
  },
  {
   "cell_type": "markdown",
   "metadata": {},
   "source": [
    "# 2. Life and Death of the Avengers"
   ]
  },
  {
   "cell_type": "markdown",
   "metadata": {},
   "source": [
    "The Avengers are a well-known and widely-loved team of superheroes in the Marvel universe that were originally introduced in the 1960's comic book series. The recent Disney movies re-popularized them, as part of the new [Marvel Cinematic Universe](https://en.wikipedia.org/wiki/Marvel_Cinematic_Universe).\n",
    "\n",
    "Because the writers killed off and revived many of the superheroes, the team at FiveThirtyEight was curious to explore data from the [Marvel Wikia site](http://marvel.wikia.com/wiki/Main_Page) further. To learn how they collected their data, which is available in their [GitHub repository](https://github.com/fivethirtyeight/data/tree/master/avengers), read the write-up they published on [the FiveThirtyEight website](http://fivethirtyeight.com/features/avengers-death-comics-age-of-ultron/)."
   ]
  },
  {
   "cell_type": "markdown",
   "metadata": {},
   "source": [
    "Header | Definition\n",
    "---|---------\n",
    "`URL`| The URL of the comic character on the Marvel Wikia\n",
    "`Name/Alias` | The full name or alias of the character\n",
    "`Appearances` | The number of comic books that character appeared in as of April 30 \n",
    "`Current?` | Is the member currently active on an avengers affiliated team?\n",
    "`Gender` | The recorded gender of the character\n",
    "`Probationary` | Sometimes the character was given probationary status as an Avenger, this is the date that happened\n",
    "`Full/Reserve` | The month and year the character was introduced as a full or reserve member of the Avengers\n",
    "`Year` | The year the character was introduced as a full or reserve member of the Avengers\n",
    "`Years since joining` | 2015 minus the year\n",
    "`Honorary` | The status of the avenger, if they were given \"Honorary\" Avenger status, if they are simply in the \"Academy,\" or \"Full\" otherwise\n",
    "`Death1` | Yes if the Avenger died, No if not. \n",
    "`Return1` | Yes if the Avenger returned from their first death, No if  they did not, blank if not applicable\n",
    "`Death2` | Yes if the Avenger died a second time after their revival, No if they did not, blank if not applicable\n",
    "`Return2` | Yes if the Avenger returned from their second death, No if they did not, blank if not applicable\n",
    "`Death3` | Yes if the Avenger died a third time after their second revival, No if they did not, blank if not applicable\n",
    "`Return3` | Yes if the Avenger returned from their third death, No if they did not, blank if not applicable\n",
    "`Death4` | Yes if the Avenger died a fourth time after their third revival, No if they did not, blank if not applicable\n",
    "`Return4` | Yes if the Avenger returned from their fourth death, No if they did not, blank if not applicable\n",
    "`Death5` | Yes if the Avenger died a fifth time after their fourth revival, No if they did not, blank if not applicable\n",
    "`Return5` | Yes if the Avenger returned from their fifth death, No if they did not, blank if not applicable\n",
    "`Notes` | Descriptions of deaths and resurrections. "
   ]
  },
  {
   "cell_type": "markdown",
   "metadata": {},
   "source": [
    "# 3. Exploring the Data"
   ]
  },
  {
   "cell_type": "code",
   "execution_count": 1,
   "metadata": {},
   "outputs": [
    {
     "data": {
      "text/html": [
       "<div>\n",
       "<style scoped>\n",
       "    .dataframe tbody tr th:only-of-type {\n",
       "        vertical-align: middle;\n",
       "    }\n",
       "\n",
       "    .dataframe tbody tr th {\n",
       "        vertical-align: top;\n",
       "    }\n",
       "\n",
       "    .dataframe thead th {\n",
       "        text-align: right;\n",
       "    }\n",
       "</style>\n",
       "<table border=\"1\" class=\"dataframe\">\n",
       "  <thead>\n",
       "    <tr style=\"text-align: right;\">\n",
       "      <th></th>\n",
       "      <th>URL</th>\n",
       "      <th>Name/Alias</th>\n",
       "      <th>Appearances</th>\n",
       "      <th>Current?</th>\n",
       "      <th>Gender</th>\n",
       "      <th>Probationary Introl</th>\n",
       "      <th>Full/Reserve Avengers Intro</th>\n",
       "      <th>Year</th>\n",
       "      <th>Years since joining</th>\n",
       "      <th>Honorary</th>\n",
       "      <th>...</th>\n",
       "      <th>Return1</th>\n",
       "      <th>Death2</th>\n",
       "      <th>Return2</th>\n",
       "      <th>Death3</th>\n",
       "      <th>Return3</th>\n",
       "      <th>Death4</th>\n",
       "      <th>Return4</th>\n",
       "      <th>Death5</th>\n",
       "      <th>Return5</th>\n",
       "      <th>Notes</th>\n",
       "    </tr>\n",
       "  </thead>\n",
       "  <tbody>\n",
       "    <tr>\n",
       "      <th>0</th>\n",
       "      <td>http://marvel.wikia.com/Henry_Pym_(Earth-616)</td>\n",
       "      <td>Henry Jonathan \"Hank\" Pym</td>\n",
       "      <td>1269</td>\n",
       "      <td>YES</td>\n",
       "      <td>MALE</td>\n",
       "      <td>NaN</td>\n",
       "      <td>Sep-63</td>\n",
       "      <td>1963</td>\n",
       "      <td>52</td>\n",
       "      <td>Full</td>\n",
       "      <td>...</td>\n",
       "      <td>NO</td>\n",
       "      <td>NaN</td>\n",
       "      <td>NaN</td>\n",
       "      <td>NaN</td>\n",
       "      <td>NaN</td>\n",
       "      <td>NaN</td>\n",
       "      <td>NaN</td>\n",
       "      <td>NaN</td>\n",
       "      <td>NaN</td>\n",
       "      <td>Merged with Ultron in Rage of Ultron Vol. 1. A...</td>\n",
       "    </tr>\n",
       "    <tr>\n",
       "      <th>1</th>\n",
       "      <td>http://marvel.wikia.com/Janet_van_Dyne_(Earth-...</td>\n",
       "      <td>Janet van Dyne</td>\n",
       "      <td>1165</td>\n",
       "      <td>YES</td>\n",
       "      <td>FEMALE</td>\n",
       "      <td>NaN</td>\n",
       "      <td>Sep-63</td>\n",
       "      <td>1963</td>\n",
       "      <td>52</td>\n",
       "      <td>Full</td>\n",
       "      <td>...</td>\n",
       "      <td>YES</td>\n",
       "      <td>NaN</td>\n",
       "      <td>NaN</td>\n",
       "      <td>NaN</td>\n",
       "      <td>NaN</td>\n",
       "      <td>NaN</td>\n",
       "      <td>NaN</td>\n",
       "      <td>NaN</td>\n",
       "      <td>NaN</td>\n",
       "      <td>Dies in Secret Invasion V1:I8. Actually was se...</td>\n",
       "    </tr>\n",
       "    <tr>\n",
       "      <th>2</th>\n",
       "      <td>http://marvel.wikia.com/Anthony_Stark_(Earth-616)</td>\n",
       "      <td>Anthony Edward \"Tony\" Stark</td>\n",
       "      <td>3068</td>\n",
       "      <td>YES</td>\n",
       "      <td>MALE</td>\n",
       "      <td>NaN</td>\n",
       "      <td>Sep-63</td>\n",
       "      <td>1963</td>\n",
       "      <td>52</td>\n",
       "      <td>Full</td>\n",
       "      <td>...</td>\n",
       "      <td>YES</td>\n",
       "      <td>NaN</td>\n",
       "      <td>NaN</td>\n",
       "      <td>NaN</td>\n",
       "      <td>NaN</td>\n",
       "      <td>NaN</td>\n",
       "      <td>NaN</td>\n",
       "      <td>NaN</td>\n",
       "      <td>NaN</td>\n",
       "      <td>Death: \"Later while under the influence of Imm...</td>\n",
       "    </tr>\n",
       "    <tr>\n",
       "      <th>3</th>\n",
       "      <td>http://marvel.wikia.com/Robert_Bruce_Banner_(E...</td>\n",
       "      <td>Robert Bruce Banner</td>\n",
       "      <td>2089</td>\n",
       "      <td>YES</td>\n",
       "      <td>MALE</td>\n",
       "      <td>NaN</td>\n",
       "      <td>Sep-63</td>\n",
       "      <td>1963</td>\n",
       "      <td>52</td>\n",
       "      <td>Full</td>\n",
       "      <td>...</td>\n",
       "      <td>YES</td>\n",
       "      <td>NaN</td>\n",
       "      <td>NaN</td>\n",
       "      <td>NaN</td>\n",
       "      <td>NaN</td>\n",
       "      <td>NaN</td>\n",
       "      <td>NaN</td>\n",
       "      <td>NaN</td>\n",
       "      <td>NaN</td>\n",
       "      <td>Dies in Ghosts of the Future arc. However \"he ...</td>\n",
       "    </tr>\n",
       "    <tr>\n",
       "      <th>4</th>\n",
       "      <td>http://marvel.wikia.com/Thor_Odinson_(Earth-616)</td>\n",
       "      <td>Thor Odinson</td>\n",
       "      <td>2402</td>\n",
       "      <td>YES</td>\n",
       "      <td>MALE</td>\n",
       "      <td>NaN</td>\n",
       "      <td>Sep-63</td>\n",
       "      <td>1963</td>\n",
       "      <td>52</td>\n",
       "      <td>Full</td>\n",
       "      <td>...</td>\n",
       "      <td>YES</td>\n",
       "      <td>YES</td>\n",
       "      <td>NO</td>\n",
       "      <td>NaN</td>\n",
       "      <td>NaN</td>\n",
       "      <td>NaN</td>\n",
       "      <td>NaN</td>\n",
       "      <td>NaN</td>\n",
       "      <td>NaN</td>\n",
       "      <td>Dies in Fear Itself brought back because that'...</td>\n",
       "    </tr>\n",
       "  </tbody>\n",
       "</table>\n",
       "<p>5 rows × 21 columns</p>\n",
       "</div>"
      ],
      "text/plain": [
       "                                                 URL  \\\n",
       "0      http://marvel.wikia.com/Henry_Pym_(Earth-616)   \n",
       "1  http://marvel.wikia.com/Janet_van_Dyne_(Earth-...   \n",
       "2  http://marvel.wikia.com/Anthony_Stark_(Earth-616)   \n",
       "3  http://marvel.wikia.com/Robert_Bruce_Banner_(E...   \n",
       "4   http://marvel.wikia.com/Thor_Odinson_(Earth-616)   \n",
       "\n",
       "                    Name/Alias  Appearances Current?  Gender  \\\n",
       "0    Henry Jonathan \"Hank\" Pym         1269      YES    MALE   \n",
       "1               Janet van Dyne         1165      YES  FEMALE   \n",
       "2  Anthony Edward \"Tony\" Stark         3068      YES    MALE   \n",
       "3          Robert Bruce Banner         2089      YES    MALE   \n",
       "4                 Thor Odinson         2402      YES    MALE   \n",
       "\n",
       "  Probationary Introl Full/Reserve Avengers Intro  Year  Years since joining  \\\n",
       "0                 NaN                      Sep-63  1963                   52   \n",
       "1                 NaN                      Sep-63  1963                   52   \n",
       "2                 NaN                      Sep-63  1963                   52   \n",
       "3                 NaN                      Sep-63  1963                   52   \n",
       "4                 NaN                      Sep-63  1963                   52   \n",
       "\n",
       "  Honorary  ... Return1 Death2 Return2 Death3 Return3 Death4 Return4 Death5  \\\n",
       "0     Full  ...      NO    NaN     NaN    NaN     NaN    NaN     NaN    NaN   \n",
       "1     Full  ...     YES    NaN     NaN    NaN     NaN    NaN     NaN    NaN   \n",
       "2     Full  ...     YES    NaN     NaN    NaN     NaN    NaN     NaN    NaN   \n",
       "3     Full  ...     YES    NaN     NaN    NaN     NaN    NaN     NaN    NaN   \n",
       "4     Full  ...     YES    YES      NO    NaN     NaN    NaN     NaN    NaN   \n",
       "\n",
       "  Return5                                              Notes  \n",
       "0     NaN  Merged with Ultron in Rage of Ultron Vol. 1. A...  \n",
       "1     NaN  Dies in Secret Invasion V1:I8. Actually was se...  \n",
       "2     NaN  Death: \"Later while under the influence of Imm...  \n",
       "3     NaN  Dies in Ghosts of the Future arc. However \"he ...  \n",
       "4     NaN  Dies in Fear Itself brought back because that'...  \n",
       "\n",
       "[5 rows x 21 columns]"
      ]
     },
     "execution_count": 1,
     "metadata": {},
     "output_type": "execute_result"
    }
   ],
   "source": [
    "import pandas as pd\n",
    "\n",
    "avengers = pd.read_csv(\"avengers.csv\")\n",
    "avengers.head(5)"
   ]
  },
  {
   "cell_type": "markdown",
   "metadata": {},
   "source": [
    "# 4. Filtering Out Bad Data"
   ]
  },
  {
   "cell_type": "code",
   "execution_count": 2,
   "metadata": {},
   "outputs": [
    {
     "data": {
      "text/plain": [
       "[]"
      ]
     },
     "execution_count": 2,
     "metadata": {},
     "output_type": "execute_result"
    },
    {
     "data": {
      "image/png": "[encoded data removed]",
      "text/plain": [
       "<Figure size 432x288 with 1 Axes>"
      ]
     },
     "metadata": {
      "needs_background": "light"
     },
     "output_type": "display_data"
    }
   ],
   "source": [
    "import matplotlib.pyplot as plt\n",
    "true_avengers = pd.DataFrame()\n",
    "\n",
    "avengers['Year'].hist()\n",
    "\n",
    "plt.plot()"
   ]
  },
  {
   "cell_type": "markdown",
   "metadata": {},
   "source": [
    "As we can see above, some Avengers were introduced in the early 1900s, however this can not be possible as the Avengers not created then. In order to fix this, we can either comb through the data and figure out the true years in which these Avengers were introduced, or we can not include them and only look at Avengers that were introduced in 1960 or later. Here we will go with the second option."
   ]
  },
  {
   "cell_type": "code",
   "execution_count": 3,
   "metadata": {},
   "outputs": [],
   "source": [
    "true_avengers=avengers[avengers[\"Year\"]>=1960]"
   ]
  },
  {
   "cell_type": "markdown",
   "metadata": {},
   "source": [
    "# 5. Consolidating Deaths"
   ]
  },
  {
   "cell_type": "code",
   "execution_count": 4,
   "metadata": {},
   "outputs": [
    {
     "name": "stderr",
     "output_type": "stream",
     "text": [
      "<ipython-input-4-1221ce35e0fe>:14: SettingWithCopyWarning: \n",
      "A value is trying to be set on a copy of a slice from a DataFrame.\n",
      "Try using .loc[row_indexer,col_indexer] = value instead\n",
      "\n",
      "See the caveats in the documentation: https://pandas.pydata.org/pandas-docs/stable/user_guide/indexing.html#returning-a-view-versus-a-copy\n",
      "  true_avengers[\"Deaths\"]=true_avengers.apply(clean_deaths,axis=1)\n"
     ]
    }
   ],
   "source": [
    "def clean_deaths(row):\n",
    "    deaths=[\"Death1\", \"Death2\", \"Death3\", \"Death4\", \"Death5\"]\n",
    "    \n",
    "    num_deaths=0\n",
    "    \n",
    "    for column in deaths:\n",
    "        death=row[column]\n",
    "        \n",
    "        if death==\"YES\":\n",
    "            num_deaths+=1\n",
    "            \n",
    "    return num_deaths\n",
    "\n",
    "true_avengers[\"Deaths\"]=true_avengers.apply(clean_deaths,axis=1)"
   ]
  },
  {
   "cell_type": "markdown",
   "metadata": {},
   "source": [
    "# 6. Verifying Years Since Joining"
   ]
  },
  {
   "cell_type": "code",
   "execution_count": 19,
   "metadata": {},
   "outputs": [
    {
     "name": "stdout",
     "output_type": "stream",
     "text": [
      "                                                   URL  \\\n",
      "0        http://marvel.wikia.com/Henry_Pym_(Earth-616)   \n",
      "1    http://marvel.wikia.com/Janet_van_Dyne_(Earth-...   \n",
      "2    http://marvel.wikia.com/Anthony_Stark_(Earth-616)   \n",
      "3    http://marvel.wikia.com/Robert_Bruce_Banner_(E...   \n",
      "4     http://marvel.wikia.com/Thor_Odinson_(Earth-616)   \n",
      "..                                                 ...   \n",
      "168   http://marvel.wikia.com/Eric_Brooks_(Earth-616)#   \n",
      "169  http://marvel.wikia.com/Adam_Brashear_(Earth-6...   \n",
      "170  http://marvel.wikia.com/Victor_Alvarez_(Earth-...   \n",
      "171     http://marvel.wikia.com/Ava_Ayala_(Earth-616)#   \n",
      "172         http://marvel.wikia.com/Kaluu_(Earth-616)#   \n",
      "\n",
      "                      Name/Alias  Appearances Current?  Gender  \\\n",
      "0      Henry Jonathan \"Hank\" Pym         1269      YES    MALE   \n",
      "1                 Janet van Dyne         1165      YES  FEMALE   \n",
      "2    Anthony Edward \"Tony\" Stark         3068      YES    MALE   \n",
      "3            Robert Bruce Banner         2089      YES    MALE   \n",
      "4                   Thor Odinson         2402      YES    MALE   \n",
      "..                           ...          ...      ...     ...   \n",
      "168                  Eric Brooks          198      YES    MALE   \n",
      "169                Adam Brashear           29      YES    MALE   \n",
      "170               Victor Alvarez           45      YES    MALE   \n",
      "171                    Ava Ayala           49      YES  FEMALE   \n",
      "172                        Kaluu           35      YES    MALE   \n",
      "\n",
      "    Probationary Introl Full/Reserve Avengers Intro  Year  \\\n",
      "0                   NaN                      Sep-63  1963   \n",
      "1                   NaN                      Sep-63  1963   \n",
      "2                   NaN                      Sep-63  1963   \n",
      "3                   NaN                      Sep-63  1963   \n",
      "4                   NaN                      Sep-63  1963   \n",
      "..                  ...                         ...   ...   \n",
      "168                 NaN                      13-Nov  2013   \n",
      "169                 NaN                      14-Jan  2014   \n",
      "170                 NaN                      14-Jan  2014   \n",
      "171                 NaN                      14-Jan  2014   \n",
      "172                 NaN                      15-Jan  2015   \n",
      "\n",
      "     Years since joining Honorary  ... Death2 Return2 Death3 Return3 Death4  \\\n",
      "0                     52     Full  ...    NaN     NaN    NaN     NaN    NaN   \n",
      "1                     52     Full  ...    NaN     NaN    NaN     NaN    NaN   \n",
      "2                     52     Full  ...    NaN     NaN    NaN     NaN    NaN   \n",
      "3                     52     Full  ...    NaN     NaN    NaN     NaN    NaN   \n",
      "4                     52     Full  ...    YES      NO    NaN     NaN    NaN   \n",
      "..                   ...      ...  ...    ...     ...    ...     ...    ...   \n",
      "168                    2     Full  ...    NaN     NaN    NaN     NaN    NaN   \n",
      "169                    1     Full  ...    NaN     NaN    NaN     NaN    NaN   \n",
      "170                    1     Full  ...    NaN     NaN    NaN     NaN    NaN   \n",
      "171                    1     Full  ...    NaN     NaN    NaN     NaN    NaN   \n",
      "172                    0     Full  ...    NaN     NaN    NaN     NaN    NaN   \n",
      "\n",
      "    Return4 Death5 Return5                                              Notes  \\\n",
      "0       NaN    NaN     NaN  Merged with Ultron in Rage of Ultron Vol. 1. A...   \n",
      "1       NaN    NaN     NaN  Dies in Secret Invasion V1:I8. Actually was se...   \n",
      "2       NaN    NaN     NaN  Death: \"Later while under the influence of Imm...   \n",
      "3       NaN    NaN     NaN  Dies in Ghosts of the Future arc. However \"he ...   \n",
      "4       NaN    NaN     NaN  Dies in Fear Itself brought back because that'...   \n",
      "..      ...    ...     ...                                                ...   \n",
      "168     NaN    NaN     NaN                                                NaN   \n",
      "169     NaN    NaN     NaN                                                NaN   \n",
      "170     NaN    NaN     NaN                                                NaN   \n",
      "171     NaN    NaN     NaN                                                NaN   \n",
      "172     NaN    NaN     NaN                                                NaN   \n",
      "\n",
      "    Deaths  \n",
      "0        1  \n",
      "1        1  \n",
      "2        1  \n",
      "3        1  \n",
      "4        2  \n",
      "..     ...  \n",
      "168      0  \n",
      "169      0  \n",
      "170      0  \n",
      "171      0  \n",
      "172      0  \n",
      "\n",
      "[159 rows x 22 columns]\n"
     ]
    }
   ],
   "source": [
    "joined_accuracy_count  = int()\n",
    "\n",
    "print(true_avengers[true_avengers[\"Years since joining\"]+true_avengers[\"Year\"]==2015])\n",
    "\n",
    "avenger_years=(true_avengers[\"Years since joining\"]+true_avengers[\"Year\"]).value_counts()\n",
    "\n",
    "joined_accuracy_count=avenger_years.iloc[0]"
   ]
  },
  {
   "cell_type": "code",
   "execution_count": null,
   "metadata": {},
   "outputs": [],
   "source": []
  }
 ],
 "metadata": {
  "kernelspec": {
   "display_name": "Python 3",
   "language": "python",
   "name": "python3"
  },
  "language_info": {
   "codemirror_mode": {
    "name": "ipython",
    "version": 3
   },
   "file_extension": ".py",
   "mimetype": "text/x-python",
   "name": "python",
   "nbconvert_exporter": "python",
   "pygments_lexer": "ipython3",
   "version": "3.9.6"
  }
 },
 "nbformat": 4,
 "nbformat_minor": 4
}
